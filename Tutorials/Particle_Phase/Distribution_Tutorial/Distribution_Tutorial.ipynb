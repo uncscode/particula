{
 "cells": [
  {
   "cell_type": "markdown",
   "metadata": {},
   "source": [
    "# Distribution Strategy Tutorial\n",
    "\n",
    "The representation of particle distributions is core to the simulation, but it can vary depending on what you are trying to achieve. In this tutorial, we will cover the  distribution strategies currently implemented.\n",
    "\n",
    "The distribution strategies, define how to calculate properties derived from the particle distribution. These include particle mass, radius, and total mass. All of which can have different methods depending if the distribution is mass-based, radius-based, or speciated-mass based.\n",
    "\n",
    "We will cover the following distribution strategies:\n",
    "\n",
    "- `MassBasedMovingBin`\n",
    "- `RadiiBasedMovingBin`\n",
    "- `SpeciatedMassMovingBin`\n",
    "\n",
    "As they are just operational strategies, they do not have any specific parameters to be set. They are just used to calculate the properties of the particles."
   ]
  },
  {
   "cell_type": "code",
   "execution_count": 1,
   "metadata": {},
   "outputs": [],
   "source": [
    "import numpy as np\n",
    "import matplotlib.pyplot as plt\n",
    "\n",
    "from particula.next.particles.distribution_strategies import MassBasedMovingBin\n",
    "from particula.next.particles.distribution_builders import RadiiBasedMovingBinBuilder\n",
    "from particula.next.particles.distribution_factories import DistributionFactory"
   ]
  },
  {
   "cell_type": "markdown",
   "metadata": {},
   "source": [
    "## Strategy: MassBasedMovingBin\n",
    "\n",
    "The `MassBasedMovingBin` strategy is used when the distribution is mass-based. This\n",
    "means that the mass of the particles is known and the radius is calculated from the mass. The `MassBasedMovingBin` strategy calculates the radius of the particles using the following equation:\n",
    "\n",
    "$$\n",
    "r = \\left(\\frac{3m}{4\\pi\\rho}\\right)^{1/3}\n",
    "$$\n",
    "\n",
    "where $r$ is the radius of the particle, $m$ is the mass of the particle, and $\\rho$ is the density of the particle.\n"
   ]
  },
  {
   "cell_type": "code",
   "execution_count": 2,
   "metadata": {},
   "outputs": [
    {
     "name": "stdout",
     "output_type": "stream",
     "text": [
      "Radius of the particles: [0.         0.08419452 0.10607844 0.1214295  0.13365046] m\n",
      "Total mass of the particles: 25.0 kg\n",
      "Same as the sum*concentration: 25.0 kg\n"
     ]
    }
   ],
   "source": [
    "mass_distribution = np.linspace(0, 10, 5)  # kg\n",
    "density = 1000  # kg/m^3\n",
    "\n",
    "radius = MassBasedMovingBin().get_radius(mass_distribution, density)\n",
    "print(f\"Radius of the particles: {radius} m\")\n",
    "\n",
    "total_mass = MassBasedMovingBin().get_total_mass(\n",
    "    mass_distribution, concentration=np.ones_like(mass_distribution), density=density)\n",
    "print(f\"Total mass of the particles: {total_mass} kg\")\n",
    "print(f\"Same as the sum*concentration: {np.sum(mass_distribution)} kg\")"
   ]
  },
  {
   "cell_type": "markdown",
   "metadata": {},
   "source": [
    "## Builder: RadiiBasedMovingBin\n",
    "\n",
    "The `RadiiBasedMovingBin` strategy is used when the distribution is radius-based. This means that the radius of the particles is known and the mass is calculated from the radius. The `RadiiBasedMovingBin` strategy calculates the mass of the particles using the following equation:\n",
    "\n",
    "$$\n",
    "m = \\frac{4\\pi\\rho r^3}{3}\n",
    "$$\n",
    "\n",
    "where $m$ is the mass of the particle, $r$ is the radius of the particle, and $\\rho$ is the density of the particle.\n",
    "\n",
    "The builder does nothing in this case, as we just have no parameters to set. We use the builder pattern here to keep the code consistent with the other strategies."
   ]
  },
  {
   "cell_type": "code",
   "execution_count": 3,
   "metadata": {},
   "outputs": [
    {
     "name": "stdout",
     "output_type": "stream",
     "text": [
      "Mass of the particles: [0.         0.06544985 0.52359878 1.76714587 4.1887902 ] kg\n",
      "Total mass of the particles: 6.544984694978737 kg\n"
     ]
    }
   ],
   "source": [
    "radii_distribution = np.linspace(0, 0.1, 5)  # m\n",
    "density = 1000  # kg/m^3\n",
    "\n",
    "radii_strategy = RadiiBasedMovingBinBuilder().build()\n",
    "\n",
    "mass_distribution = radii_strategy.get_mass(radii_distribution, density)\n",
    "print(f\"Mass of the particles: {mass_distribution} kg\")\n",
    "\n",
    "total_mass = radii_strategy.get_total_mass(\n",
    "    radii_distribution, concentration=np.ones_like(radii_distribution), density=density)\n",
    "print(f\"Total mass of the particles: {total_mass} kg\")"
   ]
  },
  {
   "cell_type": "markdown",
   "metadata": {},
   "source": [
    "## Factory: SpeciatedMassMovingBin\n",
    "\n",
    "The `SpeciatedMassMovingBin` strategy is used when the distribution is speciated-mass based. This means that the mass of the particles is known and the radius is calculated from the mass. The `SpeciatedMassMovingBin` has multiple species, and the mass of each species is known for that given bin or particle."
   ]
  },
  {
   "cell_type": "code",
   "execution_count": 4,
   "metadata": {},
   "outputs": [
    {
     "name": "stdout",
     "output_type": "stream",
     "text": [
      "Radius of the particles: [0.         0.09637866 0.1214295  0.13900208 0.15299159] m\n",
      "Total mass of the particles: 50.0 kg\n"
     ]
    }
   ],
   "source": [
    "mass_distribution1 = np.linspace(0, 10, 5)  # kg\n",
    "mass_distribution2 = np.linspace(0, 10, 5)  # kg\n",
    "masses_combined = np.vstack((mass_distribution1, mass_distribution2)).T\n",
    "density = np.array([1000.0, 2000.0])  # kg/m^3\n",
    "\n",
    "speciated_mass = DistributionFactory().get_strategy(\"speciated_mass_moving_bin\")\n",
    "\n",
    "radius = speciated_mass.get_radius(masses_combined, density)\n",
    "\n",
    "print(f\"Radius of the particles: {radius} m\")\n",
    "\n",
    "total_mass = speciated_mass.get_total_mass(\n",
    "    masses_combined, concentration=np.ones_like(mass_distribution1), density=density)\n",
    "print(f\"Total mass of the particles: {total_mass} kg\")"
   ]
  },
  {
   "cell_type": "markdown",
   "metadata": {},
   "source": [
    "## Summary\n",
    "\n",
    "In this tutorial, we covered the distribution strategies implemented in the simulation. We covered the `MassBasedMovingBin`, `RadiiBasedMovingBin`, and `SpeciatedMassMovingBin` strategies. These strategies are used to calculate the properties of the particles based on the distribution type."
   ]
  }
 ],
 "metadata": {
  "kernelspec": {
   "display_name": "ParticulaDev_py311",
   "language": "python",
   "name": "python3"
  },
  "language_info": {
   "codemirror_mode": {
    "name": "ipython",
    "version": 3
   },
   "file_extension": ".py",
   "mimetype": "text/x-python",
   "name": "python",
   "nbconvert_exporter": "python",
   "pygments_lexer": "ipython3",
   "version": "3.11.8"
  }
 },
 "nbformat": 4,
 "nbformat_minor": 2
}
