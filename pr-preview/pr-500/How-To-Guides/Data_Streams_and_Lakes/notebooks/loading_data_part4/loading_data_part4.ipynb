{
 "cells": [
  {
   "cell_type": "markdown",
   "metadata": {},
   "source": [
    "# Loading Part 4: Settings Files\n",
    "\n",
    "In this part of the tutorial, we will explore how to save and load stream and lake settings dictionaries. This can be incredibly useful for preserving your settings, sharing them with others, or simply avoiding the need to retype everything.\n",
    "\n",
    "## Working Path\n",
    "\n",
    "In your working path, you will find a couple of `.json` files. These files are the settings files. The `lake_settings.json` file stores the settings for the lake, while the `stream_settings.json` file stores the settings for the stream. These settings are the same ones you created in the previous example, but now they are saved to files for easy access and sharing.\n",
    "\n",
    "\n",
    " ```\n",
    " data\n",
    " ├── CPC_3010_data\n",
    " │   ├── CPC_3010_data_20220709_Jul.csv\n",
    " │   ├── CPC_3010_data_20220709_Jul.csv\n",
    "     ├── stream_settings_cpc.json\n",
    " ├── SMPS_data\n",
    " │   ├── 2022-07-07_095151_SMPS.csv\n",
    " │   ├── 2022-07-10_094659_SMPS.csv\n",
    " │   ├── stream_settings_smps_1d.json\n",
    " │   ├── stream_settings_smps_2d.json\n",
    " ├── lake_settings.json\n",
    " ```\n"
   ]
  },
  {
   "cell_type": "code",
   "execution_count": 15,
   "metadata": {},
   "outputs": [
    {
     "name": "stdout",
     "output_type": "stream",
     "text": [
      "Path to data folder:\n",
      "\\data\\tests\\example_data\n"
     ]
    }
   ],
   "source": [
    "# Import the necessary libraries and modules\n",
    "import matplotlib.pyplot as plt\n",
    "from particula.data import loader_interface, settings_generator\n",
    "from particula.data.tests.example_data.get_example_data import get_data_folder\n",
    "from particula.data.lake import Lake\n",
    "from particula.data.loader_setting_builders import (\n",
    "    # These functions create settings for loading data from files.\n",
    "    DataChecksBuilder,\n",
    "    SizerDataReaderBuilder,\n",
    "    Loader1DSettingsBuilder,\n",
    "    LoaderSizerSettingsBuilder,\n",
    ")\n",
    "\n",
    "# Set the parent directory where the data folders are located\n",
    "path = get_data_folder()\n",
    "print('Path to data folder:')\n",
    "print(path.rsplit('particula')[-1])"
   ]
  },
  {
   "cell_type": "markdown",
   "metadata": {},
   "source": [
    "## Generate and Save Settings\n",
    "\n",
    "First, we generate the settings for the CPC data using the `settings_generator.for_general_1d_load` function. These settings include details such as the data file location, file format, column names, and more.\n"
   ]
  },
  {
   "cell_type": "code",
   "execution_count": 16,
   "metadata": {},
   "outputs": [],
   "source": [
    "# settings for the CPC data\n",
    "data_checks_cpc = (\n",
    "    DataChecksBuilder()\n",
    "    .set_characters([10, 100])\n",
    "    .set_char_counts({\",\": 4})\n",
    "    .build()\n",
    ")\n",
    "\n",
    "cpc_settings = (\n",
    "    Loader1DSettingsBuilder()\n",
    "    .set_relative_data_folder(\"CPC_3010_data\")\n",
    "    .set_filename_regex(\"*.csv\")\n",
    "    .set_header_row(0)\n",
    "    .set_data_checks(data_checks_cpc)  # from above\n",
    "    .set_data_column([1, 2])\n",
    "    .set_data_header([\"CPC_count[#/sec]\", \"Temperature[degC]\"])\n",
    "    .set_time_column([0])\n",
    "    .set_time_format(\"epoch\")\n",
    "    .set_delimiter(\",\")\n",
    "    .set_timezone_identifier(\"UTC\")\n",
    "    .build()\n",
    ")\n",
    "\n",
    "# save the settings to a file\n",
    "settings_generator.save_settings_for_stream(\n",
    "    settings=cpc_settings,\n",
    "    path=path,\n",
    "    subfolder='CPC_3010_data',\n",
    "    settings_suffix='_cpc',\n",
    ")"
   ]
  },
  {
   "cell_type": "markdown",
   "metadata": {},
   "source": [
    "### Next save the SMPS settings\n"
   ]
  },
  {
   "cell_type": "code",
   "execution_count": 17,
   "metadata": {},
   "outputs": [],
   "source": [
    "# settings for the SMPS data\n",
    "data_checks_sizer = (\n",
    "    DataChecksBuilder()\n",
    "    .set_characters([250])\n",
    "    .set_skip_rows(25)\n",
    "    .set_char_counts({\"/\": 2, \":\": 2})\n",
    "    .build()\n",
    ")\n",
    "data_sizer_reader = (\n",
    "    SizerDataReaderBuilder()\n",
    "    .set_sizer_start_keyword(\"20.72\")\n",
    "    .set_sizer_end_keyword(\"784.39\")\n",
    "    .set_sizer_concentration_convert_from(\"dw/dlogdp\")\n",
    "    .build()\n",
    ")\n",
    "smps_1d_settings, smps_2d_settings = (\n",
    "    LoaderSizerSettingsBuilder()\n",
    "    .set_relative_data_folder(\"SMPS_data\")\n",
    "    .set_filename_regex(\"*.csv\")\n",
    "    .set_header_row(24)\n",
    "    .set_data_checks(data_checks_sizer)\n",
    "    .set_data_column(\n",
    "        [\n",
    "            \"Lower Size (nm)\",\n",
    "            \"Upper Size (nm)\",\n",
    "            \"Sample Temp (C)\",\n",
    "            \"Sample Pressure (kPa)\",\n",
    "            \"Relative Humidity (%)\",\n",
    "            \"Median (nm)\",\n",
    "            \"Mean (nm)\",\n",
    "            \"Geo. Mean (nm)\",\n",
    "            \"Mode (nm)\",\n",
    "            \"Geo. Std. Dev.\",\n",
    "            \"Total Conc. (#/cm³)\",\n",
    "        ]\n",
    "    )\n",
    "    .set_data_header(\n",
    "        [\n",
    "            \"Lower_Size_(nm)\",\n",
    "            \"Upper_Size_(nm)\",\n",
    "            \"Sample_Temp_(C)\",\n",
    "            \"Sample_Pressure_(kPa)\",\n",
    "            \"Relative_Humidity_(%)\",\n",
    "            \"Median_(nm)\",\n",
    "            \"Mean_(nm)\",\n",
    "            \"Geo_Mean_(nm)\",\n",
    "            \"Mode_(nm)\",\n",
    "            \"Geo_Std_Dev.\",\n",
    "            \"Total_Conc_(#/cc)\",\n",
    "        ]\n",
    "    )\n",
    "    .set_data_sizer_reader(data_sizer_reader)\n",
    "    .set_time_column([1, 2])\n",
    "    .set_time_format(\"%m/%d/%Y %H:%M:%S\")\n",
    "    .set_delimiter(\",\")\n",
    "    .set_timezone_identifier(\"UTC\")\n",
    "    .build()\n",
    ")\n",
    "\n",
    "# save the settings to a file\n",
    "settings_generator.save_settings_for_stream(\n",
    "    settings=smps_1d_settings,\n",
    "    path=path,\n",
    "    subfolder='SMPS_data',\n",
    "    settings_suffix='_smps_1d',\n",
    ")\n",
    "settings_generator.save_settings_for_stream(\n",
    "    settings=smps_2d_settings,\n",
    "    path=path,\n",
    "    subfolder='SMPS_data',\n",
    "    settings_suffix='_smps_2d',\n",
    ")"
   ]
  },
  {
   "cell_type": "markdown",
   "metadata": {},
   "source": [
    "## Loading Stream Settings\n",
    "\n",
    "If you are still exploring your analysis pipeline, you may want to load settings for individual streams. To do so, you can use the generate_settings.load_settings_for_stream function. This function takes the path to the settings file as an argument and returns a dictionary containing the stream settings."
   ]
  },
  {
   "cell_type": "code",
   "execution_count": 18,
   "metadata": {},
   "outputs": [
    {
     "name": "stdout",
     "output_type": "stream",
     "text": [
      "  Loading file: 2022-07-07_095151_SMPS.csv\n",
      "  Loading file: 2022-07-10_094659_SMPS.csv\n",
      "['Lower_Size_(nm)', 'Upper_Size_(nm)', 'Sample_Temp_(C)', 'Sample_Pressure_(kPa)', 'Relative_Humidity_(%)', 'Median_(nm)', 'Mean_(nm)', 'Geo_Mean_(nm)', 'Mode_(nm)', 'Geo_Std_Dev.', 'Total_Conc_(#/cc)']\n"
     ]
    }
   ],
   "source": [
    "smps_1d_stream_settings = settings_generator.load_settings_for_stream(\n",
    "    path=path,\n",
    "    subfolder='SMPS_data',\n",
    "    settings_suffix='_smps_1d',\n",
    ")\n",
    "\n",
    "stream_smps_1d = loader_interface.load_files_interface(\n",
    "    path=path,\n",
    "    settings=smps_1d_stream_settings\n",
    ")\n",
    "\n",
    "print(stream_smps_1d.header)"
   ]
  },
  {
   "cell_type": "markdown",
   "metadata": {},
   "source": [
    "## Lake settings\n",
    "\n",
    "If you wanted to load everything for a reanalysis, instead of calling each individual stream, you can first save a lake settings file.  This is done with `generate_settings.save_settings_for_lake`.  This function takes the path to the lake settings file as an argument.  It returns a dictionary with the settings."
   ]
  },
  {
   "cell_type": "code",
   "execution_count": 19,
   "metadata": {},
   "outputs": [],
   "source": [
    "# collect settings into a dictionary\n",
    "combined_settings = {\n",
    "    'cpc': cpc_settings,\n",
    "    'smps_1d': smps_1d_settings,\n",
    "    'smps_2d': smps_2d_settings,\n",
    "}\n",
    "\n",
    "# save the lake settings to a file\n",
    "settings_generator.save_settings_for_lake(\n",
    "    settings=combined_settings,\n",
    "    path=path,\n",
    "    subfolder='',\n",
    "    settings_suffix='_cpc_smps',\n",
    ")\n"
   ]
  },
  {
   "cell_type": "markdown",
   "metadata": {},
   "source": [
    "### Load the Lake\n",
    "\n",
    "To load the lake settings use `generate_settings.load_settings_for_lake`.  This function takes the path to the lake settings file as an argument.  It returns a dictionary with the settings."
   ]
  },
  {
   "cell_type": "code",
   "execution_count": 20,
   "metadata": {},
   "outputs": [
    {
     "name": "stdout",
     "output_type": "stream",
     "text": [
      "Folder Settings: cpc\n",
      "  Loading file: CPC_3010_data_20220709_Jul.csv\n",
      "  Loading file: CPC_3010_data_20220710_Jul.csv\n",
      "Folder Settings: smps_1d\n",
      "  Loading file: 2022-07-07_095151_SMPS.csv\n",
      "  Loading file: 2022-07-10_094659_SMPS.csv\n",
      "Folder Settings: smps_2d\n",
      "  Loading file: 2022-07-07_095151_SMPS.csv\n",
      "  Loading file: 2022-07-10_094659_SMPS.csv\n",
      " \n",
      "Lake with streams: ['cpc', 'smps_1d', 'smps_2d']\n"
     ]
    }
   ],
   "source": [
    "lake_settings = settings_generator.load_settings_for_lake(\n",
    "    path=path,\n",
    "    subfolder='',\n",
    "    settings_suffix='_cpc_smps',\n",
    ")\n",
    "\n",
    "# now call the loader interface for files\n",
    "lake = loader_interface.load_folders_interface(\n",
    "    path=path,\n",
    "    folder_settings=combined_settings,\n",
    ")\n",
    "\n",
    "print(' ')\n",
    "print(lake)"
   ]
  },
  {
   "cell_type": "markdown",
   "metadata": {},
   "source": [
    "# Summary\n",
    " This example showed how to save and load the settings for a stream and a lake.  This is useful if you want to save your settings and then load them later.  This is also useful if you want to share your settings with someone else.  Or just stop from having to retype everything."
   ]
  }
 ],
 "metadata": {
  "kernelspec": {
   "display_name": "ParticulaDev_py39",
   "language": "python",
   "name": "python3"
  },
  "language_info": {
   "codemirror_mode": {
    "name": "ipython",
    "version": 3
   },
   "file_extension": ".py",
   "mimetype": "text/x-python",
   "name": "python",
   "nbconvert_exporter": "python",
   "pygments_lexer": "ipython3",
   "version": "3.11.8"
  }
 },
 "nbformat": 4,
 "nbformat_minor": 2
}
