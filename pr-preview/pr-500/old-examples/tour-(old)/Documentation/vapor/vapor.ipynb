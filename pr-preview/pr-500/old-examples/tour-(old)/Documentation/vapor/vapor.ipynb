{
 "cells": [
  {
   "cell_type": "markdown",
   "metadata": {},
   "source": [
    "# The `Vapor` Class"
   ]
  },
  {
   "cell_type": "markdown",
   "metadata": {},
   "source": [
    "The `Vapor` class links the `Environment` class with the `Particle` class by defining condensing vapor that are precursors to particles. The `Vapor` class is defined in `particula/vapor.py`. It inherits everything from the `Environment` class, including attributes and methods. It can be imported as,"
   ]
  },
  {
   "cell_type": "code",
   "execution_count": 1,
   "metadata": {},
   "outputs": [],
   "source": [
    "from particula.vapor import Vapor"
   ]
  },
  {
   "cell_type": "markdown",
   "metadata": {},
   "source": [
    "and then it can be initiated with (some of) the `Environment` attributes as well as the following additional attributes:"
   ]
  },
  {
   "cell_type": "markdown",
   "metadata": {},
   "source": [
    "## `Vapor` attributes\n",
    "\n",
    "| attribute             | unit     | default\n",
    "| ---------             | ----     | -------\n",
    "| `vapor_radius`        | m        | `1.6e-9`\n",
    "| `vapor_density`       | kg / m^3 | `1400`\n",
    "| `vapor_concentration` | kg / m^3 | `0.025e-9`\n",
    "| `vapor_attachment`    |          | `1`\n",
    "| `vapor_molec_wt`      | kg / mol | `0.2`\n",
    "\n",
    "For example, `Vapor(vapor_radius=1e-9)` initiates the class with vapor radius of 1 nm with all other default attributes. Additionally, `Vapor(vapor_radius=1e-9, temperature=290)` will initiate the class with 290 K and 1 nm, in addition to all other attributes. Above, `vapor_radius` and `vapor_density` refer to the radius of the condensing vapor and its density, respectively. The `vapor_concentration` attribute defines the driving force of condensation (defined below). The `vapor_attachment` coefficient is the sticking coefficient between a vapor and a particle and it is dimensionless; `vapor_molec_wt` is the molecular weight of the condensing vapor. \n",
    "\n",
    "It is possible to provide multiple vapors with multiple properties."
   ]
  },
  {
   "cell_type": "code",
   "execution_count": 3,
   "metadata": {},
   "outputs": [
    {
     "name": "stdout",
     "output_type": "stream",
     "text": [
      "temperature is  300 kelvin\n",
      "pressure is  101325 kilogram / meter / second ** 2\n",
      "vapor radius is  1.6e-09 meter\n"
     ]
    }
   ],
   "source": [
    "from particula import u\n",
    "from particula.vapor import Vapor\n",
    "\n",
    "VapOne = Vapor(temperature=300) \n",
    "print(\"temperature is \", VapOne.temperature) # will print 300 K\n",
    "print(\"pressure is \", VapOne.pressure) # will print 101325 Pa (kg/m/s^2)\n",
    "print(\"vapor radius is \", VapOne.vapor_radius)  # will print 1.6 nm"
   ]
  },
  {
   "cell_type": "markdown",
   "metadata": {},
   "source": [
    "## `Vapor` methods\n",
    "\n",
    "We currently only have one method in the `Vapor` class."
   ]
  },
  {
   "cell_type": "markdown",
   "metadata": {},
   "source": [
    "### `Vapor.driving_force()`\n",
    "\n",
    "For now, `Vapor.driving_force()` is equal to `Vapor.vapor_concentration`. In reality, the relationship is more complicated, but since we likely do not measure the gas concentration directly, we can estimate it as such and correct it later."
   ]
  }
 ],
 "metadata": {
  "kernelspec": {
   "display_name": "Python 3.10.4 64-bit",
   "language": "python",
   "name": "python3"
  },
  "language_info": {
   "codemirror_mode": {
    "name": "ipython",
    "version": 3
   },
   "file_extension": ".py",
   "mimetype": "text/x-python",
   "name": "python",
   "nbconvert_exporter": "python",
   "pygments_lexer": "ipython3",
   "version": "3.10.4"
  },
  "orig_nbformat": 4,
  "vscode": {
   "interpreter": {
    "hash": "949777d72b0d2535278d3dc13498b2535136f6dfe0678499012e853ee9abcab1"
   }
  }
 },
 "nbformat": 4,
 "nbformat_minor": 2
}
