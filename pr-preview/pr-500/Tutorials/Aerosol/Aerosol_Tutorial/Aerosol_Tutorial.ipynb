{
 "cells": [
  {
   "cell_type": "markdown",
   "metadata": {},
   "source": [
    "# Aerosol Tutorial\n",
    "\n",
    "Aerosols are complex systems comprising both gaseous components and particulate matter. To accurately model such systems, we introduce the `Aerosol` class, which serves as a collection the `Atmosphere` and `ParticleRepresentation` objects.\n",
    "\n",
    "In this quick tutorial, we will demonstrate how to create an `Aerosol` object, as this is the key object that will track the state of the aerosol system during dynamics."
   ]
  },
  {
   "cell_type": "code",
   "execution_count": 1,
   "metadata": {},
   "outputs": [],
   "source": [
    "import numpy as np\n",
    "import matplotlib.pyplot as plt\n",
    "\n",
    "from particula.next.particles.representation_builders import LimitedRadiusParticleBuilder\n",
    "from particula.next.gas.atmosphere_builder import AtmosphereBuilder\n",
    "from particula.next.gas.vapor_pressure_factories import VaporPressureFactory\n",
    "from particula.next.gas.species_builder import GasSpeciesBuilder\n",
    "from particula.next.aerosol import Aerosol"
   ]
  },
  {
   "cell_type": "markdown",
   "metadata": {},
   "source": [
    "## Gas->Atmosphere and Particles\n",
    "\n",
    "First we'll create a simple `Atmosphere` object, which will represent the gas phase of the aerosol system. We'll also create a `ParticleRepresentation` object, which will represent the particulate phase of the aerosol system.\n",
    "\n",
    "For the chemical species, we will use a pure component glycerol system."
   ]
  },
  {
   "cell_type": "code",
   "execution_count": 2,
   "metadata": {},
   "outputs": [
    {
     "name": "stdout",
     "output_type": "stream",
     "text": [
      "Saturation concentration: 2.54e-03 kg/m^3\n",
      "Glycerol\n",
      "Gas mixture at 298.15 K and 101325.0 Pa consisting of ['Glycerol']\n"
     ]
    }
   ],
   "source": [
    "# Glycerol gas\n",
    "molar_mass_glycerol = 92.09382e-3  # kg/mol\n",
    "parameters_clausius = {\n",
    "    \"latent_heat\": 71.5*molar_mass_glycerol,\n",
    "    \"latent_heat_units\": \"kJ/kg\",\n",
    "    \"temperature_initial\": 125.5,\n",
    "    \"temperature_initial_units\": \"degC\",\n",
    "    \"pressure_initial\": 1,\n",
    "    \"pressure_initial_units\": \"mmHg\",\n",
    "}\n",
    "vapor_pressure_strategy = VaporPressureFactory().get_strategy(\"clausius_clapeyron\", parameters_clausius)\n",
    "\n",
    "sat_concentration = vapor_pressure_strategy.saturation_concentration(molar_mass_glycerol, 298.15)\n",
    "print(f\"Saturation concentration: {sat_concentration:.2e} kg/m^3\")\n",
    "\n",
    "sat_factor = 0.5  # 50% of saturation concentration\n",
    "glycerol_gas = (\n",
    "    GasSpeciesBuilder()\n",
    "    .set_molar_mass(molar_mass_glycerol, \"kg/mol\")\n",
    "    .set_vapor_pressure_strategy(vapor_pressure_strategy)\n",
    "    .set_concentration(sat_concentration*sat_factor, \"kg/m^3\")\n",
    "    .set_name(\"Glycerol\")\n",
    "    .set_condensable(True)\n",
    "    .build()\n",
    ")\n",
    "print(glycerol_gas)\n",
    "\n",
    "atmosphere = (\n",
    "    AtmosphereBuilder()\n",
    "    .add_species(glycerol_gas)\n",
    "    .set_temperature(25, temperature_units=\"degC\")\n",
    "    .set_pressure(1, pressure_units=\"atm\")\n",
    "    .build()\n",
    ")\n",
    "print(atmosphere)\n",
    "\n",
    "# Glycerol particle distribution\n",
    "lognormal_rep = (\n",
    "    LimitedRadiusParticleBuilder()\n",
    "    .set_mode(np.array([100]), \"nm\")\n",
    "    .set_geometric_standard_deviation(np.array([1.5]))\n",
    "    .set_number_concentration(np.array([1e4]), \"1/cm^3\")\n",
    "    .set_density(1.26, \"g/cm^3\")\n",
    "    .build()\n",
    ")"
   ]
  },
  {
   "cell_type": "markdown",
   "metadata": {},
   "source": [
    "## Creating an Aerosol object\n",
    "\n",
    "With both the `Atmosphere` and `ParticleRepresentation` objects created, we can now create an `Aerosol` object. This object will contain both the gas and particle phase objects, and will be used to track the state of the aerosol system during dynamics."
   ]
  },
  {
   "cell_type": "code",
   "execution_count": 3,
   "metadata": {},
   "outputs": [
    {
     "name": "stdout",
     "output_type": "stream",
     "text": [
      "Gas mixture at 298.15 K and 101325.0 Pa consisting of ['Glycerol']\n"
     ]
    }
   ],
   "source": [
    "aerosol = Aerosol(atmosphere=atmosphere, particles=lognormal_rep)\n",
    "\n",
    "print(aerosol.atmosphere)"
   ]
  },
  {
   "cell_type": "markdown",
   "metadata": {},
   "source": [
    "# Summary\n",
    "\n",
    "In this tutorial, we demonstrated how to create an `Aerosol` object, which is the key object that will track the state of the aerosol system during dynamics. It is pretty simple, as the `Aerosol` object is just a collection of the `Atmosphere` and `ParticleRepresentation` objects and only functions as a container for these objects. It can also iterate over the `Atmosphere` and `ParticleRepresentation` objects."
   ]
  }
 ],
 "metadata": {
  "kernelspec": {
   "display_name": "ParticulaDev_py311",
   "language": "python",
   "name": "python3"
  },
  "language_info": {
   "codemirror_mode": {
    "name": "ipython",
    "version": 3
   },
   "file_extension": ".py",
   "mimetype": "text/x-python",
   "name": "python",
   "nbconvert_exporter": "python",
   "pygments_lexer": "ipython3",
   "version": "3.11.8"
  }
 },
 "nbformat": 4,
 "nbformat_minor": 2
}
