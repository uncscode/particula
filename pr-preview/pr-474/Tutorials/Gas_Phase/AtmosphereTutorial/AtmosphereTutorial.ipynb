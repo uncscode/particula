{
 "cells": [
  {
   "cell_type": "markdown",
   "metadata": {},
   "source": [
    "# Atmosphere Tutorial\n",
    "\n",
    "Gases, alongside particles, constitute the essential components of an aerosol system. In their natural state, gases are collections of molecules that move freely, not bound to one another. We introduce the `Atmosphere` class, a composite that encapsolate `GasSpecies`, with addition parameters for the atmospheric state.\n",
    "\n",
    "- **`Atmosphere`**: This class represents the atmospheric environment by detailing properties such as temperature and pressure, alongside a dynamic list of gas species\n",
    "    present.\n",
    "- **`AtmosphericBuilder`**: A builder class that simplifies the creation of `Atmosphere` objects.\n",
    "\n",
    "We'll continue with our organics and water example, combining the two into a single `Atmosphere` object."
   ]
  },
  {
   "cell_type": "code",
   "execution_count": 1,
   "metadata": {},
   "outputs": [],
   "source": [
    "import numpy as np\n",
    "import matplotlib.pyplot as plt\n",
    "\n",
    "# From particula\n",
    "from particula.next.gas.atmosphere_builder import AtmosphereBuilder\n",
    "from particula.next.gas.vapor_pressure_factories import VaporPressureFactory\n",
    "from particula.next.gas.species_builder import GasSpeciesBuilder"
   ]
  },
  {
   "cell_type": "markdown",
   "metadata": {},
   "source": [
    "## Build Gas Species\n",
    "\n",
    "First we will build the, `GasSpecies` objects for the organics and water. Following the same procedure from previously in [`Gas Species`](./next_gas_species.ipynb)."
   ]
  },
  {
   "cell_type": "code",
   "execution_count": 2,
   "metadata": {},
   "outputs": [
    {
     "name": "stdout",
     "output_type": "stream",
     "text": [
      "water\n",
      "['butanol' 'styrene']\n"
     ]
    }
   ],
   "source": [
    "\n",
    "# Define the coefficients for Butanol using the Antoine equation.\n",
    "butanol_coefficients = {'a': 7.838, 'b': 1558.19, 'c': 196.881}\n",
    "butanol_antione = VaporPressureFactory().get_strategy(\n",
    "    'antoine', butanol_coefficients)\n",
    "styrene_coefficients = {'a': 6.924, 'b': 1420, 'c': 226}\n",
    "styrene_antione = VaporPressureFactory().get_strategy(\n",
    "    'antoine', styrene_coefficients)\n",
    "\n",
    "# Water uses a different model for vapor pressure calculation called the Buck equation.\n",
    "water_buck = VaporPressureFactory().get_strategy(\n",
    "    'water_buck')\n",
    "\n",
    "# Create the GasSpecies using the GasSpeciesBuilder\n",
    "# water species\n",
    "water_species = (\n",
    "    GasSpeciesBuilder()\n",
    "    .set_name(\"water\")\n",
    "    .set_molar_mass(18.01528e-3)\n",
    "    .set_vapor_pressure_strategy(water_buck)\n",
    "    .set_condensable(True)\n",
    "    .set_concentration(1e-3)\n",
    "    .build()\n",
    ")\n",
    "\n",
    "# organic species\n",
    "organic_molar_mass = np.array([0.074121, 104.15e-3])\n",
    "organic_vapor_pressure = [butanol_antione, styrene_antione]\n",
    "organic_concentration = np.array([2e-6, 1e-9])\n",
    "organic_names = np.array([\"butanol\", \"styrene\"])\n",
    "organic_species = (\n",
    "    GasSpeciesBuilder()\n",
    "    .set_name(organic_names)\n",
    "    .set_molar_mass(organic_molar_mass)\n",
    "    .set_vapor_pressure_strategy(organic_vapor_pressure)\n",
    "    .set_condensable(True)\n",
    "    .set_concentration(organic_concentration)\n",
    "    .build()\n",
    ")\n",
    "\n",
    "# Print the species\n",
    "print(water_species)\n",
    "print(organic_species)"
   ]
  },
  {
   "cell_type": "markdown",
   "metadata": {},
   "source": [
    "## Atmosphere Builder\n",
    "\n",
    "The `AtmosphereBuilder` class is a builder class that simplifies the creation of `Atmosphere` objects. It provides a fluent interface for adding `GasSpecies` objects to the `Atmosphere` object. We will use it to build the `Atmosphere` object for the organics and water. The builder requries the following parameters:\n",
    "\n",
    "- `pressure`: The total pressure of the gas mixture, in Pascals, or provided pressure_units string for conversion.\n",
    "- `temperature`: The temperature of the gas mixture, in Kelvin, or provided temperature_units string for conversion.\n",
    "- `species`: A list of `GasSpecies` objects, representing the gases in the mixture. This can be added one by one using the `add_species` method.\n",
    "\n",
    "### Air\n",
    "\n",
    "Air is assumed to be the non-specified component of the gas mixture, making up the remainder of the gas mixture. We do not explicitly add air to the gas mixture, but it is implicitly included in most calculations."
   ]
  },
  {
   "cell_type": "code",
   "execution_count": 3,
   "metadata": {},
   "outputs": [
    {
     "name": "stdout",
     "output_type": "stream",
     "text": [
      "Notice the units conversion to base SI:\n",
      "Gas mixture at 298.15 K and 101325.0 Pa consisting of ['water', \"['butanol' 'styrene']\"]\n"
     ]
    }
   ],
   "source": [
    "gas_mixture = (\n",
    "    AtmosphereBuilder()\n",
    "    .add_species(water_species)\n",
    "    .add_species(organic_species)\n",
    "    .set_temperature(25, temperature_units='degC')\n",
    "    .set_pressure(1, pressure_units='atm')\n",
    "    .build()\n",
    ")\n",
    "\n",
    "print('Notice the units conversion to base SI:')\n",
    "print(gas_mixture)"
   ]
  },
  {
   "cell_type": "markdown",
   "metadata": {},
   "source": [
    "## Iterating Over Gas Species\n",
    "\n",
    "Once the `Gas` object has been established, it enables us to iterate over each `GasSpecies` within the mixture. This functionality is particularly valuable for evaluating and adjusting properties dynamically, such as when changes in temperature and pressure occur due to environmental alterations.\n",
    "\n",
    "### Practical Example: Altitude Impact\n",
    "\n",
    "Consider a scenario where our gas mixture is transported from sea level to an altitude of 10 kilometers. Such a change in altitude significantly impacts both temperature and pressure, which in turn affects the behavior of each gas species in the mixture.\n",
    "\n",
    "#### Geopotential Height Equation\n",
    "\n",
    "The pressure and temperature changes with altitude can be approximated by using the geopotential height equation. Here's how you can calculate these changes:\n",
    "\n",
    "1. **Pressure Change**: The pressure at a given altitude can be estimated by:\n",
    "   \n",
    "$$\n",
    "   P = P_0 \\left(1 - \\frac{L \\cdot h}{T_0}\\right)^{\\frac{g \\cdot M}{R \\cdot L}}\n",
    "$$\n",
    "\n",
    "   where:\n",
    "   - $ P $ is the pressure at altitude $ h $,\n",
    "   - $ P_0 $ is the reference pressure at sea level (101325 Pa),\n",
    "   - $ L $ is the standard temperature lapse rate (approximately 0.0065 K/m),\n",
    "   - $ h $ is the altitude in meters (10000 m for 10 km),\n",
    "   - $ T_0 $ is the reference temperature at sea level (288.15 K),\n",
    "   - $ g $ is the acceleration due to gravity (9.80665 m/s²),\n",
    "   - $ M $ is the molar mass of Earth's air (0.0289644 kg/mol),\n",
    "   - $ R $ is the universal gas constant (8.314 J/(mol·K)).\n",
    "\n",
    "1. **Temperature Change**: The temperature decreases linearly with altitude at the lapse rate $ L $:\n",
    "   \n",
    "   $$\n",
    "   T = T_0 - L h\n",
    "   $$\n",
    "\n",
    "   Using this formula, we can estimate the temperature at an altitude of 10 km:\n",
    "   - $T$ = 288.15 K \n",
    "   - $L$ 0.0065 K/m\n",
    "   - $h$ = 10000 m\n",
    "\n",
    "### Application\n",
    "By iterating through each `GasSpecies`, we can apply these formulas to adjust their properties based on the calculated pressure and temperature at 10 km altitude, aiding in simulations or real-world applications where altitude plays a crucial role in gas behavior.\n"
   ]
  },
  {
   "cell_type": "code",
   "execution_count": 4,
   "metadata": {},
   "outputs": [
    {
     "data": {
      "image/png": "[encoded data removed]",
      "text/plain": [
       "<Figure size 640x480 with 1 Axes>"
      ]
     },
     "metadata": {},
     "output_type": "display_data"
    }
   ],
   "source": [
    "# Constants for calculations\n",
    "sea_level_pressure = 101325  # Reference pressure at sea level (Pa)\n",
    "sea_level_temperature = 330  # Reference temperature at sea level (K)\n",
    "gravity = 9.80665  # Acceleration due to gravity (m/s^2)\n",
    "molar_mass_air = 0.0289644  # Molar mass of Earth's air (kg/mol)\n",
    "universal_gas_constant = 8.314    # Universal gas constant (J/(mol·K))\n",
    "temperature_lapse_rate = 0.0065   # Standard temperature lapse rate (K/m)\n",
    "\n",
    "# Generate an array of altitudes from sea level (0 meters) to 10 km (10000 meters), divided into 100 intervals\n",
    "altitude_range = np.linspace(0, 10000, 100)\n",
    "\n",
    "# Calculate the temperature at each altitude based on the linear temperature lapse rate\n",
    "temperature_at_altitudes = sea_level_temperature - temperature_lapse_rate * altitude_range\n",
    "\n",
    "# Calculate the pressure at each altitude using the barometric formula\n",
    "pressure_at_altitudes = sea_level_pressure * (\n",
    "    (1 - temperature_lapse_rate * altitude_range / sea_level_temperature)\n",
    "    ** (gravity * molar_mass_air / (universal_gas_constant * temperature_lapse_rate)))\n",
    "\n",
    "\n",
    "# Initialize a matrix to hold saturation ratios for each species at each\n",
    "# altitude\n",
    "saturation_ratio = np.zeros(len(altitude_range))\n",
    "\n",
    "# Loop over each altitude's temperature and pressure\n",
    "for index, (temperature, pressure) in enumerate(zip(temperature_at_altitudes, pressure_at_altitudes)):\n",
    "    # Set the current temperature and pressure of the gas mixture\n",
    "    gas_mixture.temperature = temperature\n",
    "    gas_mixture.total_pressure = pressure\n",
    "\n",
    "    # Loop over water\n",
    "    saturation_ratio[index] = gas_mixture.species[0].get_saturation_ratio(gas_mixture.temperature)\n",
    "\n",
    "\n",
    "# Plot the saturation ratio of water vapor at each altitude\n",
    "fig, ax = plt.subplots()\n",
    "ax.plot(saturation_ratio, altitude_range, label='Water')\n",
    "ax.set_xscale('log')\n",
    "ax.set_ylabel('Altitude (m)')\n",
    "ax.set_xlabel('Water Saturation Ratio')\n",
    "ax.set_title('Saturation Ratio of Water Vapor at Different Altitudes')\n",
    "ax.legend()\n",
    "plt.show()\n"
   ]
  },
  {
   "cell_type": "markdown",
   "metadata": {},
   "source": [
    "# Summary\n",
    "\n",
    "In this notebook, we learned how to create an `Atmosphere` object using the `AtmosphereBuilder` class. We also explored how to iterate over each `GasSpecies` within the mixture, enabling us to adjust properties dynamically based on environmental changes. This functionality is particularly useful for simulating real-world scenarios where temperature and pressure variations significantly impact gas behavior.\n",
    "\n",
    "We now need to build the particle representation, so that combined with the `Atmosphere`, we can create an aerosol system."
   ]
  }
 ],
 "metadata": {
  "kernelspec": {
   "display_name": "ParticulaDev_py311",
   "language": "python",
   "name": "python3"
  },
  "language_info": {
   "codemirror_mode": {
    "name": "ipython",
    "version": 3
   },
   "file_extension": ".py",
   "mimetype": "text/x-python",
   "name": "python",
   "nbconvert_exporter": "python",
   "pygments_lexer": "ipython3",
   "version": "3.11.8"
  }
 },
 "nbformat": 4,
 "nbformat_minor": 2
}
