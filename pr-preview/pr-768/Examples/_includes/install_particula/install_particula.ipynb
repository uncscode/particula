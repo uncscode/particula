{
 "cells": [
  {
   "cell_type": "markdown",
   "metadata": {},
   "source": [
    "<details> <summary>\u25b6\ufe0f Install Particula</summary>\n",
    "try:\n",
    "    import google.colab\n",
    "except ImportError:\n",
    "    # not Colab \u2192 do nothing\n",
    "    pass\n",
    "else:\n",
    "    # in Colab \u2192 install quietly\n",
    "    get_ipython().system(\"pip install particula[extra] --quiet\")\n",
    "</details>"
   ]
  }
 ],
 "metadata": {},
 "nbformat": 4,
 "nbformat_minor": 2
}
