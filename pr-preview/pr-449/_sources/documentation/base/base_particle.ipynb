{
 "cells": [
  {
   "cell_type": "markdown",
   "metadata": {},
   "source": [
    "# Strategies in Particle Distributions\n",
    "\n",
    "The behavior and properties of aerosols are significantly influenced by the characteristics of the particles they contain, including their mass, size, and concentration. To accurately model these aspects, we employ different **particle distribution strategies** that allow us to represent and manipulate particle data effectively.\n",
    "\n",
    "### The Strategy Pattern\n",
    "\n",
    "Utilizing the **[Strategy Pattern](https://en.wikipedia.org/wiki/Strategy_pattern)**, we can define a family of algorithms, encapsulate each one, and make them interchangeable. This pattern lets the algorithm vary independently from clients that use it, providing flexibility in the particle representation.\n",
    "\n",
    "### Key Components:\n",
    "\n",
    "- **`ParticleStrategy`**: An abstract base class that outlines the common interface for calculating particle mass, radius, and total mass.\n",
    "- **`MassBasedStrategy`**: A concrete strategy for particles represented by their mass distribution.\n",
    "- **`RadiiBasedStrategy`**: Focuses on particles defined by their radius (size distribution).\n",
    "- **`SpeciatedMassStrategy`**: Tailored for particles with a distribution across different species, each potentially having distinct densities.\n",
    "\n",
    "The `distribution` is the x-axis of a particle distribution, so it can be mass, radius, or species-masses. The `concentration` are the y-axis of the distribution, currently all number-concentration. It is these two parameters that define the particle distribution, and they change depending on the strategy.\n",
    "\n",
    "By adopting these strategies, we can easily switch between different methods of representing particle distributions, enabling more nuanced simulations and analyses of aerosol behavior.\n"
   ]
  },
  {
   "cell_type": "code",
   "execution_count": 1,
   "metadata": {},
   "outputs": [
    {
     "name": "stdout",
     "output_type": "stream",
     "text": [
      "Mass of particles: [100. 200. 300.]\n",
      "Radius of particles: [2.12156884 2.67300924 3.05983174]\n",
      "Total mass of the particle distribution: 14000.0\n"
     ]
    }
   ],
   "source": [
    "# Example demonstrating the usage of particle distribution strategies\n",
    "\n",
    "# Assuming necessary imports\n",
    "import numpy as np\n",
    "from particula.base.particle import (\n",
    "    create_particle_strategy,\n",
    "    Particle,\n",
    "    MassBasedStrategy,\n",
    "    RadiiBasedStrategy,\n",
    "    SpeciatedMassStrategy,\n",
    ")\n",
    "\n",
    "# Creating particle distribution examples\n",
    "mass_distribution = np.array([100, 200, 300], dtype=np.float64)\n",
    "density = np.float64(2.5)\n",
    "concentration = np.array([10, 20, 30], dtype=np.float64)\n",
    "\n",
    "# Instantiate a particle strategy\n",
    "mass_based_strategy = MassBasedStrategy()\n",
    "\n",
    "# Create a Particle instance using the MassBasedStrategy\n",
    "particle = Particle(strategy=mass_based_strategy,\n",
    "                    distribution=mass_distribution,\n",
    "                    density=density,\n",
    "                    concentration=concentration)\n",
    "\n",
    "# Accessing calculated properties\n",
    "print(\"Mass of particles:\", particle.get_mass())\n",
    "print(\"Radius of particles:\", particle.get_radius())\n",
    "print(\"Total mass of the particle distribution:\", particle.get_total_mass())"
   ]
  },
  {
   "cell_type": "markdown",
   "metadata": {},
   "source": [
    "## Strategy Factory\n",
    "\n",
    "The ability to switch between different computational strategies for particle properties (mass, radius, and total mass) based on the particle representation is crucial. This flexibility allows for a more accurate and tailored approach to simulating real-world scenarios. The `create_particle_strategy` function serves as a factory that abstracts the instantiation of different particle strategy classes, enabling dynamic strategy selection based on the type of particle representation required.\n",
    "\n",
    "### Key Features:\n",
    "\n",
    "- **Flexible Strategy Selection**: By providing a string identifier (`mass_based`, `number_based`, `speciated_mass`), users can easily switch between different computational strategies for particle properties without altering the core logic of their simulation.\n",
    "- **Simplification of Complex Decisions**: The factory hides the complexity of strategy object creation, making the main application code cleaner and more maintainable.\n",
    "- **Extendibility**: New particle strategies can be added to the factory with minimal changes to the existing codebase, adhering to the open/closed principle.\n",
    "\n",
    "This factory function is instrumental in enabling a modular and scalable approach to particle system modeling, catering to a wide range of scientific and engineering applications.\n"
   ]
  },
  {
   "cell_type": "code",
   "execution_count": 2,
   "metadata": {},
   "outputs": [
    {
     "name": "stdout",
     "output_type": "stream",
     "text": [
      "Particle Masses: [1.e-09 2.e-09 3.e-09]\n",
      "Particle Radii: [6.20350491e-05 7.81592642e-05 8.94700229e-05]\n",
      "Total Particle Mass: 1.4000000000000001e-05\n"
     ]
    }
   ],
   "source": [
    "# Example: Creating a mass-based particle strategy\n",
    "mass_based_strategy = create_particle_strategy(\"mass_based\")\n",
    "\n",
    "# Now, initialize a Particle instance using the mass-based strategy\n",
    "# Example particle sizes in meters\n",
    "particle_distribution = np.array([1e-9, 2e-9, 3e-9], dtype=np.float64)\n",
    "particle_density = np.float64(1000)  # Example density in kg/m^3\n",
    "particle_concentration = np.array(\n",
    "    [1000, 2000, 3000], dtype=np.float64)  # Example concentrations\n",
    "\n",
    "particle = Particle(\n",
    "    strategy=mass_based_strategy,\n",
    "    distribution=particle_distribution,\n",
    "    density=particle_density,\n",
    "    concentration=particle_concentration\n",
    ")\n",
    "\n",
    "# Demonstrate the usage of the Particle instance\n",
    "print(f\"Particle Masses: {particle.get_mass()}\")\n",
    "print(f\"Particle Radii: {particle.get_radius()}\")\n",
    "print(f\"Total Particle Mass: {particle.get_total_mass()}\")"
   ]
  },
  {
   "cell_type": "markdown",
   "metadata": {},
   "source": [
    "## Interface for Particle Distributions\n",
    "\n",
    "Modeling particles in aerosol science requires accommodating a diverse range of particle representations, from mass-based to number-based distributions, among others. The `Particle` class, in conjunction with the Strategy pattern, provides a powerful and flexible framework to abstract these differences behind a consistent interface. This approach enables seamless integration of various particle representations into aerosol models without altering the consuming code's logic.\n",
    "\n",
    "### Advantages of Strategy-Powered Particle Class\n",
    "\n",
    "- **Flexibility**: By decoupling the particle properties computations from the representation, the `Particle` class can adapt to various particle models simply by switching strategies.\n",
    "- **Maintainability**: With the computational details encapsulated in strategy objects, updating or adding new particle representations becomes straightforward, enhancing the system's maintainability.\n",
    "- **Scalability**: The Strategy pattern allows for the easy introduction of new particle behaviors and properties, accommodating future scientific discoveries or modeling requirements without disrupting existing implementations.\n",
    "\n",
    "### Implementation Highlights\n",
    "\n",
    "The `Particle` class achieves this by delegating the computation of mass, radius, and total mass to the strategy object it holds. This object implements the `ParticleStrategy` interface, ensuring that any strategy adheres to a consistent method signature, regardless of the underlying particle representation.\n",
    "\n",
    "### Example: Interfacing Particle Distributions\n",
    "\n",
    "Following the theoretical groundwork, we illustrate the practical application of these concepts:\n"
   ]
  },
  {
   "cell_type": "code",
   "execution_count": 3,
   "metadata": {},
   "outputs": [
    {
     "name": "stdout",
     "output_type": "stream",
     "text": [
      "Mass-Based Particle Total Mass: 140000.0\n",
      "Number-Based Particle Total Mass: 42097341.558103226\n"
     ]
    }
   ],
   "source": [
    "# Instantiate a Particle with a Mass-Based Strategy\n",
    "mass_based_particle = Particle(\n",
    "    strategy=mass_based_strategy,\n",
    "    # Example mass distribution\n",
    "    distribution=np.array([10, 20, 30], dtype=np.float64),\n",
    "    density=np.float64(2.5),\n",
    "    concentration=np.array([1000, 2000, 3000], dtype=np.float64)\n",
    ")\n",
    "\n",
    "# Instantiate a Particle with a Number-Based Strategy\n",
    "radii_based_strategy = create_particle_strategy(\"radii_based\")\n",
    "radii_based_particle = Particle(\n",
    "    strategy=radii_based_strategy,\n",
    "    # Example size distribution\n",
    "    distribution=np.array([10, 20, 30], dtype=np.float64),\n",
    "    density=np.float64(1.5),\n",
    "    concentration=np.array([500, 100, 200], dtype=np.float64)\n",
    ")\n",
    "\n",
    "# Demonstrating how Particle class methods provide a consistent interface\n",
    "print(\"Mass-Based Particle Total Mass:\", mass_based_particle.get_total_mass())\n",
    "print(\"Number-Based Particle Total Mass:\",\n",
    "      radii_based_particle.get_total_mass())"
   ]
  },
  {
   "cell_type": "markdown",
   "metadata": {},
   "source": [
    "\n",
    "## Conclusion\n",
    "\n",
    "The key takeaway, is that this `Particle` interface allows for a consistent way to interact with different particle representations, while the strategy pattern allows for the encapsulation of the computational details of each representation. This combination provides a powerful and flexible framework for modeling particles in aerosol science and engineering, enabling the seamless integration of various particle representations into aerosol models without altering the consuming code's logic.\n",
    "\n",
    "The low coupling between the `Particle` class and the `ParticleStrategy` interface provides a clear separation of concerns, allowing for independent evolution of particle representations and computational strategies.\n",
    "\n",
    "## Future Work\n",
    "\n",
    "New strategies can be added, like a super-droplet representation, or single-particle representation. The `Particle` class can be extended to include additional properties and methods, such as particle charge, temperature, and velocity, further enhancing its utility in aerosol science and engineering. Additionally, the `ParticleStrategy` interface can be expanded to include more methods for advanced particle property computations, broadening its scope and applicability."
   ]
  }
 ],
 "metadata": {
  "kernelspec": {
   "display_name": "ParticulaDev_py311",
   "language": "python",
   "name": "python3"
  },
  "language_info": {
   "codemirror_mode": {
    "name": "ipython",
    "version": 3
   },
   "file_extension": ".py",
   "mimetype": "text/x-python",
   "name": "python",
   "nbconvert_exporter": "python",
   "pygments_lexer": "ipython3",
   "version": "3.11.8"
  }
 },
 "nbformat": 4,
 "nbformat_minor": 2
}
