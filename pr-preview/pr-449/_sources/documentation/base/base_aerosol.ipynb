{
 "cells": [
  {
   "cell_type": "markdown",
   "metadata": {},
   "source": [
    "# Aerosol\n",
    "\n",
    "Aerosols are complex systems comprising both gaseous components and particulate matter. To accurately model such systems, we introduce the `Aerosol` class, which serves as a facade for seamlessly interacting with both `Gas` and `Particle` objects. This class not only encapsulates the complexity of aerosol systems but also dynamically integrates the behaviors and properties of its gas and particle constituents.\n",
    "\n",
    "### Facade Pattern of Aerosol Systems\n",
    "\n",
    "The `Aerosol` class employs the [Facade Pattern](https://en.wikipedia.org/wiki/Facade_pattern) to provide a simplified interface to the more complex subsystems of gases and particles. This design choice offers several benefits:\n",
    "\n",
    "- **Simplified Interaction**: By abstracting the details of gas and particle interactions, the `Aerosol` class allows users to work with a simplified model of the aerosol system.\n",
    "- **Dynamic Property and Method Attachment**: The class dynamically attaches the methods and properties of both `Gas` and `Particle` objects, ensuring that all relevant functionalities are directly accessible. (so maybe not a true facade pattern)\n",
    "- **Enhanced Flexibility**: Replacing gas or particle components within an aerosol system is straightforward, enabling dynamic adjustments to the model as needed.\n",
    "\n",
    "### Implementation Overview\n",
    "\n",
    "The `Aerosol` class initializes with instances of `Gas` and `Particle`, attaching their methods and properties dynamically. This approach allows for a consistent and intuitive interface for interacting with aerosol systems, regardless of the complexity or variability of the constituent gases and particles.\n"
   ]
  },
  {
   "cell_type": "code",
   "execution_count": 4,
   "metadata": {},
   "outputs": [
    {
     "name": "stdout",
     "output_type": "stream",
     "text": [
      "Gas mass: [32. 18.]\n",
      "Particle mass: 4.105014400690663e-19\n"
     ]
    }
   ],
   "source": [
    "import numpy as np\n",
    "from particula.base.gas import GasSpecies, Gas\n",
    "from particula.base.particle import Particle, create_particle_strategy\n",
    "from particula.base.aerosol import Aerosol\n",
    "\n",
    "# Create a Gas instance\n",
    "air = Gas()\n",
    "air.add_species(\n",
    "    name=\"Oxygen\",\n",
    "    mass=32,\n",
    "    vapor_pressure=0.21,\n",
    "    condensable=False)\n",
    "air.add_species(\n",
    "    name=\"Water Vapor\",\n",
    "    mass=18,\n",
    "    vapor_pressure=2.3,\n",
    "    condensable=True)\n",
    "\n",
    "# Example particle sizes in meters\n",
    "particle_distribution = np.array([1e-9, 2e-9, 3e-9], dtype=np.float64)\n",
    "particle_density = np.float64(1000)  # Example density in kg/m^3\n",
    "particle_concentration = np.array(\n",
    "    [1000, 2000, 3000], dtype=np.float64)  # Example concentrations\n",
    "\n",
    "particle = Particle(\n",
    "    strategy=create_particle_strategy(\"radii_based\"),\n",
    "    distribution=particle_distribution,\n",
    "    density=particle_density,\n",
    "    concentration=particle_concentration\n",
    ")\n",
    "\n",
    "# Create an Aerosol instance\n",
    "aerosol = Aerosol(gas=air, particle=particle)\n",
    "\n",
    "# Accessing dynamically attached methods and properties\n",
    "# Example method call, assuming such a method exists\n",
    "print(f\"Gas mass: {aerosol.gas_get_mass()}\")\n",
    "print(f\"Particle mass: {aerosol.particle_get_total_mass()}\")"
   ]
  },
  {
   "cell_type": "markdown",
   "metadata": {},
   "source": [
    "## Conclusion\n",
    "\n",
    "This section of your Jupyter notebook clarifies the role and functionality of the `Aerosol` class within aerosol modeling frameworks. By demonstrating how gases and particles are combined into a coherent model, you underscore the practical advantages of employing design patterns to abstract complexity and facilitate user interaction with aerosol systems. Through this approach, the notebook not only educates on the theoretical underpinnings of the `Aerosol` class but also provides actionable insights through examples, empowering users to effectively model and analyze aerosol systems in their work.\n",
    "\n",
    "This `Aerosol` collection or interface may change in the future, as we figure out this interacts with the aerosol simulation, but for now, this is a good start."
   ]
  },
  {
   "cell_type": "code",
   "execution_count": 5,
   "metadata": {},
   "outputs": [
    {
     "name": "stdout",
     "output_type": "stream",
     "text": [
      "Help on class Aerosol in module particula.base.aerosol:\n",
      "\n",
      "class Aerosol(builtins.object)\n",
      " |  Aerosol(gas: particula.base.gas.Gas, particle: particula.base.particle.Particle)\n",
      " |  \n",
      " |  A class that acts as a facade for interacting with a single Gas and a\n",
      " |  single Particle object. It dynamically attaches methods and properties of\n",
      " |  Gas and Particle objects to itself.\n",
      " |  \n",
      " |  Methods defined here:\n",
      " |  \n",
      " |  __init__(self, gas: particula.base.gas.Gas, particle: particula.base.particle.Particle)\n",
      " |      Initializes an Aerosol instance with a single Gas and Particle.\n",
      " |      Dynamically attaches methods and properties of these objects to the\n",
      " |      Aerosol instance.\n",
      " |      \n",
      " |      Parameters:\n",
      " |      - gas (Gas): A single Gas instance.\n",
      " |      - particle (Particle): A single Particle instance.\n",
      " |  \n",
      " |  attach_methods_and_properties(self, obj_to_attach: Union[particula.base.gas.Gas, particula.base.particle.Particle], prefix: str)\n",
      " |      Dynamically attaches methods and properties from the given object to\n",
      " |      the Aerosol instance, prefixing them to distinguish between Gas and\n",
      " |      Particle attributes.\n",
      " |      \n",
      " |      Parameters:\n",
      " |      - obj: The object whose methods and properties are to be attached.\n",
      " |      - prefix (str): The prefix to apply to the attached attributes.\n",
      " |  \n",
      " |  replace_gas(self, gas: particula.base.gas.Gas)\n",
      " |      Replaces the current Gas instance with a new one and dynamically\n",
      " |      attaches its methods and properties.\n",
      " |      \n",
      " |      Parameters:\n",
      " |      - gas (Gas): A new Gas instance to replace the current one.\n",
      " |  \n",
      " |  replace_particle(self, particle: particula.base.particle.Particle)\n",
      " |      Replaces the current Particle instance with a new one and dynamically\n",
      " |      attaches its methods and properties.\n",
      " |      \n",
      " |      Parameters:\n",
      " |      - particle (Particle): A new Particle instance to replace the current\n",
      " |      one.\n",
      " |  \n",
      " |  ----------------------------------------------------------------------\n",
      " |  Data descriptors defined here:\n",
      " |  \n",
      " |  __dict__\n",
      " |      dictionary for instance variables\n",
      " |  \n",
      " |  __weakref__\n",
      " |      list of weak references to the object\n",
      "\n"
     ]
    }
   ],
   "source": [
    "help(Aerosol)"
   ]
  }
 ],
 "metadata": {
  "kernelspec": {
   "display_name": "ParticulaDev_py311",
   "language": "python",
   "name": "python3"
  },
  "language_info": {
   "codemirror_mode": {
    "name": "ipython",
    "version": 3
   },
   "file_extension": ".py",
   "mimetype": "text/x-python",
   "name": "python",
   "nbconvert_exporter": "python",
   "pygments_lexer": "ipython3",
   "version": "3.11.8"
  }
 },
 "nbformat": 4,
 "nbformat_minor": 2
}
