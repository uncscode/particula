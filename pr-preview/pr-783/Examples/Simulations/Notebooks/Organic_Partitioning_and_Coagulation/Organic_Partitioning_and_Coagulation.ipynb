{
 "cells": [
  {
   "cell_type": "markdown",
   "id": "b422f4c5-8efa-4db7-82b7-1c5f9bbfeedd",
   "metadata": {},
   "source": [
    " # Organic Partitioning & Coagulation Simulation\n",
    "\n",
    " This notebook demonstrates how to form secondary organic aerosol (SOA)\n",
    " from a mixture of gas-phase organics and to follow its evolution by\n",
    " Brownian coagulation.\n",
    "\n",
    " We will use a moving bin representation of particles, with vapor-liquid partitioning of organic vapours.\n",
    "\n",
    " **Road-map**\n",
    " 1. Define physicochemical inputs\n",
    " 2. Build gas species and the atmosphere\n",
    " 3. Create seed particles and a particle representation\n",
    " 4. Assemble an `Aerosol` object\n",
    " 5. Run isothermal condensation (20 s)\n",
    " 6. Add Brownian coagulation and continue for 10 min\n",
    " 7. Visualise & discuss results\n",
    " \n",
    "\n",
    " > **Concept – Secondary Organic Aerosol (SOA):** particles that originate when low-volatility organic vapours condense onto pre-existing seeds.\n",
    " \n",
    " > **Concept – Partitioning:** the reversible transfer of a compound between the gas phase and the particle phase until thermodynamic equilibrium is reached.\n",
    " \n",
    " > **Concept – Brownian Coagulation:** random collisions driven by thermal motion that merge individual particles into larger ones, reducing number concentration while conserving mass."
   ]
  },
  {
   "cell_type": "markdown",
   "metadata": {},
   "source": [
    "<details> <summary>▶️ Install Particula</summary>\n",
    "try:\n",
    "    import google.colab\n",
    "except ImportError:\n",
    "    # not Colab → do nothing\n",
    "    pass\n",
    "else:\n",
    "    # in Colab → install quietly\n",
    "    get_ipython().system(\"pip install particula[extra] --quiet\")\n",
    "</details>"
   ]
  },
  {
   "cell_type": "code",
   "execution_count": 17,
   "id": "2925021f-0225-4a29-b473-ad0a63520c21",
   "metadata": {},
   "outputs": [],
   "source": [
    "\n",
    "import numpy as np\n",
    "from tqdm import tqdm\n",
    "import copy\n",
    "import matplotlib.pyplot as plt\n",
    "import particula as par\n",
    "\n",
    "# move to particle properties and update to API style.\n",
    "from particula.activity.species_density import organic_array\n",
    "\n",
    "# plot settings\n",
    "TAILWIND = par.util.colors.TAILWIND\n",
    "base_color = TAILWIND[\"gray\"][\"600\"]\n",
    "plt.rcParams.update(\n",
    "    {\n",
    "        \"text.color\": base_color,\n",
    "        \"axes.labelcolor\": base_color,\n",
    "        \"figure.figsize\": (5, 4),\n",
    "        \"font.size\": 14,\n",
    "        \"axes.edgecolor\": base_color,\n",
    "        \"axes.labelcolor\": base_color,\n",
    "        \"xtick.color\": base_color,\n",
    "        \"ytick.color\": base_color,\n",
    "        \"pdf.fonttype\": 42,\n",
    "        \"ps.fonttype\": 42,\n",
    "    }\n",
    ")"
   ]
  },
  {
   "cell_type": "markdown",
   "id": "3e1d4a83-b470-40fa-9599-512e18277d6a",
   "metadata": {},
   "source": [
    " ## Physicochemical inputs\n",
    " \n",
    " Molecular weight, O:C & H:C ratios, saturation concentrations and\n",
    " total gas-phase concentrations gathered from the literature.\n",
    " \n",
    " >\n",
    " > **O:C ratio (oxygen-to-carbon):** proxy for oxidation state – a\n",
    " > higher ratio usually implies higher polarity and lower volatility.\n",
    " >\n",
    " > **c_sat:** saturation concentration (often noted *C\\**); at this\n",
    " > concentration the compound is in equilibrium between gas and\n",
    " > particle phases.\n",
    " >\n",
    " > All concentrations are specified in µg m⁻³ to mimic experimental\n",
    " > data and are converted to SI units by the builders."
   ]
  },
  {
   "cell_type": "code",
   "execution_count": 18,
   "id": "eca4d8e8-67dd-45e7-8c1b-d214f164a7b5",
   "metadata": {},
   "outputs": [],
   "source": [
    "M_gmol = np.array(\n",
    "    [200.0, 188.0, 216.0, 368.0, 186.0, 204.0, 195.0, 368.0, 158.0, 206.0]\n",
    ")\n",
    "\n",
    "OC_ratio = np.array(\n",
    "    [0.40, 0.444, 0.50, 0.368, 0.444, 0.556, 0.857, 0.368, 0.375, 0.75]\n",
    ")\n",
    "\n",
    "HC_ratio = np.array(\n",
    "    [1.60, 1.78, 1.60, 1.47, 1.56, 1.78, 1.75, 1.56, 1.75, 1.75]\n",
    ")\n",
    "\n",
    "\n",
    "density_organics_g_cm3 = organic_array(\n",
    "    molar_mass=M_gmol,\n",
    "    oxygen2carbon=OC_ratio,\n",
    "    hydrogen2carbon=HC_ratio,\n",
    ")  # g/cm^3\n",
    "\n",
    "c_total_ug_per_m3 = (\n",
    "    np.array([8.79, 3.98, 1.13, 4.07, 0.628, 0.919, 0.766, 1.02, 0.399, 0.313])\n",
    "    * 10000\n",
    ")\n",
    "\n",
    "name = np.array(\n",
    "    [\n",
    "        \"C107OOH\",\n",
    "        \"C97OOH\",\n",
    "        \"C108OOH\",\n",
    "        \"ALDOL_dimer_C19H28O7\",\n",
    "        \"PINIC\",\n",
    "        \"C921OOH\",\n",
    "        \"C812OOH\",\n",
    "        \"ESTER_dimer\",\n",
    "        \"C811OH\",\n",
    "        \"C813OOH\",\n",
    "    ]\n",
    ")\n",
    "\n",
    "c_sat_ug_per_m3 = np.array(\n",
    "    [\n",
    "        8620.171693,\n",
    "        522.7659518,\n",
    "        231.757194,\n",
    "        2.27e-06,\n",
    "        24.13243017,\n",
    "        3.131375563,\n",
    "        1.107025816,\n",
    "        2.97e-06,\n",
    "        2197.484083,\n",
    "        0.04398829,\n",
    "    ]\n",
    ")\n",
    "\n",
    "# sulfate properties\n",
    "sulfate_density = 1.77 * 1000  # kg/m^3\n",
    "sulfate_molar_mass = 96.06  # g/mol\n",
    "\n",
    "temperature_K = 298.15"
   ]
  },
  {
   "cell_type": "markdown",
   "id": "5d2afa65-a981-401f-8bbf-2fc2d342750c",
   "metadata": {},
   "source": [
    " ## Build gas-phase species\n",
    " Each species receives a vapour-pressure *strategy* so that the code\n",
    " can evaluate temperature-dependent properties on the fly.\n",
    " Note: the saturation-concentration builder is a convenient wrapper\n",
    " converting **μg m⁻³ → Pa**.\n",
    " \n",
    " \n",
    " > **Strategy pattern:** every species owns a *strategy* object that\n",
    " > knows how to compute its pure vapour pressure – we can switch\n",
    " > correlations without touching core logic.\n",
    " >\n",
    " > `SaturationConcentrationVaporPressureBuilder` back-calculates\n",
    " > vapour pressure from the published saturation concentration *C\\**."
   ]
  },
  {
   "cell_type": "code",
   "execution_count": 19,
   "id": "b1ef3dfd-3ca7-4ffc-8abc-98a94fbb1de2",
   "metadata": {},
   "outputs": [],
   "source": [
    "# vapor pressures\n",
    "vapor_pressure_strategies = []\n",
    "for i in range(len(name)):\n",
    "    vapor_pressure_organic = (\n",
    "        par.gas.SaturationConcentrationVaporPressureBuilder()\n",
    "        .set_molar_mass(M_gmol[i], \"g/mol\")\n",
    "        .set_temperature(temperature_K, \"K\")\n",
    "        .set_saturation_concentration(c_sat_ug_per_m3[i], \"ug/m^3\")\n",
    "        .build()\n",
    "    )\n",
    "    vapor_pressure_strategies.append(vapor_pressure_organic)\n",
    "\n",
    "organics_gases = (\n",
    "    par.gas.GasSpeciesBuilder()\n",
    "    .set_name(name)\n",
    "    .set_molar_mass(M_gmol, \"g/mol\")\n",
    "    .set_vapor_pressure_strategy(vapor_pressure_strategies)\n",
    "    .set_concentration(c_total_ug_per_m3, \"ug/m^3\")\n",
    "    .set_partitioning(True)\n",
    "    .build()\n",
    ")"
   ]
  },
  {
   "cell_type": "markdown",
   "id": "4bf3180b-f8a0-4fc2-9c2d-53de947addcb",
   "metadata": {},
   "source": [
    " ## Compose the atmosphere\n",
    "\n",
    " Combine temperature, pressure and the list of partitioning species\n",
    " into a single `Atmosphere` container.\n",
    "\n",
    "\n",
    " > **Atmosphere object:** central thermodynamic context (temperature &\n",
    " > pressure).  All processes query these values rather than carrying\n",
    " > their own copies.\n",
    " sulfate vapor pressure"
   ]
  },
  {
   "cell_type": "code",
   "execution_count": 20,
   "id": "1f747051-8967-4c69-b7b3-da9e1e89ded1",
   "metadata": {},
   "outputs": [],
   "source": [
    "sulfate_vapor_pressure = (\n",
    "    par.gas.ConstantVaporPressureBuilder()\n",
    "    .set_vapor_pressure(1e-30, \"Pa\")\n",
    "    .build()\n",
    ")\n",
    "sulfate_gas = (\n",
    "    par.gas.GasSpeciesBuilder()\n",
    "    .set_name(\"Sulfate\")\n",
    "    .set_molar_mass(96.06, \"g/mol\")\n",
    "    .set_vapor_pressure_strategy(sulfate_vapor_pressure)\n",
    "    .set_concentration(0, \"ug/m^3\")\n",
    "    .set_partitioning(True)\n",
    "    .build()\n",
    ")\n",
    "\n",
    "# create atmosphere\n",
    "atmosphere = (\n",
    "    par.gas.AtmosphereBuilder()\n",
    "    .set_temperature(temperature_K, \"K\")\n",
    "    .set_pressure(1.0, \"atm\")\n",
    "    .set_more_partitioning_species(sulfate_gas)\n",
    "    .set_more_partitioning_species(organics_gases)\n",
    "    .build()\n",
    ")"
   ]
  },
  {
   "cell_type": "markdown",
   "id": "a280b4e1-86ac-4371-8b17-bb39c0a9d923",
   "metadata": {},
   "source": [
    "## Seed particles\n",
    "\n",
    " Generate a log-normal size distribution of sulfate seeds and assign\n",
    " species-resolved mass bins.\n",
    " Tip: for speed you may reduce the radius grid – 250 points is rather\n",
    " fine for demonstration purposes.\n",
    "\n",
    " > **Log-normal distribution:** widely observed for atmospheric\n",
    " > aerosols; characterised by a modal radius and geometric standard\n",
    " > deviation (GSD).\n",
    " >\n",
    " > We convert the number distribution to a probability-mass function\n",
    " > (PMF) so the integral equals the desired particle count."
   ]
  },
  {
   "cell_type": "code",
   "execution_count": null,
   "id": "6d69627b-94d0-449a-8a06-d499ac7b1f7e",
   "metadata": {},
   "outputs": [],
   "source": [
    "total_number_concentration = np.array([1e13])  # /m-3\n",
    "particle_radius = np.logspace(-7.5, -6.3, 250)  # m\n",
    "\n",
    "# create sulfate seeds\n",
    "number_concentration = par.particles.get_lognormal_pmf_distribution(\n",
    "    x_values=particle_radius,\n",
    "    mode=np.array([100e-9]),\n",
    "    geometric_standard_deviation=np.array([1.4]),\n",
    "    number_of_particles=total_number_concentration,\n",
    ")\n",
    "\n",
    "# calculate mass in each bin\n",
    "sulfate_volume_distribution = 4.0 / 3.0 * np.pi * particle_radius**3\n",
    "sulfate_mass_distribution = sulfate_volume_distribution * sulfate_density\n",
    "\n",
    "organic_mass_distribution = np.zeros(\n",
    "    (len(sulfate_mass_distribution), len(M_gmol)), dtype=float\n",
    ") \n",
    "\n",
    "mass_distribution = np.concatenate(\n",
    "    (sulfate_mass_distribution[:, np.newaxis], organic_mass_distribution),\n",
    "    axis=1,\n",
    ")\n",
    "\n",
    "particle_molar_mass = np.append(sulfate_molar_mass, M_gmol)\n",
    "particle_densities = np.append(\n",
    "    sulfate_density, density_organics_g_cm3 * 1000\n",
    ")  # kg/m^3\n",
    "activity_strategies = (\n",
    "    par.particles.ActivityIdealMolarBuilder()\n",
    "    .set_molar_mass(particle_molar_mass, \"g/mol\")\n",
    "    .build()\n",
    ")\n",
    "\n",
    "# the surface tension and activity may have a bug in it causing it to be more evaporative\n",
    "# than it should be, so we set it to a very low value, and are investigating it.\n",
    "surface_tension = np.append(0.09, np.ones(len(M_gmol)) * 0.0003)  # N/m\n",
    "surface_strategy = (\n",
    "    par.particles.SurfaceStrategyVolumeBuilder()\n",
    "    .set_surface_tension(surface_tension, \"N/m\")\n",
    "    .set_density(particle_densities, \"kg/m^3\")\n",
    "    .set_phase_index(np.append(0, np.ones(len(M_gmol))))\n",
    "    .build()\n",
    ")"
   ]
  },
  {
   "cell_type": "markdown",
   "id": "cc7f4b46-bc3e-4b19-ba04-1c303d5d1a77",
   "metadata": {},
   "source": [
    "## Particle representation\n",
    "\n",
    " Attach activity, surface and distribution strategies.  Using\n",
    " `SpeciatedMassMovingBin` lets the bin boundaries adapt when mass is\n",
    " added.\n",
    "\n",
    "**SpeciatedMassMovingBin:** bin boundaries adapt when mass is added\n",
    "– avoids artificial dilution present in fixed-grid schemes.\n",
    "\n",
    "**Activity & surface strategies:** thermodynamics (ideal,\n",
    "etc.) and surface tension models are swappable components, keeping\n",
    "the main algorithm clean."
   ]
  },
  {
   "cell_type": "code",
   "execution_count": 22,
   "id": "0f55a95d-d076-413c-96a4-fade09ab713c",
   "metadata": {},
   "outputs": [],
   "source": [
    "particle_representation = (\n",
    "    par.particles.ParticleMassRepresentationBuilder()\n",
    "    .set_distribution_strategy(par.particles.SpeciatedMassMovingBin())\n",
    "    .set_activity_strategy(activity_strategies)\n",
    "    .set_mass(mass_distribution, \"kg\")\n",
    "    .set_concentration(number_concentration, \"1/m^3\")\n",
    "    .set_charge(0)\n",
    "    .set_density(particle_densities, \"kg/m^3\")\n",
    "    .set_surface_strategy(surface_strategy)\n",
    "    .build()\n",
    ")\n"
   ]
  },
  {
   "cell_type": "markdown",
   "id": "f0ce5dbb-7f06-4c7d-9ce4-4f5914408e14",
   "metadata": {},
   "source": [
    "## Assemble aerosol\n",
    "\n",
    " Wrap atmosphere + particles into a single high-level object that the\n",
    " dynamical processes will modify in place.\n",
    "\n",
    "**Big picture:** `Aerosol` = `Atmosphere` + `ParticleRepresentation`.\n",
    "Every subsequent *Runnable* process expects a single aerosol object\n",
    "and modifies it in place."
   ]
  },
  {
   "cell_type": "code",
   "execution_count": 23,
   "metadata": {},
   "outputs": [
    {
     "name": "stdout",
     "output_type": "stream",
     "text": [
      "Gas mixture at 298.15 K, 101325.0 Pa, partitioning=['Sulfate' 'C107OOH' 'C97OOH' 'C108OOH' 'ALDOL_dimer_C19H28O7' 'PINIC'\n",
      " 'C921OOH' 'C812OOH' 'ESTER_dimer' 'C811OH' 'C813OOH'], gas_only_species=None\n",
      "Particle Representation:\n",
      "\tStrategy: SpeciatedMassMovingBin\n",
      "\tActivity: ActivityIdealMolar\n",
      "\tSurface: SurfaceStrategyVolume\n",
      "\tMass Concentration: 1.234e-04 [kg/m^3]\n",
      "\tNumber Concentration: 1.000e+13 [#/m^3]\n"
     ]
    }
   ],
   "source": [
    "# Build aerosol\n",
    "aerosol = (\n",
    "    par.AerosolBuilder()\n",
    "    .set_atmosphere(atmosphere)\n",
    "    .set_particles(particle_representation)\n",
    "    .build()\n",
    ")\n",
    "\n",
    "print(aerosol)"
   ]
  },
  {
   "cell_type": "markdown",
   "metadata": {},
   "source": [
    " ## Condensation process\n",
    "\n",
    " We use an isothermal Fuchs–Sutugin formulation.\n",
    " `skip_partitioning_indices=[0]` excludes sulfate from condensation.\n",
    "\n",
    " > **Performance hint** – the number of sub-steps controls accuracy.\n",
    " >\n",
    " > `update_gases=True` removes vapours from the gas pool as they\n",
    " > condense, enforcing mass conservation.\n",
    " >\n",
    " > The `RunnableSequence` uses the `|` pipe operator for a fluent\n",
    " > interface"
   ]
  },
  {
   "cell_type": "code",
   "execution_count": 24,
   "id": "47fc6123-d1a3-4653-ba02-442b56481403",
   "metadata": {},
   "outputs": [],
   "source": [
    "# Condensation Coagulation process setup\n",
    "condensation_strategy = par.dynamics.CondensationIsothermal(\n",
    "    molar_mass=particle_molar_mass,\n",
    "    diffusion_coefficient=2e-5,\n",
    "    accommodation_coefficient=1,\n",
    "    update_gases=True,\n",
    "    skip_partitioning_indices=[0],  # no partitioning for sulfate\n",
    ")\n",
    "condensation_process = par.dynamics.MassCondensation(condensation_strategy)\n",
    "\n",
    "sequence_condensation = par.RunnableSequence() | condensation_process\n",
    "\n",
    "# Copy aerosol and define time bins\n",
    "aerosol_initial = copy.deepcopy(aerosol)\n",
    "aerosol_soa = copy.deepcopy(aerosol)"
   ]
  },
  {
   "cell_type": "markdown",
   "id": "b6c3ca16-e5ff-4c86-ab1c-d6ddef037d13",
   "metadata": {},
   "source": [
    " ### Single 20 s condensation pulse\n",
    " \n",
    " Useful for inspecting how much SOA forms before coagulation starts.\n",
    " \n",
    " > We pick a very small internal sub-step\n",
    " > (`Δt_sub = 20 s / 100 000 ≈ 2×10⁻⁴ s`) to capture the rapid initial\n",
    " > uptake of vapours onto nano-particles.\n",
    " 10 sec simulation"
   ]
  },
  {
   "cell_type": "code",
   "execution_count": 25,
   "id": "53d1f9ff-11c0-4b5f-9906-db9387eb7e9e",
   "metadata": {},
   "outputs": [
    {
     "name": "stderr",
     "output_type": "stream",
     "text": [
      "Executing Runnable: 100%|██████████| 100000/100000 [03:08<00:00, 530.42it/s]\n"
     ]
    },
    {
     "name": "stdout",
     "output_type": "stream",
     "text": [
      "Gas mixture at 298.15 K, 101325.0 Pa, partitioning=['Sulfate' 'C107OOH' 'C97OOH' 'C108OOH' 'ALDOL_dimer_C19H28O7' 'PINIC'\n",
      " 'C921OOH' 'C812OOH' 'ESTER_dimer' 'C811OH' 'C813OOH'], gas_only_species=None\n",
      "Particle Representation:\n",
      "\tStrategy: SpeciatedMassMovingBin\n",
      "\tActivity: ActivityIdealMolar\n",
      "\tSurface: SurfaceStrategyVolume\n",
      "\tMass Concentration: 2.749e-04 [kg/m^3]\n",
      "\tNumber Concentration: 1.000e+13 [#/m^3]\n"
     ]
    },
    {
     "data": {
      "image/png": "[encoded data removed]",
      "text/plain": [
       "<Figure size 700x500 with 1 Axes>"
      ]
     },
     "metadata": {},
     "output_type": "display_data"
    }
   ],
   "source": [
    "aerosol_soa = sequence_condensation.execute(\n",
    "    aerosol=aerosol_soa,\n",
    "    time_step=20,\n",
    "    sub_steps=100_000,\n",
    ")\n",
    "\n",
    "print(aerosol_soa)\n",
    "\n",
    "fig, ax = plt.subplots(figsize=(7, 5))\n",
    "ax.plot(\n",
    "    aerosol_initial.particles.get_radius(),\n",
    "    aerosol_initial.particles.get_concentration(),\n",
    "    label=\"Initial Seeds\",\n",
    ")\n",
    "ax.plot(\n",
    "    aerosol_soa.particles.get_radius(),\n",
    "    aerosol_soa.particles.get_concentration(),\n",
    "    label=\"Seeds+SOA\",\n",
    ")\n",
    "ax.legend(loc=\"upper left\")\n",
    "ax.set_xscale(\"log\")\n",
    "ax.set_xlim(left=1e-8, right=1e-6)\n",
    "ax.grid(alpha=0.25)\n",
    "fig.tight_layout()"
   ]
  },
  {
   "cell_type": "markdown",
   "id": "e997279d-55ac-4f33-aa43-dbdb1f4e4ec4",
   "metadata": {},
   "source": [
    " ## Coagulation process\n",
    "\n",
    " Builder selects a discrete Brownian kernel.  Other kernels are\n",
    " available and can be swapped by changing the builder called.\n",
    "\n",
    " > **Brownian kernel:** collision frequency determined solely by random\n",
    " > thermal motion; other kernels \n",
    " > can be swapped by changing a single builder call."
   ]
  },
  {
   "cell_type": "code",
   "execution_count": 26,
   "id": "6e254436-955c-4a72-a472-201f7c464d98",
   "metadata": {},
   "outputs": [],
   "source": [
    "# coagulation process setup\n",
    "coagulation_strategy = (\n",
    "    par.dynamics.BrownianCoagulationBuilder()\n",
    "    .set_distribution_type(\"discrete\")\n",
    "    .build()\n",
    ")\n",
    "coagulation_process = par.dynamics.Coagulation(coagulation_strategy)"
   ]
  },
  {
   "cell_type": "markdown",
   "id": "933654b4-5dec-4473-bad5-85746041fe1b",
   "metadata": {},
   "source": [
    " ## Combined simulation (10 min)\n",
    "\n",
    " We alternate long, finely-resolved condensation steps with coarse\n",
    " coagulation steps.\n",
    " Rule of thumb: `time_step / sub_steps ≈ 0.01 s` keeps condensation\n",
    " stable while minimising overhead.\n",
    "\n",
    "Experiment: toggle condensation on to see if coagulation+condensation changes the particle size distribution.\n",
    " \n",
    " \n",
    " > We loop over 60 outer steps of 10 s each to reach 10 min.  Inside\n",
    " > every step we *could* run condensation with many sub-steps while\n",
    " > keeping coagulation coarse – a trade-off between accuracy and\n",
    " > speed.\n",
    "."
   ]
  },
  {
   "cell_type": "code",
   "execution_count": 27,
   "id": "374ef31d-fab9-461b-81f2-61d682deae41",
   "metadata": {},
   "outputs": [
    {
     "name": "stderr",
     "output_type": "stream",
     "text": [
      "Running Sim: 100%|██████████| 60/60 [00:02<00:00, 25.65it/s]\n"
     ]
    }
   ],
   "source": [
    "# %% staggered time stepping\n",
    "\n",
    "aerosol_process = copy.deepcopy(aerosol_soa)\n",
    "\n",
    "total_time = 600  # seconds\n",
    "total_steps = 60\n",
    "\n",
    "coagulation_sub_step = 1\n",
    "condensation_sub_step = 50_000\n",
    "\n",
    "time_step = total_time / total_steps\n",
    "\n",
    "for step in tqdm(range(total_steps), desc=\"Running Sim\", mininterval=0.5):\n",
    "\n",
    "    # execute condensation process, this is the slowest computationally\n",
    "    # feel free to comment this out to see the effect of coagulation only\n",
    "    # aerosol_process = condensation_process.execute(\n",
    "    #     aerosol=aerosol_process,\n",
    "    #     time_step=time_step,\n",
    "    #     sub_steps=condensation_sub_step,\n",
    "    # )\n",
    "\n",
    "    # execute coagulation process\n",
    "    aerosol_process = coagulation_process.execute(\n",
    "        aerosol=aerosol_process,\n",
    "        time_step=time_step,\n",
    "        sub_steps=coagulation_sub_step,\n",
    "    )"
   ]
  },
  {
   "cell_type": "markdown",
   "id": "bdfceb5c-2704-4cf8-9d99-b9a2967d3a3d",
   "metadata": {},
   "source": [
    " ## Results\n",
    "\n",
    " The figure contrasts (i) the initial seed distribution, (ii) mass\n",
    " growth after 20 s of SOA partitioning, and (iii) its further\n",
    " evolution through coagulation.\n",
    "\n",
    "\n",
    " > Observe how number concentration drops (coagulation) while the\n",
    " > median radius grows (condensation + coagulation).\n",
    " > Try commenting out condensation to isolate the effect of pure\n",
    " > coagulation broadening the distribution without adding mass."
   ]
  },
  {
   "cell_type": "code",
   "execution_count": null,
   "id": "96c62c01-a6cc-4b12-9e3e-17fac22397e2",
   "metadata": {},
   "outputs": [
    {
     "data": {
      "image/png": "[encoded data removed]",
      "text/plain": [
       "<Figure size 700x500 with 1 Axes>"
      ]
     },
     "metadata": {},
     "output_type": "display_data"
    }
   ],
   "source": [
    "fig, ax = plt.subplots(figsize=(7, 5))\n",
    "ax.plot(\n",
    "    aerosol_initial.particles.get_radius(),\n",
    "    aerosol_initial.particles.get_concentration(),\n",
    "    label=\"Initial Seeds\",\n",
    ")\n",
    "ax.plot(\n",
    "    aerosol_soa.particles.get_radius(),\n",
    "    aerosol_soa.particles.get_concentration(),\n",
    "    label=\"20 sec SOA partitioning\",\n",
    ")\n",
    "ax.plot(\n",
    "    aerosol_process.particles.get_radius(),\n",
    "    aerosol_process.particles.get_concentration(),\n",
    "    label=\"600 sec coagulation\",\n",
    "    # marker=\".\",\n",
    ")\n",
    "ax.legend(loc=\"upper left\")\n",
    "ax.set_xscale(\"log\")\n",
    "ax.grid(alpha=0.25)\n",
    "ax.set_xlim(left=1e-8, right=1e-6)\n",
    "fig.tight_layout()"
   ]
  },
  {
   "cell_type": "markdown",
   "metadata": {},
   "source": [
    "## Summary\n",
    "\n",
    "This notebook demonstrates how to simulate the formation of secondary\n",
    "organic aerosol (SOA) from gas-phase organics and its evolution by\n",
    "Brownian coagulation.  We used a moving bin representation of particles\n",
    "with vapour-liquid partitioning, allowing us to model the complex\n",
    "interactions between gas-phase species and particle growth.\n"
   ]
  }
 ],
 "metadata": {
  "kernelspec": {
   "display_name": ".venv",
   "language": "python",
   "name": "python3"
  },
  "language_info": {
   "codemirror_mode": {
    "name": "ipython",
    "version": 3
   },
   "file_extension": ".py",
   "mimetype": "text/x-python",
   "name": "python",
   "nbconvert_exporter": "python",
   "pygments_lexer": "ipython3",
   "version": "3.12.8"
  }
 },
 "nbformat": 4,
 "nbformat_minor": 2
}
