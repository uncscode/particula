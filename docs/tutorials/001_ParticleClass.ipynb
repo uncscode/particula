{
  "cells": [
    {
      "cell_type": "markdown",
      "metadata": {
        "id": "mYSYN2FTC7JX"
      },
      "source": [
        "# Particle Class"
      ]
    },
    {
      "cell_type": "markdown",
      "metadata": {
        "id": "B9ip8rJNBgZF"
      },
      "source": [
        "First, install `particula` from PyPI using `!pip install -U particula` or `%pip install -U particula`. The `!` are `%` symbols are so-called magic signs prefixing \"magic functions\". In this case, the magic function is `%pip` --- which is one way to install Python packages from the PyPI (the Python Package Index). The `-U` is to instruct `pip` to update particula to the latest version."
      ]
    },
    {
      "cell_type": "code",
      "execution_count": 1,
      "metadata": {
        "colab": {
          "base_uri": "https://localhost:8080/"
        },
        "id": "vPT-i9Qu-QU8",
        "outputId": "bbe6b74c-23d8-4c71-8e61-fd96ba848f03"
      },
      "outputs": [
        {
          "output_type": "stream",
          "name": "stdout",
          "text": [
            "Collecting particula\n",
            "  Downloading particula-0.0.3-py3-none-any.whl (13 kB)\n",
            "Requirement already satisfied: numpy in /usr/local/lib/python3.7/dist-packages (from particula) (1.19.5)\n",
            "Collecting pint\n",
            "  Downloading Pint-0.18-py2.py3-none-any.whl (209 kB)\n",
            "\u001b[?25l\r\u001b[K     |█▋                              | 10 kB 23.6 MB/s eta 0:00:01\r\u001b[K     |███▏                            | 20 kB 24.5 MB/s eta 0:00:01\r\u001b[K     |████▊                           | 30 kB 28.5 MB/s eta 0:00:01\r\u001b[K     |██████▎                         | 40 kB 32.1 MB/s eta 0:00:01\r\u001b[K     |███████▉                        | 51 kB 33.9 MB/s eta 0:00:01\r\u001b[K     |█████████▍                      | 61 kB 37.7 MB/s eta 0:00:01\r\u001b[K     |███████████                     | 71 kB 33.7 MB/s eta 0:00:01\r\u001b[K     |████████████▌                   | 81 kB 34.3 MB/s eta 0:00:01\r\u001b[K     |██████████████                  | 92 kB 33.8 MB/s eta 0:00:01\r\u001b[K     |███████████████▋                | 102 kB 32.8 MB/s eta 0:00:01\r\u001b[K     |█████████████████▏              | 112 kB 32.8 MB/s eta 0:00:01\r\u001b[K     |██████████████████▊             | 122 kB 32.8 MB/s eta 0:00:01\r\u001b[K     |████████████████████▎           | 133 kB 32.8 MB/s eta 0:00:01\r\u001b[K     |█████████████████████▉          | 143 kB 32.8 MB/s eta 0:00:01\r\u001b[K     |███████████████████████▍        | 153 kB 32.8 MB/s eta 0:00:01\r\u001b[K     |█████████████████████████       | 163 kB 32.8 MB/s eta 0:00:01\r\u001b[K     |██████████████████████████▋     | 174 kB 32.8 MB/s eta 0:00:01\r\u001b[K     |████████████████████████████▏   | 184 kB 32.8 MB/s eta 0:00:01\r\u001b[K     |█████████████████████████████▊  | 194 kB 32.8 MB/s eta 0:00:01\r\u001b[K     |███████████████████████████████▎| 204 kB 32.8 MB/s eta 0:00:01\r\u001b[K     |████████████████████████████████| 209 kB 32.8 MB/s \n",
            "\u001b[?25hRequirement already satisfied: importlib-metadata in /usr/local/lib/python3.7/dist-packages (from pint->particula) (4.8.2)\n",
            "Requirement already satisfied: packaging in /usr/local/lib/python3.7/dist-packages (from pint->particula) (21.3)\n",
            "Requirement already satisfied: typing-extensions>=3.6.4 in /usr/local/lib/python3.7/dist-packages (from importlib-metadata->pint->particula) (3.10.0.2)\n",
            "Requirement already satisfied: zipp>=0.5 in /usr/local/lib/python3.7/dist-packages (from importlib-metadata->pint->particula) (3.6.0)\n",
            "Requirement already satisfied: pyparsing!=3.0.5,>=2.0.2 in /usr/local/lib/python3.7/dist-packages (from packaging->pint->particula) (3.0.6)\n",
            "Installing collected packages: pint, particula\n",
            "Successfully installed particula-0.0.3 pint-0.18\n"
          ]
        }
      ],
      "source": [
        "%pip install -U particula"
      ]
    },
    {
      "cell_type": "markdown",
      "metadata": {
        "id": "EoTypuRQCsfA"
      },
      "source": [
        "After installing `particula`, we can import it into our workspace with `import particula`. Let's check the version with `.__version__` and let's call `help` on the overall package to see what we have. "
      ]
    },
    {
      "cell_type": "code",
      "execution_count": 2,
      "metadata": {
        "id": "U5UTLkYi-R_2"
      },
      "outputs": [],
      "source": [
        "import particula"
      ]
    },
    {
      "cell_type": "code",
      "execution_count": 3,
      "metadata": {
        "colab": {
          "base_uri": "https://localhost:8080/",
          "height": 37
        },
        "id": "7wnlcZmb-YVJ",
        "outputId": "d81b6731-786f-4748-e05b-a6dd8daa7f51"
      },
      "outputs": [
        {
          "output_type": "execute_result",
          "data": {
            "application/vnd.google.colaboratory.intrinsic+json": {
              "type": "string"
            },
            "text/plain": [
              "'0.0.3'"
            ]
          },
          "metadata": {},
          "execution_count": 3
        }
      ],
      "source": [
        "particula.__version__"
      ]
    },
    {
      "cell_type": "code",
      "execution_count": 4,
      "metadata": {
        "colab": {
          "base_uri": "https://localhost:8080/"
        },
        "id": "4wp25bbh-bw5",
        "outputId": "1a1821f7-5613-44c0-c7d4-9210443543e9"
      },
      "outputs": [
        {
          "output_type": "stream",
          "name": "stdout",
          "text": [
            "Help on package particula:\n",
            "\n",
            "NAME\n",
            "    particula - a simple, fast, and powerful particle simulator.\n",
            "\n",
            "DESCRIPTION\n",
            "    particula is a simple, fast, and powerful particle simulator,\n",
            "    or at least two of the three, we hope. It is a simple particle\n",
            "    system that is designed to be easy to use and easy to extend.\n",
            "    The goal is to have a robust aerosol (gas phase + particle phase)\n",
            "    simulation system that can be used to answer scientific questions\n",
            "    that arise for experiments and research discussions.\n",
            "    \n",
            "    The main features of particula are:\n",
            "    ...\n",
            "    \n",
            "    More details to follow.\n",
            "\n",
            "PACKAGE CONTENTS\n",
            "    aerosol_dynamics (package)\n",
            "\n",
            "DATA\n",
            "    u = <pint.registry.UnitRegistry object>\n",
            "\n",
            "VERSION\n",
            "    0.0.3\n",
            "\n",
            "FILE\n",
            "    /usr/local/lib/python3.7/dist-packages/particula/__init__.py\n",
            "\n",
            "\n"
          ]
        }
      ],
      "source": [
        "help(particula)"
      ]
    },
    {
      "cell_type": "markdown",
      "metadata": {
        "id": "wXPNsoC7DFmv"
      },
      "source": [
        "The above two code cells show that we have the prerelease version `0.0.3` (our latest as of writing this). We still are in the process of writing more thorough documentation, and so a help call on `particula` yields a minimal description. However, we get a hint about what else is inside this package, `aerosol_dynamics` package/module. We will check this now.\n",
        "\n",
        "We also see `u = <pint.registry.UnitRegistry object>` under `DATA`: This is our unit registry which ensures proper unit tracking throughout each entire instance of the package. "
      ]
    },
    {
      "cell_type": "markdown",
      "metadata": {
        "id": "zrNnQDp0C-N2"
      },
      "source": [
        "## `aerosol_dynamics` module"
      ]
    },
    {
      "cell_type": "markdown",
      "metadata": {
        "id": "podJg5bWEg0Q"
      },
      "source": [
        "We can import `aerosol_dynamics` either via \n",
        "\n",
        "```python\n",
        "from particula import aerosol_dynamics\n",
        "```\n",
        "\n",
        "or\n",
        "\n",
        "```python\n",
        "import particula.aerosol_dynamics\n",
        "```\n",
        "\n",
        "to check it out. We will call help again to see what we have. "
      ]
    },
    {
      "cell_type": "code",
      "execution_count": 5,
      "metadata": {
        "id": "wAAzjh6A-hVN"
      },
      "outputs": [],
      "source": [
        "from particula import aerosol_dynamics"
      ]
    },
    {
      "cell_type": "code",
      "execution_count": 6,
      "metadata": {
        "colab": {
          "base_uri": "https://localhost:8080/"
        },
        "id": "8QtMsgOz-uvK",
        "outputId": "d95cc9f8-1010-4371-ebb2-cee195c5d0f4"
      },
      "outputs": [
        {
          "output_type": "stream",
          "name": "stdout",
          "text": [
            "Help on package particula.aerosol_dynamics in particula:\n",
            "\n",
            "NAME\n",
            "    particula.aerosol_dynamics - module to perform calculations related to aerosol dynamics.\n",
            "\n",
            "DESCRIPTION\n",
            "    This module contains functions to perform calculations related\n",
            "    to aerosol dynamics. It inherits the unit registry, u, from\n",
            "    particula. The pacakge contents below are callablle. For example,\n",
            "    the particle module is callable as:\n",
            "    \n",
            "    >>> from particula.aerosol_dynamics import particle\n",
            "    \n",
            "    ...\n",
            "    \n",
            "    More details to follow.\n",
            "\n",
            "PACKAGE CONTENTS\n",
            "    environment\n",
            "    parcel\n",
            "    particle\n",
            "    physical_parameters\n",
            "    tests (package)\n",
            "\n",
            "FILE\n",
            "    /usr/local/lib/python3.7/dist-packages/particula/aerosol_dynamics/__init__.py\n",
            "\n",
            "\n"
          ]
        }
      ],
      "source": [
        "help(aerosol_dynamics)"
      ]
    },
    {
      "cell_type": "markdown",
      "metadata": {
        "id": "K7twy8pqE7-S"
      },
      "source": [
        "Now! We have some package contents that look promising. We will only check out `particle` in this case. Again, import it and call help on it."
      ]
    },
    {
      "cell_type": "code",
      "execution_count": 7,
      "metadata": {
        "id": "G8u_QMMT-sfx"
      },
      "outputs": [],
      "source": [
        "from particula.aerosol_dynamics import particle"
      ]
    },
    {
      "cell_type": "code",
      "execution_count": 8,
      "metadata": {
        "colab": {
          "base_uri": "https://localhost:8080/"
        },
        "id": "1_yFPZr9--_L",
        "outputId": "a2d0ed25-1ddf-4a97-b31e-5a9db46fb761"
      },
      "outputs": [
        {
          "output_type": "stream",
          "name": "stdout",
          "text": [
            "Help on module particula.aerosol_dynamics.particle in particula.aerosol_dynamics:\n",
            "\n",
            "NAME\n",
            "    particula.aerosol_dynamics.particle - to instantiate particles and calculate their properties.\n",
            "\n",
            "DESCRIPTION\n",
            "    This module contains the Particle class, which is used to\n",
            "    instantiate the particles and calculate their properties.\n",
            "    Particles are introduced and defined by calling Particle\n",
            "    class, for example:\n",
            "    \n",
            "    >>> from particula import Particle\n",
            "    >>> p1 = Particle(name='my_particle', radius=1e-9, density=1e3, charge=1)\n",
            "    \n",
            "    Then, it is possible to return the properties of the particle p1:\n",
            "    \n",
            "    >>> p1.mass()\n",
            "    \n",
            "    The environment is defined by the following parameters:\n",
            "    >>> from particula.aerosol_dynamics import environment\n",
            "    >>> env = environment.Environment(temperature=300, pressure=1e5)\n",
            "    \n",
            "    If another particle is introduced, it is possible to calculate\n",
            "    the binary coagulation coefficient:\n",
            "    \n",
            "    >>> p2 = Particle(name='my_particle2', radius=1e-9, density=1e3, charge=1)\n",
            "    >>> p1.dimensioned_coagulation_kernel(p2, env)\n",
            "    \n",
            "    For more details, see below. More information to follow.\n",
            "\n",
            "CLASSES\n",
            "    builtins.object\n",
            "        Particle\n",
            "    \n",
            "    class Particle(builtins.object)\n",
            "     |  Particle(name: str, radius, density, charge)\n",
            "     |  \n",
            "     |  Class to instantiate particles and calculate their properties.\n",
            "     |  \n",
            "     |  This class represents the underlying framework for both\n",
            "     |  particle--particle and gas--particle interactions. See detailed\n",
            "     |  methods and functions below.\n",
            "     |  \n",
            "     |  Attributes:\n",
            "     |  \n",
            "     |      name    (str)   [no units]\n",
            "     |      radius  (float) [m]\n",
            "     |      density (float) [kg/m**3]\n",
            "     |      charge  (int)   [dimensionless]\n",
            "     |      mass    (float) [kg]\n",
            "     |  \n",
            "     |  Methods defined here:\n",
            "     |  \n",
            "     |  __init__(self, name: str, radius, density, charge)\n",
            "     |      Constructs particle objects.\n",
            "     |      \n",
            "     |      Parameters:\n",
            "     |      \n",
            "     |          name    (str)   [no units]\n",
            "     |          radius  (float) [m]\n",
            "     |          density (float) [kg/m**3]\n",
            "     |          charge  (int)   [dimensionless]\n",
            "     |  \n",
            "     |  charge(self) -> int\n",
            "     |      Returns number of charges on particle.\n",
            "     |      \n",
            "     |      Checks units: [dimensionless]\n",
            "     |  \n",
            "     |  collision_kernel_continuum_limit(self, other, environment: particula.aerosol_dynamics.environment.Environment) -> float\n",
            "     |      Continuum limit of collision kernel.\n",
            "     |      \n",
            "     |      Checks units: [dimensionless]\n",
            "     |  \n",
            "     |  collision_kernel_kinetic_limit(self, other, environment: particula.aerosol_dynamics.environment.Environment) -> float\n",
            "     |      Kinetic limit of collision kernel.\n",
            "     |      \n",
            "     |      Checks units: [dimensionless]\n",
            "     |  \n",
            "     |  coulomb_enhancement_continuum_limit(self, other, environment: particula.aerosol_dynamics.environment.Environment) -> float\n",
            "     |      Continuum limit of Coulomb enhancement for particle--particle coagulation.\n",
            "     |      \n",
            "     |      Checks units: [dimensionless]\n",
            "     |  \n",
            "     |  coulomb_enhancement_kinetic_limit(self, other, environment: particula.aerosol_dynamics.environment.Environment) -> float\n",
            "     |      Kinetic limit of Coulomb enhancement for particle--particle cooagulation.\n",
            "     |      \n",
            "     |      Checks units: [dimensionless]\n",
            "     |  \n",
            "     |  coulomb_potential_ratio(self, other, environment: particula.aerosol_dynamics.environment.Environment) -> float\n",
            "     |      Calculates the Coulomb potential ratio.\n",
            "     |      \n",
            "     |      Checks units: [dimensionless]\n",
            "     |  \n",
            "     |  density(self) -> int\n",
            "     |      Returns density of particle.\n",
            "     |      \n",
            "     |      Checks units: [kg/m**3]\n",
            "     |  \n",
            "     |  diffusive_knudsen_number(self, other, environment: particula.aerosol_dynamics.environment.Environment) -> float\n",
            "     |      Diffusive Knudsen number.\n",
            "     |      \n",
            "     |      Checks units: [dimensionless]\n",
            "     |      \n",
            "     |      The *diffusive* Knudsen number is different from Knudsen number.\n",
            "     |      Ratio of:\n",
            "     |      \n",
            "     |          - numerator: mean persistence of one particle\n",
            "     |          - denominator: effective length scale of\n",
            "     |              particle--particle Coulombic interaction\n",
            "     |  \n",
            "     |  dimensioned_coagulation_kernel(self, other, environment: particula.aerosol_dynamics.environment.Environment, authors: str = 'cg2019') -> float\n",
            "     |      Dimensioned particle--particle coagulation kernel.\n",
            "     |      \n",
            "     |      Checks units: [m**3/s]\n",
            "     |      \n",
            "     |      Paramaters:\n",
            "     |      \n",
            "     |          self:           particle 1\n",
            "     |          other:          particle 2\n",
            "     |          environment:    environment conditions\n",
            "     |          authors:        authors of the parameterization\n",
            "     |              - gh2012    https://doi.org/10.1103/PhysRevE.78.046402\n",
            "     |              - cg2020    https://doi.org/XXXXXXXXXXXXXXXXXXXXXXXXXX\n",
            "     |              - hard_sphere (from above)\n",
            "     |              (default: cg2019)\n",
            "     |  \n",
            "     |  dimensionless_coagulation_kernel_hard_sphere(self, other, environment: particula.aerosol_dynamics.environment.Environment) -> float\n",
            "     |      Dimensionless particle--particle coagulation kernel.\n",
            "     |      \n",
            "     |      Checks units: [dimensionless]\n",
            "     |  \n",
            "     |  dimensionless_coagulation_kernel_parameterized(self, other, environment: particula.aerosol_dynamics.environment.Environment, authors: str = 'cg2019') -> float\n",
            "     |      Dimensionless particle--particle coagulation kernel.\n",
            "     |      \n",
            "     |      Checks units: [dimensionless]\n",
            "     |      \n",
            "     |      Paramaters:\n",
            "     |      \n",
            "     |          self:           particle 1\n",
            "     |          other:          particle 2\n",
            "     |          environment:    environment conditions\n",
            "     |          authors:        authors of the parameterization\n",
            "     |              - gh2012    doi.org:10.1103/PhysRevE.78.046402\n",
            "     |              - cg2019    doi:10.1080/02786826.2019.1614522\n",
            "     |              - hard_sphere\n",
            "     |              (default: cg2019)\n",
            "     |  \n",
            "     |  friction_factor(self, environment: particula.aerosol_dynamics.environment.Environment) -> float\n",
            "     |      Returns a particle's friction factor.\n",
            "     |      \n",
            "     |      Checks units: [N*s/m]\n",
            "     |      \n",
            "     |      Property of the particle's size and surrounding medium.\n",
            "     |      Multiplying the friction factor by the fluid velocity\n",
            "     |      yields the drag force on the particle.\n",
            "     |  \n",
            "     |  knudsen_number(self, environment: particula.aerosol_dynamics.environment.Environment) -> float\n",
            "     |      Returns particle's Knudsen number.\n",
            "     |      \n",
            "     |      Checks units: [dimensionless]\n",
            "     |      \n",
            "     |      The Knudsen number reflects the relative length scales of\n",
            "     |      the particle and the suspending fluid (air, water, etc.).\n",
            "     |      This is calculated by the mean free path of the medium\n",
            "     |      divided by the particle radius.\n",
            "     |  \n",
            "     |  mass(self) -> float\n",
            "     |      Returns mass of particle.\n",
            "     |      \n",
            "     |      Checks units: [kg]\n",
            "     |  \n",
            "     |  name(self) -> str\n",
            "     |      Returns the name of particle.\n",
            "     |  \n",
            "     |  radius(self) -> float\n",
            "     |      Returns radius of particle.\n",
            "     |      \n",
            "     |      Checks units: [m]\n",
            "     |  \n",
            "     |  reduced_friction_factor(self, other, environment: particula.aerosol_dynamics.environment.Environment) -> float\n",
            "     |      Returns the reduced friction factor between two particles.\n",
            "     |      \n",
            "     |      Checks units: [N*s/m]\n",
            "     |      \n",
            "     |      Similar to the reduced mass.\n",
            "     |      The reduced friction factor allows a two-body problem\n",
            "     |      to be solved as a one-body problem.\n",
            "     |  \n",
            "     |  reduced_mass(self, other) -> float\n",
            "     |      Returns the reduced mass of two particles.\n",
            "     |      \n",
            "     |      Checks units: [kg]\n",
            "     |      \n",
            "     |      The reduced mass is an \"effective inertial\" mass.\n",
            "     |      Allows a two-body problem to be solved as a one-body problem.\n",
            "     |  \n",
            "     |  slip_correction_factor(self, environment: particula.aerosol_dynamics.environment.Environment) -> float\n",
            "     |      Returns particle's Cunningham slip correction factor.\n",
            "     |      \n",
            "     |      Checks units: [dimensionless]\n",
            "     |      \n",
            "     |      Dimensionless quantity accounting for non-continuum effects\n",
            "     |      on small particles. It is a deviation from Stokes' Law.\n",
            "     |      Stokes assumes a no-slip condition that is not correct at\n",
            "     |      high Knudsen numbers. The slip correction factor is used to\n",
            "     |      calculate the friction factor.\n",
            "     |      \n",
            "     |      See Eq 9.34 in Atmos. Chem. & Phys. (2016) for more informatiom.\n",
            "     |  \n",
            "     |  ----------------------------------------------------------------------\n",
            "     |  Data descriptors defined here:\n",
            "     |  \n",
            "     |  __dict__\n",
            "     |      dictionary for instance variables (if defined)\n",
            "     |  \n",
            "     |  __weakref__\n",
            "     |      list of weak references to the object (if defined)\n",
            "\n",
            "DATA\n",
            "    u = <pint.registry.UnitRegistry object>\n",
            "\n",
            "FILE\n",
            "    /usr/local/lib/python3.7/dist-packages/particula/aerosol_dynamics/particle.py\n",
            "\n",
            "\n"
          ]
        }
      ],
      "source": [
        "help(particle)"
      ]
    },
    {
      "cell_type": "markdown",
      "metadata": {
        "id": "3-mgI7yBFegi"
      },
      "source": [
        "We see there is more documentation now. The `help` call lists a \"class\" called \"Particle\" and all its available \"methods\" (read: functions) alphabetically. For now, you can think of a class as a super-function (it is more than that). Note also, that classes follow `CamelCase` (hence, `Particle`) whereas methods/functions follow snake_case (hence, `reduced_mass`). We make a lot of use of unit registry (called `u`) to ensure all our calculations have proper units, even if dimensionless. Without further ado, let's look at an example."
      ]
    },
    {
      "cell_type": "markdown",
      "metadata": {
        "id": "B-dwE5_tGYpv"
      },
      "source": [
        "## Calculating coagulation \n",
        "\n",
        "Let's define to particles, `particle_a` and `particle_b`."
      ]
    },
    {
      "cell_type": "code",
      "execution_count": 9,
      "metadata": {
        "id": "2u7Lo1wb_Adx"
      },
      "outputs": [],
      "source": [
        "particle_a = particle.Particle(name='a', radius=1e-9, density=1e3, charge=0)"
      ]
    },
    {
      "cell_type": "code",
      "execution_count": 10,
      "metadata": {
        "id": "2jpUw274_ZA5"
      },
      "outputs": [],
      "source": [
        "particle_b = particle.Particle(name='b', radius=2e-9, density=1e3, charge=0)"
      ]
    },
    {
      "cell_type": "markdown",
      "metadata": {
        "id": "qeje43ycGo93"
      },
      "source": [
        "Then, if we call the `radius` method of particle_a (as suffix), we get its radius printed with a unit. Alternatively, we can call the `radius` method from the class itself, not prefixed to a certain particle (same result)."
      ]
    },
    {
      "cell_type": "code",
      "execution_count": 11,
      "metadata": {
        "colab": {
          "base_uri": "https://localhost:8080/",
          "height": 37
        },
        "id": "FMms9WdJ_Sca",
        "outputId": "898bf4bd-60a8-46a5-a163-395ef1997870"
      },
      "outputs": [
        {
          "output_type": "execute_result",
          "data": {
            "text/latex": "$1\\times 10^{-9}\\ \\mathrm{meter}$",
            "text/html": [
              "1×10<sup>-9</sup> meter"
            ],
            "text/plain": [
              "1e-09 meter"
            ]
          },
          "metadata": {},
          "execution_count": 11
        }
      ],
      "source": [
        "particle_a.radius()"
      ]
    },
    {
      "cell_type": "code",
      "execution_count": 12,
      "metadata": {
        "colab": {
          "base_uri": "https://localhost:8080/",
          "height": 37
        },
        "id": "zDPQ1em5G6kK",
        "outputId": "137cec72-605b-44bb-87e9-89292b06c883"
      },
      "outputs": [
        {
          "output_type": "execute_result",
          "data": {
            "text/latex": "$1\\times 10^{-9}\\ \\mathrm{meter}$",
            "text/html": [
              "1×10<sup>-9</sup> meter"
            ],
            "text/plain": [
              "1e-09 meter"
            ]
          },
          "metadata": {},
          "execution_count": 12
        }
      ],
      "source": [
        "particle.Particle.radius(particle_a)"
      ]
    },
    {
      "cell_type": "markdown",
      "metadata": {
        "id": "tQl8XvpLHBTk"
      },
      "source": [
        "Same for the `mass` and `charge` methods. Note `charge` here is the number of charges. "
      ]
    },
    {
      "cell_type": "code",
      "execution_count": 13,
      "metadata": {
        "colab": {
          "base_uri": "https://localhost:8080/",
          "height": 37
        },
        "id": "JLlT1gix_uCf",
        "outputId": "377d0127-ff1b-421d-c5dd-e400eaaaaf90"
      },
      "outputs": [
        {
          "output_type": "execute_result",
          "data": {
            "text/latex": "$3.3510321638291136\\times 10^{-23}\\ \\mathrm{kilogram}$",
            "text/html": [
              "3.3510321638291136×10<sup>-23</sup> kilogram"
            ],
            "text/plain": [
              "3.3510321638291136e-23 kilogram"
            ]
          },
          "metadata": {},
          "execution_count": 13
        }
      ],
      "source": [
        "particle_b.mass()"
      ]
    },
    {
      "cell_type": "code",
      "execution_count": 14,
      "metadata": {
        "colab": {
          "base_uri": "https://localhost:8080/",
          "height": 34
        },
        "id": "LbymGF8g_wXp",
        "outputId": "e6287127-27d5-4b78-9185-12b6178099d8"
      },
      "outputs": [
        {
          "output_type": "execute_result",
          "data": {
            "text/latex": "$0\\ dimensionless$",
            "text/html": [
              "0 dimensionless"
            ],
            "text/plain": [
              "0 dimensionless"
            ]
          },
          "metadata": {},
          "execution_count": 14
        }
      ],
      "source": [
        "particle_a.charge()"
      ]
    },
    {
      "cell_type": "markdown",
      "metadata": {
        "id": "Bjp_PcNpHJHa"
      },
      "source": [
        "We should also define the environment we are in. We will get that module and invoke with 300 K and 10,000 Pa. "
      ]
    },
    {
      "cell_type": "code",
      "execution_count": 15,
      "metadata": {
        "id": "3QdNH5tY_Uwm"
      },
      "outputs": [],
      "source": [
        "from particula.aerosol_dynamics import environment"
      ]
    },
    {
      "cell_type": "code",
      "execution_count": 16,
      "metadata": {
        "id": "akifp3gw_g9O"
      },
      "outputs": [],
      "source": [
        "std_environment = environment.Environment(temperature=300, pressure=1e5)"
      ]
    },
    {
      "cell_type": "markdown",
      "metadata": {
        "id": "UlzbZwXVHXhl"
      },
      "source": [
        "Now, we can calculate the Knudsen number of particle \"a\" in this \"standard\" environment. And the slip correction factor. And the friction factor. "
      ]
    },
    {
      "cell_type": "code",
      "execution_count": 17,
      "metadata": {
        "colab": {
          "base_uri": "https://localhost:8080/",
          "height": 34
        },
        "id": "HAgIJr2T_qZg",
        "outputId": "b7f05b61-aace-4409-9a6f-f8fd08d6cc27"
      },
      "outputs": [
        {
          "output_type": "execute_result",
          "data": {
            "text/latex": "$67.8918099704083\\ dimensionless$",
            "text/html": [
              "67.8918099704083 dimensionless"
            ],
            "text/plain": [
              "67.8918099704083 dimensionless"
            ]
          },
          "metadata": {},
          "execution_count": 17
        }
      ],
      "source": [
        "particle_a.knudsen_number(std_environment)"
      ]
    },
    {
      "cell_type": "code",
      "execution_count": 18,
      "metadata": {
        "colab": {
          "base_uri": "https://localhost:8080/",
          "height": 34
        },
        "id": "XSNrw_6ZARM3",
        "outputId": "e94af953-a536-47c3-f355-6b4cc2051dbe"
      },
      "outputs": [
        {
          "output_type": "execute_result",
          "data": {
            "text/latex": "$113.060274442495\\ dimensionless$",
            "text/html": [
              "113.060274442495 dimensionless"
            ],
            "text/plain": [
              "113.060274442495 dimensionless"
            ]
          },
          "metadata": {},
          "execution_count": 18
        }
      ],
      "source": [
        "particle_a.slip_correction_factor(std_environment)"
      ]
    },
    {
      "cell_type": "code",
      "execution_count": 19,
      "metadata": {
        "colab": {
          "base_uri": "https://localhost:8080/",
          "height": 37
        },
        "id": "HK8bC6UBAVro",
        "outputId": "4d259d19-1dfd-4b5b-a383-bfbdd530e80e"
      },
      "outputs": [
        {
          "output_type": "execute_result",
          "data": {
            "text/latex": "$3.0775355689697488\\times 10^{-15}\\ \\frac{\\mathrm{kilogram}}{\\mathrm{second}}$",
            "text/html": [
              "3.0775355689697488×10<sup>-15</sup> kilogram/second"
            ],
            "text/plain": [
              "3.0775355689697488e-15 kilogram/second"
            ]
          },
          "metadata": {},
          "execution_count": 19
        }
      ],
      "source": [
        "particle_a.friction_factor(std_environment)"
      ]
    },
    {
      "cell_type": "markdown",
      "metadata": {
        "id": "6w_hMzlZHjWI"
      },
      "source": [
        "Now, let's calculate the reduced mass of two particles, \"a\" and \"b\". Again, there are two ways to do this: by suffixing the method to a particle or by calling the method from the class --- they yield the same result. "
      ]
    },
    {
      "cell_type": "code",
      "execution_count": 20,
      "metadata": {
        "colab": {
          "base_uri": "https://localhost:8080/",
          "height": 37
        },
        "id": "_PKC3LnwAcQ-",
        "outputId": "1891b754-6ff7-4770-b323-553e011e9052"
      },
      "outputs": [
        {
          "output_type": "execute_result",
          "data": {
            "text/latex": "$3.7233690709212374\\times 10^{-24}\\ \\mathrm{kilogram}$",
            "text/html": [
              "3.7233690709212374×10<sup>-24</sup> kilogram"
            ],
            "text/plain": [
              "3.7233690709212374e-24 kilogram"
            ]
          },
          "metadata": {},
          "execution_count": 20
        }
      ],
      "source": [
        "particle_a.reduced_mass(particle_b)"
      ]
    },
    {
      "cell_type": "code",
      "execution_count": 21,
      "metadata": {
        "colab": {
          "base_uri": "https://localhost:8080/",
          "height": 37
        },
        "id": "5OcaX-MzAntA",
        "outputId": "cba83a1d-d5d5-44b0-be09-f4e36c0a8d9e"
      },
      "outputs": [
        {
          "output_type": "execute_result",
          "data": {
            "text/latex": "$3.7233690709212374\\times 10^{-24}\\ \\mathrm{kilogram}$",
            "text/html": [
              "3.7233690709212374×10<sup>-24</sup> kilogram"
            ],
            "text/plain": [
              "3.7233690709212374e-24 kilogram"
            ]
          },
          "metadata": {},
          "execution_count": 21
        }
      ],
      "source": [
        "particle.Particle.reduced_mass(particle_a, particle_b)"
      ]
    },
    {
      "cell_type": "markdown",
      "metadata": {
        "id": "CkRfw2aUHxJ4"
      },
      "source": [
        "Like the reduced mass, we can also look at the reduced friction. "
      ]
    },
    {
      "cell_type": "code",
      "execution_count": 22,
      "metadata": {
        "colab": {
          "base_uri": "https://localhost:8080/",
          "height": 37
        },
        "id": "5k5DMlpXArBI",
        "outputId": "7249e819-a025-4658-ede2-28f0f05dc029"
      },
      "outputs": [
        {
          "output_type": "execute_result",
          "data": {
            "text/latex": "$2.4595460300833962\\times 10^{-15}\\ \\frac{\\mathrm{kilogram}}{\\mathrm{second}}$",
            "text/html": [
              "2.4595460300833962×10<sup>-15</sup> kilogram/second"
            ],
            "text/plain": [
              "2.4595460300833962e-15 kilogram/second"
            ]
          },
          "metadata": {},
          "execution_count": 22
        }
      ],
      "source": [
        "particle_a.reduced_friction_factor(particle_b, std_environment)"
      ]
    },
    {
      "cell_type": "markdown",
      "metadata": {
        "id": "_fhngrQaH1dM"
      },
      "source": [
        "We can also calculate the coagulation rate coefficient between particles \"a\" and \"b\" in this environment. Note that we could have called this directly after defining \"a\" and \"b\"."
      ]
    },
    {
      "cell_type": "code",
      "execution_count": 23,
      "metadata": {
        "colab": {
          "base_uri": "https://localhost:8080/",
          "height": 34
        },
        "id": "BNtlCy0DBByx",
        "outputId": "07e52e8d-567b-411e-fe6a-6e45f6aadf06"
      },
      "outputs": [
        {
          "output_type": "execute_result",
          "data": {
            "text/latex": "$83.4628646051075\\ dimensionless$",
            "text/html": [
              "83.4628646051075 dimensionless"
            ],
            "text/plain": [
              "83.4628646051075 dimensionless"
            ]
          },
          "metadata": {},
          "execution_count": 23
        }
      ],
      "source": [
        "particle.Particle.dimensionless_coagulation_kernel_hard_sphere(\n",
        "    particle_a, particle_b, std_environment\n",
        ")"
      ]
    },
    {
      "cell_type": "code",
      "execution_count": 24,
      "metadata": {
        "colab": {
          "base_uri": "https://localhost:8080/",
          "height": 34
        },
        "id": "k1Ku87U5IdgE",
        "outputId": "4a792e21-9177-4f8d-ac71-a88d76197edb"
      },
      "outputs": [
        {
          "output_type": "execute_result",
          "data": {
            "text/latex": "$83.4628646051075\\ dimensionless$",
            "text/html": [
              "83.4628646051075 dimensionless"
            ],
            "text/plain": [
              "83.4628646051075 dimensionless"
            ]
          },
          "metadata": {},
          "execution_count": 24
        }
      ],
      "source": [
        "particle_a.dimensionless_coagulation_kernel_hard_sphere(\n",
        "    particle_b, std_environment\n",
        ")"
      ]
    },
    {
      "cell_type": "markdown",
      "source": [
        "## The coagulation rate coefficient\n",
        "\n",
        "Perhaps most importantly, we can calculate the binary coagulation rate coefficient. This is done via the method `dimensioned_coagulation_kernel`. Let's call help on this method to see what we can do."
      ],
      "metadata": {
        "id": "kkUUE951wSa3"
      }
    },
    {
      "cell_type": "code",
      "execution_count": 25,
      "metadata": {
        "id": "1rsNCSSEIhM8",
        "colab": {
          "base_uri": "https://localhost:8080/"
        },
        "outputId": "ffdfa99b-bf17-4adb-9919-25cc5ef4c539"
      },
      "outputs": [
        {
          "output_type": "stream",
          "name": "stdout",
          "text": [
            "Help on function dimensioned_coagulation_kernel in module particula.aerosol_dynamics.particle:\n",
            "\n",
            "dimensioned_coagulation_kernel(self, other, environment: particula.aerosol_dynamics.environment.Environment, authors: str = 'cg2019') -> float\n",
            "    Dimensioned particle--particle coagulation kernel.\n",
            "    \n",
            "    Checks units: [m**3/s]\n",
            "    \n",
            "    Paramaters:\n",
            "    \n",
            "        self:           particle 1\n",
            "        other:          particle 2\n",
            "        environment:    environment conditions\n",
            "        authors:        authors of the parameterization\n",
            "            - gh2012    https://doi.org/10.1103/PhysRevE.78.046402\n",
            "            - cg2020    https://doi.org/XXXXXXXXXXXXXXXXXXXXXXXXXX\n",
            "            - hard_sphere (from above)\n",
            "            (default: cg2019)\n",
            "\n"
          ]
        }
      ],
      "source": [
        "help(particle.Particle.dimensioned_coagulation_kernel)"
      ]
    },
    {
      "cell_type": "markdown",
      "source": [
        "We see that we have have to supply two particles alongside the environment --- additionally, we get to choose between different parameterizations under \"authors\", which defaults to a recent study."
      ],
      "metadata": {
        "id": "kdFBfkhPwnwh"
      }
    },
    {
      "cell_type": "code",
      "source": [
        "particle_a.dimensioned_coagulation_kernel(\n",
        "    particle_b, std_environment\n",
        ")"
      ],
      "metadata": {
        "colab": {
          "base_uri": "https://localhost:8080/",
          "height": 37
        },
        "id": "abd44jZLwkjk",
        "outputId": "987f559f-41f7-4d2a-9139-5035938f62ff"
      },
      "execution_count": 26,
      "outputs": [
        {
          "output_type": "execute_result",
          "data": {
            "text/latex": "$4.655713855465682\\times 10^{-16}\\ \\frac{\\mathrm{meter}^{3}}{\\mathrm{second}}$",
            "text/html": [
              "4.655713855465682×10<sup>-16</sup> meter<sup>3</sup>/second"
            ],
            "text/plain": [
              "4.655713855465682e-16 meter³/second"
            ]
          },
          "metadata": {},
          "execution_count": 26
        }
      ]
    },
    {
      "cell_type": "markdown",
      "source": [
        "For a more interesting example, let's look at the interaction between a negative ion and a positive particle. We first need to define these two entities alongside an environment."
      ],
      "metadata": {
        "id": "yeUGra1-xIqR"
      }
    },
    {
      "cell_type": "code",
      "source": [
        "negative_ion = particle.Particle(\n",
        "    name=\"negative_ion\",\n",
        "    radius=0.5e-9,\n",
        "    density=1.84e3,\n",
        "    charge=-1,\n",
        ")\n",
        "\n",
        "positive_particle = particle.Particle(\n",
        "    name=\"positive_particle\",\n",
        "    radius=3e-9,\n",
        "    density=1.7e3,\n",
        "    charge=1,\n",
        ")\n",
        "\n",
        "standard_environment_ip = environment.Environment(\n",
        "    temperature=300,\n",
        "    pressure=101325,\n",
        ")"
      ],
      "metadata": {
        "id": "1wGYLv4pw-I3"
      },
      "execution_count": 27,
      "outputs": []
    },
    {
      "cell_type": "markdown",
      "source": [
        "The coagulation between these two entities should be approximately $10^{-6}$ cm$^{3}$/s."
      ],
      "metadata": {
        "id": "0767yyBtxipq"
      }
    },
    {
      "cell_type": "code",
      "source": [
        "negative_ion.dimensioned_coagulation_kernel(\n",
        "    positive_particle, standard_environment_ip\n",
        ")"
      ],
      "metadata": {
        "colab": {
          "base_uri": "https://localhost:8080/",
          "height": 37
        },
        "id": "5SSkbPEexbdS",
        "outputId": "ff67f6e3-8517-40e4-c68e-4c82d1cbc199"
      },
      "execution_count": 28,
      "outputs": [
        {
          "output_type": "execute_result",
          "data": {
            "text/latex": "$4.670176867752661\\times 10^{-13}\\ \\frac{\\mathrm{meter}^{3}}{\\mathrm{second}}$",
            "text/html": [
              "4.670176867752661×10<sup>-13</sup> meter<sup>3</sup>/second"
            ],
            "text/plain": [
              "4.670176867752661e-13 meter³/second"
            ]
          },
          "metadata": {},
          "execution_count": 28
        }
      ]
    },
    {
      "cell_type": "markdown",
      "source": [
        "That is approximatley $5 \\times 10^{-7}$ cm$^{3}$/s, which is within an order of magnitude of our physics-based reasoning."
      ],
      "metadata": {
        "id": "uhNMxi3HybDu"
      }
    }
  ],
  "metadata": {
    "colab": {
      "name": "001_ParticleClass.ipynb",
      "provenance": []
    },
    "kernelspec": {
      "display_name": "Python 3",
      "name": "python3"
    },
    "language_info": {
      "name": "python"
    }
  },
  "nbformat": 4,
  "nbformat_minor": 0
}