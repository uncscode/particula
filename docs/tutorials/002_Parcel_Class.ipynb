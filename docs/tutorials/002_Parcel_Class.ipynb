{
 "cells": [
  {
   "cell_type": "markdown",
   "metadata": {},
   "source": [
    "# Many particles\n",
    "Next well be moving through the code to see how to create a `parcel` object that will be used to track multiple particles. First we will need to import the necessary modules."
   ]
  },
  {
   "cell_type": "code",
   "execution_count": 1,
   "metadata": {},
   "outputs": [],
   "source": [
    "import os\n",
    "os.chdir('..') # move up two levels for local testing, otherwise comment out if you have installed the package\n",
    "os.chdir('..')\n",
    "\n",
    "from particula import u\n",
    "from particula.aerosol_dynamics import environment, particle, parcel\n",
    "import numpy as np"
   ]
  },
  {
   "cell_type": "markdown",
   "metadata": {},
   "source": [
    "Now we can start creating particles and adding them to the `parcel` in a couple of different ways. \n",
    "First, we must set the `environment` and create the `parcel`. "
   ]
  },
  {
   "cell_type": "code",
   "execution_count": 2,
   "metadata": {},
   "outputs": [
    {
     "name": "stdout",
     "output_type": "stream",
     "text": [
      "Help on Parcel in module particula.aerosol_dynamics.parcel object:\n",
      "\n",
      "class Parcel(builtins.object)\n",
      " |  Parcel(name: str, parcel_environment)\n",
      " |  \n",
      " |  Creates an air parcel to track and interact with a list of particle\n",
      " |  objects. This is the basis for particle and gas dynamic simulations.\n",
      " |  For example, evolution of a size distribution with time.\n",
      " |  \n",
      " |  Attributes:\n",
      " |      name            (str)               The name of the parcel.\n",
      " |      particle_data   (particle list)     Particle objects.\n",
      " |      environment     (object)            Parcel's environment.\n",
      " |  \n",
      " |  Methods defined here:\n",
      " |  \n",
      " |  __init__(self, name: str, parcel_environment)\n",
      " |      Constructs the parcel object.\n",
      " |      \n",
      " |      Parameters:\n",
      " |          name           (str),\n",
      " |          particle_data  (object numpy array),\n",
      " |          environment     (object).\n",
      " |  \n",
      " |  add_particle(self, particle_object)\n",
      " |      Adds a particle to the parcel.\n",
      " |      Parameters:\n",
      " |          particle_object (object)\n",
      " |  \n",
      " |  create_and_add_list_of_particle(self, name_of_particles, radii_of_particles, densities_of_particles=None, charges_of_particles=None)\n",
      " |      Adds a list of particles to the parcel based on size only (simple).\n",
      " |          or with densities and charges (detailed).\n",
      " |      Parameters:\n",
      " |          name_of_particles   (str)   [no units],\n",
      " |          radii_of_particles (list)  [m]\n",
      " |      Optional:\n",
      " |          densities_of_particles (list) [kg/m**3],\n",
      " |          charges_of_particles  (list) [dimensionless]\n",
      " |      Examples:\n",
      " |          simple: parcel.create_and_add_list_of_particle(\n",
      " |              'org2',\n",
      " |              [1e-9, 2e-9, 3e-9]\n",
      " |              )\n",
      " |          detailed: create_and_add_list_of_particle(\n",
      " |              'org3',\n",
      " |              [1e-9, 2e-9, 3e-9],\n",
      " |              [1.8e3, 1e3, 1e3],\n",
      " |              [1, 0, 2])\n",
      " |  \n",
      " |  create_and_add_particle(self, name: str, radius, density=1000.0, charge=0)\n",
      " |      Create and then add a particle to the parcel.\n",
      " |      \n",
      " |      Parameters:\n",
      " |          name    (str)   [no units],\n",
      " |          radius  (float) [m]\n",
      " |      Optional:\n",
      " |          density (float) [kg/m**3]       default = 1e3 [kg/m**3],\n",
      " |          charge  (int)   [dimensionless] default = 0 [dimensionless]\n",
      " |  \n",
      " |  name(self) -> str\n",
      " |      Returns the name of the parcel.\n",
      " |  \n",
      " |  particle_charges_list(self) -> float\n",
      " |      Returns list of charges of particles.\n",
      " |  \n",
      " |  particle_classes_list(self) -> list\n",
      " |      Returns the particle data of the parcel.\n",
      " |  \n",
      " |  particle_densities_list(self) -> float\n",
      " |      Returns list of densities of particles.\n",
      " |  \n",
      " |  particle_dimensioned_coagulation_kernel_list(self, other, authors: str = 'cg2019') -> float\n",
      " |      Returns list of dimensioned coagulation kernel of given particle\n",
      " |      (other) to the list of particles in the parcel. [m**3/s]\n",
      " |      Parameters:\n",
      " |      \n",
      " |          self:           particle_classes_list\n",
      " |          other:          particle 2\n",
      " |          authors:        authors of the parameterization\n",
      " |              - gh2012    https://doi.org/10.1103/PhysRevE.78.046402\n",
      " |              - cg2020    https://doi.org/XXXXXXXXXXXXXXXXXXXXXXXXXX\n",
      " |              - hard_sphere\n",
      " |              (default: cg2019)\n",
      " |  \n",
      " |  particle_dimensionless_coagulation_kernel_list(self, other, authors: str = 'cg2019') -> float\n",
      " |      Returns list of dimensioned coagulation kernel of given particle\n",
      " |      (other) to the list of particles in the parcel. [m**3/s]\n",
      " |      Parameters:\n",
      " |      \n",
      " |          self:           particle_classes_list\n",
      " |          other:          particle 2\n",
      " |          authors:        authors of the parameterization\n",
      " |              - gh2012    https://doi.org/10.1103/PhysRevE.78.046402\n",
      " |              - cg2020    https://doi.org/XXXXXXXXXXXXXXXXXXXXXXXXXX\n",
      " |              - hard_sphere\n",
      " |              (default: cg2019)\n",
      " |  \n",
      " |  particle_knudsen_numbers_list(self) -> float\n",
      " |      Returns list of knudsen numbers of particles.\n",
      " |  \n",
      " |  particle_masses_list(self) -> float\n",
      " |      Returns the mass of the particle. Checks units. [kg]\n",
      " |  \n",
      " |  particle_radii_list(self) -> float\n",
      " |      Returns list of radii of particles\n",
      " |  \n",
      " |  remove_all_particles(self)\n",
      " |      Removes all particles from the parcel.\n",
      " |  \n",
      " |  remove_particle(self, particle_index)\n",
      " |      Removes a particle from the parcel.\n",
      " |      Parameters:\n",
      " |          particle_index (list): int or array of ints\n",
      " |  \n",
      " |  ----------------------------------------------------------------------\n",
      " |  Data descriptors defined here:\n",
      " |  \n",
      " |  __dict__\n",
      " |      dictionary for instance variables (if defined)\n",
      " |  \n",
      " |  __weakref__\n",
      " |      list of weak references to the object (if defined)\n",
      "\n"
     ]
    }
   ],
   "source": [
    "standard_environment = environment.Environment(temperature=298, pressure=101325,) # [K], [Pa] default units\n",
    "\n",
    "simple_parcel = parcel.Parcel('simple', standard_environment)\n",
    "help(simple_parcel)"
   ]
  },
  {
   "cell_type": "markdown",
   "metadata": {},
   "source": [
    "With the parcel made, we can add particles to it. First using the `add_particle` method, which is the slow way but is easy to understand."
   ]
  },
  {
   "cell_type": "code",
   "execution_count": 3,
   "metadata": {},
   "outputs": [],
   "source": [
    "#create a small and large particle\n",
    "small_particle = particle.Particle(name=\"small_particle\", radius=50e-9, density=1000, charge=0) # remember the default units are [m], [kg/m^3], [dimensionless]\n",
    "large_particle = particle.Particle(name=\"large_particle\", radius=5e-6, density=1800, charge=0)\n",
    "\n",
    "# add single particle to parcel\n",
    "simple_parcel.add_particle(small_particle)\n",
    "simple_parcel.add_particle(large_particle)"
   ]
  },
  {
   "cell_type": "markdown",
   "metadata": {},
   "source": [
    "Let us now look at the descriptors for the particles. Similar to the particle methods, but now we get an array in return."
   ]
  },
  {
   "cell_type": "code",
   "execution_count": 4,
   "metadata": {},
   "outputs": [
    {
     "name": "stdout",
     "output_type": "stream",
     "text": [
      "radii of particles in the parcel: [<Quantity(5e-08, 'meter')>, <Quantity(5e-06, 'meter')>]\n",
      "density of particles in the parcel: [<Quantity(1000, 'kilogram / meter ** 3')>, <Quantity(1800, 'kilogram / meter ** 3')>]\n",
      "masses of particles in the parcel: [<Quantity(5.23598776e-19, 'kilogram')>, <Quantity(9.42477796e-13, 'kilogram')>]\n",
      "charges of particles in the parcel: [<Quantity(0, 'dimensionless')>, <Quantity(0, 'dimensionless')>]\n"
     ]
    }
   ],
   "source": [
    "print('radii of particles in the parcel:', simple_parcel.particle_radii_list())\n",
    "print('density of particles in the parcel:', simple_parcel.particle_densities_list())\n",
    "print('masses of particles in the parcel:', simple_parcel.particle_masses_list())\n",
    "print('charges of particles in the parcel:', simple_parcel.particle_charges_list())"
   ]
  },
  {
   "cell_type": "markdown",
   "metadata": {},
   "source": [
    "We can also calculate the particle coagulation properties."
   ]
  },
  {
   "cell_type": "code",
   "execution_count": 5,
   "metadata": {},
   "outputs": [
    {
     "name": "stdout",
     "output_type": "stream",
     "text": [
      "The self coagulation kernel for the small particle is: 1.4924401092516154e-15 meter ** 3 / second\n",
      "The coagulation kernel for small to large particle is: 4.384030426986368e-14 meter ** 3 / second\n"
     ]
    }
   ],
   "source": [
    "coagulation = simple_parcel.particle_dimensioned_coagulation_kernel_list(small_particle, authors='cg2019')\n",
    "print('The self coagulation kernel for the small particle is:', coagulation[0])\n",
    "print('The coagulation kernel for small to large particle is:', coagulation[1])"
   ]
  },
  {
   "cell_type": "markdown",
   "metadata": {},
   "source": [
    "## But what about more particles\n",
    "Adding one particle at a time is good for customization, but tedious to do. To get around that we can use the `create_and_add_list_of_particle` method. This method takes an array of particle radii and creates a particle for each one."
   ]
  },
  {
   "cell_type": "code",
   "execution_count": 6,
   "metadata": {},
   "outputs": [
    {
     "name": "stdout",
     "output_type": "stream",
     "text": [
      "Warning: radius has no units, assuming [m].\n"
     ]
    }
   ],
   "source": [
    "# create a new parcel\n",
    "muco_particle_parcel = parcel.Parcel('many_particles', standard_environment)\n",
    "\n",
    "# create an array of radii\n",
    "radii_array = np.linspace(0.1e-9, 10e-6, num=100)\n",
    "\n",
    "# use the create_and_add_list_of_particle method to add many particles to the parcel \n",
    "muco_particle_parcel.create_and_add_list_of_particle('p_list', radii_array) # default units are [m]"
   ]
  },
  {
   "cell_type": "markdown",
   "metadata": {},
   "source": [
    "You may have notice we didn't assign a density or charge to the particles, lets see what happened."
   ]
  },
  {
   "cell_type": "code",
   "execution_count": 7,
   "metadata": {},
   "outputs": [
    {
     "name": "stdout",
     "output_type": "stream",
     "text": [
      "radii of particles in the parcel: [<Quantity(1e-10, 'meter')>, <Quantity(1.01109091e-07, 'meter')>, <Quantity(2.02118182e-07, 'meter')>]\n",
      "density of particles in the parcel: [<Quantity(1000.0, 'kilogram / meter ** 3')>, <Quantity(1000.0, 'kilogram / meter ** 3')>, <Quantity(1000.0, 'kilogram / meter ** 3')>]\n",
      "charges of particles in the parcel: [<Quantity(0, 'dimensionless')>, <Quantity(0, 'dimensionless')>, <Quantity(0, 'dimensionless')>]\n"
     ]
    }
   ],
   "source": [
    "# just looking at the first three entries for simplicity\n",
    "print('radii of particles in the parcel:', muco_particle_parcel.particle_radii_list()[0:3])\n",
    "print('density of particles in the parcel:', muco_particle_parcel.particle_densities_list()[0:3])\n",
    "print('charges of particles in the parcel:', muco_particle_parcel.particle_charges_list()[0:3])"
   ]
  },
  {
   "cell_type": "markdown",
   "metadata": {},
   "source": [
    "We can see that the particles are all created with the default density and charge, which is unit density (1000 kg/m^3) and zero charge (i.e., neutral). But lets say you don't want that to happen, and you want the particles to have different densities and charges.\n",
    "\n",
    "We can do that by passing in an array of densities and charges to the `create_and_add_list_of_particle` method."
   ]
  },
  {
   "cell_type": "code",
   "execution_count": 8,
   "metadata": {},
   "outputs": [
    {
     "name": "stdout",
     "output_type": "stream",
     "text": [
      "Warning: radius has no units, assuming [m].\n",
      "radii of particles in the parcel: [<Quantity(1e-10, 'meter')>, <Quantity(1.01109091e-07, 'meter')>, <Quantity(2.02118182e-07, 'meter')>]\n",
      "density of particles in the parcel: [<Quantity(1000.0, 'kilogram / meter ** 3')>, <Quantity(1008.08081, 'kilogram / meter ** 3')>, <Quantity(1016.16162, 'kilogram / meter ** 3')>]\n",
      "charges of particles in the parcel: [<Quantity(1.0, 'dimensionless')>, <Quantity(1.0, 'dimensionless')>, <Quantity(1.0, 'dimensionless')>]\n"
     ]
    }
   ],
   "source": [
    "# create a new parcel\n",
    "custom_particles_parcel = parcel.Parcel('many_particles', standard_environment)\n",
    "\n",
    "# create an array of radii\n",
    "radii_array = np.linspace(0.1e-9, 10e-6, num=100)\n",
    "densities_array = np.linspace(1000, 1800, num=100)\n",
    "charges_array = np.ones(100)\n",
    "\n",
    "# adding many particles to the parcel, with specific radii, densities, and charges\n",
    "custom_particles_parcel.create_and_add_list_of_particle('p_list', radii_array, densities_of_particles=densities_array, charges_of_particles=charges_array) # default units are [m], [kg/m^3], [dimensionless]\n",
    "\n",
    "# let's look at the first three entries here too\n",
    "print('radii of particles in the parcel:', custom_particles_parcel.particle_radii_list()[0:3])\n",
    "print('density of particles in the parcel:', custom_particles_parcel.particle_densities_list()[0:3])\n",
    "print('charges of particles in the parcel:', custom_particles_parcel.particle_charges_list()[0:3])"
   ]
  },
  {
   "cell_type": "markdown",
   "metadata": {},
   "source": [
    "What about this warning that has been popping up? ``Warning: radius has no units, assuming [m].``\n",
    "\n",
    "This only is displayed what you add your first particle to the `parcel`. We can fix this by adding units to the radii, but you should be aware that **if one entry has a unit, all of them must have units.**\n",
    "\n",
    "Units are added using the `u` units module. See our units chapter or the [units](https://pint.readthedocs.io/en/stable/tutorial.html) module for more information."
   ]
  },
  {
   "cell_type": "code",
   "execution_count": 9,
   "metadata": {},
   "outputs": [
    {
     "name": "stdout",
     "output_type": "stream",
     "text": [
      "radii of particles in the parcel: [<Quantity(5e-08, 'meter')>, <Quantity(5.95959596e-08, 'meter')>, <Quantity(6.91919192e-08, 'meter')>]\n",
      "density of particles in the parcel: [<Quantity(1000.0, 'kilogram / meter ** 3')>, <Quantity(1008.08081, 'kilogram / meter ** 3')>, <Quantity(1016.16162, 'kilogram / meter ** 3')>]\n",
      "charges of particles in the parcel: [<Quantity(1.0, 'dimensionless')>, <Quantity(1.0, 'dimensionless')>, <Quantity(1.0, 'dimensionless')>]\n"
     ]
    }
   ],
   "source": [
    "# create a new parcel\n",
    "all_the_units_parcel = parcel.Parcel('many_particles', standard_environment)\n",
    "\n",
    "# create an array of radii\n",
    "radii_array = np.linspace(50, 1000, num=100) * u.nm # units assigned are nanometer\n",
    "densities_array = np.linspace(1, 1.8, num=100) * u.g / u.cm**3 # units assigned are gram / cm^3\n",
    "charges_array = np.ones(100) * u.dimensionless\n",
    "\n",
    "# adding many particles to the parcel, with specific radii, densities, and charges in units of your choice. \n",
    "all_the_units_parcel.create_and_add_list_of_particle('p_list', radii_array, densities_of_particles=densities_array, charges_of_particles=charges_array) # units are converted to [m], [kg/m^3], [dimensionless]\n",
    "\n",
    "# let's look at the first three entries here too\n",
    "print('radii of particles in the parcel:', all_the_units_parcel.particle_radii_list()[0:3])\n",
    "print('density of particles in the parcel:', all_the_units_parcel.particle_densities_list()[0:3])\n",
    "print('charges of particles in the parcel:', all_the_units_parcel.particle_charges_list()[0:3])"
   ]
  },
  {
   "cell_type": "markdown",
   "metadata": {},
   "source": [
    "Lets say we forgot to input all the units, what does that look like?"
   ]
  },
  {
   "cell_type": "code",
   "execution_count": 10,
   "metadata": {},
   "outputs": [
    {
     "name": "stdout",
     "output_type": "stream",
     "text": [
      "radii of particles in the parcel: [<Quantity(5e-08, 'meter')>, <Quantity(5.95959596e-08, 'meter')>, <Quantity(6.91919192e-08, 'meter')>]\n",
      "density of particles in the parcel: [<Quantity(1.0, 'kilogram / meter ** 3')>, <Quantity(1.17171717, 'kilogram / meter ** 3')>, <Quantity(1.34343434, 'kilogram / meter ** 3')>]\n",
      "charges of particles in the parcel: [<Quantity(1.0, 'dimensionless')>, <Quantity(1.0, 'dimensionless')>, <Quantity(1.0, 'dimensionless')>]\n"
     ]
    }
   ],
   "source": [
    "# create a new parcel\n",
    "missing_units_parcel = parcel.Parcel('many_particles', standard_environment)\n",
    "\n",
    "# create an array of radii\n",
    "radii_array = np.linspace(50, 1000, num=100) * u.nm # units assigned are nanometer\n",
    "densities_array = np.linspace(1, 18, num=100) # no units assigned\n",
    "charges_array = np.ones(100) # no units assigned\n",
    "\n",
    "# adding many particles to the parcel, with specific radii units but no units for densities, and charges.\n",
    "missing_units_parcel.create_and_add_list_of_particle('p_list', radii_array, densities_of_particles=densities_array, charges_of_particles=charges_array) # units are converted to [m], [kg/m^3], [dimensionless]\n",
    "\n",
    "# let's look at the first three entries here too\n",
    "print('radii of particles in the parcel:', missing_units_parcel.particle_radii_list()[0:3])\n",
    "print('density of particles in the parcel:', missing_units_parcel.particle_densities_list()[0:3])\n",
    "print('charges of particles in the parcel:', missing_units_parcel.particle_charges_list()[0:3])"
   ]
  },
  {
   "cell_type": "markdown",
   "metadata": {},
   "source": [
    "The output looks ok, except for very low density particles due to the default units assumed. However, the trouble comes in when we try to calculate the particle coagulation properties. "
   ]
  },
  {
   "cell_type": "code",
   "execution_count": 11,
   "metadata": {},
   "outputs": [
    {
     "ename": "DimensionalityError",
     "evalue": "Cannot convert from 'nanometer ** 3' ([length] ** 3) to 'kilogram' ([mass])",
     "output_type": "error",
     "traceback": [
      "\u001b[1;31m---------------------------------------------------------------------------\u001b[0m",
      "\u001b[1;31mDimensionalityError\u001b[0m                       Traceback (most recent call last)",
      "\u001b[1;32mC:\\Users\\KYLEGO~1\\AppData\\Local\\Temp/ipykernel_8140/791326168.py\u001b[0m in \u001b[0;36m<module>\u001b[1;34m\u001b[0m\n\u001b[1;32m----> 1\u001b[1;33m \u001b[0mmissing_units_parcel\u001b[0m\u001b[1;33m.\u001b[0m\u001b[0mparticle_dimensioned_coagulation_kernel_list\u001b[0m\u001b[1;33m(\u001b[0m\u001b[0msmall_particle\u001b[0m\u001b[1;33m,\u001b[0m \u001b[0mauthors\u001b[0m\u001b[1;33m=\u001b[0m\u001b[1;34m'cg2019'\u001b[0m\u001b[1;33m)\u001b[0m\u001b[1;33m\u001b[0m\u001b[1;33m\u001b[0m\u001b[0m\n\u001b[0m",
      "\u001b[1;32mf:\\OneDrive\\Professional Current DnD\\Aerosol microphysics\\particula\\particula\\aerosol_dynamics\\parcel.py\u001b[0m in \u001b[0;36mparticle_dimensioned_coagulation_kernel_list\u001b[1;34m(self, other, authors)\u001b[0m\n\u001b[0;32m    165\u001b[0m                 \u001b[1;33m(\u001b[0m\u001b[0mdefault\u001b[0m\u001b[1;33m:\u001b[0m \u001b[0mcg2019\u001b[0m\u001b[1;33m)\u001b[0m\u001b[1;33m\u001b[0m\u001b[1;33m\u001b[0m\u001b[0m\n\u001b[0;32m    166\u001b[0m         \"\"\"\n\u001b[1;32m--> 167\u001b[1;33m         return [\n\u001b[0m\u001b[0;32m    168\u001b[0m             \u001b[0mi\u001b[0m\u001b[1;33m.\u001b[0m\u001b[0mdimensioned_coagulation_kernel\u001b[0m\u001b[1;33m(\u001b[0m\u001b[0mother\u001b[0m\u001b[1;33m,\u001b[0m \u001b[0mself\u001b[0m\u001b[1;33m.\u001b[0m\u001b[0m_enviroment\u001b[0m\u001b[1;33m,\u001b[0m \u001b[0mauthors\u001b[0m\u001b[1;33m)\u001b[0m\u001b[1;33m\u001b[0m\u001b[1;33m\u001b[0m\u001b[0m\n\u001b[0;32m    169\u001b[0m             \u001b[1;32mfor\u001b[0m \u001b[0mi\u001b[0m \u001b[1;32min\u001b[0m \u001b[0mself\u001b[0m\u001b[1;33m.\u001b[0m\u001b[0mparticle_classes_list\u001b[0m\u001b[1;33m(\u001b[0m\u001b[1;33m)\u001b[0m\u001b[1;33m\u001b[0m\u001b[1;33m\u001b[0m\u001b[0m\n",
      "\u001b[1;32mf:\\OneDrive\\Professional Current DnD\\Aerosol microphysics\\particula\\particula\\aerosol_dynamics\\parcel.py\u001b[0m in \u001b[0;36m<listcomp>\u001b[1;34m(.0)\u001b[0m\n\u001b[0;32m    166\u001b[0m         \"\"\"\n\u001b[0;32m    167\u001b[0m         return [\n\u001b[1;32m--> 168\u001b[1;33m             \u001b[0mi\u001b[0m\u001b[1;33m.\u001b[0m\u001b[0mdimensioned_coagulation_kernel\u001b[0m\u001b[1;33m(\u001b[0m\u001b[0mother\u001b[0m\u001b[1;33m,\u001b[0m \u001b[0mself\u001b[0m\u001b[1;33m.\u001b[0m\u001b[0m_enviroment\u001b[0m\u001b[1;33m,\u001b[0m \u001b[0mauthors\u001b[0m\u001b[1;33m)\u001b[0m\u001b[1;33m\u001b[0m\u001b[1;33m\u001b[0m\u001b[0m\n\u001b[0m\u001b[0;32m    169\u001b[0m             \u001b[1;32mfor\u001b[0m \u001b[0mi\u001b[0m \u001b[1;32min\u001b[0m \u001b[0mself\u001b[0m\u001b[1;33m.\u001b[0m\u001b[0mparticle_classes_list\u001b[0m\u001b[1;33m(\u001b[0m\u001b[1;33m)\u001b[0m\u001b[1;33m\u001b[0m\u001b[1;33m\u001b[0m\u001b[0m\n\u001b[0;32m    170\u001b[0m         ]\n",
      "\u001b[1;32mF:\\python\\envs\\nmds\\lib\\site-packages\\pint\\registry_helpers.py\u001b[0m in \u001b[0;36mwrapper\u001b[1;34m(*values, **kw)\u001b[0m\n\u001b[0;32m    279\u001b[0m             \u001b[0mnew_values\u001b[0m\u001b[1;33m,\u001b[0m \u001b[0mvalues_by_name\u001b[0m \u001b[1;33m=\u001b[0m \u001b[0mconverter\u001b[0m\u001b[1;33m(\u001b[0m\u001b[0mureg\u001b[0m\u001b[1;33m,\u001b[0m \u001b[0mvalues\u001b[0m\u001b[1;33m,\u001b[0m \u001b[0mstrict\u001b[0m\u001b[1;33m)\u001b[0m\u001b[1;33m\u001b[0m\u001b[1;33m\u001b[0m\u001b[0m\n\u001b[0;32m    280\u001b[0m \u001b[1;33m\u001b[0m\u001b[0m\n\u001b[1;32m--> 281\u001b[1;33m             \u001b[0mresult\u001b[0m \u001b[1;33m=\u001b[0m \u001b[0mfunc\u001b[0m\u001b[1;33m(\u001b[0m\u001b[1;33m*\u001b[0m\u001b[0mnew_values\u001b[0m\u001b[1;33m,\u001b[0m \u001b[1;33m**\u001b[0m\u001b[0mkw\u001b[0m\u001b[1;33m)\u001b[0m\u001b[1;33m\u001b[0m\u001b[1;33m\u001b[0m\u001b[0m\n\u001b[0m\u001b[0;32m    282\u001b[0m \u001b[1;33m\u001b[0m\u001b[0m\n\u001b[0;32m    283\u001b[0m             \u001b[1;32mif\u001b[0m \u001b[0mis_ret_container\u001b[0m\u001b[1;33m:\u001b[0m\u001b[1;33m\u001b[0m\u001b[1;33m\u001b[0m\u001b[0m\n",
      "\u001b[1;32mf:\\OneDrive\\Professional Current DnD\\Aerosol microphysics\\particula\\particula\\aerosol_dynamics\\particle.py\u001b[0m in \u001b[0;36mdimensioned_coagulation_kernel\u001b[1;34m(self, other, environment, authors)\u001b[0m\n\u001b[0;32m    456\u001b[0m \u001b[1;33m\u001b[0m\u001b[0m\n\u001b[0;32m    457\u001b[0m         return (\n\u001b[1;32m--> 458\u001b[1;33m             self.dimensionless_coagulation_kernel_parameterized(\n\u001b[0m\u001b[0;32m    459\u001b[0m                 \u001b[0mother\u001b[0m\u001b[1;33m,\u001b[0m \u001b[0menvironment\u001b[0m\u001b[1;33m,\u001b[0m \u001b[0mauthors\u001b[0m\u001b[1;33m\u001b[0m\u001b[1;33m\u001b[0m\u001b[0m\n\u001b[0;32m    460\u001b[0m             \u001b[1;33m)\u001b[0m \u001b[1;33m*\u001b[0m \u001b[0mself\u001b[0m\u001b[1;33m.\u001b[0m\u001b[0mreduced_friction_factor\u001b[0m\u001b[1;33m(\u001b[0m\u001b[1;33m\u001b[0m\u001b[1;33m\u001b[0m\u001b[0m\n",
      "\u001b[1;32mF:\\python\\envs\\nmds\\lib\\site-packages\\pint\\registry_helpers.py\u001b[0m in \u001b[0;36mwrapper\u001b[1;34m(*values, **kw)\u001b[0m\n\u001b[0;32m    279\u001b[0m             \u001b[0mnew_values\u001b[0m\u001b[1;33m,\u001b[0m \u001b[0mvalues_by_name\u001b[0m \u001b[1;33m=\u001b[0m \u001b[0mconverter\u001b[0m\u001b[1;33m(\u001b[0m\u001b[0mureg\u001b[0m\u001b[1;33m,\u001b[0m \u001b[0mvalues\u001b[0m\u001b[1;33m,\u001b[0m \u001b[0mstrict\u001b[0m\u001b[1;33m)\u001b[0m\u001b[1;33m\u001b[0m\u001b[1;33m\u001b[0m\u001b[0m\n\u001b[0;32m    280\u001b[0m \u001b[1;33m\u001b[0m\u001b[0m\n\u001b[1;32m--> 281\u001b[1;33m             \u001b[0mresult\u001b[0m \u001b[1;33m=\u001b[0m \u001b[0mfunc\u001b[0m\u001b[1;33m(\u001b[0m\u001b[1;33m*\u001b[0m\u001b[0mnew_values\u001b[0m\u001b[1;33m,\u001b[0m \u001b[1;33m**\u001b[0m\u001b[0mkw\u001b[0m\u001b[1;33m)\u001b[0m\u001b[1;33m\u001b[0m\u001b[1;33m\u001b[0m\u001b[0m\n\u001b[0m\u001b[0;32m    282\u001b[0m \u001b[1;33m\u001b[0m\u001b[0m\n\u001b[0;32m    283\u001b[0m             \u001b[1;32mif\u001b[0m \u001b[0mis_ret_container\u001b[0m\u001b[1;33m:\u001b[0m\u001b[1;33m\u001b[0m\u001b[1;33m\u001b[0m\u001b[0m\n",
      "\u001b[1;32mf:\\OneDrive\\Professional Current DnD\\Aerosol microphysics\\particula\\particula\\aerosol_dynamics\\particle.py\u001b[0m in \u001b[0;36mdimensionless_coagulation_kernel_parameterized\u001b[1;34m(self, other, environment, authors)\u001b[0m\n\u001b[0;32m    383\u001b[0m             corr_mu = (corrc/corra)*(\n\u001b[0;32m    384\u001b[0m                 (1 + corrk*((np.log(\n\u001b[1;32m--> 385\u001b[1;33m                     \u001b[0mself\u001b[0m\u001b[1;33m.\u001b[0m\u001b[0mdiffusive_knudsen_number\u001b[0m\u001b[1;33m(\u001b[0m\u001b[0mother\u001b[0m\u001b[1;33m,\u001b[0m \u001b[0menvironment\u001b[0m\u001b[1;33m)\u001b[0m\u001b[1;33m\u001b[0m\u001b[1;33m\u001b[0m\u001b[0m\n\u001b[0m\u001b[0;32m    386\u001b[0m                 ) - corrb)/corra))**((-1/corrk) - 1)\n\u001b[0;32m    387\u001b[0m             \u001b[1;33m)\u001b[0m \u001b[1;33m*\u001b[0m \u001b[1;33m(\u001b[0m\u001b[1;33m\u001b[0m\u001b[1;33m\u001b[0m\u001b[0m\n",
      "\u001b[1;32mF:\\python\\envs\\nmds\\lib\\site-packages\\pint\\registry_helpers.py\u001b[0m in \u001b[0;36mwrapper\u001b[1;34m(*values, **kw)\u001b[0m\n\u001b[0;32m    279\u001b[0m             \u001b[0mnew_values\u001b[0m\u001b[1;33m,\u001b[0m \u001b[0mvalues_by_name\u001b[0m \u001b[1;33m=\u001b[0m \u001b[0mconverter\u001b[0m\u001b[1;33m(\u001b[0m\u001b[0mureg\u001b[0m\u001b[1;33m,\u001b[0m \u001b[0mvalues\u001b[0m\u001b[1;33m,\u001b[0m \u001b[0mstrict\u001b[0m\u001b[1;33m)\u001b[0m\u001b[1;33m\u001b[0m\u001b[1;33m\u001b[0m\u001b[0m\n\u001b[0;32m    280\u001b[0m \u001b[1;33m\u001b[0m\u001b[0m\n\u001b[1;32m--> 281\u001b[1;33m             \u001b[0mresult\u001b[0m \u001b[1;33m=\u001b[0m \u001b[0mfunc\u001b[0m\u001b[1;33m(\u001b[0m\u001b[1;33m*\u001b[0m\u001b[0mnew_values\u001b[0m\u001b[1;33m,\u001b[0m \u001b[1;33m**\u001b[0m\u001b[0mkw\u001b[0m\u001b[1;33m)\u001b[0m\u001b[1;33m\u001b[0m\u001b[1;33m\u001b[0m\u001b[0m\n\u001b[0m\u001b[0;32m    282\u001b[0m \u001b[1;33m\u001b[0m\u001b[0m\n\u001b[0;32m    283\u001b[0m             \u001b[1;32mif\u001b[0m \u001b[0mis_ret_container\u001b[0m\u001b[1;33m:\u001b[0m\u001b[1;33m\u001b[0m\u001b[1;33m\u001b[0m\u001b[0m\n",
      "\u001b[1;32mf:\\OneDrive\\Professional Current DnD\\Aerosol microphysics\\particula\\particula\\aerosol_dynamics\\particle.py\u001b[0m in \u001b[0;36mdiffusive_knudsen_number\u001b[1;34m(self, other, environment)\u001b[0m\n\u001b[0;32m    266\u001b[0m             (\n\u001b[0;32m    267\u001b[0m                 \u001b[0menvironment\u001b[0m\u001b[1;33m.\u001b[0m\u001b[0mtemperature\u001b[0m\u001b[1;33m(\u001b[0m\u001b[1;33m)\u001b[0m \u001b[1;33m*\u001b[0m \u001b[0mpp\u001b[0m\u001b[1;33m.\u001b[0m\u001b[0mBOLTZMANN_CONSTANT\u001b[0m\u001b[1;33m\u001b[0m\u001b[1;33m\u001b[0m\u001b[0m\n\u001b[1;32m--> 268\u001b[1;33m                 \u001b[1;33m*\u001b[0m \u001b[0mself\u001b[0m\u001b[1;33m.\u001b[0m\u001b[0mreduced_mass\u001b[0m\u001b[1;33m(\u001b[0m\u001b[0mother\u001b[0m\u001b[1;33m)\u001b[0m\u001b[1;33m\u001b[0m\u001b[1;33m\u001b[0m\u001b[0m\n\u001b[0m\u001b[0;32m    269\u001b[0m             )**0.5\n\u001b[0;32m    270\u001b[0m             \u001b[1;33m/\u001b[0m \u001b[0mself\u001b[0m\u001b[1;33m.\u001b[0m\u001b[0mreduced_friction_factor\u001b[0m\u001b[1;33m(\u001b[0m\u001b[0mother\u001b[0m\u001b[1;33m,\u001b[0m \u001b[0menvironment\u001b[0m\u001b[1;33m)\u001b[0m\u001b[1;33m\u001b[0m\u001b[1;33m\u001b[0m\u001b[0m\n",
      "\u001b[1;32mF:\\python\\envs\\nmds\\lib\\site-packages\\pint\\registry_helpers.py\u001b[0m in \u001b[0;36mwrapper\u001b[1;34m(*values, **kw)\u001b[0m\n\u001b[0;32m    279\u001b[0m             \u001b[0mnew_values\u001b[0m\u001b[1;33m,\u001b[0m \u001b[0mvalues_by_name\u001b[0m \u001b[1;33m=\u001b[0m \u001b[0mconverter\u001b[0m\u001b[1;33m(\u001b[0m\u001b[0mureg\u001b[0m\u001b[1;33m,\u001b[0m \u001b[0mvalues\u001b[0m\u001b[1;33m,\u001b[0m \u001b[0mstrict\u001b[0m\u001b[1;33m)\u001b[0m\u001b[1;33m\u001b[0m\u001b[1;33m\u001b[0m\u001b[0m\n\u001b[0;32m    280\u001b[0m \u001b[1;33m\u001b[0m\u001b[0m\n\u001b[1;32m--> 281\u001b[1;33m             \u001b[0mresult\u001b[0m \u001b[1;33m=\u001b[0m \u001b[0mfunc\u001b[0m\u001b[1;33m(\u001b[0m\u001b[1;33m*\u001b[0m\u001b[0mnew_values\u001b[0m\u001b[1;33m,\u001b[0m \u001b[1;33m**\u001b[0m\u001b[0mkw\u001b[0m\u001b[1;33m)\u001b[0m\u001b[1;33m\u001b[0m\u001b[1;33m\u001b[0m\u001b[0m\n\u001b[0m\u001b[0;32m    282\u001b[0m \u001b[1;33m\u001b[0m\u001b[0m\n\u001b[0;32m    283\u001b[0m             \u001b[1;32mif\u001b[0m \u001b[0mis_ret_container\u001b[0m\u001b[1;33m:\u001b[0m\u001b[1;33m\u001b[0m\u001b[1;33m\u001b[0m\u001b[0m\n",
      "\u001b[1;32mf:\\OneDrive\\Professional Current DnD\\Aerosol microphysics\\particula\\particula\\aerosol_dynamics\\particle.py\u001b[0m in \u001b[0;36mreduced_mass\u001b[1;34m(self, other)\u001b[0m\n\u001b[0;32m    169\u001b[0m         \"\"\"\n\u001b[0;32m    170\u001b[0m \u001b[1;33m\u001b[0m\u001b[0m\n\u001b[1;32m--> 171\u001b[1;33m         \u001b[1;32mreturn\u001b[0m \u001b[0mself\u001b[0m\u001b[1;33m.\u001b[0m\u001b[0mmass\u001b[0m\u001b[1;33m(\u001b[0m\u001b[1;33m)\u001b[0m \u001b[1;33m*\u001b[0m \u001b[0mother\u001b[0m\u001b[1;33m.\u001b[0m\u001b[0mmass\u001b[0m\u001b[1;33m(\u001b[0m\u001b[1;33m)\u001b[0m \u001b[1;33m/\u001b[0m \u001b[1;33m(\u001b[0m\u001b[0mself\u001b[0m\u001b[1;33m.\u001b[0m\u001b[0mmass\u001b[0m\u001b[1;33m(\u001b[0m\u001b[1;33m)\u001b[0m \u001b[1;33m+\u001b[0m \u001b[0mother\u001b[0m\u001b[1;33m.\u001b[0m\u001b[0mmass\u001b[0m\u001b[1;33m(\u001b[0m\u001b[1;33m)\u001b[0m\u001b[1;33m)\u001b[0m\u001b[1;33m\u001b[0m\u001b[1;33m\u001b[0m\u001b[0m\n\u001b[0m\u001b[0;32m    172\u001b[0m \u001b[1;33m\u001b[0m\u001b[0m\n\u001b[0;32m    173\u001b[0m     \u001b[1;33m@\u001b[0m\u001b[0mu\u001b[0m\u001b[1;33m.\u001b[0m\u001b[0mwraps\u001b[0m\u001b[1;33m(\u001b[0m\u001b[0mu\u001b[0m\u001b[1;33m.\u001b[0m\u001b[0mkg\u001b[0m \u001b[1;33m/\u001b[0m \u001b[0mu\u001b[0m\u001b[1;33m.\u001b[0m\u001b[0ms\u001b[0m\u001b[1;33m,\u001b[0m \u001b[1;33m[\u001b[0m\u001b[1;32mNone\u001b[0m\u001b[1;33m,\u001b[0m \u001b[1;32mNone\u001b[0m\u001b[1;33m,\u001b[0m \u001b[1;32mNone\u001b[0m\u001b[1;33m]\u001b[0m\u001b[1;33m)\u001b[0m\u001b[1;33m\u001b[0m\u001b[1;33m\u001b[0m\u001b[0m\n",
      "\u001b[1;32mF:\\python\\envs\\nmds\\lib\\site-packages\\pint\\registry_helpers.py\u001b[0m in \u001b[0;36mwrapper\u001b[1;34m(*values, **kw)\u001b[0m\n\u001b[0;32m    294\u001b[0m                 \u001b[1;32mreturn\u001b[0m \u001b[0mresult\u001b[0m\u001b[1;33m\u001b[0m\u001b[1;33m\u001b[0m\u001b[0m\n\u001b[0;32m    295\u001b[0m \u001b[1;33m\u001b[0m\u001b[0m\n\u001b[1;32m--> 296\u001b[1;33m             return ureg.Quantity(\n\u001b[0m\u001b[0;32m    297\u001b[0m                 \u001b[0mresult\u001b[0m\u001b[1;33m,\u001b[0m \u001b[0m_replace_units\u001b[0m\u001b[1;33m(\u001b[0m\u001b[0mret\u001b[0m\u001b[1;33m[\u001b[0m\u001b[1;36m0\u001b[0m\u001b[1;33m]\u001b[0m\u001b[1;33m,\u001b[0m \u001b[0mvalues_by_name\u001b[0m\u001b[1;33m)\u001b[0m \u001b[1;32mif\u001b[0m \u001b[0mret\u001b[0m\u001b[1;33m[\u001b[0m\u001b[1;36m1\u001b[0m\u001b[1;33m]\u001b[0m \u001b[1;32melse\u001b[0m \u001b[0mret\u001b[0m\u001b[1;33m[\u001b[0m\u001b[1;36m0\u001b[0m\u001b[1;33m]\u001b[0m\u001b[1;33m\u001b[0m\u001b[1;33m\u001b[0m\u001b[0m\n\u001b[0;32m    298\u001b[0m             )\n",
      "\u001b[1;32mF:\\python\\envs\\nmds\\lib\\site-packages\\pint\\quantity.py\u001b[0m in \u001b[0;36m__new__\u001b[1;34m(cls, value, units)\u001b[0m\n\u001b[0;32m    292\u001b[0m                 )\n\u001b[0;32m    293\u001b[0m         \u001b[1;32mif\u001b[0m \u001b[0misinstance\u001b[0m\u001b[1;33m(\u001b[0m\u001b[0mvalue\u001b[0m\u001b[1;33m,\u001b[0m \u001b[0mcls\u001b[0m\u001b[1;33m)\u001b[0m\u001b[1;33m:\u001b[0m\u001b[1;33m\u001b[0m\u001b[1;33m\u001b[0m\u001b[0m\n\u001b[1;32m--> 294\u001b[1;33m             \u001b[0mmagnitude\u001b[0m \u001b[1;33m=\u001b[0m \u001b[0mvalue\u001b[0m\u001b[1;33m.\u001b[0m\u001b[0mto\u001b[0m\u001b[1;33m(\u001b[0m\u001b[0munits\u001b[0m\u001b[1;33m)\u001b[0m\u001b[1;33m.\u001b[0m\u001b[0m_magnitude\u001b[0m\u001b[1;33m\u001b[0m\u001b[1;33m\u001b[0m\u001b[0m\n\u001b[0m\u001b[0;32m    295\u001b[0m         \u001b[1;32melse\u001b[0m\u001b[1;33m:\u001b[0m\u001b[1;33m\u001b[0m\u001b[1;33m\u001b[0m\u001b[0m\n\u001b[0;32m    296\u001b[0m             magnitude = _to_magnitude(\n",
      "\u001b[1;32mF:\\python\\envs\\nmds\\lib\\site-packages\\pint\\quantity.py\u001b[0m in \u001b[0;36mto\u001b[1;34m(self, other, *contexts, **ctx_kwargs)\u001b[0m\n\u001b[0;32m    722\u001b[0m         \u001b[0mother\u001b[0m \u001b[1;33m=\u001b[0m \u001b[0mto_units_container\u001b[0m\u001b[1;33m(\u001b[0m\u001b[0mother\u001b[0m\u001b[1;33m,\u001b[0m \u001b[0mself\u001b[0m\u001b[1;33m.\u001b[0m\u001b[0m_REGISTRY\u001b[0m\u001b[1;33m)\u001b[0m\u001b[1;33m\u001b[0m\u001b[1;33m\u001b[0m\u001b[0m\n\u001b[0;32m    723\u001b[0m \u001b[1;33m\u001b[0m\u001b[0m\n\u001b[1;32m--> 724\u001b[1;33m         \u001b[0mmagnitude\u001b[0m \u001b[1;33m=\u001b[0m \u001b[0mself\u001b[0m\u001b[1;33m.\u001b[0m\u001b[0m_convert_magnitude_not_inplace\u001b[0m\u001b[1;33m(\u001b[0m\u001b[0mother\u001b[0m\u001b[1;33m,\u001b[0m \u001b[1;33m*\u001b[0m\u001b[0mcontexts\u001b[0m\u001b[1;33m,\u001b[0m \u001b[1;33m**\u001b[0m\u001b[0mctx_kwargs\u001b[0m\u001b[1;33m)\u001b[0m\u001b[1;33m\u001b[0m\u001b[1;33m\u001b[0m\u001b[0m\n\u001b[0m\u001b[0;32m    725\u001b[0m \u001b[1;33m\u001b[0m\u001b[0m\n\u001b[0;32m    726\u001b[0m         \u001b[1;32mreturn\u001b[0m \u001b[0mself\u001b[0m\u001b[1;33m.\u001b[0m\u001b[0m__class__\u001b[0m\u001b[1;33m(\u001b[0m\u001b[0mmagnitude\u001b[0m\u001b[1;33m,\u001b[0m \u001b[0mother\u001b[0m\u001b[1;33m)\u001b[0m\u001b[1;33m\u001b[0m\u001b[1;33m\u001b[0m\u001b[0m\n",
      "\u001b[1;32mF:\\python\\envs\\nmds\\lib\\site-packages\\pint\\quantity.py\u001b[0m in \u001b[0;36m_convert_magnitude_not_inplace\u001b[1;34m(self, other, *contexts, **ctx_kwargs)\u001b[0m\n\u001b[0;32m    671\u001b[0m                 \u001b[1;32mreturn\u001b[0m \u001b[0mself\u001b[0m\u001b[1;33m.\u001b[0m\u001b[0m_REGISTRY\u001b[0m\u001b[1;33m.\u001b[0m\u001b[0mconvert\u001b[0m\u001b[1;33m(\u001b[0m\u001b[0mself\u001b[0m\u001b[1;33m.\u001b[0m\u001b[0m_magnitude\u001b[0m\u001b[1;33m,\u001b[0m \u001b[0mself\u001b[0m\u001b[1;33m.\u001b[0m\u001b[0m_units\u001b[0m\u001b[1;33m,\u001b[0m \u001b[0mother\u001b[0m\u001b[1;33m)\u001b[0m\u001b[1;33m\u001b[0m\u001b[1;33m\u001b[0m\u001b[0m\n\u001b[0;32m    672\u001b[0m \u001b[1;33m\u001b[0m\u001b[0m\n\u001b[1;32m--> 673\u001b[1;33m         \u001b[1;32mreturn\u001b[0m \u001b[0mself\u001b[0m\u001b[1;33m.\u001b[0m\u001b[0m_REGISTRY\u001b[0m\u001b[1;33m.\u001b[0m\u001b[0mconvert\u001b[0m\u001b[1;33m(\u001b[0m\u001b[0mself\u001b[0m\u001b[1;33m.\u001b[0m\u001b[0m_magnitude\u001b[0m\u001b[1;33m,\u001b[0m \u001b[0mself\u001b[0m\u001b[1;33m.\u001b[0m\u001b[0m_units\u001b[0m\u001b[1;33m,\u001b[0m \u001b[0mother\u001b[0m\u001b[1;33m)\u001b[0m\u001b[1;33m\u001b[0m\u001b[1;33m\u001b[0m\u001b[0m\n\u001b[0m\u001b[0;32m    674\u001b[0m \u001b[1;33m\u001b[0m\u001b[0m\n\u001b[0;32m    675\u001b[0m     \u001b[1;32mdef\u001b[0m \u001b[0m_convert_magnitude\u001b[0m\u001b[1;33m(\u001b[0m\u001b[0mself\u001b[0m\u001b[1;33m,\u001b[0m \u001b[0mother\u001b[0m\u001b[1;33m,\u001b[0m \u001b[1;33m*\u001b[0m\u001b[0mcontexts\u001b[0m\u001b[1;33m,\u001b[0m \u001b[1;33m**\u001b[0m\u001b[0mctx_kwargs\u001b[0m\u001b[1;33m)\u001b[0m\u001b[1;33m:\u001b[0m\u001b[1;33m\u001b[0m\u001b[1;33m\u001b[0m\u001b[0m\n",
      "\u001b[1;32mF:\\python\\envs\\nmds\\lib\\site-packages\\pint\\registry.py\u001b[0m in \u001b[0;36mconvert\u001b[1;34m(self, value, src, dst, inplace)\u001b[0m\n\u001b[0;32m   1001\u001b[0m             \u001b[1;32mreturn\u001b[0m \u001b[0mvalue\u001b[0m\u001b[1;33m\u001b[0m\u001b[1;33m\u001b[0m\u001b[0m\n\u001b[0;32m   1002\u001b[0m \u001b[1;33m\u001b[0m\u001b[0m\n\u001b[1;32m-> 1003\u001b[1;33m         \u001b[1;32mreturn\u001b[0m \u001b[0mself\u001b[0m\u001b[1;33m.\u001b[0m\u001b[0m_convert\u001b[0m\u001b[1;33m(\u001b[0m\u001b[0mvalue\u001b[0m\u001b[1;33m,\u001b[0m \u001b[0msrc\u001b[0m\u001b[1;33m,\u001b[0m \u001b[0mdst\u001b[0m\u001b[1;33m,\u001b[0m \u001b[0minplace\u001b[0m\u001b[1;33m)\u001b[0m\u001b[1;33m\u001b[0m\u001b[1;33m\u001b[0m\u001b[0m\n\u001b[0m\u001b[0;32m   1004\u001b[0m \u001b[1;33m\u001b[0m\u001b[0m\n\u001b[0;32m   1005\u001b[0m     \u001b[1;32mdef\u001b[0m \u001b[0m_convert\u001b[0m\u001b[1;33m(\u001b[0m\u001b[0mself\u001b[0m\u001b[1;33m,\u001b[0m \u001b[0mvalue\u001b[0m\u001b[1;33m,\u001b[0m \u001b[0msrc\u001b[0m\u001b[1;33m,\u001b[0m \u001b[0mdst\u001b[0m\u001b[1;33m,\u001b[0m \u001b[0minplace\u001b[0m\u001b[1;33m=\u001b[0m\u001b[1;32mFalse\u001b[0m\u001b[1;33m,\u001b[0m \u001b[0mcheck_dimensionality\u001b[0m\u001b[1;33m=\u001b[0m\u001b[1;32mTrue\u001b[0m\u001b[1;33m)\u001b[0m\u001b[1;33m:\u001b[0m\u001b[1;33m\u001b[0m\u001b[1;33m\u001b[0m\u001b[0m\n",
      "\u001b[1;32mF:\\python\\envs\\nmds\\lib\\site-packages\\pint\\registry.py\u001b[0m in \u001b[0;36m_convert\u001b[1;34m(self, value, src, dst, inplace)\u001b[0m\n\u001b[0;32m   1915\u001b[0m                 \u001b[0mvalue\u001b[0m\u001b[1;33m,\u001b[0m \u001b[0msrc\u001b[0m \u001b[1;33m=\u001b[0m \u001b[0msrc\u001b[0m\u001b[1;33m.\u001b[0m\u001b[0m_magnitude\u001b[0m\u001b[1;33m,\u001b[0m \u001b[0msrc\u001b[0m\u001b[1;33m.\u001b[0m\u001b[0m_units\u001b[0m\u001b[1;33m\u001b[0m\u001b[1;33m\u001b[0m\u001b[0m\n\u001b[0;32m   1916\u001b[0m \u001b[1;33m\u001b[0m\u001b[0m\n\u001b[1;32m-> 1917\u001b[1;33m         \u001b[1;32mreturn\u001b[0m \u001b[0msuper\u001b[0m\u001b[1;33m(\u001b[0m\u001b[1;33m)\u001b[0m\u001b[1;33m.\u001b[0m\u001b[0m_convert\u001b[0m\u001b[1;33m(\u001b[0m\u001b[0mvalue\u001b[0m\u001b[1;33m,\u001b[0m \u001b[0msrc\u001b[0m\u001b[1;33m,\u001b[0m \u001b[0mdst\u001b[0m\u001b[1;33m,\u001b[0m \u001b[0minplace\u001b[0m\u001b[1;33m)\u001b[0m\u001b[1;33m\u001b[0m\u001b[1;33m\u001b[0m\u001b[0m\n\u001b[0m\u001b[0;32m   1918\u001b[0m \u001b[1;33m\u001b[0m\u001b[0m\n\u001b[0;32m   1919\u001b[0m     \u001b[1;32mdef\u001b[0m \u001b[0m_get_compatible_units\u001b[0m\u001b[1;33m(\u001b[0m\u001b[0mself\u001b[0m\u001b[1;33m,\u001b[0m \u001b[0minput_units\u001b[0m\u001b[1;33m,\u001b[0m \u001b[0mgroup_or_system\u001b[0m\u001b[1;33m)\u001b[0m\u001b[1;33m:\u001b[0m\u001b[1;33m\u001b[0m\u001b[1;33m\u001b[0m\u001b[0m\n",
      "\u001b[1;32mF:\\python\\envs\\nmds\\lib\\site-packages\\pint\\registry.py\u001b[0m in \u001b[0;36m_convert\u001b[1;34m(self, value, src, dst, inplace)\u001b[0m\n\u001b[0;32m   1516\u001b[0m \u001b[1;33m\u001b[0m\u001b[0m\n\u001b[0;32m   1517\u001b[0m         \u001b[1;32mif\u001b[0m \u001b[1;32mnot\u001b[0m \u001b[1;33m(\u001b[0m\u001b[0msrc_offset_unit\u001b[0m \u001b[1;32mor\u001b[0m \u001b[0mdst_offset_unit\u001b[0m\u001b[1;33m)\u001b[0m\u001b[1;33m:\u001b[0m\u001b[1;33m\u001b[0m\u001b[1;33m\u001b[0m\u001b[0m\n\u001b[1;32m-> 1518\u001b[1;33m             \u001b[1;32mreturn\u001b[0m \u001b[0msuper\u001b[0m\u001b[1;33m(\u001b[0m\u001b[1;33m)\u001b[0m\u001b[1;33m.\u001b[0m\u001b[0m_convert\u001b[0m\u001b[1;33m(\u001b[0m\u001b[0mvalue\u001b[0m\u001b[1;33m,\u001b[0m \u001b[0msrc\u001b[0m\u001b[1;33m,\u001b[0m \u001b[0mdst\u001b[0m\u001b[1;33m,\u001b[0m \u001b[0minplace\u001b[0m\u001b[1;33m)\u001b[0m\u001b[1;33m\u001b[0m\u001b[1;33m\u001b[0m\u001b[0m\n\u001b[0m\u001b[0;32m   1519\u001b[0m \u001b[1;33m\u001b[0m\u001b[0m\n\u001b[0;32m   1520\u001b[0m         \u001b[0msrc_dim\u001b[0m \u001b[1;33m=\u001b[0m \u001b[0mself\u001b[0m\u001b[1;33m.\u001b[0m\u001b[0m_get_dimensionality\u001b[0m\u001b[1;33m(\u001b[0m\u001b[0msrc\u001b[0m\u001b[1;33m)\u001b[0m\u001b[1;33m\u001b[0m\u001b[1;33m\u001b[0m\u001b[0m\n",
      "\u001b[1;32mF:\\python\\envs\\nmds\\lib\\site-packages\\pint\\registry.py\u001b[0m in \u001b[0;36m_convert\u001b[1;34m(self, value, src, dst, inplace, check_dimensionality)\u001b[0m\n\u001b[0;32m   1034\u001b[0m             \u001b[1;31m# then the conversion cannot be performed.\u001b[0m\u001b[1;33m\u001b[0m\u001b[1;33m\u001b[0m\u001b[0m\n\u001b[0;32m   1035\u001b[0m             \u001b[1;32mif\u001b[0m \u001b[0msrc_dim\u001b[0m \u001b[1;33m!=\u001b[0m \u001b[0mdst_dim\u001b[0m\u001b[1;33m:\u001b[0m\u001b[1;33m\u001b[0m\u001b[1;33m\u001b[0m\u001b[0m\n\u001b[1;32m-> 1036\u001b[1;33m                 \u001b[1;32mraise\u001b[0m \u001b[0mDimensionalityError\u001b[0m\u001b[1;33m(\u001b[0m\u001b[0msrc\u001b[0m\u001b[1;33m,\u001b[0m \u001b[0mdst\u001b[0m\u001b[1;33m,\u001b[0m \u001b[0msrc_dim\u001b[0m\u001b[1;33m,\u001b[0m \u001b[0mdst_dim\u001b[0m\u001b[1;33m)\u001b[0m\u001b[1;33m\u001b[0m\u001b[1;33m\u001b[0m\u001b[0m\n\u001b[0m\u001b[0;32m   1037\u001b[0m \u001b[1;33m\u001b[0m\u001b[0m\n\u001b[0;32m   1038\u001b[0m         \u001b[1;31m# Here src and dst have only multiplicative units left. Thus we can\u001b[0m\u001b[1;33m\u001b[0m\u001b[1;33m\u001b[0m\u001b[0m\n",
      "\u001b[1;31mDimensionalityError\u001b[0m: Cannot convert from 'nanometer ** 3' ([length] ** 3) to 'kilogram' ([mass])"
     ]
    }
   ],
   "source": [
    "missing_units_parcel.particle_dimensioned_coagulation_kernel_list(small_particle, authors='cg2019')"
   ]
  },
  {
   "cell_type": "markdown",
   "metadata": {},
   "source": [
    "Here we have a new error `DimensionalityError: Cannot convert from 'nanometer ** 3' ([length] ** 3) to 'kilogram' ([mass])`.\n",
    "\n",
    "It is still not clear why this error happens, but to prevent it we either have no units and the defaults get assigned or assign all the units. As you can see it is not a problem for `all_the_units_parcel`."
   ]
  },
  {
   "cell_type": "code",
   "execution_count": null,
   "metadata": {},
   "outputs": [
    {
     "name": "stdout",
     "output_type": "stream",
     "text": [
      "The coagulation kernel to the small particle is: [<Quantity(1.49244011e-15, 'meter ** 3 / second')>, <Quantity(1.44723648e-15, 'meter ** 3 / second')>, <Quantity(1.44668988e-15, 'meter ** 3 / second')>]\n"
     ]
    }
   ],
   "source": [
    "all_units_coagulation = all_the_units_parcel.particle_dimensioned_coagulation_kernel_list(small_particle, authors='cg2019')\n",
    "print('The coagulation kernel to the small particle is:', all_units_coagulation[0:3])"
   ]
  },
  {
   "cell_type": "markdown",
   "metadata": {},
   "source": [
    "This covers the basics of the `parcel` class. Next, we'll cover how we can use the `parcel` class to simulate aerosol coagulation."
   ]
  }
 ],
 "metadata": {
  "interpreter": {
   "hash": "cebbbe34f6f07fa7991b274d1333f22d7f3ab89ab241e7aa07cfa9829e48c990"
  },
  "kernelspec": {
   "display_name": "Python 3.9.7 64-bit ('nmds': conda)",
   "language": "python",
   "name": "python3"
  },
  "language_info": {
   "codemirror_mode": {
    "name": "ipython",
    "version": 3
   },
   "file_extension": ".py",
   "mimetype": "text/x-python",
   "name": "python",
   "nbconvert_exporter": "python",
   "pygments_lexer": "ipython3",
   "version": "3.9.7"
  },
  "orig_nbformat": 4
 },
 "nbformat": 4,
 "nbformat_minor": 2
}
