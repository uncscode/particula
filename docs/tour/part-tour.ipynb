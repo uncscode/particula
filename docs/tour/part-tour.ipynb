{
 "cells": [
  {
   "cell_type": "markdown",
   "metadata": {},
   "source": [
    "# Particula tour\n",
    "\n",
    "We have designed `particula` around object-oriented programming principles where physics entities inherit from each other.\n",
    "\n",
    "1. It all starts with an `Environment` object (class) where temperature, pressure, and other derived properties are defined. For now, the two main derived properties are the dynamic viscosity and mean free path.\n",
    "2. Then, the `Vapor` object inherits from `Environemnt` and adds its own properties, mainly vapor properties like radius and density, but also derived properties like the driving force of condensation.\n",
    "3. The most involved object `Particle` builds on `Vapor` (and thus `Environemnt`). It is split into steps to isolate different components (e.g. making a distribution, making particle instances, calculating condensation, and calculating coagulation are all split into different objects that build on each other). In `Particle`, the idea is to form a fully equipped particle distribution, whose properties are readily available and calculated.\n",
    "4. Up to `Particle`, there is no sense of a time dimension. To add one, we create the `Rates` object who takes as input the `Particle` object, thus explicitly allowing dynamics-specific calculations, or \"rates\".\n",
    "5. Finally, a dynamic `Solver` object builds on `Rates` and propagates the `Particle` object in time."
   ]
  },
  {
   "cell_type": "markdown",
   "metadata": {},
   "source": []
  }
 ],
 "metadata": {
  "language_info": {
   "name": "python"
  },
  "orig_nbformat": 4
 },
 "nbformat": 4,
 "nbformat_minor": 2
}
