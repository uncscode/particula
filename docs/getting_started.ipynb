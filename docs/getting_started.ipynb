{
 "cells": [
  {
   "cell_type": "markdown",
   "metadata": {},
   "source": [
    "# Installing `particula`\n",
    "\n",
    "If you have no idea what Python is, or if you have no idea what a Jupyter notebook is, or if you have no clue what is going at all, then this is probably a good a place to start!"
   ]
  },
  {
   "cell_type": "markdown",
   "metadata": {},
   "source": [
    "## Python & `particula`"
   ]
  },
  {
   "cell_type": "markdown",
   "metadata": {},
   "source": [
    "Python is a popular programming language that is remarkably easy to learn and use.\n",
    "It is also a very popular language for scientific computing with a lot of applications and libraries, comprising a large ecosystem of packages.\n",
    "We hope `particula` will be a useful tool in this large ecosystem for anyone who wants to learn more about or research the science of aerosol particles."
   ]
  },
  {
   "cell_type": "markdown",
   "metadata": {},
   "source": [
    "## Jupyter notebooks"
   ]
  },
  {
   "cell_type": "markdown",
   "metadata": {},
   "source": [
    "Jupyter notebooks are a popular way to organize and share Python code and output with others. To learn more about Jupyter notebooks, see [here](https://jupyter.org/).\n",
    "The idea is that you can write code in a a code cell, and then run said cell to execute the code through a kernel (a computer program that runs Python code).\n",
    "Besides code cells, you can also write markdown (text) cells that can be displayed like the text you are reading.\n",
    "You can add rendered mathematical symbols, $\\sqrt{x} = y$, or even images."
   ]
  },
  {
   "cell_type": "markdown",
   "metadata": {},
   "source": [
    "## Install `particula`"
   ]
  },
  {
   "cell_type": "markdown",
   "metadata": {},
   "source": [
    "### Prepackaged\n",
    "\n",
    "The `particula` package is as a Python package through the [pip](https://pypi.org/project/pip/) package manager.\n",
    "Simply run the following command in a terminal to install the package: `pip install -U particula`.\n",
    "In a notebook like this, one would run the following command: `%pip install -U particula`, where `%` is the Jupyter magic command to run a cell as if it were a command in terminal. The flag `-U` means \"update the package if it is already installed\"."
   ]
  },
  {
   "cell_type": "code",
   "execution_count": null,
   "metadata": {},
   "outputs": [],
   "source": [
    "%pip install -U particula"
   ]
  },
  {
   "cell_type": "markdown",
   "metadata": {},
   "source": [
    "We also have `particula` available as a [conda](https://conda.io/docs/user-guide/tasks/manage-packages/index.html) package from the conda-forge channel.\n",
    "If you have a flavor of conda installed (e.g. anaconda, miniconda, miniforge, or mambaforge), you can install the package with the following command: `conda install -c conda-forge particula`.\n",
    "If you do not have conda installed, please see the following to get started: [https://conda.io/docs/user-guide/install/](https://conda.io/docs/user-guide/install/). We recommend mambaforge from the miniforge repository, available [here](https://github.com/conda-forge/miniforge)."
   ]
  },
  {
   "cell_type": "markdown",
   "metadata": {},
   "source": [
    "### From source\n",
    "\n",
    "You can obtain `particula` from the [source](https://github.com/uncscode/particula) repository.\n",
    "To install the package, you will need to have a Python 3.7 or newer version installed.\n",
    "You then should install the basic dependency packages with the following commands: `pip install -r requirements.txt` or `conda install --file requirements.txt` for development purposes.\n",
    "If you intend to only use the package, for now, you only need `numpy` and `pint`.\n",
    "We will be providing more information soon."
   ]
  }
 ],
 "metadata": {
  "language_info": {
   "name": "python"
  },
  "orig_nbformat": 4
 },
 "nbformat": 4,
 "nbformat_minor": 2
}
