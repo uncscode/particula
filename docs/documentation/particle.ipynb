{
 "cells": [
  {
   "cell_type": "markdown",
   "metadata": {},
   "source": [
    "# The `Particle` Classes\n",
    "\n",
    "The `Particle` class is the base class for all particles, whether introduced discretely one by one or as a distribution. In reality, the `Particle` class is based on two intermediate classes: `ParticleDistribution` and `ParticleInstances` to instantiate particle distributions and particles directly, respectively."
   ]
  },
  {
   "cell_type": "markdown",
   "metadata": {},
   "source": [
    "The `ParticleDistribution` inherits from the `Vapor` class, with the following added attributes and methods:\n",
    "\n",
    "## `ParticleDistribution` attributes\n",
    "\n",
    "| attribute    | unit        | default value\n",
    "| ---------    | ----        | -------------\n",
    "| `spacing`    |             | `\"linspace\"`\n",
    "| `nbins`      |             | `1e3`\n",
    "| `nparticles` |             | `1e5`\n",
    "| `volume`     | / m^3       | `1e-6`\n",
    "| `cutoff`     |             | `0.9999`\n",
    "| `gsigma`     |             | `1.25`\n",
    "| `mode`       | m           | `1e-7`\n",
    "| `disttype`   |             | `\"lognormal\"`\n",
    "\n",
    "## `ParticleDistribution` methods\n",
    "\n",
    "### `ParticleDistribution.pre_radius()`\n",
    "\n",
    "The `pre_radius` method uses the attributes `cutoff`, `gsigma`, and `mode` to determine the starting and ending radii according to the utility `cutoff_radius.cut_rad`. Here, `cutoff` refers to the fraction cutoff of the distribution (e.g. `cutoff=0.9999` means taking only 99.99% of the lognormal distribution). Moreover, `gsigma` and `mode` are the lognormal parameters of the distribution, referring to the geometric standard deviation and mode (geometric mean) respectively. We use the `scipy.stats.lognorm` to construct the distribution in the `pre_discretize` method below.\n",
    "\n",
    "- [`particula.util.cutoff_radius`](./utilities/cutoff_radius.ipynb)\n",
    "\n",
    "Then, the `spacing` is used to create a vector of radii with `nbins` entries. The `spacing` attribute is a `string` type and for now, it can only be `\"linspace\"` or `\"logspace\"`: using the `numpy.linspace` or `numpy.logspace` functions, respectively, to construct the vector.\n",
    "\n",
    "Finally, the `pre_radius` method returns a radius vector with units of meter.\n",
    "\n",
    "### `ParticleDistribution.pre_discretize()`\n",
    "\n",
    "The `pre_discretize` method uses the result of the `pre_radius()` method above, `disttype`, `gsigma`, and `mode` attributes to produce a probability density function distribution based on the `scipy.stats.lognorm` (lognormal) function. This is done via the `distribution_discretization` utility.\n",
    "\n",
    "- [`particula.util.distribution_discretization`](./utilities/distribution_discretization.ipynb)\n",
    "\n",
    "### `ParticleDistribution.pre_distribution()`\n",
    "\n",
    "The `pre_distribution` method simply constructs the distribution multiplying the product of `pre_discretize()` by `nparticles` and dividing by `volume`."
   ]
  },
  {
   "cell_type": "markdown",
   "metadata": {},
   "source": [
    "## `ParticleInstances` attributes\n",
    "\n",
    "| attribute         | unit        | default value\n",
    "| ---------         | ----        | -------------\n",
    "| `particle_radius` | m           | `None` or `ParticleDistribution.pre_radius()`\n",
    "| `particle_number` |             | `1` or `ParticleDistribution.nparticles`\n",
    "| `particle_density`| kg / m^-3   | `1e3`\n",
    "| `shape_factor`    |             | `1`\n",
    "| `volume_void`     |             | `0`\n",
    "| `particle_charge` |             | `0`\n",
    "\n",
    "We note that the `particle_radius` attribute defaults to `ParticleDistribution.pre_radius()` if it is not given explicitly. Therefore, one could either provide a one or more radii via `particle_radius` or provide the parameters for a distribution as described above. The `particle_number` attribute defaults to `ParticleDistribution.nparticles` if the `particle_radius` attribute is not given explicitly; otherwise, it is set to `1` by default, but the user could provide a different value, for example, `particle_radius=[1e-9, 2e-9]` coupled with `particle_number=[1, 2]` would mean one particle of radius 1e-9 and two particles of radius 2e-9.\n",
    "\n",
    "In any event, the attributes here have higher precedence than the attributes in `ParticleDistribution`. Below, we reaffirm the `particle_distribution` as well.\n",
    "\n",
    "## `ParticleInstances` methods\n",
    "\n",
    "### `ParticleInstances.particle_distribution()`\n",
    "\n",
    "The `particle_distribution` method either returns the `ParticleDistribution.pre_distribution()` if the `particle_radius` attribute is not given explicitly, or it constructs the distribution dividing `particle_number` by `particle_radius` and dividing by `volume`.\n",
    "\n",
    "Note: the idea of distribution density necessitates normalizing by the variable (in our case, it is the radius) and here we divide by radius to get the unit of 1 / m^3 / m (i.e. number concentration density). \n",
    "\n",
    "### `ParticleInstances.particle_mass()`\n",
    "\n",
    "The `particle_mass` method returns the mass of the particle by using the `particle_radius`, `particle_density`, `shape_factor`, and `volume_void` attributes.\n",
    "\n",
    "- [`particula.util.particle_mass`](./utilities/particle_mass.ipynb)\n",
    "\n",
    "### `ParticleInstances.knudsen_number()`\n",
    "\n",
    "The `knudsen_number` method returns the knudsen number of the particle by using the `particle_radius` attribute as well as the `mean_free_path()` method.\n",
    "\n",
    "- [`knudsen_number`](./utilities/knudsen_number.ipynb)\n",
    "\n",
    "### `ParticleInstances.slip_correction_factor()`\n",
    "\n",
    "The `slip_correction_factor` method returns the slip correction factor of the particle by using the `particle_radius` attribute as well as the `knudsen_number()` method. \n",
    "\n",
    "- [`particula.util.slip_correction`](./utilities/slip_correction.ipynb)\n",
    "\n",
    "### `ParticleInstances.friction_factor()`\n",
    "\n",
    "The `friction_factor` method returns the friction factor of the particle by using the `particle_radius` attribute as well as the `dynamic_viscosity()` and `slip_correction_factor()` methods.\n",
    "\n",
    "- [`particula.util.friction_factor`](./utilities/friction_factor.ipynb)"
   ]
  },
  {
   "cell_type": "markdown",
   "metadata": {},
   "source": [
    "## The `Particle` Class\n",
    "\n",
    "| attribute                   | unit               | default value\n",
    "| ---------                   | ----               | -------------\n",
    "| `elementary_charge_value`   | C                  | `constants.ELEMENTARY_CHARGE_VALUE`\n",
    "| `electric_permittivity`     | F / m              | `constants.ELECTRIC_PERMITTIVITY`\n",
    "| `boltzmann_constant`        | kg * m^2 / K / s^2 | `constants.BOLTZMANN_CONSTANT`\n",
    "| `coagulation_approximation` |                    | `\"hardsphere\"`\n",
    "\n",
    "\n",
    "methods:\n",
    "- _coag_prep\n",
    "- reduced_mass\n",
    "- reduced_friction_factor\n",
    "- coulomb_potential_ratio\n",
    "- coulomb_enhancement_kinetic_limit\n",
    "- coulomb_enhancement_continuum_limit\n",
    "- diffusive_knudsen_number\n",
    "- dimensionless_coagulation\n",
    "- coagulation"
   ]
  }
 ],
 "metadata": {
  "interpreter": {
   "hash": "aee8b7b246df8f9039afb4144a1f6fd8d2ca17a180786b69acc140d282b71a49"
  },
  "kernelspec": {
   "display_name": "Python 3.10.4 64-bit",
   "language": "python",
   "name": "python3"
  },
  "language_info": {
   "codemirror_mode": {
    "name": "ipython",
    "version": 3
   },
   "file_extension": ".py",
   "mimetype": "text/x-python",
   "name": "python",
   "nbconvert_exporter": "python",
   "pygments_lexer": "ipython3",
   "version": "3.10.4"
  },
  "orig_nbformat": 4
 },
 "nbformat": 4,
 "nbformat_minor": 2
}
