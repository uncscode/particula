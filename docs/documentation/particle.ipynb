{
 "cells": [
  {
   "cell_type": "markdown",
   "metadata": {},
   "source": [
    "# The Particle Classes\n",
    "\n",
    "The `Particle` class is the base class for all particles, whether introduced discretely one by one or as a distribution. In reality, the `Particle` class is based on two intermediate classes: `ParticleDistribution` and `ParticleInstances` to instantiate particle distributions and particles directly, respectively."
   ]
  },
  {
   "cell_type": "markdown",
   "metadata": {},
   "source": [
    "## `ParticleDistribution` attributes\n",
    "\n",
    "| attribute    | unit        | default value\n",
    "| ---------    | ----        | -------------\n",
    "| `spacing`    |             | `\"linspace\"`\n",
    "| `nbins`      |             | `1e3`\n",
    "| `nparticles` |             | `1e5`\n",
    "| `volume`     | / m^3       | `1e-6`\n",
    "| `cutoff`     |             | `0.9999`\n",
    "| `gsigma`     |             | `1.25`\n",
    "| `mode`       | m           | `1e-7`\n",
    "\n",
    "## `ParticleDistribution` methods\n",
    "\n",
    "#### `ParticleDistribution.pre_radius()`\n",
    "\n",
    "This method uses the attributes `cutoff`, `gsigma`, and `mode`, to determine the starting and ending radii according to the utility `cutoff_radius.cut_rad`. Here, `cutoff` refers to the probability cutoff (e.g. `cutoff=0.9999` means taking only 99.99% of the lognormal distribution). Moreover, `gsigma` and `mode` are the lognormal parameters of the distribution, referring to the geometric standard deviation and mode (geometric mean) respectively. We use the scipy.stats.lognorm to construct the distribution in `pre_discretize()` below.\n",
    "\n",
    "Then, the `spacing` is used to create a vector of radii with size `nbins`. The `spacing` attribute is a string and for now, it can only be `\"linspace\"` or `\"logspace\"`, using the numpy.linspace or numpy.logspace functions, respectively.\n",
    "\n",
    "Finally, the `pre_radius()` method returns a radius vector with units of m.\n",
    "\n",
    "#### `ParticleDistribution.pre_discretize()`\n",
    "\n",
    "This method uses the result of the pre_radius() method, the `disttype` attribute, gsigma, and mode, to produce a probability density function distribution based on the scipy.stats.lognorm (lognormal). This is done via the `distribution_discretization.discretize` utility.  \n",
    "\n",
    "#### `ParticleDistribution.pre_distribution()`\n",
    "\n",
    "This method simply construct the distribution multiplying the product of pre_discretize() by number and dividing by volume."
   ]
  },
  {
   "cell_type": "markdown",
   "metadata": {},
   "source": [
    "## The `ParticleInstances` Class\n",
    "\n",
    "| attribute         | unit        | default value\n",
    "| ---------         | ----        | -------------\n",
    "| `particle_radius` | m           | `None` or `ParticleDistribution.pre_radius()`\n",
    "| `particle_number` |             | `1` or `ParticleDistribution.nparticles`\n",
    "| `particle_density`| kg / m^-3   | `1e3`\n",
    "| `shape_factor`    |             | `1`\n",
    "| `volume_void`     |             | `0`\n",
    "| `particle_charge` |             | `0`\n",
    "\n",
    "\n",
    "methods:\n",
    "- particle_distribution\n",
    "- mass\n",
    "- knudsen_number\n",
    "- slip_correction_factor\n",
    "- friction_factor"
   ]
  },
  {
   "cell_type": "markdown",
   "metadata": {},
   "source": [
    "## The `Particle` Class\n",
    "\n",
    "| attribute                   | unit               | default value\n",
    "| ---------                   | ----               | -------------\n",
    "| `elementary_charge_value`   | C                  | `constants.ELEMENTARY_CHARGE_VALUE`\n",
    "| `electric_permittivity`     | F / m              | `constants.ELECTRIC_PERMITTIVITY`\n",
    "| `boltzmann_constant`        | kg * m^2 / K / s^2 | `constants.BOLTZMANN_CONSTANT`\n",
    "| `coagulation_approximation` |                    | `\"hardsphere\"`\n",
    "\n",
    "\n",
    "methods:\n",
    "- _coag_prep\n",
    "- reduced_mass\n",
    "- reduced_friction_factor\n",
    "- coulomb_potential_ratio\n",
    "- coulomb_enhancement_kinetic_limit\n",
    "- coulomb_enhancement_continuum_limit\n",
    "- diffusive_knudsen_number\n",
    "- dimensionless_coagulation\n",
    "- coagulation"
   ]
  },
  {
   "cell_type": "markdown",
   "metadata": {},
   "source": []
  }
 ],
 "metadata": {
  "interpreter": {
   "hash": "aee8b7b246df8f9039afb4144a1f6fd8d2ca17a180786b69acc140d282b71a49"
  },
  "kernelspec": {
   "display_name": "Python 3.10.4 64-bit",
   "language": "python",
   "name": "python3"
  },
  "language_info": {
   "codemirror_mode": {
    "name": "ipython",
    "version": 3
   },
   "file_extension": ".py",
   "mimetype": "text/x-python",
   "name": "python",
   "nbconvert_exporter": "python",
   "pygments_lexer": "ipython3",
   "version": "3.10.4"
  },
  "orig_nbformat": 4
 },
 "nbformat": 4,
 "nbformat_minor": 2
}
