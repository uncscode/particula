{
 "cells": [
  {
   "cell_type": "markdown",
   "metadata": {},
   "source": [
    "# The `Particle` Class\n",
    "\n",
    "The `Particle` class is the base class for all particles, whether introduced discretely one by one or as a distribution. In reality, the `Particle` class is based on two intermediate classes: `ParticleDistribution` and `ParticleInstances` to instantiate particle distributions and particles directly, respectively."
   ]
  },
  {
   "cell_type": "markdown",
   "metadata": {},
   "source": [
    "## The `ParticleDistribution` Class\n",
    "\n",
    "| attribute    | unit        | default value\n",
    "| ---------    | ----        | -------------\n",
    "| `spacing`    |             | `\"linspace\"`\n",
    "| `nbins`      |             | `1e3`\n",
    "| `nparticles` |             | `1e5`\n",
    "| `volume`     | / m^3       | `1e-6`\n",
    "| `cutoff`     |             | `0.9999`\n",
    "| `gsigma`     |             | `1.25`\n",
    "| `mode`       | m           | `1e-7`\n",
    "\n",
    "methods:\n",
    "pre_radius\n",
    "pre_discretize\n",
    "pre_distribution"
   ]
  },
  {
   "cell_type": "markdown",
   "metadata": {},
   "source": [
    "## The `ParticleInstances` Class\n",
    "\n",
    "| attribute         | unit        | default value\n",
    "| ---------         | ----        | -------------\n",
    "| `particle_radius` |             | `\"linspace\"`\n",
    "| `particle_number` | / kg        | `1e-6`\n",
    "| `particle_density`| / kg m^-3    | `1e-6`\n",
    "| `shape_factor`    |             | `1e-7`\n",
    "| `volume_void`     | / m^3       | `1e-6`\n",
    "| `particle_charge` | / C         | `1e-6`\n",
    "\n",
    "\n",
    "methods:\n",
    "particle_distribution\n",
    "mass\n",
    "knudsen_number\n",
    "slip_correction_factor\n",
    "friction_factor"
   ]
  },
  {
   "cell_type": "code",
   "execution_count": 1,
   "metadata": {},
   "outputs": [],
   "source": []
  },
  {
   "cell_type": "code",
   "execution_count": null,
   "metadata": {},
   "outputs": [],
   "source": []
  },
  {
   "cell_type": "markdown",
   "metadata": {},
   "source": [
    "and then it can be initiated with (some of) the following attributes.\n",
    "\n",
    "## `Particle` attributes\n",
    "\n",
    "| attribute              | unit        | default value\n",
    "| ---------              | ----        | -------------\n",
    "| `spacing`          | K           | 298.15\n",
    "| `nbins`             | Pa          | 101325\n",
    "| `dynamic_viscosity`    | Pa s        | `util.dynamic_viscosity`\n",
    "| `molecular_weight`     | kg / mol    | `constants.MOLECULAR_WEIGHT_AIR`\n",
    "| `reference_viscosity`  | Pa s        | `constants.REF_VISCOSITY_AIR_STP`\n",
    "| `reference_temperature`| K           | `constants.REF_TEMPERATURE_STP`\n",
    "| `sutherland_constant`  | K           | `constants.SUTHERLAND_CONSTANT`\n",
    "| `gas_constant`         | J / mol / K | `constants.GAS_CONSTANT`\n",
    "\n",
    "For example, `Environment(temperature=300)` initiates the class with a temperature of 300 K and the above defaults. Note that, `particula` will assign K if the input is scalar like `temperature=300`. However, it will raise an error if the input has the *wrong* units. All attributes can be accessed by `.<attr>` after `Environment` like below, where `<attr>` is one of the above."
   ]
  }
 ],
 "metadata": {
  "interpreter": {
   "hash": "aee8b7b246df8f9039afb4144a1f6fd8d2ca17a180786b69acc140d282b71a49"
  },
  "kernelspec": {
   "display_name": "Python 3.10.4 64-bit",
   "language": "python",
   "name": "python3"
  },
  "language_info": {
   "codemirror_mode": {
    "name": "ipython",
    "version": 3
   },
   "file_extension": ".py",
   "mimetype": "text/x-python",
   "name": "python",
   "nbconvert_exporter": "python",
   "pygments_lexer": "ipython3",
   "version": "3.10.4"
  },
  "orig_nbformat": 4
 },
 "nbformat": 4,
 "nbformat_minor": 2
}
