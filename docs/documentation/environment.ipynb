{
 "cells": [
  {
   "cell_type": "markdown",
   "metadata": {},
   "source": [
    "# The `Environment` Class"
   ]
  },
  {
   "cell_type": "markdown",
   "metadata": {},
   "source": [
    "The `Environment` class forms the basis of the simulation setup in `particula`; it is in `particula/environment.py`. In summary, we use it to *describe* the environment in which particles and condensing vapors exist and interact. For now, we define an environment by properties (via attributes) such as temperature and pressure with derived properties (via methods) such as the dynamic viscosity and mean free path of the medium gas.\n",
    "\n",
    "The `Environment` class can be imported from `particula.environment`,"
   ]
  },
  {
   "cell_type": "code",
   "execution_count": null,
   "metadata": {},
   "outputs": [],
   "source": [
    "from particula.environment import Environment"
   ]
  },
  {
   "cell_type": "markdown",
   "metadata": {},
   "source": [
    "and then it can be initiated with (some of) the following attributes.\n",
    "\n",
    "## `Environment` attributes\n",
    "\n",
    "| attribute              | unit        | default value\n",
    "| ---------              | ----        | -------------\n",
    "| `temperature`          | K           | 298.15\n",
    "| `pressure`             | Pa          | 101325\n",
    "| `dynamic_viscosity`    | Pa s        | `util.dynamic_viscosity`\n",
    "| `molecular_weight`     | kg / mol    | `constants.MOLECULAR_WEIGHT_AIR`\n",
    "| `reference_viscosity`  | Pa s        | `constants.REF_VISCOSITY_AIR_STP`\n",
    "| `reference_temperature`| K           | `constants.REF_TEMPERATURE_STP`\n",
    "| `sutherland_constant`  | K           | `constants.SUTHERLAND_CONSTANT`\n",
    "| `gas_constant`         | J / mol / K | `constants.GAS_CONSTANT`\n",
    "\n",
    "For example, `Environment(temperature=300)` initiates the class with a temperature of 300 K and the above defaults. Note that, `particula` will assign K if the input is scalar like `temperature=300`. However, it will raise an error if the input has the *wrong* units. All attributes can be accessed by `.<attr>` after `Environment` like below, where `<attr>` is one of the above."
   ]
  },
  {
   "cell_type": "code",
   "execution_count": null,
   "metadata": {},
   "outputs": [],
   "source": [
    "from particula import u\n",
    "from particula.environment import Environment\n",
    "\n",
    "EnvOne = Environment(temperature=300) \n",
    "print(\"temperature is \", EnvOne.temperature) # will print 300 K\n",
    "print(\"pressure is \", EnvOne.pressure) # will print 101325 Pa (kg/m/s^2)"
   ]
  },
  {
   "cell_type": "code",
   "execution_count": null,
   "metadata": {},
   "outputs": [],
   "source": [
    "from particula import u\n",
    "from particula.environment import Environment\n",
    "\n",
    "EnvTwo = Environment(temperature=300*u.K) \n",
    "print(\"temperature is \", EnvTwo.temperature) # will print 300 K as well"
   ]
  },
  {
   "cell_type": "code",
   "execution_count": null,
   "metadata": {},
   "outputs": [],
   "source": [
    "from particula import u\n",
    "from particula.environment import Environment\n",
    "\n",
    "EnvThree = Environment()\n",
    "print(\"temperature is \", EnvTwo.temperature) # will print 298.15 K (the default value)"
   ]
  },
  {
   "cell_type": "code",
   "execution_count": null,
   "metadata": {},
   "outputs": [],
   "source": [
    "from particula import u\n",
    "from particula.environment import Environment\n",
    "\n",
    "EnvWrong = Environment(temperature=300*u.m) # will raise an error"
   ]
  },
  {
   "cell_type": "markdown",
   "metadata": {},
   "source": [
    "In the table above, a variety of attributes have default values from `particula.constants`, like the gas constant and Sutherland constant. This is to allow the user flexibility, but, if not provided, they all fall on default values from the literature as discussed below."
   ]
  },
  {
   "cell_type": "markdown",
   "metadata": {},
   "source": [
    "Finally, one attribute has a default value from `particula.util`. As explained below, we calculate the dynamic viscosity via the Sutherland formula using the temperature (as well as the reference values of temperature, visocsity, and Sutherland constant). The user can override this calculating by offering a different dynamic viscosity with the attribute `dynamic_viscosity`."
   ]
  },
  {
   "cell_type": "markdown",
   "metadata": {},
   "source": [
    "## `Environment` methods\n",
    "\n",
    "As discussed above, the `Environment` class enables us to calculate the dynamic viscosity as well as the mean free path."
   ]
  },
  {
   "cell_type": "markdown",
   "metadata": {},
   "source": [
    "### `Environment.dynamic_viscosity()`\n",
    "More details: https://uncscode.github.io/particula/utilities/dynamic_viscosity.html"
   ]
  },
  {
   "cell_type": "code",
   "execution_count": null,
   "metadata": {},
   "outputs": [],
   "source": [
    "from particula.environment import Environment\n",
    "Environment().dynamic_viscoity() # will produce approx 1.84e-5 kg/m/s"
   ]
  },
  {
   "cell_type": "markdown",
   "metadata": {},
   "source": [
    "### `Environment.mean_free_path()`\n",
    "\n",
    "More details: https://uncscode.github.io/particula/utilities/mean_free_path.html"
   ]
  },
  {
   "cell_type": "code",
   "execution_count": null,
   "metadata": {},
   "outputs": [],
   "source": [
    "from particula.environment import Environment\n",
    "print(\"mean free path is \", Environment().mean_free_path()) # will produce approx 66.5 nm"
   ]
  },
  {
   "cell_type": "markdown",
   "metadata": {},
   "source": [
    "## Notes\n",
    "\n",
    "- While technically allowed, we discourage the users from using vectored temperature and pressure quantities for now. We design `particula` with the intention of having each point in time (calculation) having a unique set of conditions.\n",
    "- Attributes are called without parantheses, e.g. `Environment().temperature`.\n",
    "- Methods are called with parantheses, e.g. `Environment().mean_free_path()`."
   ]
  },
  {
   "cell_type": "markdown",
   "metadata": {},
   "source": []
  }
 ],
 "metadata": {
  "language_info": {
   "name": "python"
  },
  "orig_nbformat": 4
 },
 "nbformat": 4,
 "nbformat_minor": 2
}
