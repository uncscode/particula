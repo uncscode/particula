{
 "cells": [
  {
   "cell_type": "markdown",
   "metadata": {},
   "source": [
    "# `knudsen_number`\n",
    "\n",
    "Returns particle's Knudsen number.\n",
    "\n",
    "        The Knudsen number reflects the relative length scales of\n",
    "        the particle and the suspending fluid (air, water, etc.).\n",
    "        This is calculated by the mean free path of the medium\n",
    "        divided by the particle radius.\n",
    "\n",
    "        The Knudsen number is a measure of continuum effects and\n",
    "        deviation thereof. For larger particles, the Knudsen number\n",
    "        goes towards 0. For smaller particles, the Knudsen number\n",
    "        goes towards infinity."
   ]
  },
  {
   "cell_type": "code",
   "execution_count": null,
   "metadata": {},
   "outputs": [],
   "source": []
  }
 ],
 "metadata": {
  "language_info": {
   "name": "python"
  },
  "orig_nbformat": 4
 },
 "nbformat": 4,
 "nbformat_minor": 2
}
