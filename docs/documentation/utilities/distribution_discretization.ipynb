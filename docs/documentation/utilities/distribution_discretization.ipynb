{
 "cells": [
  {
   "cell_type": "markdown",
   "metadata": {},
   "source": [
    "    \"\"\" discretize the distribution of the particles\n",
    "\n",
    "        Parameters:\n",
    "            interval     (float) the size interval of the distribution\n",
    "            disttype     (str)   the type of distribution, \"lognormal\" for now\n",
    "            gsigma       (float) geometric standard deviation of distribution\n",
    "            mode         (float) pdf scale (corresponds to mode in lognormal)\n",
    "    \"\"\"\n"
   ]
  },
  {
   "cell_type": "code",
   "execution_count": null,
   "metadata": {},
   "outputs": [],
   "source": []
  }
 ],
 "metadata": {
  "language_info": {
   "name": "python"
  },
  "orig_nbformat": 4
 },
 "nbformat": 4,
 "nbformat_minor": 2
}
