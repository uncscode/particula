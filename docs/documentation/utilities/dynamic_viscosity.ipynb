{
 "cells": [
  {
   "cell_type": "markdown",
   "metadata": {},
   "source": [
    "# `dynamic_viscosity`\n",
    "\n",
    "The dynamic viscosity is a property of the fluid, defining the resistance of the fluid to its own movement. The dynamic viscosity is calculated using the Sutherland formula ([reference](https://resources.wolframcloud.com/FormulaRepository/resources/Sutherlands-Formula)). The function can be found and is documented in `util.dynamic_viscosity.py`. It takes inputs of `temperature`, `reference_viscosity`, `reference_temperature`, and `sutherland_constant`. It returns a value for the dynamic viscosity at those variables. At default conditions (298.15 K and 101325 Pa), the dynamic viscosity is approximately 1.84e-5 kg/m/s. The Sutherland formula is\n",
    "\n",
    "$$\n",
    "\\mu = \\frac{\\mu_{0}\\, (T/T_{0})^{3/2}\\, (T_{0} + C)}{C + T}\n",
    "$$\n",
    "\n",
    "where $\\mu$ is the dynamic viscosity, $\\mu_{0}$ is the reference dynamic viscosity, $T$ is temperature, $T_{0}$ is the reference temperature, and $C$ is the Sutherland constant."
   ]
  },
  {
   "cell_type": "code",
   "execution_count": 1,
   "metadata": {},
   "outputs": [
    {
     "data": {
      "text/html": [
       "1.8371493734583912×10<sup>-5</sup> kilogram/(meter second)"
      ],
      "text/latex": [
       "$\\begin{pmatrix}1.8371493734583912\\times 10^{-5}\\end{pmatrix}\\ \\frac{\\mathrm{kilogram}}{\\left(\\mathrm{meter} \\cdot \\mathrm{second}\\right)}$"
      ],
      "text/plain": [
       "array(1.83714937e-05) <Unit('kilogram / meter / second')>"
      ]
     },
     "execution_count": 1,
     "metadata": {},
     "output_type": "execute_result"
    }
   ],
   "source": [
    "from particula.environment import Environment\n",
    "Environment().dynamic_viscosity() # will produce approx 1.84e-5 kg/m/s"
   ]
  },
  {
   "cell_type": "code",
   "execution_count": 2,
   "metadata": {},
   "outputs": [
    {
     "name": "stdout",
     "output_type": "stream",
     "text": [
      "Help on module particula.util.dynamic_viscosity in particula.util:\n",
      "\n",
      "NAME\n",
      "    particula.util.dynamic_viscosity - calculating the dynamic viscosity\n",
      "\n",
      "DESCRIPTION\n",
      "    The dynamic viscocity is calculated using the Sutherland formula,\n",
      "    assuming ideal gas behavior, as a function of temperature.\n",
      "    \n",
      "        \"The dynamic viscosity equals the product of the sum of\n",
      "        Sutherland's constant and the reference temperature divided by\n",
      "        the sum of Sutherland's constant and the temperature,\n",
      "        the reference viscosity and the ratio to the 3/2 power\n",
      "        of the temperature to reference temperature.\"\n",
      "    \n",
      "        https://resources.wolframcloud.com/FormulaRepository/resources/Sutherlands-Formula\n",
      "\n",
      "FUNCTIONS\n",
      "    dyn_vis(temperature=<Quantity(298.15, 'kelvin')>, reference_viscosity=<Quantity(1.716e-05, 'pascal * second')>, reference_temperature=<Quantity(273.15, 'kelvin')>, sutherland_constant=<Quantity(110.4, 'kelvin')>, **kwargs)\n",
      "        The dynamic viscosity of air via Sutherland formula.\n",
      "        This formula depends on temperature (temp) and the reference\n",
      "        temperature (t_ref) as well as the reference viscosity (mu_ref).\n",
      "        \n",
      "        Examples:\n",
      "        ```\n",
      "        >>> from particula import u\n",
      "        >>> from particula.util.dynamic_viscosity import dyn_vis\n",
      "        >>> # with units\n",
      "        >>> dyn_vis(\n",
      "        ... temperature=298.15*u.K,\n",
      "        ... reference_viscosity=1.716e-5*u.Pa*u.s\n",
      "        ... )\n",
      "        <Quantity(1.83714937e-05, 'kilogram / meter / second')>\n",
      "        >>> # without units and taking magnitude\n",
      "        >>> dyn_vis(\n",
      "        ... temperature=298.15,\n",
      "        ... reference_viscosity=1.716e-5\n",
      "        ... ).magnitude\n",
      "        1.8371493734583912e-05\n",
      "        >>> # without units, all keyword arguments\n",
      "        >>> dyn_vis(\n",
      "        ... temperature=298.15,\n",
      "        ... reference_viscosity=1.716e-5,\n",
      "        ... reference_temperature=273.15\n",
      "        ... )\n",
      "        <Quantity(1.83714937e-05, 'kilogram / meter / second')>\n",
      "        >>> # for a list of temperatures\n",
      "        >>> dyn_vis(temperature=[200, 250, 300, 400]).m\n",
      "        array([1.32849751e-05, 1.59905239e-05, 1.84591625e-05, 2.28516090e-05])\n",
      "        ```\n",
      "        \n",
      "        Inputs:\n",
      "            temperature             (float) [K]     (default: 298.15)\n",
      "            reference_viscosity     (float) [Pa*s]  (default: constants)\n",
      "            reference_temperature   (float) [K]     (default: constants)\n",
      "            sutherland_constant     (float) [K]     (default: constants)\n",
      "        \n",
      "        Returns:\n",
      "                                    (float) [Pa*s]\n",
      "        \n",
      "        Using particula.constants:\n",
      "            REF_VISCOSITY_AIR_STP   (float) [Pa*s]\n",
      "            REF_TEMPERATURE_STP     (float) [K]\n",
      "            SUTHERLAND_CONSTANT     (float) [K]\n",
      "\n",
      "DATA\n",
      "    REF_TEMPERATURE_STP = <Quantity(273.15, 'kelvin')>\n",
      "    REF_VISCOSITY_AIR_STP = <Quantity(1.716e-05, 'pascal * second')>\n",
      "    SUTHERLAND_CONSTANT = <Quantity(110.4, 'kelvin')>\n",
      "    u = <pint.registry.UnitRegistry object>\n",
      "\n",
      "FILE\n",
      "    /workspaces/particula/particula/util/dynamic_viscosity.py\n",
      "\n",
      "\n"
     ]
    }
   ],
   "source": [
    "from particula.util import dynamic_viscosity\n",
    "help(dynamic_viscosity)"
   ]
  },
  {
   "cell_type": "code",
   "execution_count": 5,
   "metadata": {},
   "outputs": [
    {
     "name": "stdout",
     "output_type": "stream",
     "text": [
      "\"\"\" calculating the dynamic viscosity\n",
      "\n",
      "    The dynamic viscocity is calculated using the Sutherland formula,\n",
      "    assuming ideal gas behavior, as a function of temperature.\n",
      "\n",
      "        \"The dynamic viscosity equals the product of the sum of\n",
      "        Sutherland's constant and the reference temperature divided by\n",
      "        the sum of Sutherland's constant and the temperature,\n",
      "        the reference viscosity and the ratio to the 3/2 power\n",
      "        of the temperature to reference temperature.\"\n",
      "\n",
      "        https://resources.wolframcloud.com/FormulaRepository/resources/Sutherlands-Formula\n",
      "\n",
      "\"\"\"\n",
      "from particula import u\n",
      "from particula.constants import (REF_TEMPERATURE_STP, REF_VISCOSITY_AIR_STP,\n",
      "                                 SUTHERLAND_CONSTANT)\n",
      "from particula.util.input_handling import in_temperature, in_viscosity\n",
      "\n",
      "\n",
      "def dyn_vis(\n",
      "    temperature=298.15 * u.K,\n",
      "    reference_viscosity=REF_VISCOSITY_AIR_STP,\n",
      "    reference_temperature=REF_TEMPERATURE_STP,\n",
      "    sutherland_constant=SUTHERLAND_CONSTANT,\n",
      "    **kwargs,\n",
      "):\n",
      "    \"\"\" The dynamic viscosity of air via Sutherland formula.\n",
      "        This formula depends on temperature (temp) and the reference\n",
      "        temperature (t_ref) as well as the reference viscosity (mu_ref).\n",
      "\n",
      "        Examples:\n",
      "        ```\n",
      "        >>> from particula import u\n",
      "        >>> from particula.util.dynamic_viscosity import dyn_vis\n",
      "        >>> # with units\n",
      "        >>> dyn_vis(\n",
      "        ... temperature=298.15*u.K,\n",
      "        ... reference_viscosity=1.716e-5*u.Pa*u.s\n",
      "        ... )\n",
      "        <Quantity(1.83714937e-05, 'kilogram / meter / second')>\n",
      "        >>> # without units and taking magnitude\n",
      "        >>> dyn_vis(\n",
      "        ... temperature=298.15,\n",
      "        ... reference_viscosity=1.716e-5\n",
      "        ... ).magnitude\n",
      "        1.8371493734583912e-05\n",
      "        >>> # without units, all keyword arguments\n",
      "        >>> dyn_vis(\n",
      "        ... temperature=298.15,\n",
      "        ... reference_viscosity=1.716e-5,\n",
      "        ... reference_temperature=273.15\n",
      "        ... )\n",
      "        <Quantity(1.83714937e-05, 'kilogram / meter / second')>\n",
      "        >>> # for a list of temperatures\n",
      "        >>> dyn_vis(temperature=[200, 250, 300, 400]).m\n",
      "        array([1.32849751e-05, 1.59905239e-05, 1.84591625e-05, 2.28516090e-05])\n",
      "        ```\n",
      "\n",
      "        Inputs:\n",
      "            temperature             (float) [K]     (default: 298.15)\n",
      "            reference_viscosity     (float) [Pa*s]  (default: constants)\n",
      "            reference_temperature   (float) [K]     (default: constants)\n",
      "            sutherland_constant     (float) [K]     (default: constants)\n",
      "\n",
      "        Returns:\n",
      "                                    (float) [Pa*s]\n",
      "\n",
      "        Using particula.constants:\n",
      "            REF_VISCOSITY_AIR_STP   (float) [Pa*s]\n",
      "            REF_TEMPERATURE_STP     (float) [K]\n",
      "            SUTHERLAND_CONSTANT     (float) [K]\n",
      "\n",
      "    \"\"\"\n",
      "    # trick to avoid triggering a linting error for kwargs\n",
      "    temp = kwargs.get(\"temperature\", temperature)\n",
      "    temp = in_temperature(temperature)\n",
      "    ref_vis = in_viscosity(reference_viscosity)\n",
      "    ref_temp = in_temperature(reference_temperature)\n",
      "    suth_const = in_temperature(sutherland_constant)\n",
      "\n",
      "    return (\n",
      "        ref_vis *\n",
      "        (temp/ref_temp)**(3/2) *\n",
      "        (ref_temp + suth_const) /\n",
      "        (temp + suth_const)\n",
      "    ).to_base_units()\n",
      "\n"
     ]
    }
   ],
   "source": [
    "import inspect\n",
    "print(inspect.getsource(dynamic_viscosity))"
   ]
  }
 ],
 "metadata": {
  "kernelspec": {
   "display_name": "Python 3.10.4 64-bit",
   "language": "python",
   "name": "python3"
  },
  "language_info": {
   "codemirror_mode": {
    "name": "ipython",
    "version": 3
   },
   "file_extension": ".py",
   "mimetype": "text/x-python",
   "name": "python",
   "nbconvert_exporter": "python",
   "pygments_lexer": "ipython3",
   "version": "3.10.4"
  },
  "orig_nbformat": 4,
  "vscode": {
   "interpreter": {
    "hash": "949777d72b0d2535278d3dc13498b2535136f6dfe0678499012e853ee9abcab1"
   }
  }
 },
 "nbformat": 4,
 "nbformat_minor": 2
}
