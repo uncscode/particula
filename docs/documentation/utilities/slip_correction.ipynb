{
 "cells": [
  {
   "cell_type": "markdown",
   "metadata": {},
   "source": [
    "# `slip_correction_factor`\n",
    "\n",
    "Returns particle's Cunningham slip correction factor.\n",
    "\n",
    "        Dimensionless quantity accounting for non-continuum effects\n",
    "        on small particles. It is a deviation from Stokes' Law.\n",
    "        Stokes assumes a no-slip condition that is not correct at\n",
    "        high Knudsen numbers. The slip correction factor is used to\n",
    "        calculate the friction factor.\n",
    "\n",
    "        Thus, the slip correction factor is about unity (1) for larger\n",
    "        particles (Kn -> 0). Its behavior on the other end of the\n",
    "        spectrum (smaller particles; Kn -> inf) is more nuanced, though\n",
    "        it tends to scale linearly on a log-log scale, log Cc vs log Kn."
   ]
  },
  {
   "cell_type": "code",
   "execution_count": null,
   "metadata": {},
   "outputs": [],
   "source": []
  }
 ],
 "metadata": {
  "language_info": {
   "name": "python"
  },
  "orig_nbformat": 4
 },
 "nbformat": 4,
 "nbformat_minor": 2
}
