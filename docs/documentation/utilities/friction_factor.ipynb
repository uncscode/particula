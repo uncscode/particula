{
 "cells": [
  {
   "cell_type": "markdown",
   "metadata": {},
   "source": [
    "# `friction_factor`\n",
    "\n",
    "Returns a particle's friction factor.\n",
    "\n",
    "        Property of the particle's size and surrounding medium.\n",
    "        Multiplying the friction factor by the fluid velocity\n",
    "        yields the drag force on the particle.\n",
    "\n",
    "        It is best thought of as an inverse of mobility or\n",
    "        the ratio between thermal energy and diffusion coefficient.\n",
    "        The modified Stoke's diffusion coefficient is defined as\n",
    "        kT / (6 * np.pi * dyn_vis_air * radius / slip_corr)\n",
    "        and thus the friction factor can be defined as\n",
    "        (6 * np.pi * dyn_vis_air * radius / slip_corr).\n",
    "\n",
    "        In the continuum limit (Kn -> 0; Cc -> 1):\n",
    "            6 * np.pi * dyn_vis_air * radius\n",
    "\n",
    "        In the kinetic limit (Kn -> inf):\n",
    "            8.39 * (dyn_vis_air/mfp_air) * const * radius**2\n",
    "\n",
    "        See more: DOI: 10.1080/02786826.2012.690543 (const=1.36)"
   ]
  },
  {
   "cell_type": "code",
   "execution_count": null,
   "metadata": {},
   "outputs": [],
   "source": []
  }
 ],
 "metadata": {
  "language_info": {
   "name": "python"
  },
  "orig_nbformat": 4
 },
 "nbformat": 4,
 "nbformat_minor": 2
}
