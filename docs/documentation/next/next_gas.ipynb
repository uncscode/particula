{
 "cells": [
  {
   "cell_type": "markdown",
   "metadata": {},
   "source": [
    "# Gases\n",
    "\n",
    "Gases, alongside particles, constitute the essential components of an aerosol system. In their natural state, gases are collections of molecules that move freely, not bound to one another. To model these dynamic systems, we introduce the `Gas` class, a composite that aggregates multiple `GasSpecies` objects, each representing a distinct type of gas molecule.\n",
    "\n",
    "## Leveraging the Composite Pattern in Gas Modeling\n",
    "\n",
    "The **[Composite Pattern](https://en.wikipedia.org/wiki/Composite_pattern)** provides a robust framework for building part-whole hierarchies, making it particularly advantageous for modeling complex systems where both individual components and their aggregations need to be handled uniformly. \n",
    "\n",
    "### Key Concepts:\n",
    "\n",
    "- **`GasSpecies`**: Acts as a leaf in the composite structure, representing individual gas species with unique properties such as name, mass, and vapor pressure.\n",
    "- **`Gas`**: Functions as a composite object capable of encompassing multiple `GasSpecies`, facilitating the management and operation of gas mixtures as coherent wholes.\n",
    "\n",
    "Adopting this pattern allows for a seamless approach to managing gas mixtures, enabling straightforward interactions with both the mixture as a unified entity and its constituent gas species. This methodology not only simplifies the modeling of gas behaviors but also enhances the flexibility and scalability of simulations involving aerosol systems."
   ]
  },
  {
   "cell_type": "code",
   "execution_count": 1,
   "metadata": {},
   "outputs": [],
   "source": [
    "from particula.next.gas import Gas, GasSpecies"
   ]
  },
  {
   "cell_type": "markdown",
   "metadata": {},
   "source": [
    "## GasSpecies\n",
    "\n",
    "In the realm of gas modeling, understanding the characteristics of individual gas species is crucial. The `GasSpecies` class provides a detailed representation of these entities, encapsulating essential properties such as name, mass, vapor pressure, and whether the species is condensable. This level of detail allows for precise calculations and simulations involving gas mixtures.\n",
    "\n",
    "### Key Features:\n",
    "\n",
    "- **Name**: Identifies the gas species (e.g., Oxygen, Nitrogen).\n",
    "- **Mass**: The molecular mass of the species, crucial for calculations involving mass transfer or reactions.\n",
    "- **Vapor Pressure**: Indicates the species' pressure at which it can exist in equilibrium with its liquid or solid form. This property is particularly important for understanding condensation and evaporation dynamics.\n",
    "- **Condensable**: A boolean flag indicating whether the species can condense under certain conditions, which is vital for modeling phase transitions.\n",
    "\n",
    "By modeling gas species with such granularity, we can perform more accurate and realistic simulations of gas behaviors, including interactions within mixtures and responses to environmental changes.\n"
   ]
  },
  {
   "cell_type": "code",
   "execution_count": 2,
   "metadata": {},
   "outputs": [
    {
     "name": "stdout",
     "output_type": "stream",
     "text": [
      "Oxygen (O2) is non-condensable.\n",
      "Water Vapor (H2O) is condensable.\n",
      "Mass of Water Vapor if condensable: 18.0 g/mol\n",
      "Mass of Oxygen if condensable: 0.0 g/mol\n"
     ]
    }
   ],
   "source": [
    "# Assuming the GasSpecies class definition as provided in the module\n",
    "oxygen = GasSpecies(\n",
    "    name=\"Oxygen\",\n",
    "    mass=32,\n",
    "    vapor_pressure=0.21,\n",
    "    condensable=False)\n",
    "water_vapor = GasSpecies(\n",
    "    name=\"Water Vapor\",\n",
    "    mass=18,\n",
    "    vapor_pressure=2.3,\n",
    "    condensable=True)\n",
    "\n",
    "print(\n",
    "    f\"Oxygen (O2) is {'condensable' if oxygen.is_condensable() else 'non-condensable'}.\")\n",
    "print(\n",
    "    f\"Water Vapor (H2O) is {'condensable' if water_vapor.is_condensable() else 'non-condensable'}.\")\n",
    "\n",
    "# Demonstrating the use of get_mass_condensable\n",
    "print(\n",
    "    f\"Mass of Water Vapor if condensable: {water_vapor.get_mass_condensable()} g/mol\")\n",
    "print(f\"Mass of Oxygen if condensable: {oxygen.get_mass_condensable()} g/mol\")"
   ]
  },
  {
   "cell_type": "markdown",
   "metadata": {},
   "source": [
    "## Gas: Managing Gas Mixtures\n",
    "\n",
    "In gas modeling, understanding individual gas species is just one part of the equation. Equally important is the ability to manage mixtures of these gases, simulating how they behave as a collective. The `Gas` class represents such mixtures, encapsulating a collection of `GasSpecies` and providing methods to manipulate this collection effectively.\n",
    "\n",
    "### Key Features:\n",
    "\n",
    "- **Temperature and Pressure**: The `Gas` class tracks the overall temperature and pressure of the gas mixture, essential parameters for many gas-related calculations.\n",
    "- **Component Management**: It allows for adding or removing `GasSpecies`, offering flexibility in defining and modifying gas mixtures.\n",
    "- **Mass Calculations**: The class provides methods to calculate the total mass of the mixture, as well as the mass of condensable species within it, enabling detailed analysis of the mixture's properties.\n",
    "\n",
    "By treating gas mixtures as composite objects that contain multiple `GasSpecies`, we can apply operations uniformly across the entire mixture or access individual components as needed. This approach simplifies interactions with gas mixtures, making it easier to model and understand their behavior in various conditions.\n",
    "\n",
    "### Example: Using the `Gas` Class\n",
    "\n",
    "Let's demonstrate how to create a gas mixture and utilize the `Gas` class's methods to interact with it:"
   ]
  },
  {
   "cell_type": "code",
   "execution_count": 6,
   "metadata": {},
   "outputs": [
    {
     "name": "stdout",
     "output_type": "stream",
     "text": [
      "Total mass of the gas mixture: [32. 28. 18.] g/mol\n",
      "Total mass of condensable species: [18.] g/mol\n",
      "Total mass after removing Nitrogen: [32. 18.] g/mol\n",
      "Mass of Water Vapor: [18.] g/mol\n"
     ]
    }
   ],
   "source": [
    "# Assuming the Gas and GasSpecies classes as previously defined\n",
    "\n",
    "# Initialize the Gas mixture\n",
    "air = Gas(temperature=298.15, total_pressure=101325)\n",
    "\n",
    "# Add species to the mixture\n",
    "air.add_species(\n",
    "    name=\"Oxygen\",\n",
    "    mass=32,\n",
    "    vapor_pressure=0.21,\n",
    "    condensable=False)\n",
    "air.add_species(\n",
    "    name=\"Nitrogen\",\n",
    "    mass=28,\n",
    "    vapor_pressure=0.8,\n",
    "    condensable=False)\n",
    "air.add_species(\n",
    "    name=\"Water Vapor\",\n",
    "    mass=18,\n",
    "    vapor_pressure=2.3,\n",
    "    condensable=True)\n",
    "\n",
    "# Display the total mass of the gas mixture\n",
    "print(f\"Total mass of the gas mixture: {air.get_mass()} g/mol\")\n",
    "\n",
    "# Display the mass of condensable species within the mixture\n",
    "print(f\"Total mass of condensable species: {air.get_mass_condensable()} g/mol\")\n",
    "\n",
    "# Remove a species from the mixture and display the updated total mass\n",
    "air.remove_species(\"Nitrogen\")\n",
    "print(f\"Total mass after removing Nitrogen: {air.get_mass()} g/mol\")\n",
    "\n",
    "# Call a species by name and display its mass\n",
    "print(f\"Mass of Water Vapor: {air.get_mass(name='Water Vapor')} g/mol\")"
   ]
  },
  {
   "cell_type": "markdown",
   "metadata": {},
   "source": []
  }
 ],
 "metadata": {
  "kernelspec": {
   "display_name": "ParticulaDev_py311",
   "language": "python",
   "name": "python3"
  },
  "language_info": {
   "codemirror_mode": {
    "name": "ipython",
    "version": 3
   },
   "file_extension": ".py",
   "mimetype": "text/x-python",
   "name": "python",
   "nbconvert_exporter": "python",
   "pygments_lexer": "ipython3",
   "version": "3.11.8"
  }
 },
 "nbformat": 4,
 "nbformat_minor": 2
}
