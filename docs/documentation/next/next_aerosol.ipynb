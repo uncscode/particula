{
 "cells": [
  {
   "cell_type": "markdown",
   "metadata": {},
   "source": [
    "# Aerosol\n",
    "\n",
    "Aerosols are complex systems comprising both gaseous components and particulate matter. To accurately model such systems, we introduce the `Aerosol` class, which serves as a collection of `Gas` and `Particle` objects. \n",
    "\n",
    "### Implementation Overview\n",
    "\n",
    "The `Aerosol` class initializes with instances of `Gas` and `Particle`. There is a single `Gas` object and a list of `Particle` objects. The each can be iterated on to pull out the underlying `GasSpecies` and `Particle` objects.\n"
   ]
  },
  {
   "cell_type": "code",
   "execution_count": 5,
   "metadata": {},
   "outputs": [
    {
     "name": "stdout",
     "output_type": "stream",
     "text": [
      "Gas mass: ['water' 'butanol' 'styrene']\n",
      "Particle mass: 9.42477796076938e-10\n"
     ]
    }
   ],
   "source": [
    "import numpy as np\n",
    "from particula.next.gas_species import GasSpeciesBuilder\n",
    "from particula.next.particle import Particle, particle_strategy_factory\n",
    "from particula.next.aerosol import Aerosol\n",
    "from particula.next.gas_vapor_pressure import vapor_pressure_factory\n",
    "from particula.next.particle_activity import particle_activity_strategy_factory\n",
    "from particula.next.surface import surface_strategy_factory\n",
    "\n",
    "# Create a Gas instance\n",
    "# Define the coefficients for Butanol using the Antoine equation.\n",
    "butanol_coefficients = {'a': 7.838, 'b': 1558.19, 'c': 196.881}\n",
    "butanol_antione = vapor_pressure_factory(\n",
    "    strategy='antoine', **butanol_coefficients)\n",
    "styrene_coefficients = {'a': 6.924, 'b': 1420, 'c': 226}\n",
    "styrene_antione = vapor_pressure_factory(\n",
    "    strategy='antoine', **styrene_coefficients)\n",
    "# Water uses a different model for vapor pressure calculation called the\n",
    "# Buck equation.\n",
    "water_buck = vapor_pressure_factory(\n",
    "    strategy='water_buck')\n",
    "\n",
    "# gas species\n",
    "molar_mass = np.array([0.018, 0.074121, 104.15e-3])\n",
    "vapor_pressure = [butanol_antione, styrene_antione]\n",
    "concentration = np.array([0.017, 2e-6, 1e-9])\n",
    "names = np.array([\"water\", \"butanol\", \"styrene\"])\n",
    "gas_species = GasSpeciesBuilder() \\\n",
    "    .name(names) \\\n",
    "    .molar_mass(molar_mass) \\\n",
    "    .vapor_pressure_strategy(vapor_pressure) \\\n",
    "    .condensable(True) \\\n",
    "    .concentration(concentration) \\\n",
    "    .build()\n",
    "\n",
    "# particle distribution\n",
    "particle_distribution = np.array([0.1, 0.2, 0.3, 0.4, 0.5]) * 1e-6\n",
    "particle_density = 1.0e3\n",
    "particle_concentration = np.ones_like(particle_distribution) * 1e6\n",
    "\n",
    "particle = Particle(\n",
    "    strategy=particle_strategy_factory(\"radii_based_moving_bin\"),\n",
    "    activity=particle_activity_strategy_factory(),\n",
    "    surface=surface_strategy_factory(),\n",
    "    distribution=particle_distribution,\n",
    "    density=particle_density,\n",
    "    concentration=particle_concentration\n",
    ")\n",
    "\n",
    "# Create an Aerosol instance\n",
    "aerosol = Aerosol(gas=gas_species, particles=particle)\n",
    "\n",
    "# Accessing dynamically attached methods and properties\n",
    "# Example method call, assuming such a method exists\n",
    "print(f\"Gas mass: {aerosol.gas}\")\n",
    "print(f\"Particle mass: {aerosol.particles[0].get_total_mass()}\")"
   ]
  },
  {
   "cell_type": "markdown",
   "metadata": {},
   "source": [
    "## Conclusion\n",
    "\n",
    "This `Aerosol` collection or interface may change in the future, as we figure out this interacts with the aerosol simulation, but for now, this is a good start."
   ]
  },
  {
   "cell_type": "code",
   "execution_count": 6,
   "metadata": {},
   "outputs": [
    {
     "name": "stdout",
     "output_type": "stream",
     "text": [
      "Help on class Aerosol in module particula.next.aerosol:\n",
      "\n",
      "class Aerosol(builtins.object)\n",
      " |  Aerosol(gas: particula.next.gas.Gas, particles: Union[particula.next.particle.Particle, List[particula.next.particle.Particle]])\n",
      " |  \n",
      " |  A class for interacting with collections of Gas and Particle objects.\n",
      " |  Allows for the representation and manipulation of an aerosol, which\n",
      " |  is composed of various gases and particles.\n",
      " |  \n",
      " |  Methods defined here:\n",
      " |  \n",
      " |  __init__(self, gas: particula.next.gas.Gas, particles: Union[particula.next.particle.Particle, List[particula.next.particle.Particle]])\n",
      " |      Initializes an Aerosol instance with Gas and Particle instances.\n",
      " |      \n",
      " |      Parameters:\n",
      " |      - gas (Gas): Gas with many GasSpeices possible.\n",
      " |      - particles (Union[Particle, List[Particle]]): One or more Particle\n",
      " |      instances.\n",
      " |  \n",
      " |  add_gas(self, gas: particula.next.gas.Gas)\n",
      " |      Replaces the current Gas instance with a new one.\n",
      " |      \n",
      " |      Parameters:\n",
      " |      - gas (Gas): The Gas instance to replace the current one.\n",
      " |  \n",
      " |  add_particle(self, particle: particula.next.particle.Particle)\n",
      " |      Adds a Particle instance to the aerosol.\n",
      " |      \n",
      " |      Parameters:\n",
      " |      - particle (Particle): The Particle instance to add.\n",
      " |  \n",
      " |  iterate_gas(self) -> Iterator[particula.next.gas_species.GasSpecies]\n",
      " |      Returns an iterator for gas species.\n",
      " |      \n",
      " |      Returns:\n",
      " |      Iterator[GasSpecies]: An iterator over the gas species type.\n",
      " |  \n",
      " |  iterate_particle(self) -> Iterator[particula.next.particle.Particle]\n",
      " |      Returns an iterator for particle.\n",
      " |      \n",
      " |      Returns:\n",
      " |      Iterator[Particle]: An iterator over the particle type.\n",
      " |  \n",
      " |  ----------------------------------------------------------------------\n",
      " |  Data descriptors defined here:\n",
      " |  \n",
      " |  __dict__\n",
      " |      dictionary for instance variables\n",
      " |  \n",
      " |  __weakref__\n",
      " |      list of weak references to the object\n",
      "\n"
     ]
    }
   ],
   "source": [
    "help(Aerosol)"
   ]
  }
 ],
 "metadata": {
  "kernelspec": {
   "display_name": "ParticulaDev_py311",
   "language": "python",
   "name": "python3"
  },
  "language_info": {
   "codemirror_mode": {
    "name": "ipython",
    "version": 3
   },
   "file_extension": ".py",
   "mimetype": "text/x-python",
   "name": "python",
   "nbconvert_exporter": "python",
   "pygments_lexer": "ipython3",
   "version": "3.11.8"
  }
 },
 "nbformat": 4,
 "nbformat_minor": 2
}
