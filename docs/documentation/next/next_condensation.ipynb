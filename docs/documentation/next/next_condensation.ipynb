{
 "cells": [
  {
   "cell_type": "markdown",
   "metadata": {},
   "source": [
    "# Condensation\n",
    "\n",
    "Condensation, is the first process where this framework we have been building up is applied. Here we need to account for the gas phase, and the particle phase. Then ensure that the partial pressures of species at the surface of the particle are equal to the partial pressure in the gas.\n",
    "\n",
    "\n",
    "### Core Concepts:\n",
    "\n",
    "- **Runnable**: An abstract base class defining the interface for aerosol transformation processes.\n",
    "  - Here and aerosol object is passed to the process, and the process is expected to modify the aerosol object in place, returning the modified object.\n",
    "- **MassCondensation**: A concrete class implementing the RunnableProcess interface for the condensation process. Is an implementation of a `Runnable` process that adds mass to the aerosol object based on the partial pressures of the gas phase and the particle phase. Then removes the mass from the gas phase.\n",
    "\n",
    "### Inputs:\n",
    "\n",
    "The inputs get a bit complicated here, but in the future we will build factories to handle the creation of these objects and use builder patterns to change units and verify inputs. For now, we will just create them manually.\n"
   ]
  },
  {
   "cell_type": "code",
   "execution_count": 1,
   "metadata": {},
   "outputs": [],
   "source": [
    "import numpy as np\n",
    "from particula.next.gas_species import GasSpeciesBuilder\n",
    "from particula.next.particle import Particle, particle_strategy_factory\n",
    "from particula.next.aerosol import Aerosol\n",
    "from particula.next.gas_vapor_pressure import vapor_pressure_factory\n",
    "from particula.next.particle_activity import particle_activity_strategy_factory\n",
    "from particula.next.surface import surface_strategy_factory\n",
    "from particula.next.particle_process import MassCondensation\n",
    "from particula.next.condensation import CondensationIsothermal"
   ]
  },
  {
   "cell_type": "code",
   "execution_count": 2,
   "metadata": {},
   "outputs": [
    {
     "name": "stdout",
     "output_type": "stream",
     "text": [
      "Gas mass: ['water' 'butanol' 'styrene']\n"
     ]
    }
   ],
   "source": [
    "# Create a Gas instance\n",
    "# Define the coefficients for Butanol using the Antoine equation.\n",
    "butanol_coefficients = {\n",
    "    'latent_heat': 267.0e3,  # check these values, they seem too high, or what latent heat should be used is wrong.\n",
    "    'temperature_initial': 298.15,\n",
    "    'pressure_initial': 0.58 * 1e3}\n",
    "butanol_clausius = vapor_pressure_factory(\n",
    "    strategy='clausius_clapeyron', **butanol_coefficients)\n",
    "styrene_coefficients = {\n",
    "    'latent_heat': 42e3,\n",
    "    'temperature_initial': 298.15,\n",
    "    'pressure_initial': 667}\n",
    "styrene_clausius = vapor_pressure_factory(\n",
    "    strategy='clausius_clapeyron', **styrene_coefficients)\n",
    "water_buck = vapor_pressure_factory(\n",
    "    strategy='water_buck')\n",
    "\n",
    "# set RH at 10%\n",
    "water_concentration = water_buck.saturation_concentration(0.017, 298.15)*0.1\n",
    "\n",
    "# gas species\n",
    "molar_mass = np.array([0.018, 0.074121, 104.15e-3])\n",
    "vapor_pressure = [water_buck, butanol_clausius, styrene_clausius]\n",
    "concentration = np.array([water_concentration, 2e-6, 1e-9])\n",
    "names = np.array([\"water\", \"butanol\", \"styrene\"])\n",
    "gas_species = GasSpeciesBuilder() \\\n",
    "    .name(names) \\\n",
    "    .molar_mass(molar_mass) \\\n",
    "    .vapor_pressure_strategy(vapor_pressure) \\\n",
    "    .condensable(True) \\\n",
    "    .concentration(concentration) \\\n",
    "    .build()\n",
    "\n",
    "\n",
    "# Accessing dynamically attached methods and properties\n",
    "# Example method call, assuming such a method exists\n",
    "print(f\"Gas mass: {gas_species}\")"
   ]
  },
  {
   "cell_type": "code",
   "execution_count": 11,
   "metadata": {},
   "outputs": [
    {
     "name": "stdout",
     "output_type": "stream",
     "text": [
      "Particle mass [kg]: [0.0e+00 4.1e-20 4.1e-20]\n",
      "Particle radius [m]: [0.00000000e+00 1.91215196e-08 1.91215196e-08]\n"
     ]
    }
   ],
   "source": [
    "# particle distribution speciated mass, single mode\n",
    "particle_masses = np.array([0, 4.1e-20, 4.1e-20])  # kg\n",
    "particle_density = np.array([1.0e3, 1.4e3, 1.4e3])  # kg/m^3\n",
    "particle_concentration = np.ones_like(particle_masses) * 1e6\n",
    "\n",
    "# particle activity strategy, or how to treat the mixing of species, kappa, ideal mixing, etc.\n",
    "particle_activity_kwargs = {\n",
    "    'kappa': np.array([0.0, 0.2, 0.1]),\n",
    "    'molar_mass': molar_mass,\n",
    "    'density': particle_density}\n",
    "particle_activity = particle_activity_strategy_factory(\n",
    "    strategy='kappa', **particle_activity_kwargs)\n",
    "\n",
    "# particle surface strategy, or how to treat the surface properties, surface tension mixing rule, and Kelvin effect\n",
    "particle_surface_kwargs = {\n",
    "    'surface_tension': np.array([0.07, 0.03, 0.03]),\n",
    "    'density': particle_density}\n",
    "particle_surface = surface_strategy_factory(\n",
    "    strategy_type='volume', **particle_surface_kwargs)\n",
    "\n",
    "particle = Particle(\n",
    "    strategy=particle_strategy_factory(\"speciated_mass_moving_bin\"),\n",
    "    activity=particle_activity,\n",
    "    surface=particle_surface,\n",
    "    distribution=particle_masses,\n",
    "    density=particle_density,\n",
    "    concentration=particle_concentration\n",
    ")\n",
    "\n",
    "# Particle,\n",
    "print(f\"Particle mass [kg]: {particle.get_mass()}\")\n",
    "print(f\"Particle radius [m]: {particle.get_radius()}\")"
   ]
  },
  {
   "cell_type": "markdown",
   "metadata": {},
   "source": [
    "## Condensation Process\n",
    "\n",
    "With the gas phase and particle phase defined, we can now define the condensation process. This process is defined by the following equation:"
   ]
  },
  {
   "cell_type": "markdown",
   "metadata": {},
   "source": [
    "\n"
   ]
  }
 ],
 "metadata": {
  "kernelspec": {
   "display_name": "ParticulaDev_py311",
   "language": "python",
   "name": "python3"
  },
  "language_info": {
   "codemirror_mode": {
    "name": "ipython",
    "version": 3
   },
   "file_extension": ".py",
   "mimetype": "text/x-python",
   "name": "python",
   "nbconvert_exporter": "python",
   "pygments_lexer": "ipython3",
   "version": "3.11.8"
  }
 },
 "nbformat": 4,
 "nbformat_minor": 2
}
