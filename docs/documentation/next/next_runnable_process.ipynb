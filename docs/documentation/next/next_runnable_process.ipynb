{
 "cells": [
  {
   "cell_type": "markdown",
   "metadata": {},
   "source": [
    "# Modeling Aerosol Dynamics with Runnable Processes\n",
    "\n",
    "In aerosol science, understanding and simulating the dynamic processes affecting aerosol particles and gases—such as condensation and coagulation—is crucial for accurate modeling. The `RunnableProcess` framework allows for the encapsulation of these dynamic behaviors, providing a flexible and modular approach to applying transformations to aerosol systems.\n",
    "\n",
    "The underlying Processes are currently just mock-ups, we wanted to test the framework of the `RunnableProcess` class and the `ProcessSequence` utility class. How they are called and how they can be chained together to simulate complex aerosol transformations.\n",
    "\n",
    "### Core Concepts:\n",
    "\n",
    "- **RunnableProcess**: An abstract base class defining the interface for aerosol transformation processes.\n",
    "- **MassCondensation** & **MassCoagulation**: Concrete implementations of `RunnableProcess` that simulate condensation and coagulation effects on an aerosol.\n",
    "- **ProcessSequence**: A utility class for chaining multiple processes together, enabling complex transformations through a series of simple steps.\n",
    "\n"
   ]
  },
  {
   "cell_type": "code",
   "execution_count": 2,
   "metadata": {},
   "outputs": [
    {
     "name": "stdout",
     "output_type": "stream",
     "text": [
      "After condensation, particle distribution: [150. 300. 450.]\n",
      "After condensation and coagulation, particle distribution: [112.5 225.  337.5]\n"
     ]
    }
   ],
   "source": [
    "import numpy as np\n",
    "from particula.base.gas import Gas\n",
    "from particula.base.particle import Particle, particle_strategy_factory\n",
    "from particula.base.aerosol import Aerosol\n",
    "from particula.base.process import ProcessSequence, MassCondensation, MassCoagulation\n",
    "\n",
    "# Initialize an Aerosol instance\n",
    "gas = Gas()\n",
    "gas.add_species(\"Oxygen\", 32.0)\n",
    "gas.add_species(\"Nitrogen\", 28.0)\n",
    "strategy = particle_strategy_factory('mass_based')\n",
    "particle = Particle(strategy, np.array(\n",
    "    [100, 200, 300], dtype=np.float64), 2.5, np.array([10, 20, 30], dtype=np.float64))\n",
    "aerosol = Aerosol(gas, particle)\n",
    "\n",
    "# Create process instances\n",
    "mass_condensation = MassCondensation(other_settings=\"Some settings\")\n",
    "mass_coagulation = MassCoagulation(other_setting2=\"Some other settings\")\n",
    "\n",
    "# Apply a single process\n",
    "condensed_aerosol = mass_condensation.execute(aerosol)\n",
    "# Examine the changes\n",
    "print(\"After condensation, particle distribution:\",\n",
    "      condensed_aerosol.particle.distribution)\n",
    "\n",
    "# Chain processes using ProcessSequence\n",
    "process_sequence = ProcessSequence()\n",
    "process_sequence.add_process(mass_condensation)\n",
    "process_sequence.add_process(mass_coagulation)\n",
    "\n",
    "\n",
    "# Or using the | operator for a more intuitive chaining\n",
    "# HUGE FAN OF THIS IDEA\n",
    "process_sequence = mass_condensation | mass_coagulation\n",
    "\n",
    "# Execute the sequence\n",
    "final_aerosol = process_sequence.execute(aerosol)\n",
    "\n",
    "\n",
    "print(\"After condensation and coagulation, particle distribution:\",\n",
    "      final_aerosol.particle.distribution)"
   ]
  },
  {
   "cell_type": "markdown",
   "metadata": {},
   "source": [
    "## Practical Insights:\n",
    "\n",
    "- **Process Execution**: Applying a process directly modifies the aerosol instance, reflecting the physical transformations occurring within the aerosol system.\n",
    "- **Sequence Execution**: By chaining processes, complex transformations can be modeled step-by-step, offering a detailed view of the aerosol's evolution.\n",
    "\n",
    "Through these examples, we illustrate not just the theoretical underpinnings of aerosol process modeling but also practical methodologies for simulation and analysis.\n",
    "\n",
    "\n",
    "## Conclusion\n",
    "\n",
    "The `RunnableProcess` framework and the `ProcessSequence` utility provide powerful tools for modeling the dynamic nature of aerosols. By abstracting complex transformations into manageable, composable units, this approach greatly enhances the flexibility and depth of aerosol simulations, paving the way for more accurate and comprehensive studies in aerosol science.\n",
    "\n",
    "It still, is not clear how/where would be best to integrate the ODE solvers to solve the differential equations that describe the aerosol dynamics. This is a work in progress...\n",
    "\n",
    "Current guess would be ODEfactory to create the ODEsolver and inject the ode solver when creating the Process object.\n"
   ]
  }
 ],
 "metadata": {
  "kernelspec": {
   "display_name": "ParticulaDev_py311",
   "language": "python",
   "name": "python3"
  },
  "language_info": {
   "codemirror_mode": {
    "name": "ipython",
    "version": 3
   },
   "file_extension": ".py",
   "mimetype": "text/x-python",
   "name": "python",
   "nbconvert_exporter": "python",
   "pygments_lexer": "ipython3",
   "version": "3.11.8"
  }
 },
 "nbformat": 4,
 "nbformat_minor": 2
}
