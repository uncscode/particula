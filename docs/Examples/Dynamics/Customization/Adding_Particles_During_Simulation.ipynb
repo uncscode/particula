{
 "cells": [
  {
   "cell_type": "markdown",
   "metadata": {},
   "source": [
    "# Adding Particles During Simulation\n",
    "\n",
    "In this tutorial, we demonstrate how add particles to an aerosol object. This is useful when you want to modify a custom aerosol process during a simulation.\n",
    "\n",
    "The example is for a particle resolved simulation, the same approach can be used for the other types of particle representations (*but it has not been tested yet*).\n",
    "\n",
    "**Imports**"
   ]
  },
  {
   "cell_type": "code",
   "execution_count": 6,
   "metadata": {},
   "outputs": [],
   "source": [
    "import numpy as np\n",
    "import matplotlib.pyplot as plt\n",
    "\n",
    "# particula imports\n",
    "import particula as par"
   ]
  },
  {
   "cell_type": "markdown",
   "metadata": {},
   "source": [
    "## Aerosol Setup\n",
    "\n",
    "We need to first make the aerosol object. Details on this can be found in the Aerosol Tutorial."
   ]
  },
  {
   "cell_type": "code",
   "execution_count": 7,
   "metadata": {},
   "outputs": [
    {
     "name": "stdout",
     "output_type": "stream",
     "text": [
      "Gas mixture at 298.15 K and 101325.0 Pa consisting of ['Preset100']\n",
      "[0]: Particle Representation:\n",
      "\tStrategy: ParticleResolvedSpeciatedMass\n",
      "\tActivity: ActivityIdealMass\n",
      "\tSurface: SurfaceStrategyVolume\n",
      "\tMass Concentration: 8.556e-07 [kg/m^3]\n",
      "\tNumber Concentration: 1.000e+11 [#/m^3]\n"
     ]
    }
   ],
   "source": [
    "# Preset gas species that does not condense in the atmosphere\n",
    "# AtmosphereBuilder constructs the atmosphere with predefined species\n",
    "atmosphere = (\n",
    "    par.gas.AtmosphereBuilder()\n",
    "    .set_more_partitioning_species(\n",
    "        par.gas.PresetGasSpeciesBuilder().build()\n",
    "    )  # Add a preset gas species\n",
    "    .set_temperature(25, temperature_units=\"degC\")  # Set temperature to 25°C\n",
    "    .set_pressure(1, pressure_units=\"atm\")  # Set pressure to 1 atmosphere\n",
    "    .build()  # Finalize the atmosphere object\n",
    ")\n",
    "\n",
    "# Generate a particle distribution using a lognormal sample distribution\n",
    "# This distribution has a mean particle diameter (mode) and geometric standard deviation (GSD)\n",
    "particle_sample = par.particles.get_lognormal_sample_distribution(\n",
    "    mode=np.array([100e-9]),  # Mean particle diameter of 100 nm\n",
    "    geometric_standard_deviation=np.array([1.3]),  # GSD of 1.3\n",
    "    number_of_particles=np.array([1e4]),  # Total number of particles\n",
    "    number_of_samples=100_000,  # Number of samples for particle distribution\n",
    ")\n",
    "\n",
    "# Calculate the mass of each particle in the sample, assuming density of 1500 kg/m^3\n",
    "particle_mass_sample = (\n",
    "    4 / 3 * np.pi * particle_sample**3 * 1500\n",
    ")  # Particle mass in kg\n",
    "\n",
    "# Build a resolved mass representation for each particle\n",
    "# This defines how particle mass, activity, and surface are represented\n",
    "resolved_masses = (\n",
    "    par.particles.ResolvedParticleMassRepresentationBuilder()\n",
    "    .set_distribution_strategy(\n",
    "        par.particles.ParticleResolvedSpeciatedMass()\n",
    "    )  # Use speciated mass distribution\n",
    "    .set_activity_strategy(\n",
    "        par.particles.ActivityIdealMass()\n",
    "    )  # Define activity based on ideal mass\n",
    "    .set_surface_strategy(\n",
    "        par.particles.SurfaceStrategyVolume()\n",
    "    )  # Define surface area based on particle volume\n",
    "    .set_mass(particle_mass_sample, \"kg\")  # Assign mass of particles (in kg)\n",
    "    .set_density(1500, \"kg/m^3\")  # Set particle density to 1500 kg/m^3\n",
    "    .set_charge(0)  # Assume neutral particles with no charge\n",
    "    .set_volume(1, \"cm^3\")  # Set volume of particle distribution\n",
    "    .build()  # Finalize the resolved mass representation\n",
    ")\n",
    "\n",
    "# Create an aerosol object with the defined atmosphere and resolved particles\n",
    "aerosol = par.Aerosol(atmosphere=atmosphere, particles=resolved_masses)\n",
    "\n",
    "# Print the properties of the atmosphere\n",
    "print(aerosol)"
   ]
  },
  {
   "cell_type": "markdown",
   "metadata": {},
   "source": [
    "## Particles to Add\n",
    "\n",
    "For the particle resolved representation, the particles to add must be the provide an array of new particle masses and the concentrations. \n",
    "\n",
    "Currently the concentrations should all be one, as this is the particle resolved representation.\n",
    "\n",
    "If you have multiple species, then the shape of the `added_distribution` should be `(number of particles, number of species)`. But `added_concentration` is still `(number of particles,)`."
   ]
  },
  {
   "cell_type": "code",
   "execution_count": 8,
   "metadata": {},
   "outputs": [
    {
     "name": "stdout",
     "output_type": "stream",
     "text": [
      "Particles to add: (10000,)\n"
     ]
    }
   ],
   "source": [
    "# particles to add\n",
    "\n",
    "# Generate a particle distribution using a lognormal sample distribution\n",
    "# This distribution has a mean particle diameter (mode) and geometric standard deviation (GSD)\n",
    "particles_to_add = par.particles.get_lognormal_sample_distribution(\n",
    "    mode=np.array([1e-9]),  # Mean particle diameter of 100 nm\n",
    "    geometric_standard_deviation=np.array([1.1]),  # GSD of 1.3\n",
    "    number_of_particles=np.array([1e4]),  # Total number of particles\n",
    "    number_of_samples=10_000,  # Number of samples for particle distribution\n",
    ")\n",
    "\n",
    "# Calculate the mass of each particle in the sample, assuming density of 1500 kg/m^3\n",
    "particle_mass_add = (\n",
    "    4 / 3 * np.pi * particles_to_add**3 * 1500\n",
    ")  # Particle mass in kg\n",
    "concentration_add = np.ones_like(particle_mass_add)\n",
    "\n",
    "\n",
    "# print shapes\n",
    "print(f\"Particles to add: {particle_mass_add.shape}\")"
   ]
  },
  {
   "cell_type": "code",
   "execution_count": 9,
   "metadata": {},
   "outputs": [
    {
     "name": "stdout",
     "output_type": "stream",
     "text": [
      "Initial concentration: 99999999999.99998\n",
      "Concentration after step 1: 109999999999.99998\n",
      "Concentration after step 2: 119999999999.99998\n"
     ]
    }
   ],
   "source": [
    "# Get initial particle radii before adding particle\n",
    "initial_radii = aerosol.particles.get_radius(clone=True)\n",
    "print(\n",
    "    f\"Initial concentration: {aerosol.particles.get_total_concentration()}\"\n",
    ")\n",
    "\n",
    "# Perform the add process\n",
    "aerosol.particles[\n",
    "    0\n",
    "].add_concentration(  # select the particle representation and call add_concentration\n",
    "    added_concentration=concentration_add,\n",
    "    added_distribution=particle_mass_add,\n",
    ")\n",
    "radii_after_step_1 = aerosol.particles.get_radius(clone=True)\n",
    "print(\n",
    "    f\"Concentration after step 1: {aerosol.particles.get_total_concentration()}\"\n",
    ")\n",
    "\n",
    "# Perform the add process\n",
    "aerosol.particles.add_concentration(\n",
    "    added_concentration=concentration_add,\n",
    "    added_distribution=particle_mass_add,\n",
    ")\n",
    "radii_after_step_2 = aerosol.particles.get_radius(clone=True)\n",
    "\n",
    "print(\n",
    "    f\"Concentration after step 2: {aerosol.particles.get_total_concentration()}\"\n",
    ")\n",
    "concentration_value = aerosol.particles.concentration"
   ]
  },
  {
   "cell_type": "markdown",
   "metadata": {},
   "source": [
    "## Graphing\n",
    "\n",
    "We now visualize the two particle add steps"
   ]
  },
  {
   "cell_type": "code",
   "execution_count": 10,
   "metadata": {},
   "outputs": [
    {
     "data": {
      "image/png": "[encoded data removed]",
      "text/plain": [
       "<Figure size 800x600 with 1 Axes>"
      ]
     },
     "metadata": {},
     "output_type": "display_data"
    }
   ],
   "source": [
    "# Define lognormal bins for particle radius histogram\n",
    "bins_lognormal = np.logspace(-10, -6, 100)\n",
    "\n",
    "# Create figure for visualizing the histogram of particle radii\n",
    "fig, ax = plt.subplots(figsize=(8, 6))\n",
    "\n",
    "# Plot radii distribution after step 2\n",
    "bins, edges = np.histogram(radii_after_step_2, bins=bins_lognormal)\n",
    "ax.bar(\n",
    "    edges[:-1],\n",
    "    bins,\n",
    "    width=np.diff(edges),\n",
    "    align=\"edge\",\n",
    "    label=\"After 2 steps\",\n",
    "    alpha=0.6,\n",
    ")\n",
    "# Plot radii distribution after step 1\n",
    "\n",
    "bins, edges = np.histogram(radii_after_step_1, bins=bins_lognormal)\n",
    "ax.bar(\n",
    "    edges[:-1],\n",
    "    bins,\n",
    "    width=np.diff(edges),\n",
    "    align=\"edge\",\n",
    "    label=\"After 1 step\",\n",
    "    alpha=0.5,\n",
    ")\n",
    "\n",
    "# Plot initial radii distribution\n",
    "bins, edges = np.histogram(initial_radii, bins=bins_lognormal)\n",
    "ax.bar(\n",
    "    edges[:-1],\n",
    "    bins,\n",
    "    width=np.diff(edges),\n",
    "    align=\"edge\",\n",
    "    label=\"Initial\",\n",
    "    alpha=0.4,\n",
    "    edgecolor=\"black\",\n",
    ")\n",
    "\n",
    "# Set axes to logarithmic scale for x-axis (particle radius)\n",
    "ax.set_xscale(\"log\")\n",
    "ax.set_yscale(\"log\")\n",
    "\n",
    "# Add labels and legend\n",
    "ax.set_xlabel(\"Radius (m)\")\n",
    "ax.set_ylabel(\"Number of particles\")\n",
    "plt.legend()\n",
    "\n",
    "# Show the plot\n",
    "plt.show()"
   ]
  },
  {
   "cell_type": "markdown",
   "metadata": {},
   "source": [
    "## Conclusion\n",
    "\n",
    "We have demonstrated how to add particles to an aerosol object. This is useful when you want to modify a aerosol object with a custom process during a simulation."
   ]
  }
 ],
 "metadata": {
  "kernelspec": {
   "display_name": "particula_dev312",
   "language": "python",
   "name": "python3"
  },
  "language_info": {
   "codemirror_mode": {
    "name": "ipython",
    "version": 3
   },
   "file_extension": ".py",
   "mimetype": "text/x-python",
   "name": "python",
   "nbconvert_exporter": "python",
   "pygments_lexer": "ipython3",
   "version": "3.12.7"
  }
 },
 "nbformat": 4,
 "nbformat_minor": 2
}
