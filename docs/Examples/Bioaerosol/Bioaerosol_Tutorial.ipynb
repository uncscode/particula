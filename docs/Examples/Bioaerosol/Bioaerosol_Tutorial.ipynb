{
 "cells": [
  {
   "cell_type": "markdown",
   "id": "00872b7b",
   "metadata": {},
   "source": [
    "# Bioaerosol Tutorial\n",
    "\n",
    "Bioaerosols build upon the Aerosols system, introducing biological material such as bacteria, viruses, and fungi. Here we go through an example of incorporating biological material into particula, and examine what it can do, and where we can improve in future code development."
   ]
  },
  {
   "cell_type": "code",
   "execution_count": 1,
   "id": "c09b52e2",
   "metadata": {},
   "outputs": [],
   "source": [
    "import numpy as np\n",
    "import matplotlib.pyplot as plt\n",
    "\n",
    "import particula as par"
   ]
  },
  {
   "cell_type": "code",
   "execution_count": 4,
   "id": "59488d77",
   "metadata": {},
   "outputs": [
    {
     "name": "stdout",
     "output_type": "stream",
     "text": [
      "Gas mixture at 298.15 K and 101325.0 Pa consisting of [\"['biological' 'water']\"]\n",
      "Particle Representation:\n",
      "\tStrategy: ParticleResolvedSpeciatedMass\n",
      "\tActivity: ActivityKappaParameter\n",
      "\tSurface: SurfaceStrategyVolume\n",
      "\tMass Concentration: 1.787e-04 [kg/m^3]\n",
      "\tNumber Concentration: 1.000e+10 [#/m^3]\n"
     ]
    },
    {
     "data": {
      "image/png": "[encoded data removed]",
      "text/plain": [
       "<Figure size 640x480 with 1 Axes>"
      ]
     },
     "metadata": {},
     "output_type": "display_data"
    }
   ],
   "source": [
    "np.random.seed(100)\n",
    "\n",
    "# 1a. Species properties\n",
    "molar_mass_water = 18.01528e-3  # kg/mol\n",
    "molar_mass_bio = 6.022e8  # kg/mol Assumed, based on ~1e-15 kg per bacterial cell\n",
    "\n",
    "density_bio = 1000.0  # kg/m^3 Assumed. Average bacterial cell is 70% water\n",
    "density_water = 1000.0 # kg/m^3\n",
    "\n",
    "kappa_bio = 0.01  # hygroscopicity of biological particles\n",
    "kappa_water = 0.01\n",
    "\n",
    "number_of_samples = 10000  # number of particles to sample\n",
    "simulation_volume = 1e-6  # 1/m^3\n",
    "water_activity = 1.02  # initial water activity\n",
    "temperature = 298.15\n",
    "\n",
    "# Vapor pressure strategies\n",
    "vapor_organics = (\n",
    "    par.gas.ConstantBuilder().set_vapor_pressure(2e-12, \"Pa\").build()\n",
    ")\n",
    "vapor_bio = par.gas.ConstantBuilder().set_vapor_pressure(1e-30, \"Pa\").build()\n",
    "vapor_water = par.gas.WaterBuckBuilder().build()\n",
    "\n",
    "# Gas species\n",
    "water_sat = vapor_water.saturation_concentration(molar_mass_water, temperature)\n",
    "water_conc = water_sat * water_activity\n",
    "\n",
    "gas_species = (\n",
    "    par.gas.GasSpeciesBuilder()\n",
    "    .set_name(np.array([\"biological\", \"water\"]))\n",
    "    .set_molar_mass(\n",
    "        np.array([molar_mass_bio, molar_mass_water]),\n",
    "        \"kg/mol\",\n",
    "    )\n",
    "    .set_condensable(True)\n",
    "    .set_vapor_pressure_strategy([vapor_bio, vapor_water])\n",
    "    .set_concentration(np.array([1e-14, water_conc]), \"kg/m^3\")\n",
    "    .build()\n",
    ")\n",
    "\n",
    "atmosphere = (\n",
    "    par.gas.AtmosphereBuilder()\n",
    "    .add_species(gas_species)\n",
    "    .set_temperature(temperature, \"K\")\n",
    "    .set_pressure(1, \"atm\")\n",
    "    .build()\n",
    ")\n",
    "\n",
    "radii_bio = par.particles.get_lognormal_sample_distribution(\n",
    "    mode=np.array([1e-6]), # meters\n",
    "    geometric_standard_deviation=np.array([1.5]),\n",
    "    number_of_particles=np.array([1]),\n",
    "    number_of_samples=number_of_samples,\n",
    ")\n",
    "\n",
    "mass_bio = 4 / 3 * np.pi * (radii_bio**3) * density_bio\n",
    "mass_water = mass_bio\n",
    "\n",
    "mass_speciation = np.column_stack((mass_bio, mass_water))\n",
    "\n",
    "# Activity strategy\n",
    "activity_strategy = (\n",
    "    par.particles.ActivityKappaParameterBuilder()\n",
    "    .set_density([density_bio, density_water], \"kg/m^3\")\n",
    "    .set_molar_mass(\n",
    "        [molar_mass_bio, molar_mass_water], \"kg/mol\"\n",
    "    )\n",
    "    .set_kappa(np.array([kappa_bio, kappa_water]))\n",
    "    .set_water_index(2)\n",
    "    .build()\n",
    ")\n",
    "\n",
    "surface_strategy = par.particles.SurfaceStrategyVolume()\n",
    "\n",
    "# Create Particula particle object\n",
    "resolved_masses = (\n",
    "    par.particles.ResolvedParticleMassRepresentationBuilder()\n",
    "    .set_distribution_strategy(par.particles.ParticleResolvedSpeciatedMass())\n",
    "    .set_activity_strategy(activity_strategy)\n",
    "    .set_surface_strategy(surface_strategy)\n",
    "    .set_mass(mass_speciation, \"kg\")\n",
    "    .set_density(\n",
    "        np.array([density_bio, density_water]), \"kg/m^3\"\n",
    "    )\n",
    "    .set_charge(0)  # no charge on particles\n",
    "    .set_volume(simulation_volume, \"m^3\")\n",
    "    .build()\n",
    ")\n",
    "\n",
    "# Create Aerosol object\n",
    "aerosol = par.Aerosol(atmosphere=atmosphere, particles=resolved_masses)\n",
    "print(aerosol)\n",
    "\n",
    "# Plot initial size distribution\n",
    "fig, ax = plt.subplots()\n",
    "ax.hist(\n",
    "    np.log10(resolved_masses.get_radius()), bins=50, density=False, alpha=0.5\n",
    ")\n",
    "ax.set_xlabel(\"log10(Diameter [m])\")\n",
    "ax.set_ylabel(\"Bin counts\")\n",
    "ax.set_title(\"Initial Particle Size Distribution\");"
   ]
  },
  {
   "cell_type": "markdown",
   "id": "539cf384",
   "metadata": {},
   "source": []
  }
 ],
 "metadata": {
  "kernelspec": {
   "display_name": "testparticula",
   "language": "python",
   "name": "python3"
  },
  "language_info": {
   "codemirror_mode": {
    "name": "ipython",
    "version": 3
   },
   "file_extension": ".py",
   "mimetype": "text/x-python",
   "name": "python",
   "nbconvert_exporter": "python",
   "pygments_lexer": "ipython3",
   "version": "3.13.2"
  }
 },
 "nbformat": 4,
 "nbformat_minor": 5
}
