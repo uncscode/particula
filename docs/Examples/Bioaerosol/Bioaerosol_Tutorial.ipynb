{
 "cells": [
  {
   "cell_type": "markdown",
   "id": "00872b7b",
   "metadata": {},
   "source": [
    "# Bioaerosol Tutorial\n",
    "\n",
    "Bioaerosols build upon the Aerosols system, introducing biological material such as bacteria, viruses, and fungi. Here we go through an example of incorporating biological material into particula, and examine what it can do, and where we can improve in future code development."
   ]
  },
  {
   "cell_type": "code",
   "execution_count": null,
   "id": "c09b52e2",
   "metadata": {},
   "outputs": [],
   "source": [
    "import numpy as np\n",
    "import matplotlib.pyplot as plt\n",
    "\n",
    "import particula as par"
   ]
  },
  {
   "cell_type": "markdown",
   "id": "42bea26e",
   "metadata": {},
   "source": [
    "# Create the atmospheric conditions\n",
    "\n",
    "Similar to the aerosol tutorial, first we'll create an `Atmosphere` object to represent the gas phase. Then, we will create a `ParticleRepresentation` object for the particulate phase.  \n",
    "\n",
    "Here, we'll start with an air and water vapor system under standard temperature and pressure."
   ]
  },
  {
   "cell_type": "code",
   "execution_count": null,
   "id": "26390852",
   "metadata": {},
   "outputs": [],
   "source": [
    "# Pure air\n",
    "molar_mass_air = 28.9647e-3  # kg/mol\n",
    "parameters_clausius = {\n",
    "    \"molar_mass\": molar_mass_air,\n",
    "    \"temperature_initial\": 298.15, # K\n",
    "    \"temperature_initial_units\": \"K\",\n",
    "    \"pressure_initial\": 101325,\n",
    "    \"pressure_initial_units\": \"Pa\", # Pa\n",
    "}"
   ]
  },
  {
   "cell_type": "markdown",
   "id": "e92a87f5",
   "metadata": {},
   "source": [
    "# Create the Aerosol object\n",
    "\n",
    "We will use bacillus subtilis suspended in water (as an idealized case for Tryptic Soy Broth (TSB)), and then we can look at the deposition over time."
   ]
  },
  {
   "cell_type": "code",
   "execution_count": null,
   "id": "b3c2b72a",
   "metadata": {},
   "outputs": [],
   "source": []
  },
  {
   "cell_type": "markdown",
   "id": "539cf384",
   "metadata": {},
   "source": []
  }
 ],
 "metadata": {
  "language_info": {
   "name": "python"
  }
 },
 "nbformat": 4,
 "nbformat_minor": 5
}
