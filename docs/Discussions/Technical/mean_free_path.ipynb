{
 "cells": [
  {
   "cell_type": "markdown",
   "metadata": {},
   "source": [
    "# Mean Free Path\n",
    "\n",
    "The mean free path is the average distance of a molecule between collisions with other molecules present in the medium. We use the kinetic theory of gases to calculate the mean free path in an ideal gas as\n",
    "\n",
    "$$\n",
    "\\lambda = \\frac{2 \\mu / p}{(8 \\, \\mathrm{MW} / (\\pi R T))^{1/2}} \n",
    "$$\n",
    "\n",
    "where $\\lambda$ is the mean free path, $\\mu$ is the dynamic viscosity, $p$ is the pressure, $\\mathrm{MW}$ is the molecular weight, $R$ is the gas constant, $T$ is the temperature. As noted above, the user can provide an explicit value for $\\mu$ or it can be calculated using the above formula (that is, the user can provide the inputs to the above formula for $\\mu$). At default conditions, $\\lambda$ is about 66.5 nm."
   ]
  },
  {
   "cell_type": "code",
   "execution_count": 1,
   "metadata": {},
   "outputs": [
    {
     "name": "stdout",
     "output_type": "stream",
     "text": [
      "mean free path is 6.647342358988276e-08 m\n"
     ]
    }
   ],
   "source": [
    "import particula as par\n",
    "\n",
    "air_dynamic_viscosity = par.gas.get_dynamic_viscosity(temperature=298.15)\n",
    "\n",
    "mean_free_path = par.gas.get_molecule_mean_free_path(\n",
    "    molar_mass=28.97e-3,\n",
    "    temperature=298.15,\n",
    "    pressure=101325,\n",
    "    dynamic_viscosity=air_dynamic_viscosity,\n",
    ")\n",
    "\n",
    "print(f\"mean free path is {mean_free_path} m\")  # will produce approx 66.5 nm"
   ]
  }
 ],
 "metadata": {
  "kernelspec": {
   "display_name": "particula_dev312",
   "language": "python",
   "name": "python3"
  },
  "language_info": {
   "codemirror_mode": {
    "name": "ipython",
    "version": 3
   },
   "file_extension": ".py",
   "mimetype": "text/x-python",
   "name": "python",
   "nbconvert_exporter": "python",
   "pygments_lexer": "ipython3",
   "version": "3.12.7"
  },
  "orig_nbformat": 4
 },
 "nbformat": 4,
 "nbformat_minor": 2
}
