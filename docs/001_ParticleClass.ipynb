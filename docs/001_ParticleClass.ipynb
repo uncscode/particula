{
  "nbformat": 4,
  "nbformat_minor": 0,
  "metadata": {
    "colab": {
      "name": "Untitled21.ipynb",
      "provenance": []
    },
    "kernelspec": {
      "name": "python3",
      "display_name": "Python 3"
    },
    "language_info": {
      "name": "python"
    }
  },
  "cells": [
    {
      "cell_type": "markdown",
      "source": [
        "## Startup"
      ],
      "metadata": {
        "id": "mYSYN2FTC7JX"
      }
    },
    {
      "cell_type": "markdown",
      "source": [
        "First, install `particula` from PyPI using `!pip install -U particula` or `%pip install -U particula`. In this, the `!` or `%` are so-called magic signs prefixing \"magic functions\". In this case, the magic function is `%pip` --- which is one way to install Python packages from the PyPI (the Python Package Index). The `-U` is to instruct `pip` to update particula to the latest version."
      ],
      "metadata": {
        "id": "B9ip8rJNBgZF"
      }
    },
    {
      "cell_type": "code",
      "execution_count": 1,
      "metadata": {
        "colab": {
          "base_uri": "https://localhost:8080/"
        },
        "id": "vPT-i9Qu-QU8",
        "outputId": "4ed0e16f-acca-4b57-802a-dbb9bb2808a8"
      },
      "outputs": [
        {
          "output_type": "stream",
          "name": "stdout",
          "text": [
            "Requirement already satisfied: particula in /usr/local/lib/python3.7/dist-packages (0.0.2)\n",
            "Requirement already satisfied: python-version>=\"3.7\" in /usr/local/lib/python3.7/dist-packages (from particula) (0.0.2)\n",
            "Requirement already satisfied: pint in /usr/local/lib/python3.7/dist-packages (from particula) (0.18)\n",
            "Requirement already satisfied: numpy in /usr/local/lib/python3.7/dist-packages (from particula) (1.19.5)\n",
            "Requirement already satisfied: packaging in /usr/local/lib/python3.7/dist-packages (from pint->particula) (21.3)\n",
            "Requirement already satisfied: importlib-metadata in /usr/local/lib/python3.7/dist-packages (from pint->particula) (4.8.2)\n",
            "Requirement already satisfied: typing-extensions>=3.6.4 in /usr/local/lib/python3.7/dist-packages (from importlib-metadata->pint->particula) (3.10.0.2)\n",
            "Requirement already satisfied: zipp>=0.5 in /usr/local/lib/python3.7/dist-packages (from importlib-metadata->pint->particula) (3.6.0)\n",
            "Requirement already satisfied: pyparsing!=3.0.5,>=2.0.2 in /usr/local/lib/python3.7/dist-packages (from packaging->pint->particula) (3.0.6)\n"
          ]
        }
      ],
      "source": [
        "%pip install -U particula"
      ]
    },
    {
      "cell_type": "markdown",
      "source": [
        "After installing `particula`, we can import it into our workspace with `import particula`. Let's check the version with `.__version__` and let's call `help` on the overall package to see what we have. "
      ],
      "metadata": {
        "id": "EoTypuRQCsfA"
      }
    },
    {
      "cell_type": "code",
      "source": [
        "import particula"
      ],
      "metadata": {
        "id": "U5UTLkYi-R_2"
      },
      "execution_count": 2,
      "outputs": []
    },
    {
      "cell_type": "code",
      "source": [
        "particula.__version__"
      ],
      "metadata": {
        "colab": {
          "base_uri": "https://localhost:8080/",
          "height": 37
        },
        "id": "7wnlcZmb-YVJ",
        "outputId": "fc1ecc6b-3c57-4563-b7a5-442436840e52"
      },
      "execution_count": 3,
      "outputs": [
        {
          "output_type": "execute_result",
          "data": {
            "application/vnd.google.colaboratory.intrinsic+json": {
              "type": "string"
            },
            "text/plain": [
              "'0.0.2'"
            ]
          },
          "metadata": {},
          "execution_count": 3
        }
      ]
    },
    {
      "cell_type": "code",
      "source": [
        "help(particula)"
      ],
      "metadata": {
        "colab": {
          "base_uri": "https://localhost:8080/"
        },
        "id": "4wp25bbh-bw5",
        "outputId": "b5b1eaaf-e211-4932-b31c-d0c7dcf35faf"
      },
      "execution_count": 4,
      "outputs": [
        {
          "output_type": "stream",
          "name": "stdout",
          "text": [
            "Help on package particula:\n",
            "\n",
            "NAME\n",
            "    particula - PARTICULA!\n",
            "\n",
            "PACKAGE CONTENTS\n",
            "    aerosol_dynamics (package)\n",
            "\n",
            "VERSION\n",
            "    0.0.2\n",
            "\n",
            "FILE\n",
            "    /usr/local/lib/python3.7/dist-packages/particula/__init__.py\n",
            "\n",
            "\n"
          ]
        }
      ]
    },
    {
      "cell_type": "markdown",
      "source": [
        "The above two code cells show that we have the prerelease version `0.0.2` (our latest as of writing this). We still are in the process of writing more thorough documentation, and so a help call on `particula` yields a shout --- maybe a shout for help? `PARTICULA!` However, we get a hint about what else is inside this package, `aerosol_dynamics` package/module. We will check this now."
      ],
      "metadata": {
        "id": "wXPNsoC7DFmv"
      }
    },
    {
      "cell_type": "markdown",
      "source": [
        "## A peek into `aerosol_dynamics`"
      ],
      "metadata": {
        "id": "zrNnQDp0C-N2"
      }
    },
    {
      "cell_type": "markdown",
      "source": [
        "We can import `aerosol_dynamics` either via \n",
        "\n",
        "```python\n",
        "from particula import aerosol_dynamics\n",
        "```\n",
        "\n",
        "or\n",
        "\n",
        "```python\n",
        "import particula.aerosol_dynamics\n",
        "```\n",
        "\n",
        "to check it out. We will call help again to see what we have. "
      ],
      "metadata": {
        "id": "podJg5bWEg0Q"
      }
    },
    {
      "cell_type": "code",
      "source": [
        "from particula import aerosol_dynamics"
      ],
      "metadata": {
        "id": "wAAzjh6A-hVN"
      },
      "execution_count": 5,
      "outputs": []
    },
    {
      "cell_type": "code",
      "source": [
        "help(aerosol_dynamics)"
      ],
      "metadata": {
        "colab": {
          "base_uri": "https://localhost:8080/"
        },
        "id": "8QtMsgOz-uvK",
        "outputId": "6c9943c1-221b-476d-e68a-811e8038bf7d"
      },
      "execution_count": 6,
      "outputs": [
        {
          "output_type": "stream",
          "name": "stdout",
          "text": [
            "Help on package particula.aerosol_dynamics in particula:\n",
            "\n",
            "NAME\n",
            "    particula.aerosol_dynamics - This is the aerosol_dynamics module.\n",
            "\n",
            "DESCRIPTION\n",
            "    It can do the following:\n",
            "\n",
            "PACKAGE CONTENTS\n",
            "    environment\n",
            "    environment_test\n",
            "    parcel\n",
            "    parcel_test\n",
            "    particle\n",
            "    particle_test\n",
            "    physical_parameters\n",
            "\n",
            "DATA\n",
            "    u = <pint.registry.UnitRegistry object>\n",
            "\n",
            "FILE\n",
            "    /usr/local/lib/python3.7/dist-packages/particula/aerosol_dynamics/__init__.py\n",
            "\n",
            "\n"
          ]
        }
      ]
    },
    {
      "cell_type": "markdown",
      "source": [
        "Now! We have some package contents that look promising. We will only check out `particle` in this case. Again, import it and call help on it."
      ],
      "metadata": {
        "id": "K7twy8pqE7-S"
      }
    },
    {
      "cell_type": "code",
      "source": [
        "from particula.aerosol_dynamics import particle"
      ],
      "metadata": {
        "id": "G8u_QMMT-sfx"
      },
      "execution_count": 7,
      "outputs": []
    },
    {
      "cell_type": "code",
      "source": [
        "help(particle)"
      ],
      "metadata": {
        "colab": {
          "base_uri": "https://localhost:8080/"
        },
        "id": "1_yFPZr9--_L",
        "outputId": "d1d6c776-e67f-4267-f558-41a06cc6f2a1"
      },
      "execution_count": 8,
      "outputs": [
        {
          "output_type": "stream",
          "name": "stdout",
          "text": [
            "Help on module particula.aerosol_dynamics.particle in particula.aerosol_dynamics:\n",
            "\n",
            "NAME\n",
            "    particula.aerosol_dynamics.particle - Class for creating particles.\n",
            "\n",
            "CLASSES\n",
            "    builtins.object\n",
            "        Particle\n",
            "    \n",
            "    class Particle(builtins.object)\n",
            "     |  Particle(name: str, radius, density, charge)\n",
            "     |  \n",
            "     |  Class for creating particles:\n",
            "     |  Framework for particle--particle and gas--particle interactions.\n",
            "     |  \n",
            "     |  Attributes:\n",
            "     |      name    (str)   [no units]\n",
            "     |      radius  (float) [m]\n",
            "     |      density (float) [kg/m**3]\n",
            "     |      charge  (int)   [dimensionless]\n",
            "     |      mass    (float) [kg]\n",
            "     |  \n",
            "     |  Methods defined here:\n",
            "     |  \n",
            "     |  __init__(self, name: str, radius, density, charge)\n",
            "     |      Constructs the particle object.\n",
            "     |      \n",
            "     |      Parameters:\n",
            "     |          name    (str)   [no units]\n",
            "     |          radius  (float) [m]\n",
            "     |          density (float) [kg/m**3]\n",
            "     |          charge  (int)   [dimensionless]\n",
            "     |  \n",
            "     |  charge(self) -> int\n",
            "     |      Returns charge of particle.\n",
            "     |      Checks units: [dimensionless]\n",
            "     |  \n",
            "     |  collision_kernel_continuum_limit(self, other, environment: particula.aerosol_dynamics.environment.Environment) -> float\n",
            "     |      Continuum limit of collision kernel.\n",
            "     |      Checks units: [dimensionless]\n",
            "     |  \n",
            "     |  collision_kernel_kinetic_limit(self, other, environment: particula.aerosol_dynamics.environment.Environment) -> float\n",
            "     |      Kinetic limit of collision kernel.\n",
            "     |      Checks units: [dimensionless]\n",
            "     |  \n",
            "     |  coulomb_enhancement_continuum_limit(self, other, environment: particula.aerosol_dynamics.environment.Environment) -> float\n",
            "     |      Continuum limit of Coulomb enhancement for particle--particle coagulation.\n",
            "     |      Checks units: [dimensionless]\n",
            "     |  \n",
            "     |  coulomb_enhancement_kinetic_limit(self, other, environment: particula.aerosol_dynamics.environment.Environment) -> float\n",
            "     |      Kinetic limit of Coulomb enhancement for particle--particle cooagulation.\n",
            "     |      Checks units: [dimensionless]\n",
            "     |  \n",
            "     |  coulomb_potential_ratio(self, other, environment: particula.aerosol_dynamics.environment.Environment) -> float\n",
            "     |      Calculates the Coulomb potential ratio.\n",
            "     |      Checks units: [dimensionless]\n",
            "     |  \n",
            "     |  density(self) -> int\n",
            "     |      Returns density of particle.\n",
            "     |      Checks units: [kg/m**3]\n",
            "     |  \n",
            "     |  diffusive_knudsen_number(self, other, environment: particula.aerosol_dynamics.environment.Environment) -> float\n",
            "     |      Diffusive Knudsen number.\n",
            "     |      Checks units: [dimensionless]\n",
            "     |      \n",
            "     |      The *diffusive* Knudsen number is different from Knudsen number.\n",
            "     |      Ratio of:\n",
            "     |          - numerator: mean persistence of one particle\n",
            "     |          - denominator: effective length scale of\n",
            "     |              particle--particle Coulombic interaction\n",
            "     |  \n",
            "     |  dimensionless_coagulation_kernel_hard_sphere(self, other, environment: particula.aerosol_dynamics.environment.Environment) -> float\n",
            "     |      Dimensionless particle--particle coagulation kernel.\n",
            "     |      Checks units: [dimensionless]\n",
            "     |  \n",
            "     |  friction_factor(self, environment: particula.aerosol_dynamics.environment.Environment) -> float\n",
            "     |      Returns a particle's friction factor.\n",
            "     |      Checks units: [N*s/m]\n",
            "     |      \n",
            "     |      Property of the particle's size and surrounding medium.\n",
            "     |      Multiplying the friction factor by the fluid velocity\n",
            "     |      yields the drag force on the particle.\n",
            "     |  \n",
            "     |  knudsen_number(self, environment: particula.aerosol_dynamics.environment.Environment) -> float\n",
            "     |      Returns particle's Knudsen number.\n",
            "     |      Checks units: [dimensionless]\n",
            "     |      \n",
            "     |      The Knudsen number reflects the relative length scales of\n",
            "     |      the particle and the suspending fluid (air, water, etc.).\n",
            "     |      This is calculated by the mean free path of the medium\n",
            "     |      divided by the particle radius.\n",
            "     |  \n",
            "     |  mass(self) -> float\n",
            "     |      Returns mass of particle.\n",
            "     |      Checks units: [kg]\n",
            "     |  \n",
            "     |  name(self) -> str\n",
            "     |      Returns the name of particle.\n",
            "     |  \n",
            "     |  radius(self) -> float\n",
            "     |      Returns radius of particle.\n",
            "     |      Checks units: [m]\n",
            "     |  \n",
            "     |  reduced_friction_factor(self, other, environment: particula.aerosol_dynamics.environment.Environment) -> float\n",
            "     |      Returns the reduced friction factor between two particles.\n",
            "     |      Checks units: [N*s/m]\n",
            "     |      \n",
            "     |      Similar to the reduced mass.\n",
            "     |      The reduced friction factor allows a two-body problem\n",
            "     |      to be solved as a one-body problem.\n",
            "     |  \n",
            "     |  reduced_mass(self, other) -> float\n",
            "     |      Returns the reduced mass of two particles.\n",
            "     |      Checks units: [kg]\n",
            "     |      \n",
            "     |      The reduced mass is an \"effective inertial\" mass.\n",
            "     |      Allows a two-body problem to be solved as a one-body problem.\n",
            "     |  \n",
            "     |  slip_correction_factor(self, environment: particula.aerosol_dynamics.environment.Environment) -> float\n",
            "     |      Returns particle's Cunningham slip correction factor.\n",
            "     |      Checks units: [dimensionless]\n",
            "     |      \n",
            "     |      Dimensionless quantity accounting for non-continuum effects\n",
            "     |      on small particles. It is a deviation from Stokes' Law.\n",
            "     |      Stokes assumes a no-slip condition that is not correct at\n",
            "     |      high Knudsen numbers. The slip correction factor is used to\n",
            "     |      calculate the friction factor.\n",
            "     |      \n",
            "     |      See Eq 9.34 in Atmos. Chem. & Phys. (2016) for more informatiom.\n",
            "     |  \n",
            "     |  ----------------------------------------------------------------------\n",
            "     |  Data descriptors defined here:\n",
            "     |  \n",
            "     |  __dict__\n",
            "     |      dictionary for instance variables (if defined)\n",
            "     |  \n",
            "     |  __weakref__\n",
            "     |      list of weak references to the object (if defined)\n",
            "\n",
            "DATA\n",
            "    u = <pint.registry.UnitRegistry object>\n",
            "\n",
            "FILE\n",
            "    /usr/local/lib/python3.7/dist-packages/particula/aerosol_dynamics/particle.py\n",
            "\n",
            "\n"
          ]
        }
      ]
    },
    {
      "cell_type": "markdown",
      "source": [
        "We see there is more documentation now. The `help` call lists a \"class\" called \"Particle\" and all its available \"methods\" (read: functions) alphabetically. For now, you can think of a class as a super-function (it is more than that). Note also, that classes follow `CamelCase` (hence, `Particle`) whereas methods/functions follow snake_case (hence, `reduced_mass`). We make a lot of use of unit registry (called `u`) to ensure all our calculations have proper units, even if dimensionless. Without further ado, let's look at an example."
      ],
      "metadata": {
        "id": "3-mgI7yBFegi"
      }
    },
    {
      "cell_type": "markdown",
      "source": [
        "## An example... \n",
        "\n",
        "... to calculate the dimensionless coagulation rate. Let's define to particles, `particla_a` and `particle_b`."
      ],
      "metadata": {
        "id": "B-dwE5_tGYpv"
      }
    },
    {
      "cell_type": "code",
      "source": [
        "particle_a = particle.Particle(name='a', radius=1e-9, density=1e3, charge=0)"
      ],
      "metadata": {
        "id": "2u7Lo1wb_Adx"
      },
      "execution_count": 9,
      "outputs": []
    },
    {
      "cell_type": "code",
      "source": [
        "particle_b = particle.Particle(name='b', radius=2e-9, density=1e3, charge=0)"
      ],
      "metadata": {
        "id": "2jpUw274_ZA5"
      },
      "execution_count": 10,
      "outputs": []
    },
    {
      "cell_type": "markdown",
      "source": [
        "Then, if we call the `radius` method of particle_a (as suffix), we get its radius printed with a unit. Alternatively, we can call the `radius` method from the class itself, not prefixed to a certain particle (same result)."
      ],
      "metadata": {
        "id": "qeje43ycGo93"
      }
    },
    {
      "cell_type": "code",
      "source": [
        "particle_a.radius()"
      ],
      "metadata": {
        "colab": {
          "base_uri": "https://localhost:8080/",
          "height": 37
        },
        "id": "FMms9WdJ_Sca",
        "outputId": "afa8ba50-5f00-4f98-d086-4d0506761fd5"
      },
      "execution_count": 11,
      "outputs": [
        {
          "output_type": "execute_result",
          "data": {
            "text/latex": "$1\\times 10^{-9}\\ \\mathrm{meter}$",
            "text/html": [
              "1×10<sup>-9</sup> meter"
            ],
            "text/plain": [
              "1e-09 meter"
            ]
          },
          "metadata": {},
          "execution_count": 11
        }
      ]
    },
    {
      "cell_type": "code",
      "source": [
        "particle.Particle.radius(particle_a)"
      ],
      "metadata": {
        "colab": {
          "base_uri": "https://localhost:8080/",
          "height": 37
        },
        "id": "zDPQ1em5G6kK",
        "outputId": "d0007e92-46c1-4d8d-ee48-d5b47517a009"
      },
      "execution_count": 12,
      "outputs": [
        {
          "output_type": "execute_result",
          "data": {
            "text/latex": "$1\\times 10^{-9}\\ \\mathrm{meter}$",
            "text/html": [
              "1×10<sup>-9</sup> meter"
            ],
            "text/plain": [
              "1e-09 meter"
            ]
          },
          "metadata": {},
          "execution_count": 12
        }
      ]
    },
    {
      "cell_type": "markdown",
      "source": [
        "Same for the `mass` and `charge` methods. Note `charge` here is the number of charges. "
      ],
      "metadata": {
        "id": "tQl8XvpLHBTk"
      }
    },
    {
      "cell_type": "code",
      "source": [
        "particle_b.mass()"
      ],
      "metadata": {
        "colab": {
          "base_uri": "https://localhost:8080/",
          "height": 37
        },
        "id": "JLlT1gix_uCf",
        "outputId": "27dfd306-e700-4620-c72b-6339e12527b3"
      },
      "execution_count": 13,
      "outputs": [
        {
          "output_type": "execute_result",
          "data": {
            "text/latex": "$3.3510321638291136\\times 10^{-23}\\ \\mathrm{kilogram}$",
            "text/html": [
              "3.3510321638291136×10<sup>-23</sup> kilogram"
            ],
            "text/plain": [
              "3.3510321638291136e-23 kilogram"
            ]
          },
          "metadata": {},
          "execution_count": 13
        }
      ]
    },
    {
      "cell_type": "code",
      "source": [
        "particle_a.charge()"
      ],
      "metadata": {
        "colab": {
          "base_uri": "https://localhost:8080/",
          "height": 34
        },
        "id": "LbymGF8g_wXp",
        "outputId": "aa6fb492-cac9-4ac1-e5a0-181c64ecdad6"
      },
      "execution_count": 14,
      "outputs": [
        {
          "output_type": "execute_result",
          "data": {
            "text/latex": "$0\\ dimensionless$",
            "text/html": [
              "0 dimensionless"
            ],
            "text/plain": [
              "0 dimensionless"
            ]
          },
          "metadata": {},
          "execution_count": 14
        }
      ]
    },
    {
      "cell_type": "markdown",
      "source": [
        "We should also define the environment we are in. We will get that module and invoke with 300 K and $10^5$ Pa. "
      ],
      "metadata": {
        "id": "Bjp_PcNpHJHa"
      }
    },
    {
      "cell_type": "code",
      "source": [
        "from particula.aerosol_dynamics import environment"
      ],
      "metadata": {
        "id": "3QdNH5tY_Uwm"
      },
      "execution_count": 15,
      "outputs": []
    },
    {
      "cell_type": "code",
      "source": [
        "std_environment = environment.Environment(temperature=300, pressure=1e5)"
      ],
      "metadata": {
        "id": "akifp3gw_g9O"
      },
      "execution_count": 16,
      "outputs": []
    },
    {
      "cell_type": "markdown",
      "source": [
        "Now, we can calculate the Knudsen number of particle \"a\" in this \"standard\" environment. And the slip correction factor. And the friction factor. "
      ],
      "metadata": {
        "id": "UlzbZwXVHXhl"
      }
    },
    {
      "cell_type": "code",
      "source": [
        "particle_a.knudsen_number(std_environment)"
      ],
      "metadata": {
        "colab": {
          "base_uri": "https://localhost:8080/",
          "height": 34
        },
        "id": "HAgIJr2T_qZg",
        "outputId": "74ceedb5-fa04-4f28-e100-59f30a3246f0"
      },
      "execution_count": 17,
      "outputs": [
        {
          "output_type": "execute_result",
          "data": {
            "text/latex": "$67.8918099704083\\ dimensionless$",
            "text/html": [
              "67.8918099704083 dimensionless"
            ],
            "text/plain": [
              "67.8918099704083 dimensionless"
            ]
          },
          "metadata": {},
          "execution_count": 17
        }
      ]
    },
    {
      "cell_type": "code",
      "source": [
        "particle_a.slip_correction_factor(std_environment)"
      ],
      "metadata": {
        "colab": {
          "base_uri": "https://localhost:8080/",
          "height": 34
        },
        "id": "XSNrw_6ZARM3",
        "outputId": "aebcb5b2-5208-4997-aef7-dac0bcc558a5"
      },
      "execution_count": 18,
      "outputs": [
        {
          "output_type": "execute_result",
          "data": {
            "text/latex": "$113.060274442495\\ dimensionless$",
            "text/html": [
              "113.060274442495 dimensionless"
            ],
            "text/plain": [
              "113.060274442495 dimensionless"
            ]
          },
          "metadata": {},
          "execution_count": 18
        }
      ]
    },
    {
      "cell_type": "code",
      "source": [
        "particle_a.friction_factor(std_environment)"
      ],
      "metadata": {
        "colab": {
          "base_uri": "https://localhost:8080/",
          "height": 37
        },
        "id": "HK8bC6UBAVro",
        "outputId": "c7f32961-ce86-4d52-884a-bfdb0af7e73a"
      },
      "execution_count": 19,
      "outputs": [
        {
          "output_type": "execute_result",
          "data": {
            "text/latex": "$3.0775355689697488\\times 10^{-15}\\ \\frac{\\mathrm{kilogram}}{\\mathrm{second}}$",
            "text/html": [
              "3.0775355689697488×10<sup>-15</sup> kilogram/second"
            ],
            "text/plain": [
              "3.0775355689697488e-15 kilogram/second"
            ]
          },
          "metadata": {},
          "execution_count": 19
        }
      ]
    },
    {
      "cell_type": "markdown",
      "source": [
        "Now, let's calculate the reduced mass of two particles, \"a\" and \"b\". Again, there are two ways to do this: by suffixing the method to a particle or by calling the method from the class --- they yield the same result. "
      ],
      "metadata": {
        "id": "6w_hMzlZHjWI"
      }
    },
    {
      "cell_type": "code",
      "source": [
        "particle_a.reduced_mass(particle_b)"
      ],
      "metadata": {
        "colab": {
          "base_uri": "https://localhost:8080/",
          "height": 37
        },
        "id": "_PKC3LnwAcQ-",
        "outputId": "ecbd4add-fc74-40a4-8bdc-3b1c57a1864c"
      },
      "execution_count": 20,
      "outputs": [
        {
          "output_type": "execute_result",
          "data": {
            "text/latex": "$3.7233690709212374\\times 10^{-24}\\ \\mathrm{kilogram}$",
            "text/html": [
              "3.7233690709212374×10<sup>-24</sup> kilogram"
            ],
            "text/plain": [
              "3.7233690709212374e-24 kilogram"
            ]
          },
          "metadata": {},
          "execution_count": 20
        }
      ]
    },
    {
      "cell_type": "code",
      "source": [
        "particle.Particle.reduced_mass(particle_a, particle_b)"
      ],
      "metadata": {
        "colab": {
          "base_uri": "https://localhost:8080/",
          "height": 37
        },
        "id": "5OcaX-MzAntA",
        "outputId": "e821eed8-dde3-4cec-e8f4-6294275315c6"
      },
      "execution_count": 21,
      "outputs": [
        {
          "output_type": "execute_result",
          "data": {
            "text/latex": "$3.7233690709212374\\times 10^{-24}\\ \\mathrm{kilogram}$",
            "text/html": [
              "3.7233690709212374×10<sup>-24</sup> kilogram"
            ],
            "text/plain": [
              "3.7233690709212374e-24 kilogram"
            ]
          },
          "metadata": {},
          "execution_count": 21
        }
      ]
    },
    {
      "cell_type": "markdown",
      "source": [
        "Like the reduced mass, we can also look at the reduced friction. "
      ],
      "metadata": {
        "id": "CkRfw2aUHxJ4"
      }
    },
    {
      "cell_type": "code",
      "source": [
        "particle_a.reduced_friction_factor(particle_b, std_environment)"
      ],
      "metadata": {
        "colab": {
          "base_uri": "https://localhost:8080/",
          "height": 37
        },
        "id": "5k5DMlpXArBI",
        "outputId": "1e51e1f1-3b5f-41df-fae3-a24d6492c0c9"
      },
      "execution_count": 22,
      "outputs": [
        {
          "output_type": "execute_result",
          "data": {
            "text/latex": "$2.4595460300833962\\times 10^{-15}\\ \\frac{\\mathrm{kilogram}}{\\mathrm{second}}$",
            "text/html": [
              "2.4595460300833962×10<sup>-15</sup> kilogram/second"
            ],
            "text/plain": [
              "2.4595460300833962e-15 kilogram/second"
            ]
          },
          "metadata": {},
          "execution_count": 22
        }
      ]
    },
    {
      "cell_type": "markdown",
      "source": [
        "Finally, we can calculate the coagulation rate coefficient between particles \"a\" and \"b\" in this environment. Note that we could have called this directly after defining \"a\" and \"b\"."
      ],
      "metadata": {
        "id": "_fhngrQaH1dM"
      }
    },
    {
      "cell_type": "code",
      "source": [
        "particle.Particle.dimensionless_coagulation_kernel_hard_sphere(\n",
        "    particle_a, particle_b, std_environment\n",
        ")"
      ],
      "metadata": {
        "colab": {
          "base_uri": "https://localhost:8080/",
          "height": 34
        },
        "id": "BNtlCy0DBByx",
        "outputId": "24eee266-c8a4-418f-c8e6-e8de4e560ad3"
      },
      "execution_count": 23,
      "outputs": [
        {
          "output_type": "execute_result",
          "data": {
            "text/latex": "$83.4628646051075\\ dimensionless$",
            "text/html": [
              "83.4628646051075 dimensionless"
            ],
            "text/plain": [
              "83.4628646051075 dimensionless"
            ]
          },
          "metadata": {},
          "execution_count": 23
        }
      ]
    },
    {
      "cell_type": "code",
      "source": [
        "particle_a.dimensionless_coagulation_kernel_hard_sphere(\n",
        "    particle_b, std_environment\n",
        ")"
      ],
      "metadata": {
        "colab": {
          "base_uri": "https://localhost:8080/",
          "height": 34
        },
        "id": "k1Ku87U5IdgE",
        "outputId": "370f69da-5fdd-407e-bae9-b80402fd9a3d"
      },
      "execution_count": 24,
      "outputs": [
        {
          "output_type": "execute_result",
          "data": {
            "text/latex": "$83.4628646051075\\ dimensionless$",
            "text/html": [
              "83.4628646051075 dimensionless"
            ],
            "text/plain": [
              "83.4628646051075 dimensionless"
            ]
          },
          "metadata": {},
          "execution_count": 24
        }
      ]
    },
    {
      "cell_type": "code",
      "source": [
        ""
      ],
      "metadata": {
        "id": "1rsNCSSEIhM8"
      },
      "execution_count": 24,
      "outputs": []
    }
  ]
}