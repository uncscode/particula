{
 "cells": [
  {
   "cell_type": "markdown",
   "metadata": {},
   "source": [
    "# 001 `Particle` class"
   ]
  },
  {
   "cell_type": "code",
   "execution_count": 28,
   "metadata": {},
   "outputs": [],
   "source": [
    "import imp\n",
    "from particula import aerosol_dynamics"
   ]
  },
  {
   "cell_type": "code",
   "execution_count": 29,
   "metadata": {},
   "outputs": [],
   "source": [
    "from particula.aerosol_dynamics import particle\n",
    "from particula.aerosol_dynamics import environment"
   ]
  },
  {
   "cell_type": "code",
   "execution_count": 30,
   "metadata": {},
   "outputs": [
    {
     "data": {
      "text/plain": [
       "<module 'particula.aerosol_dynamics.environment' from '/Users/ngam/Repos/particula/particula/aerosol_dynamics/environment.py'>"
      ]
     },
     "execution_count": 30,
     "metadata": {},
     "output_type": "execute_result"
    }
   ],
   "source": [
    "imp.reload(particle)\n",
    "imp.reload(environment)"
   ]
  },
  {
   "cell_type": "code",
   "execution_count": 31,
   "metadata": {},
   "outputs": [],
   "source": [
    "Environment = environment.Environment"
   ]
  },
  {
   "cell_type": "code",
   "execution_count": 37,
   "metadata": {},
   "outputs": [],
   "source": [
    "environment = Environment(temperature=298.9, pressure=101325)"
   ]
  },
  {
   "cell_type": "code",
   "execution_count": 38,
   "metadata": {},
   "outputs": [
    {
     "data": {
      "text/html": [
       "298.9 kelvin"
      ],
      "text/latex": [
       "$298.9\\ \\mathrm{kelvin}$"
      ],
      "text/plain": [
       "298.9 <Unit('kelvin')>"
      ]
     },
     "execution_count": 38,
     "metadata": {},
     "output_type": "execute_result"
    }
   ],
   "source": [
    "environment.temperature()"
   ]
  },
  {
   "cell_type": "code",
   "execution_count": 13,
   "metadata": {},
   "outputs": [
    {
     "name": "stdout",
     "output_type": "stream",
     "text": [
      "\u001b[0;31mSignature:\u001b[0m\n",
      "\u001b[0mparticle\u001b[0m\u001b[0;34m.\u001b[0m\u001b[0mParticle\u001b[0m\u001b[0;34m.\u001b[0m\u001b[0mdiffusive_knudsen_number\u001b[0m\u001b[0;34m(\u001b[0m\u001b[0;34m\u001b[0m\n",
      "\u001b[0;34m\u001b[0m    \u001b[0mself\u001b[0m\u001b[0;34m,\u001b[0m\u001b[0;34m\u001b[0m\n",
      "\u001b[0;34m\u001b[0m    \u001b[0mother\u001b[0m\u001b[0;34m,\u001b[0m\u001b[0;34m\u001b[0m\n",
      "\u001b[0;34m\u001b[0m    \u001b[0menvironment\u001b[0m\u001b[0;34m:\u001b[0m \u001b[0mparticula\u001b[0m\u001b[0;34m.\u001b[0m\u001b[0maerosol_dynamics\u001b[0m\u001b[0;34m.\u001b[0m\u001b[0menvironment\u001b[0m\u001b[0;34m.\u001b[0m\u001b[0mEnvironment\u001b[0m\u001b[0;34m,\u001b[0m\u001b[0;34m\u001b[0m\n",
      "\u001b[0;34m\u001b[0m\u001b[0;34m)\u001b[0m \u001b[0;34m->\u001b[0m \u001b[0mfloat\u001b[0m\u001b[0;34m\u001b[0m\u001b[0;34m\u001b[0m\u001b[0m\n",
      "\u001b[0;31mDocstring:\u001b[0m\n",
      "Diffusive Knudsen number.\n",
      "Checks units: [dimensionless]\n",
      "\n",
      "The *diffusive* Knudsen number is different from Knudsen number.\n",
      "Ratio of:\n",
      "    - numerator: mean persistence of one particle\n",
      "    - denominator: effective length scale of\n",
      "        particle--particle Coulombic interaction\n",
      "\u001b[0;31mFile:\u001b[0m      ~/Repos/particula/particula/aerosol_dynamics/particle.py\n",
      "\u001b[0;31mType:\u001b[0m      function\n"
     ]
    }
   ],
   "source": [
    "?particle.Particle.diffusive_knudsen_number"
   ]
  },
  {
   "cell_type": "code",
   "execution_count": 14,
   "metadata": {},
   "outputs": [],
   "source": [
    "particle_a = particle.Particle(\n",
    "    name='a', radius=1.0e-9, density=1.0e3, charge=0\n",
    ")"
   ]
  },
  {
   "cell_type": "code",
   "execution_count": 15,
   "metadata": {},
   "outputs": [],
   "source": [
    "particle_b = particle.Particle(\n",
    "    name='b', radius=2.0e-9, density=1.1e3, charge=-1\n",
    ")"
   ]
  },
  {
   "cell_type": "code",
   "execution_count": 16,
   "metadata": {},
   "outputs": [
    {
     "data": {
      "text/plain": [
       "'a'"
      ]
     },
     "execution_count": 16,
     "metadata": {},
     "output_type": "execute_result"
    }
   ],
   "source": [
    "particle_a.name()"
   ]
  },
  {
   "cell_type": "code",
   "execution_count": 17,
   "metadata": {},
   "outputs": [
    {
     "data": {
      "text/html": [
       "4.188790204786392×10<sup>-24</sup> kilogram"
      ],
      "text/latex": [
       "$4.188790204786392\\times 10^{-24}\\ \\mathrm{kilogram}$"
      ],
      "text/plain": [
       "4.188790204786392e-24 <Unit('kilogram')>"
      ]
     },
     "execution_count": 17,
     "metadata": {},
     "output_type": "execute_result"
    }
   ],
   "source": [
    "particle_a.mass()"
   ]
  },
  {
   "cell_type": "code",
   "execution_count": 18,
   "metadata": {},
   "outputs": [
    {
     "data": {
      "text/html": [
       "1×10<sup>-9</sup> meter"
      ],
      "text/latex": [
       "$1\\times 10^{-9}\\ \\mathrm{meter}$"
      ],
      "text/plain": [
       "1e-09 <Unit('meter')>"
      ]
     },
     "execution_count": 18,
     "metadata": {},
     "output_type": "execute_result"
    }
   ],
   "source": [
    "particle_a.radius()"
   ]
  },
  {
   "cell_type": "code",
   "execution_count": 19,
   "metadata": {},
   "outputs": [
    {
     "data": {
      "text/html": [
       "1000.0 kilogram/meter<sup>3</sup>"
      ],
      "text/latex": [
       "$1000.0\\ \\frac{\\mathrm{kilogram}}{\\mathrm{meter}^{3}}$"
      ],
      "text/plain": [
       "1000.0 <Unit('kilogram / meter ** 3')>"
      ]
     },
     "execution_count": 19,
     "metadata": {},
     "output_type": "execute_result"
    }
   ],
   "source": [
    "particle_a.density()"
   ]
  },
  {
   "cell_type": "code",
   "execution_count": 20,
   "metadata": {},
   "outputs": [
    {
     "data": {
      "text/html": [
       "0 dimensionless"
      ],
      "text/latex": [
       "$0\\ dimensionless$"
      ],
      "text/plain": [
       "0 <Unit('dimensionless')>"
      ]
     },
     "execution_count": 20,
     "metadata": {},
     "output_type": "execute_result"
    }
   ],
   "source": [
    "particle_a.charge()"
   ]
  },
  {
   "cell_type": "code",
   "execution_count": 21,
   "metadata": {},
   "outputs": [],
   "source": [
    "environment = Environment(temperature=298, pressure=101325)"
   ]
  },
  {
   "cell_type": "code",
   "execution_count": 22,
   "metadata": {},
   "outputs": [
    {
     "data": {
      "text/html": [
       "298 kelvin"
      ],
      "text/latex": [
       "$298\\ \\mathrm{kelvin}$"
      ],
      "text/plain": [
       "298 <Unit('kelvin')>"
      ]
     },
     "execution_count": 22,
     "metadata": {},
     "output_type": "execute_result"
    }
   ],
   "source": [
    "environment.temperature()"
   ]
  },
  {
   "cell_type": "code",
   "execution_count": 23,
   "metadata": {},
   "outputs": [
    {
     "data": {
      "text/html": [
       "101325 pascal"
      ],
      "text/latex": [
       "$101325\\ \\mathrm{pascal}$"
      ],
      "text/plain": [
       "101325 <Unit('pascal')>"
      ]
     },
     "execution_count": 23,
     "metadata": {},
     "output_type": "execute_result"
    }
   ],
   "source": [
    "environment.pressure()"
   ]
  },
  {
   "cell_type": "code",
   "execution_count": 24,
   "metadata": {},
   "outputs": [
    {
     "data": {
      "text/html": [
       "1.8364373881681775×10<sup>-5</sup> kilogram/(meter second)"
      ],
      "text/latex": [
       "$1.8364373881681775\\times 10^{-5}\\ \\frac{\\mathrm{kilogram}}{\\left(\\mathrm{meter} \\cdot \\mathrm{second}\\right)}$"
      ],
      "text/plain": [
       "1.8364373881681775e-05 <Unit('kilogram / meter / second')>"
      ]
     },
     "execution_count": 24,
     "metadata": {},
     "output_type": "execute_result"
    }
   ],
   "source": [
    "environment.dynamic_viscosity_air()"
   ]
  },
  {
   "cell_type": "code",
   "execution_count": 25,
   "metadata": {},
   "outputs": [
    {
     "data": {
      "text/html": [
       "6.643736692137542×10<sup>-8</sup> meter"
      ],
      "text/latex": [
       "$6.643736692137542\\times 10^{-8}\\ \\mathrm{meter}$"
      ],
      "text/plain": [
       "6.643736692137542e-08 <Unit('meter')>"
      ]
     },
     "execution_count": 25,
     "metadata": {},
     "output_type": "execute_result"
    }
   ],
   "source": [
    "environment.mean_free_path_air()"
   ]
  },
  {
   "cell_type": "code",
   "execution_count": 26,
   "metadata": {},
   "outputs": [
    {
     "data": {
      "text/html": [
       "66.43736692137541 dimensionless"
      ],
      "text/latex": [
       "$66.43736692137541\\ dimensionless$"
      ],
      "text/plain": [
       "66.43736692137541 <Unit('dimensionless')>"
      ]
     },
     "execution_count": 26,
     "metadata": {},
     "output_type": "execute_result"
    }
   ],
   "source": [
    "particle_a.knudsen_number(environment=Environment(temperature=298, pressure=101325))"
   ]
  },
  {
   "cell_type": "code",
   "execution_count": 56,
   "metadata": {},
   "outputs": [
    {
     "data": {
      "text/html": [
       "3.761362632869413×10<sup>-24</sup> kilogram"
      ],
      "text/latex": [
       "$3.761362632869413\\times 10^{-24}\\ \\mathrm{kilogram}$"
      ],
      "text/plain": [
       "3.761362632869413e-24 <Unit('kilogram')>"
      ]
     },
     "execution_count": 56,
     "metadata": {},
     "output_type": "execute_result"
    }
   ],
   "source": [
    "particle_a.reduced_mass(particle_b)"
   ]
  },
  {
   "cell_type": "code",
   "execution_count": 85,
   "metadata": {},
   "outputs": [
    {
     "data": {
      "text/html": [
       "0.0 dimensionless"
      ],
      "text/latex": [
       "$0.0\\ dimensionless$"
      ],
      "text/plain": [
       "0.0 <Unit('dimensionless')>"
      ]
     },
     "execution_count": 85,
     "metadata": {},
     "output_type": "execute_result"
    }
   ],
   "source": [
    "particle_a.coulomb_potential_ratio(particle_b)"
   ]
  },
  {
   "cell_type": "code",
   "execution_count": 86,
   "metadata": {},
   "outputs": [
    {
     "data": {
      "text/html": [
       "1.0 dimensionless"
      ],
      "text/latex": [
       "$1.0\\ dimensionless$"
      ],
      "text/plain": [
       "1.0 <Unit('dimensionless')>"
      ]
     },
     "execution_count": 86,
     "metadata": {},
     "output_type": "execute_result"
    }
   ],
   "source": [
    "particle_a.coulomb_enhancement_kinetic_limit(particle_b)"
   ]
  },
  {
   "cell_type": "code",
   "execution_count": 87,
   "metadata": {},
   "outputs": [
    {
     "data": {
      "text/html": [
       "1 dimensionless"
      ],
      "text/latex": [
       "$1\\ dimensionless$"
      ],
      "text/plain": [
       "1 <Unit('dimensionless')>"
      ]
     },
     "execution_count": 87,
     "metadata": {},
     "output_type": "execute_result"
    }
   ],
   "source": [
    "particle_a.coulomb_enhancement_continuum_limit(particle_b)"
   ]
  },
  {
   "cell_type": "code",
   "execution_count": 88,
   "metadata": {},
   "outputs": [
    {
     "data": {
      "text/html": [
       "16.36759062459431 dimensionless"
      ],
      "text/latex": [
       "$16.36759062459431\\ dimensionless$"
      ],
      "text/plain": [
       "16.36759062459431 <Unit('dimensionless')>"
      ]
     },
     "execution_count": 88,
     "metadata": {},
     "output_type": "execute_result"
    }
   ],
   "source": [
    "particle_a.diffusive_knudsen_number(particle_b)"
   ]
  },
  {
   "cell_type": "code",
   "execution_count": null,
   "metadata": {},
   "outputs": [],
   "source": []
  },
  {
   "cell_type": "code",
   "execution_count": 89,
   "metadata": {},
   "outputs": [
    {
     "data": {
      "text/html": [
       "16.36759062459431 dimensionless"
      ],
      "text/latex": [
       "$16.36759062459431\\ dimensionless$"
      ],
      "text/plain": [
       "16.36759062459431 <Unit('dimensionless')>"
      ]
     },
     "execution_count": 89,
     "metadata": {},
     "output_type": "execute_result"
    }
   ],
   "source": [
    "particle.Particle.diffusive_knudsen_number(particle_a, particle_b)"
   ]
  },
  {
   "cell_type": "code",
   "execution_count": 90,
   "metadata": {},
   "outputs": [
    {
     "data": {
      "text/html": [
       "81.14294610354055 dimensionless"
      ],
      "text/latex": [
       "$81.14294610354055\\ dimensionless$"
      ],
      "text/plain": [
       "81.14294610354055 <Unit('dimensionless')>"
      ]
     },
     "execution_count": 90,
     "metadata": {},
     "output_type": "execute_result"
    }
   ],
   "source": [
    "particle_a.dimensionless_coagulation_kernel_hard_sphere(particle_b)"
   ]
  },
  {
   "cell_type": "code",
   "execution_count": 91,
   "metadata": {},
   "outputs": [
    {
     "data": {
      "text/html": [
       "3366.5058420412925 dimensionless"
      ],
      "text/latex": [
       "$3366.5058420412925\\ dimensionless$"
      ],
      "text/plain": [
       "3366.5058420412925 <Unit('dimensionless')>"
      ]
     },
     "execution_count": 91,
     "metadata": {},
     "output_type": "execute_result"
    }
   ],
   "source": [
    "particle_a.collision_kernel_continuum_limit(particle_b)"
   ]
  }
 ],
 "metadata": {
  "interpreter": {
   "hash": "31f2aee4e71d21fbe5cf8b01ff0e069b9275f58929596ceb00d14d90e3e16cd6"
  },
  "kernelspec": {
   "display_name": "Python 3.8.9 64-bit",
   "language": "python",
   "name": "python3"
  },
  "language_info": {
   "codemirror_mode": {
    "name": "ipython",
    "version": 3
   },
   "file_extension": ".py",
   "mimetype": "text/x-python",
   "name": "python",
   "nbconvert_exporter": "python",
   "pygments_lexer": "ipython3",
   "version": "3.9.7"
  },
  "orig_nbformat": 4
 },
 "nbformat": 4,
 "nbformat_minor": 2
}
