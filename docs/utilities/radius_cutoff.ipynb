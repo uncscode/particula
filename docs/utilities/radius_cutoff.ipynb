{
 "cells": [
  {
   "cell_type": "markdown",
   "metadata": {},
   "source": [
    "### `Environment.mean_free_path()`\n",
    "\n",
    "This routine determins the radius cutoff for the particle distribution\n",
    "\n",
    "        Inputs:\n",
    "            cutoff  (float) coverage cutoff (default: .9999)\n",
    "            gsigma  (float) geometric standard deviation (default: 1.25)\n",
    "            mode    (float) mean radius of the particles (default: 1e-7)\n",
    "\n",
    "        Returns:\n",
    "            (starting radius, ending radius) float tuple\n"
   ]
  },
  {
   "cell_type": "code",
   "execution_count": null,
   "metadata": {},
   "outputs": [],
   "source": []
  }
 ],
 "metadata": {
  "language_info": {
   "name": "python"
  },
  "orig_nbformat": 4
 },
 "nbformat": 4,
 "nbformat_minor": 2
}
