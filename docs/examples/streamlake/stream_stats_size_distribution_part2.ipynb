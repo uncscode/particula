{
 "cells": [
  {
   "cell_type": "markdown",
   "metadata": {},
   "source": [
    "  # Size Distribution Stats\n",
    "\n",
    "  This example shows how to process size distribution data from an SMPS.\n",
    " The processing returns mean properties of the size distribution, such as\n",
    " the mean diameter, median diameter, and total PM2.5 mass."
   ]
  },
  {
   "cell_type": "code",
   "execution_count": null,
   "metadata": {},
   "outputs": [],
   "source": [
    "# all the imports\n",
    "import matplotlib.pyplot as plt\n",
    "from particula.data import loader_interface, settings_generator\n",
    "from particula.data.tests.example_data.get_example_data import get_data_folder\n",
    "# the new step\n",
    "from particula.data.process import size_distribution\n",
    "\n",
    "# set the parent directory of the data folder\n",
    "path = get_data_folder()"
   ]
  },
  {
   "cell_type": "markdown",
   "metadata": {},
   "source": [
    " ### Load the data\n",
    "\n",
    " For this example we'll use the provided example data. But you can change the\n",
    " path to any folder on your computer. We then can used the settings generator\n",
    " to\n",
    "\n",
    " If you think this settings generator is getting tedious, we hear you. We'll\n",
    " show the fix to that soon."
   ]
  },
  {
   "cell_type": "code",
   "execution_count": null,
   "metadata": {},
   "outputs": [],
   "source": [
    "# settings for the SMPS data\n",
    "smps_1d_settings, smps_2d_settings = settings_generator.for_general_sizer_1d_2d_load(\n",
    "    relative_data_folder='SMPS_data',\n",
    "    filename_regex='*.csv',\n",
    "    file_min_size_bytes=10,\n",
    "    header_row=24,\n",
    "    data_checks={\n",
    "        \"characters\": [250],\n",
    "        \"skip_rows\": 25,\n",
    "        \"skip_end\": 0,\n",
    "        \"char_counts\": {\"/\": 2, \":\": 2}\n",
    "    },\n",
    "    data_1d_column=[\n",
    "        \"Lower Size (nm)\",\n",
    "        \"Upper Size (nm)\",\n",
    "        \"Sample Temp (C)\",\n",
    "        \"Sample Pressure (kPa)\",\n",
    "        \"Relative Humidity (%)\",\n",
    "        \"Median (nm)\",\n",
    "        \"Mean (nm)\",\n",
    "        \"Geo. Mean (nm)\",\n",
    "        \"Mode (nm)\",\n",
    "        \"Geo. Std. Dev.\",\n",
    "        \"Total Conc. (#/cm³)\"],\n",
    "    data_1d_header=[\n",
    "        \"Lower_Size_(nm)\",\n",
    "        \"Upper_Size_(nm)\",\n",
    "        \"Sample_Temp_(C)\",\n",
    "        \"Sample_Pressure_(kPa)\",\n",
    "        \"Relative_Humidity_(%)\",\n",
    "        \"Median_(nm)\",\n",
    "        \"Mean_(nm)\",\n",
    "        \"Geo_Mean_(nm)\",\n",
    "        \"Mode_(nm)\",\n",
    "        \"Geo_Std_Dev.\",\n",
    "        \"Total_Conc_(#/cc)\"],\n",
    "    data_2d_dp_start_keyword=\"20.72\",\n",
    "    data_2d_dp_end_keyword=\"784.39\",\n",
    "    data_2d_convert_concentration_from=\"dw/dlogdp\",\n",
    "    time_column=[1, 2],\n",
    "    time_format=\"%m/%d/%Y %H:%M:%S\",\n",
    "    delimiter=\",\",\n",
    "    time_shift_seconds=0,\n",
    "    timezone_identifier=\"UTC\",\n",
    ")\n",
    "\n",
    "# collect settings into a dictionary\n",
    "combined_settings = {\n",
    "    'smps_1d': smps_1d_settings,\n",
    "    'smps_2d': smps_2d_settings,\n",
    "}\n",
    "\n",
    "# now call the loader interface for files\n",
    "lake = loader_interface.load_folders_interface(\n",
    "    path=path,\n",
    "    folder_settings=combined_settings,\n",
    ")\n",
    "\n",
    "print(' ')\n",
    "print(lake)"
   ]
  },
  {
   "cell_type": "markdown",
   "metadata": {},
   "source": [
    " # Processing the Stream\n",
    " The lake is a collection of streams, stored as a dictionary. The next step\n",
    " can be average the data or you may have a processing step that you want to\n",
    " apply to all the data. For example, you may want to calculate the total\n",
    " PM2.5 mass from the SMPS data. You could do this by looping through the\n",
    " streams and applying a cusutom processing function to each stream. Or you could\n",
    " use some standard process already built in to `particula.data.process`. In this\n",
    " example we'll use `process.size_distribution` to calculate the PM2.5 mass from the"
   ]
  },
  {
   "cell_type": "code",
   "execution_count": null,
   "metadata": {},
   "outputs": [],
   "source": [
    "lake['mean_properties'] = size_distribution.sizer_mean_properties(\n",
    "    stream=lake['smps_2d'],\n",
    "    diameter_units='nm',\n",
    ")\n",
    "\n",
    "# list out the header\n",
    "for header in lake['mean_properties'].header:\n",
    "    print(header)"
   ]
  },
  {
   "cell_type": "markdown",
   "metadata": {},
   "source": [
    " # Plot the Data\n",
    " With that processing done we can plot some useful summary plots. For example,\n",
    " we can plot the total PM2.5 mass as a function of time. And on the same plot\n",
    " we can add the N100 mass.\n",
    " ### Tip: Calling the header directly\n",
    " Note below how we can call the data header directly from the stream. This is\n",
    " because the get items property defined in the stream class accepts, either and\n",
    " index or a header name. So we can call the header name directly from the\n",
    " stream and get back that specific time series.\n",
    "\n",
    " This is incontrast to callint `stream.data['header_name']` which would return\n",
    " an error. As that line first calls `stream.data` returning the np.ndarray, then calls\n",
    " the header name, which is not a valid index for a np.ndarray."
   ]
  },
  {
   "cell_type": "code",
   "execution_count": null,
   "metadata": {},
   "outputs": [],
   "source": [
    "mean_prop_stream = lake['mean_properties']\n",
    "\n",
    "\n",
    "# plot the data on twinx axis\n",
    "fig, ax = plt.subplots()\n",
    "ax.plot(mean_prop_stream.datetime64,\n",
    "        mean_prop_stream['Mass_(ug/m3)_PM2.5'],\n",
    "        label='PM 2.5',\n",
    "        color='blue')\n",
    "ax.plot(mean_prop_stream.datetime64,\n",
    "        mean_prop_stream['Mass_(ug/m3)_N100'],\n",
    "        label='N100 mass',\n",
    "        color='red')\n",
    "ax.set_ylim(0, 50)\n",
    "plt.xticks(rotation=45)\n",
    "ax.set_xlabel(\"Time (UTC)\")\n",
    "ax.set_ylabel('PM mass (ug/m3)')\n",
    "ax.legend()\n",
    "plt.show()\n",
    "fig.tight_layout()"
   ]
  },
  {
   "cell_type": "markdown",
   "metadata": {},
   "source": [
    " # Summary\n",
    " This example showed how to process size distribution data from an SMPS. The\n",
    " processing returns mean properties of the size distribution, such as the mean\n",
    " diameter, median diameter, and total PM2.5 mass."
   ]
  },
  {
   "cell_type": "code",
   "execution_count": null,
   "metadata": {},
   "outputs": [],
   "source": [
    "help(size_distribution.sizer_mean_properties)"
   ]
  }
 ],
 "metadata": {
  "language_info": {
   "codemirror_mode": {
    "name": "ipython",
    "version": 3
   },
   "file_extension": ".py",
   "mimetype": "text/x-python",
   "name": "python",
   "nbconvert_exporter": "python",
   "pygments_lexer": "ipython3",
   "version": 3
  }
 },
 "nbformat": 4,
 "nbformat_minor": 2
}
