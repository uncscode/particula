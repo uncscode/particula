{
 "cells": [
  {
   "cell_type": "markdown",
   "metadata": {},
   "source": [
    " # Stream Stats\n",
    "\n",
    " This example shows how to clean up a stream of data by removing outliers and\n",
    " and averaging the values over time. "
   ]
  },
  {
   "cell_type": "markdown",
   "metadata": {},
   "source": [
    " ## Working path\n",
    "\n",
    " Set the working path where the data is stored. For now we'll use the\n",
    " provided example data in this current directory.\n",
    "\n",
    " But the path could be any where on your computer. For example, if you have a\n",
    " folder called \"data\" in your home directory, you could set the path to:\n",
    " `path = \"U:\\\\data\\\\processing\\\\Campgain2023_of_aswsome\\\\data\"`"
   ]
  },
  {
   "cell_type": "code",
   "execution_count": null,
   "metadata": {},
   "outputs": [],
   "source": [
    "# all the imports, but we'll go through them one by one as we use them\n",
    "import os\n",
    "import matplotlib.pyplot as plt\n",
    "from particula.data import loader_interface, settings_generator, stream_stats\n",
    "from particula.data.tests.example_data.get_example_data import get_data_folder\n",
    "\n",
    "# set the parent directory of the data folder\n",
    "path = get_data_folder()\n",
    "print('Path to data folder:')\n",
    "print(path.rsplit('particula')[-1])"
   ]
  },
  {
   "cell_type": "markdown",
   "metadata": {},
   "source": [
    "# Load the data\n",
    "\n",
    "For this example we'll use the provided example data. But you can change the\n",
    "path to any folder on your computer. We then can used the settings generator to\n",
    "load the data."
   ]
  },
  {
   "cell_type": "code",
   "execution_count": null,
   "metadata": {},
   "outputs": [],
   "source": [
    "# This method uses the settings_generator module to generate the settings.\n",
    "settings = settings_generator.for_general_1d_load(\n",
    "    relative_data_folder='CPC_3010_data',\n",
    "    filename_regex='*.csv',\n",
    "    file_min_size_bytes=10,\n",
    "    data_checks={\n",
    "        \"characters\": [10, 100],\n",
    "        \"char_counts\": {\",\": 4},\n",
    "        \"skip_rows\": 0,\n",
    "        \"skip_end\": 0,\n",
    "    },\n",
    "    data_column=[1, 2],\n",
    "    data_header=['CPC_count[#/sec]', 'Temperature[degC]'],\n",
    "    time_column=[0],\n",
    "    time_format='epoch',\n",
    "    delimiter=',',\n",
    "    time_shift_seconds=0,\n",
    "    timezone_identifier='UTC',\n",
    ")\n",
    "\n",
    "# now call the loader interface\n",
    "data_stream = loader_interface.load_files_interface(\n",
    "    path=path,\n",
    "    settings=settings,\n",
    ")"
   ]
  },
  {
   "cell_type": "code",
   "execution_count": null,
   "metadata": {},
   "outputs": [],
   "source": [
    "# print data stream summary\n",
    "print('Stream:')\n",
    "print(data_stream)"
   ]
  },
  {
   "cell_type": "code",
   "execution_count": null,
   "metadata": {},
   "outputs": [],
   "source": [
    "# plot the data\n",
    "fig, ax = plt.subplots()\n",
    "ax.plot(data_stream.datetime64,\n",
    "        data_stream.data[0, :],  # data_stream.data is a 2d array, so we need\n",
    "                                 # to specify which column we want to plot\n",
    "        label=data_stream.header[0],\n",
    "        linestyle=\"none\",\n",
    "        marker=\".\",)\n",
    "plt.xticks(rotation=45)\n",
    "ax.set_xlabel(\"Time (UTC)\")\n",
    "ax.set_ylabel(data_stream.header[0])\n",
    "plt.show()\n",
    "fig.tight_layout()"
   ]
  },
  {
   "cell_type": "markdown",
   "metadata": {},
   "source": [
    "# Average the data\n",
    "\n",
    "Now that we have the data loaded, we can average the data over time. We'll use\n",
    "the 'particula.data.stream_stats' module to do this. The module has a function\n",
    "called 'averaged_std' that will take stream object and return a new stream\n",
    "object with the averaged data and the standard deviation of the data."
   ]
  },
  {
   "cell_type": "code",
   "execution_count": null,
   "metadata": {},
   "outputs": [],
   "source": [
    "stream_averaged = stream_stats.average_std(\n",
    "    stream=data_stream,\n",
    "    average_interval=600,\n",
    ")\n",
    "stream_averaged.standard_deviation.shape"
   ]
  },
  {
   "cell_type": "markdown",
   "metadata": {},
   "source": [
    "# Plot the averaged data"
   ]
  },
  {
   "cell_type": "code",
   "execution_count": null,
   "metadata": {},
   "outputs": [],
   "source": [
    "fig, ax = plt.subplots()\n",
    "ax.plot(stream_averaged.datetime64,\n",
    "        stream_averaged.data[0, :],\n",
    "        label=stream_averaged.header[0],\n",
    "        marker=\".\",)\n",
    "plt.xticks(rotation=45)\n",
    "ax.set_xlabel(\"Time (UTC)\")\n",
    "ax.set_ylabel(stream_averaged.header[0])\n",
    "plt.show()\n",
    "fig.tight_layout()"
   ]
  },
  {
   "cell_type": "markdown",
   "metadata": {},
   "source": [
    "## Clean up the data\n",
    "\n",
    "Now we may see some outliers in the data. We can use the 'particula.data.stream_stats'\n",
    "module to remove the outliers. The module has a function called 'filtering'\n",
    "that will take stream object and return a new stream object with the outliers\n",
    "removed."
   ]
  },
  {
   "cell_type": "code",
   "execution_count": null,
   "metadata": {},
   "outputs": [],
   "source": [
    "stream_filtered = stream_stats.filtering(\n",
    "    stream=data_stream,\n",
    "    top=250000,\n",
    "    drop=True,\n",
    ")\n",
    "fig, ax = plt.subplots()\n",
    "ax.plot(stream_filtered.datetime64,\n",
    "        stream_filtered.data[0, :],\n",
    "        label=stream_filtered.header[0],\n",
    "        marker=\".\",)\n",
    "plt.xticks(rotation=45)\n",
    "ax.set_xlabel(\"Time (UTC)\")\n",
    "ax.set_ylabel(stream_filtered.header[0])\n",
    "plt.show()\n",
    "fig.tight_layout()\n"
   ]
  },
  {
   "cell_type": "markdown",
   "metadata": {},
   "source": [
    "## Summary\n",
    "\n",
    "This example shows how to clean up a stream of data by removing outliers and\n",
    "and averaging the values over time.\n"
   ]
  },
  {
   "cell_type": "code",
   "execution_count": null,
   "metadata": {},
   "outputs": [],
   "source": [
    "help(stream_stats)"
   ]
  }
 ],
 "metadata": {
  "kernelspec": {
   "display_name": "ParticulaDev_py39",
   "language": "python",
   "name": "python3"
  },
  "language_info": {
   "codemirror_mode": {
    "name": "ipython",
    "version": 3
   },
   "file_extension": ".py",
   "mimetype": "text/x-python",
   "name": "python",
   "nbconvert_exporter": "python",
   "pygments_lexer": "ipython3",
   "version": "3.9.18"
  }
 },
 "nbformat": 4,
 "nbformat_minor": 2
}
