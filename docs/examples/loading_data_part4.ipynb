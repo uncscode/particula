{
 "cells": [
  {
   "cell_type": "markdown",
   "metadata": {},
   "source": [
    "  # Loading Data Part 4\n",
    "\n",
    "  This example shows how do that save and load those stream and lake settings dictionaries. This is useful if you want to save your settings and then load them later.  This is also useful if you want to share your settings with someone else.  Or just stop from having to retype everything."
   ]
  },
  {
   "cell_type": "markdown",
   "metadata": {},
   "source": [
    "  ## Working path\n",
    "\n",
    "  In the working path you now see a couple of `.json` files, these are the settings files.  The `lake_settings.json` file contains the settings for the lake.  The `stream_settings.json` file contains the settings for the stream.  These are the same settings that you created in the previous example.  The only difference is that they are now saved to a file.\n",
    "\n",
    " ```\n",
    " data\n",
    " ├── CPC_3010_data\n",
    " │   ├── CPC_3010_data_20220709_Jul.csv\n",
    " │   ├── CPC_3010_data_20220709_Jul.csv\n",
    "     ├── stream_settings_cpc.json\n",
    " ├── SMPS_data\n",
    " │   ├── 2022-07-07_095151_SMPS.csv\n",
    " │   ├── 2022-07-10_094659_SMPS.csv\n",
    " │   ├── stream_settings_smps_1d.json\n",
    " │   ├── stream_settings_smps_2d.json\n",
    " ├── lake_settings.json\n",
    " ```\n"
   ]
  },
  {
   "cell_type": "code",
   "execution_count": 1,
   "metadata": {},
   "outputs": [
    {
     "name": "stdout",
     "output_type": "stream",
     "text": [
      "Path to data folder:\n",
      "\\data\\tests\\example_data\n"
     ]
    }
   ],
   "source": [
    "# all the imports\n",
    "import matplotlib.pyplot as plt\n",
    "from particula.data import loader_interface, settings_generator\n",
    "from particula.data.tests.example_data.get_example_data import get_data_folder\n",
    "from particula.data.lake import Lake\n",
    "\n",
    "# set the parent directory of the data folders\n",
    "path = get_data_folder()\n",
    "print('Path to data folder:')\n",
    "print(path.rsplit('particula')[-1])"
   ]
  },
  {
   "cell_type": "markdown",
   "metadata": {},
   "source": [
    " ### Generate the settings and save them\n",
    "\n",
    " We'll use `generate_settings.save_settings_for_stream` to"
   ]
  },
  {
   "cell_type": "code",
   "execution_count": 2,
   "metadata": {},
   "outputs": [],
   "source": [
    "# settings for the CPC data\n",
    "cpc_settings = settings_generator.for_general_1d_load(\n",
    "    relative_data_folder='CPC_3010_data',\n",
    "    filename_regex='*.csv',\n",
    "    file_min_size_bytes=10,\n",
    "    data_checks={\n",
    "        \"characters\": [10, 100],\n",
    "        \"char_counts\": {\",\": 4},\n",
    "        \"skip_rows\": 0,\n",
    "        \"skip_end\": 0,\n",
    "    },\n",
    "    data_column=[1, 2],\n",
    "    data_header=['CPC_count[#/sec]', 'Temperature[degC]'],\n",
    "    time_column=[0],\n",
    "    time_format='epoch',\n",
    "    delimiter=',',\n",
    "    time_shift_seconds=0,\n",
    "    timezone_identifier='UTC',\n",
    ")\n",
    "\n",
    "# save the settings to a file\n",
    "settings_generator.save_settings_for_stream(\n",
    "    settings=cpc_settings,\n",
    "    path=path,\n",
    "    subfolder='CPC_3010_data',\n",
    "    settings_suffix='_cpc',\n",
    ")\n"
   ]
  },
  {
   "cell_type": "markdown",
   "metadata": {},
   "source": [
    "#### Next save the SMPS settings\n"
   ]
  },
  {
   "cell_type": "code",
   "execution_count": 3,
   "metadata": {},
   "outputs": [],
   "source": [
    "\n",
    "# settings for the SMPS data\n",
    "smps_1d_settings, smps_2d_settings = settings_generator.for_general_sizer_1d_2d_load(\n",
    "    relative_data_folder='SMPS_data',\n",
    "    filename_regex='*.csv',\n",
    "    file_min_size_bytes=10,\n",
    "    header_row=24,\n",
    "    data_checks={\n",
    "        \"characters\": [250],\n",
    "        \"skip_rows\": 25,\n",
    "        \"skip_end\": 0,\n",
    "        \"char_counts\": {\"/\": 2, \":\": 2}\n",
    "    },\n",
    "    data_1d_column=[\n",
    "        \"Lower Size (nm)\",\n",
    "        \"Upper Size (nm)\",\n",
    "        \"Sample Temp (C)\",\n",
    "        \"Sample Pressure (kPa)\",\n",
    "        \"Relative Humidity (%)\",\n",
    "        \"Median (nm)\",\n",
    "        \"Mean (nm)\",\n",
    "        \"Geo. Mean (nm)\",\n",
    "        \"Mode (nm)\",\n",
    "        \"Geo. Std. Dev.\",\n",
    "        \"Total Conc. (#/cm³)\"],\n",
    "    data_1d_header=[\n",
    "        \"Lower_Size_(nm)\",\n",
    "        \"Upper_Size_(nm)\",\n",
    "        \"Sample_Temp_(C)\",\n",
    "        \"Sample_Pressure_(kPa)\",\n",
    "        \"Relative_Humidity_(%)\",\n",
    "        \"Median_(nm)\",\n",
    "        \"Mean_(nm)\",\n",
    "        \"Geo_Mean_(nm)\",\n",
    "        \"Mode_(nm)\",\n",
    "        \"Geo_Std_Dev.\",\n",
    "        \"Total_Conc_(#/cc)\"],\n",
    "    data_2d_dp_start_keyword=\"20.72\",\n",
    "    data_2d_dp_end_keyword=\"784.39\",\n",
    "    data_2d_convert_concentration_from=\"dw/dlogdp\",\n",
    "    time_column=[1, 2],\n",
    "    time_format=\"%m/%d/%Y %H:%M:%S\",\n",
    "    delimiter=\",\",\n",
    "    time_shift_seconds=0,\n",
    "    timezone_identifier=\"UTC\",\n",
    ")\n",
    "\n",
    "# save the settings to a file\n",
    "settings_generator.save_settings_for_stream(\n",
    "    settings=smps_1d_settings,\n",
    "    path=path,\n",
    "    subfolder='SMPS_data',\n",
    "    settings_suffix='_smps_1d',\n",
    ")\n",
    "settings_generator.save_settings_for_stream(\n",
    "    settings=smps_2d_settings,\n",
    "    path=path,\n",
    "    subfolder='SMPS_data',\n",
    "    settings_suffix='_smps_2d',\n",
    ")"
   ]
  },
  {
   "cell_type": "markdown",
   "metadata": {},
   "source": [
    "### Load the Stream settings\n",
    "\n",
    "If you are still exploring you anlaysis pipeline, you may what individual streams. To load the settings for a stream use `generate_settings.load_settings_for_stream`.  This function takes the path to the settings file as an argument.  It returns a dictionary with the settings."
   ]
  },
  {
   "cell_type": "code",
   "execution_count": 4,
   "metadata": {},
   "outputs": [
    {
     "name": "stdout",
     "output_type": "stream",
     "text": [
      "  Loading file: 2022-07-07_095151_SMPS.csv\n",
      "  Loading file: 2022-07-10_094659_SMPS.csv\n",
      "['Lower_Size_(nm)', 'Upper_Size_(nm)', 'Sample_Temp_(C)', 'Sample_Pressure_(kPa)', 'Relative_Humidity_(%)', 'Median_(nm)', 'Mean_(nm)', 'Geo_Mean_(nm)', 'Mode_(nm)', 'Geo_Std_Dev.', 'Total_Conc_(#/cc)']\n"
     ]
    }
   ],
   "source": [
    "smps_1d_stream_settings = settings_generator.load_settings_for_stream(\n",
    "    path=path,\n",
    "    subfolder='SMPS_data',\n",
    "    settings_suffix='_smps_1d',\n",
    ")\n",
    "\n",
    "stream_smps_1d = loader_interface.load_files_interface(\n",
    "    path=path,\n",
    "    settings=smps_1d_stream_settings\n",
    ")\n",
    "\n",
    "print(stream_smps_1d.header)"
   ]
  },
  {
   "cell_type": "markdown",
   "metadata": {},
   "source": [
    "### Lake settings\n",
    "\n",
    "If you wanted to load everything for a reanalysis, instead of calling each individual stream, you can first save a lake settings file.  This is done with `generate_settings.save_settings_for_lake`.  This function takes the path to the lake settings file as an argument.  It returns a dictionary with the settings."
   ]
  },
  {
   "cell_type": "code",
   "execution_count": 5,
   "metadata": {},
   "outputs": [],
   "source": [
    "# collect settings into a dictionary\n",
    "combined_settings = {\n",
    "    'cpc': cpc_settings,\n",
    "    'smps_1d': smps_1d_settings,\n",
    "    'smps_2d': smps_2d_settings,\n",
    "}\n",
    "\n",
    "# save the lake settings to a file\n",
    "settings_generator.save_settings_for_lake(\n",
    "    settings=combined_settings,\n",
    "    path=path,\n",
    "    subfolder='',\n",
    "    settings_suffix='_cpc_smps',\n",
    ")\n"
   ]
  },
  {
   "cell_type": "markdown",
   "metadata": {},
   "source": [
    "### Load the Lake\n",
    "\n",
    "To load the lake settings use `generate_settings.load_settings_for_lake`.  This function takes the path to the lake settings file as an argument.  It returns a dictionary with the settings."
   ]
  },
  {
   "cell_type": "code",
   "execution_count": 6,
   "metadata": {},
   "outputs": [
    {
     "name": "stdout",
     "output_type": "stream",
     "text": [
      "Folder Settings: cpc\n",
      "  Loading file: CPC_3010_data_20220709_Jul.csv\n",
      "  Loading file: CPC_3010_data_20220710_Jul.csv\n",
      "Folder Settings: smps_1d\n",
      "  Loading file: 2022-07-07_095151_SMPS.csv\n",
      "  Loading file: 2022-07-10_094659_SMPS.csv\n",
      "Folder Settings: smps_2d\n",
      "  Loading file: 2022-07-07_095151_SMPS.csv\n",
      "  Loading file: 2022-07-10_094659_SMPS.csv\n",
      "Lake with streams: ['cpc', 'smps_1d', 'smps_2d']\n"
     ]
    }
   ],
   "source": [
    "lake_settings = settings_generator.load_settings_for_lake(\n",
    "    path=path,\n",
    "    subfolder='',\n",
    "    settings_suffix='_cpc_smps',\n",
    ")\n",
    "\n",
    "# now call the loader interface for files\n",
    "lake = loader_interface.load_folders_interface(\n",
    "    path=path,\n",
    "    folder_settings=combined_settings,\n",
    ")\n",
    "\n",
    "print(' ')\n",
    "print(lake)"
   ]
  },
  {
   "cell_type": "markdown",
   "metadata": {},
   "source": [
    "# Summary\n",
    " This example showed how to save and load the settings for a stream and a lake.  This is useful if you want to save your settings and then load them later.  This is also useful if you want to share your settings with someone else.  Or just stop from having to retype everything."
   ]
  },
  {
   "cell_type": "code",
   "execution_count": 7,
   "metadata": {},
   "outputs": [
    {
     "name": "stdout",
     "output_type": "stream",
     "text": [
      "Help on function save_settings_for_stream in module particula.data.settings_generator:\n",
      "\n",
      "save_settings_for_stream(settings: dict, path: str, subfolder: str, settings_suffix: str = '') -> None\n",
      "    Save settings for lake data to a JSON file.\n",
      "    \n",
      "    Given a dictionary of settings, this function saves it to a JSON file\n",
      "    named 'stream_settings' with an optional suffix in the specified filename.\n",
      "    The JSON file is formatted with a 4-space indentation.\n",
      "    \n",
      "    Args:\n",
      "    - settings (dict): The settings dictionary to be saved.\n",
      "    - path (str): The path where the subfolder is located.\n",
      "    - subfolder (str): The subfolder where the settings file will be saved.\n",
      "    - settings_suffix (str, optional): An optional suffix for the settings\n",
      "        file name. Default is an empty string.\n",
      "    \n",
      "    Returns:\n",
      "    - None\n",
      "\n"
     ]
    }
   ],
   "source": [
    "help(settings_generator.save_settings_for_stream)"
   ]
  },
  {
   "cell_type": "code",
   "execution_count": 8,
   "metadata": {},
   "outputs": [
    {
     "name": "stdout",
     "output_type": "stream",
     "text": [
      "Help on function load_settings_for_stream in module particula.data.settings_generator:\n",
      "\n",
      "load_settings_for_stream(path: str, subfolder: str, settings_suffix: str = '') -> dict\n",
      "    Load settings for Stream data from a JSON file.\n",
      "    \n",
      "    Given a path and subfolder, this function searches for a JSON file\n",
      "    named 'stream_settings' with an optional suffix. It returns the settings\n",
      "    as a dictionary. If no file is found, or multiple files are found,\n",
      "    appropriate errors or warnings are raised.\n",
      "    \n",
      "    Args:\n",
      "    - path (str): The path where the subfolder is located.\n",
      "    - subfolder (str): The subfolder where the settings file is expected.\n",
      "    - settings_suffix (str, optional): An optional suffix for the settings\n",
      "        file name. Default is an empty string.\n",
      "    \n",
      "    Returns:\n",
      "    - dict: A dictionary of settings loaded from the file.\n",
      "    \n",
      "    Raises:\n",
      "    - FileNotFoundError: If no settings file is found.\n",
      "    - Warning: If more than one settings file is found.\n",
      "\n"
     ]
    }
   ],
   "source": [
    "help(settings_generator.load_settings_for_stream)"
   ]
  },
  {
   "cell_type": "code",
   "execution_count": 9,
   "metadata": {},
   "outputs": [
    {
     "name": "stdout",
     "output_type": "stream",
     "text": [
      "Help on function save_settings_for_lake in module particula.data.settings_generator:\n",
      "\n",
      "save_settings_for_lake(settings: dict, path: str, subfolder: str = '', settings_suffix: str = '') -> None\n",
      "    Save settings for lake data to a JSON file.\n",
      "    \n",
      "    Given a dictionary of settings, this function saves it to a JSON file\n",
      "    named 'lake_settings' with an optional suffix in the specified filename.\n",
      "    The JSON file is formatted with a 4-space indentation.\n",
      "    \n",
      "    Args:\n",
      "    - settings (dict): The settings dictionary to be saved.\n",
      "    - path (str): The path where the subfolder is located.\n",
      "    - subfolder (str): The subfolder where the settings file will be saved.\n",
      "    - settings_suffix (str, optional): An optional suffix for the settings\n",
      "        file name. Default is an empty string.\n",
      "    \n",
      "    Returns:\n",
      "    - None\n",
      "\n"
     ]
    }
   ],
   "source": [
    "help(settings_generator.save_settings_for_lake)"
   ]
  },
  {
   "cell_type": "code",
   "execution_count": 10,
   "metadata": {},
   "outputs": [
    {
     "name": "stdout",
     "output_type": "stream",
     "text": [
      "Help on function load_settings_for_lake in module particula.data.settings_generator:\n",
      "\n",
      "load_settings_for_lake(path: str, subfolder: str = '', settings_suffix: str = '') -> dict\n",
      "    Load settings for Lake data from a JSON file. The settings file is\n",
      "    a dictionary of stream settings dictionaries.\n",
      "    \n",
      "    Given a path and subfolder, this function searches for a JSON file\n",
      "    named 'lake_settings' with an optional suffix. It returns the settings\n",
      "    as a dictionary. If no file is found, or multiple files are found,\n",
      "    appropriate errors or warnings are raised.\n",
      "    \n",
      "    Args:\n",
      "    - path (str): The path where the subfolder is located.\n",
      "    - subfolder (str): The subfolder where the settings file is expected.\n",
      "    - settings_suffix (str, optional): An optional suffix for the settings\n",
      "        file name. Default is an empty string.\n",
      "    \n",
      "    Returns:\n",
      "    - dict: A dictionary of settings loaded from the file.\n",
      "    \n",
      "    Raises:\n",
      "    - FileNotFoundError: If no settings file is found.\n",
      "    - Warning: If more than one settings file is found.\n",
      "\n"
     ]
    }
   ],
   "source": [
    "help(settings_generator.load_settings_for_lake)"
   ]
  }
 ],
 "metadata": {
  "kernelspec": {
   "display_name": "ParticulaDev_py39",
   "language": "python",
   "name": "python3"
  },
  "language_info": {
   "codemirror_mode": {
    "name": "ipython",
    "version": 3
   },
   "file_extension": ".py",
   "mimetype": "text/x-python",
   "name": "python",
   "nbconvert_exporter": "python",
   "pygments_lexer": "ipython3",
   "version": "3.9.18"
  }
 },
 "nbformat": 4,
 "nbformat_minor": 2
}
