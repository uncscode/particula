{
 "cells": [
  {
   "cell_type": "markdown",
   "metadata": {},
   "source": [
    "# CAPS corrections\n",
    "\n",
    "- [ ] save out streams as text with settings to load to streams\n",
    "- [ ] save out lakes as text with settings to load to lakes\n",
    "- [ ] save out as pk for both, but unroll the data"
   ]
  },
  {
   "cell_type": "code",
   "execution_count": null,
   "metadata": {},
   "outputs": [],
   "source": []
  }
 ],
 "metadata": {
  "language_info": {
   "name": "python"
  }
 },
 "nbformat": 4,
 "nbformat_minor": 2
}
