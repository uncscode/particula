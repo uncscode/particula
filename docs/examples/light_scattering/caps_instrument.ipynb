{
 "cells": [
  {
   "cell_type": "markdown",
   "metadata": {},
   "source": [
    "# CAPS corrections\n",
    "\n",
    "- [ ] save out as pk for both\n",
    "- [ ] load raw data and save\n",
    "- [ ] clean the data\n",
    "- [ ] process the data\n",
    "- [ ] merge sizer\n",
    "- [ ] simulate size cut\n",
    "- [ ] truncation correction\n",
    "- [ ] save out as csv for all"
   ]
  },
  {
   "cell_type": "code",
   "execution_count": null,
   "metadata": {},
   "outputs": [],
   "source": []
  }
 ],
 "metadata": {
  "language_info": {
   "name": "python"
  }
 },
 "nbformat": 4,
 "nbformat_minor": 2
}
