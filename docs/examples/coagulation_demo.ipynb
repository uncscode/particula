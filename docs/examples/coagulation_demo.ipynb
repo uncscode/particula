{
 "cells": [
  {
   "cell_type": "code",
   "execution_count": 1,
   "metadata": {},
   "outputs": [],
   "source": [
    "from particula import particle, u"
   ]
  },
  {
   "cell_type": "code",
   "execution_count": 2,
   "metadata": {},
   "outputs": [],
   "source": [
    "shared_dict = {\n",
    "    \"temperature\": 278,\n",
    "    \"coagulation_approximation\": \"gk2008\"\n",
    "}"
   ]
  },
  {
   "cell_type": "code",
   "execution_count": 3,
   "metadata": {},
   "outputs": [],
   "source": [
    "positive9_particle = particle.Particle(\n",
    "    **shared_dict,\n",
    "    particle_radius=3e-9,\n",
    "    particle_charge=9,\n",
    "    particle_density=1700,\n",
    ")\n",
    "positive1_particle = particle.Particle(\n",
    "    **shared_dict,\n",
    "    particle_radius=3e-9,\n",
    "    particle_charge=1,\n",
    "    particle_density=1700,\n",
    ")\n",
    "positive_particles = [\n",
    "    particle.Particle(\n",
    "        **shared_dict,\n",
    "        particle_radius=3e-9,\n",
    "        particle_charge=i,\n",
    "        particle_density=1700,\n",
    "    ) for i in range(1, 10)\n",
    "]"
   ]
  },
  {
   "cell_type": "code",
   "execution_count": 4,
   "metadata": {},
   "outputs": [],
   "source": [
    "negative_ion = particle.Particle(\n",
    "    **shared_dict,\n",
    "    particle_radius=0.45e-9,\n",
    "    particle_charge=-1,\n",
    "    particle_density=1860,\n",
    ")"
   ]
  },
  {
   "cell_type": "code",
   "execution_count": 5,
   "metadata": {},
   "outputs": [],
   "source": [
    "coag1 = positive1_particle.coagulation(negative_ion)\n",
    "coag9 = positive9_particle.coagulation(negative_ion)\n",
    "coags = [\n",
    "    negative_ion.coagulation(particle)\n",
    "    for particle in positive_particles\n",
    "]"
   ]
  },
  {
   "cell_type": "code",
   "execution_count": 6,
   "metadata": {},
   "outputs": [],
   "source": [
    "coags_ccps = [\n",
    "    coags[index].to(\"cc/s\")\n",
    "    for index in range(0, 9)\n",
    "]"
   ]
  },
  {
   "cell_type": "code",
   "execution_count": 7,
   "metadata": {},
   "outputs": [
    {
     "data": {
      "text/plain": [
       "[array([[1.30017985e-06]]) <Unit('cubic_centimeter / second')>,\n",
       " array([[5.79272613e-06]]) <Unit('cubic_centimeter / second')>,\n",
       " array([[1.1718776e-05]]) <Unit('cubic_centimeter / second')>,\n",
       " array([[1.76217587e-05]]) <Unit('cubic_centimeter / second')>,\n",
       " array([[2.30453796e-05]]) <Unit('cubic_centimeter / second')>,\n",
       " array([[2.80244754e-05]]) <Unit('cubic_centimeter / second')>,\n",
       " array([[3.27183685e-05]]) <Unit('cubic_centimeter / second')>,\n",
       " array([[3.72650869e-05]]) <Unit('cubic_centimeter / second')>,\n",
       " array([[4.17509864e-05]]) <Unit('cubic_centimeter / second')>]"
      ]
     },
     "execution_count": 7,
     "metadata": {},
     "output_type": "execute_result"
    }
   ],
   "source": [
    "coags_ccps"
   ]
  },
  {
   "cell_type": "code",
   "execution_count": 8,
   "metadata": {},
   "outputs": [],
   "source": [
    "coags_ccpsm = [\n",
    "    coags_ccps[i].m for i in range(len(coags_ccps)) \n",
    "]"
   ]
  },
  {
   "cell_type": "code",
   "execution_count": 9,
   "metadata": {},
   "outputs": [],
   "source": [
    "from matplotlib import pyplot as plt"
   ]
  },
  {
   "cell_type": "code",
   "execution_count": 10,
   "metadata": {},
   "outputs": [],
   "source": [
    "import numpy as np"
   ]
  },
  {
   "cell_type": "code",
   "execution_count": 16,
   "metadata": {},
   "outputs": [
    {
     "data": {
      "image/png": "[encoded data removed]",
      "text/plain": [
       "<Figure size 432x288 with 1 Axes>"
      ]
     },
     "metadata": {
      "needs_background": "light"
     },
     "output_type": "display_data"
    }
   ],
   "source": [
    "plt.semilogy(range(1,10), np.array(coags_ccpsm).squeeze());\n",
    "plt.ylim([1e-7, 1e-4]);"
   ]
  },
  {
   "cell_type": "code",
   "execution_count": null,
   "metadata": {},
   "outputs": [],
   "source": []
  }
 ],
 "metadata": {
  "kernelspec": {
   "display_name": "Python 3.10.2 64-bit",
   "language": "python",
   "name": "python3"
  },
  "language_info": {
   "codemirror_mode": {
    "name": "ipython",
    "version": 3
   },
   "file_extension": ".py",
   "mimetype": "text/x-python",
   "name": "python",
   "nbconvert_exporter": "python",
   "pygments_lexer": "ipython3",
   "version": "3.10.2"
  },
  "orig_nbformat": 4,
  "vscode": {
   "interpreter": {
    "hash": "949777d72b0d2535278d3dc13498b2535136f6dfe0678499012e853ee9abcab1"
   }
  }
 },
 "nbformat": 4,
 "nbformat_minor": 2
}
