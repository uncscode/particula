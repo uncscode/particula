{
 "cells": [
  {
   "cell_type": "markdown",
   "id": "aadafb87-f85c-443a-a1a0-fc2de6034ead",
   "metadata": {},
   "source": [
    "# Fluid and Particle Properties for Cloud Droplet Coagulation\n",
    "\n",
    "This notebook verifies the computations performed by the `Particula` library by comparing its results with those presented in the paper by Ayala et al. (2008). The comparisons focus on key parameters that influence cloud droplet coagulation processes, such as Reynolds number, inertia time, settling velocity, Stokes number, and scaled velocities.\n",
    "**Objective:**\n",
    "- To validate the accuracy of the `Particula` library in computing fluid and particle properties relevant to cloud droplet coagulation.\n",
    "**Reference Tables:**\n",
    "- **Table 2:** Provides values for Reynolds number, inertia time, settling velocity, and correction factors for different particle sizes.\n",
    "- **Table 3:** Includes characteristic scales for cloud droplets, such as Stokes numbers and scaled velocities at various turbulent dissipation rates.\n",
    "\n",
    "**Reference Paper:**\n",
    "Ayala, O., Rosa, B., Wang, L. P., & Grabowski, W. W. (2008). Effects of turbulence on the geometric collision rate of sedimenting droplets. Part 1. Results from direct numerical simulation. *New Journal of Physics*, 10. https://doi.org/10.1088/1367-2630/10/7/075015\n",
    "By conducting this comparison, we aim to ensure that the `Particula` library produces reliable results that align with established literature, which is crucial for accurate simulations in aerosol science and cloud physics."
   ]
  },
  {
   "cell_type": "code",
   "execution_count": 20,
   "id": "aa387312-34b8-4faa-b058-b6a8fbccd78e",
   "metadata": {},
   "outputs": [],
   "source": [
    "import numpy as np\n",
    "import matplotlib.pyplot as plt\n",
    "import particula as par\n",
    "\n",
    "import pandas as pd\n",
    "from IPython.display import display"
   ]
  },
  {
   "cell_type": "markdown",
   "id": "a489b4c0-dc20-4d30-8434-31384429552f",
   "metadata": {},
   "source": [
    "## Model Equations and Parameters\n",
    "In this section, we define the particle radii and other parameters needed for the calculations. These include temperature, particle density, fluid density, and air velocity."
   ]
  },
  {
   "cell_type": "code",
   "execution_count": 21,
   "id": "8ed9faab-bae7-4cec-8004-973b96f314ba",
   "metadata": {},
   "outputs": [],
   "source": [
    "# %%\n",
    "\n",
    "particle_radius = np.linspace(10e-6, 60e-6, 6)\n",
    "temperature = 273  # Temperature in Kelvin\n",
    "particle_density = 1000  # Particle density in kg/m³\n",
    "fluid_density = 1.0  # Fluid (air) density in kg/m³\n",
    "air_velocity = 1e-9  # Relative velocity in m/s\n",
    "\n",
    "turbulent_dissipation = 400 * par.util.get_unit_conversion(\n",
    "    \"cm^2/s^3\", \"m^2/s^3\"\n",
    ")  # Example value in m²/s³\n",
    "reynolds_lambda = 72.41  # Example value"
   ]
  },
  {
   "cell_type": "markdown",
   "id": "5643bcc3-056d-46ea-84c9-2275f4be24b0",
   "metadata": {},
   "source": [
    "### Calculate Dynamic and Kinematic Viscosity\n",
    "We calculate the dynamic and kinematic viscosity of the fluid using the temperature and fluid density."
   ]
  },
  {
   "cell_type": "code",
   "execution_count": 22,
   "id": "a6c1bdfe-c446-4333-af21-f8ae804c013b",
   "metadata": {},
   "outputs": [],
   "source": [
    "dynamic_viscosity = par.gas.get_dynamic_viscosity(temperature)\n",
    "kinematic_viscosity = par.gas.get_kinematic_viscosity(\n",
    "    dynamic_viscosity, fluid_density\n",
    ")\n",
    "kolmogorov_time = par.gas.get_kolmogorov_time(\n",
    "    kinematic_viscosity=kinematic_viscosity,\n",
    "    turbulent_dissipation=turbulent_dissipation,\n",
    ")"
   ]
  },
  {
   "cell_type": "markdown",
   "id": "6e194859-d98a-4a7f-a1cd-1896f4dec10f",
   "metadata": {},
   "source": [
    "\n",
    "### Calculate Particle Settling Velocity\n",
    "This section calculates the particle settling velocity using the slip correction factor and other parameters."
   ]
  },
  {
   "cell_type": "code",
   "execution_count": 23,
   "id": "a9d7551b-6daa-4651-bfcb-2f201859c2f1",
   "metadata": {},
   "outputs": [],
   "source": [
    "# %%\n",
    "\n",
    "mean_free_path = par.gas.get_molecule_mean_free_path(\n",
    "    temperature=temperature, dynamic_viscosity=dynamic_viscosity\n",
    ")\n",
    "\n",
    "# 2. Slip correction factors\n",
    "knudsen_number = par.particles.get_knudsen_number(\n",
    "    mean_free_path=mean_free_path, particle_radius=particle_radius\n",
    ")\n",
    "slip_correction_factor = par.particles.get_cunningham_slip_correction(knudsen_number)\n",
    "# iterative terminal settling velocity\n",
    "iterative_settling_velocity = (\n",
    "    par.particles.get_particle_settling_velocity_with_drag(\n",
    "        particle_radius=particle_radius,\n",
    "        particle_density=particle_density,\n",
    "        fluid_density=fluid_density,\n",
    "        dynamic_viscosity=dynamic_viscosity,\n",
    "        slip_correction_factor=slip_correction_factor,\n",
    "    )\n",
    ")\n",
    "settling_velocity = par.particles.get_particle_settling_velocity(\n",
    "    particle_radius=particle_radius,\n",
    "    particle_density=particle_density,\n",
    "    slip_correction_factor=slip_correction_factor,\n",
    "    dynamic_viscosity=dynamic_viscosity,\n",
    ")\n",
    "relative_velocity = iterative_settling_velocity - air_velocity"
   ]
  },
  {
   "cell_type": "markdown",
   "id": "a8ee9239-25f3-4218-b00d-4da077f5f00e",
   "metadata": {},
   "source": [
    "### Calculate Particle Inertia Time\n",
    "We calculate the particle inertia time, which is a measure of how quickly a particle responds to changes in the surrounding fluid."
   ]
  },
  {
   "cell_type": "code",
   "execution_count": 24,
   "id": "7d475021-333c-432a-a241-adf40307bda9",
   "metadata": {},
   "outputs": [],
   "source": [
    "# %%\n",
    "\n",
    "particle_inertia_time = par.particles.get_particle_inertia_time(\n",
    "    particle_radius=particle_radius,\n",
    "    particle_density=particle_density,\n",
    "    fluid_density=fluid_density,\n",
    "    kinematic_viscosity=kinematic_viscosity,\n",
    ")\n",
    "\n",
    "re_p = 2 * particle_radius * relative_velocity / kinematic_viscosity\n",
    "f_re_p = 1 + 0.15 * re_p**0.687\n",
    "\n",
    "ao2008_re_p = np.array([0.015, 0.116, 0.378, 0.851, 1.566, 2.537])\n",
    "ao2008_t_p = np.array([0.0013, 0.0052, 0.0118, 0.0209, 0.0327, 0.0471])\n",
    "ao2008_f_re_p = np.array([1.008, 1.034, 1.077, 1.134, 1.204, 1.284])\n",
    "\n",
    "# calculate relative velocity from re_p\n",
    "ao2008_velocity = ao2008_re_p * kinematic_viscosity / (2 * particle_radius)\n",
    "\n",
    "\n",
    "particle_settling_velocity = (\n",
    "    par.particles.get_particle_settling_velocity_via_inertia(\n",
    "        particle_inertia_time=particle_inertia_time,\n",
    "        particle_radius=particle_radius,\n",
    "        relative_velocity=iterative_settling_velocity,\n",
    "        slip_correction_factor=slip_correction_factor,\n",
    "        gravitational_acceleration=par.util.constants.STANDARD_GRAVITY,\n",
    "        kinematic_viscosity=kinematic_viscosity,\n",
    "    )\n",
    ")"
   ]
  },
  {
   "cell_type": "markdown",
   "id": "60d0a74b-0add-4993-aeea-47314f77d45a",
   "metadata": {},
   "source": [
    "### Comparison of Paper Values and Computed Values\n",
    "We compare the values from the paper with the computed values from the Particula library. This includes the Reynolds number, inertia time, and settling velocity.\n",
    "#### Analysis\n",
    "The plots below show the comparison between the values reported in Ayala et al. (2008) and the values computed using the `Particula` library. The percent errors are also calculated to quantify the discrepancies.\n",
    "- **Reynolds Number (Re_p):** The Reynolds number is a dimensionless quantity representing the ratio of inertial forces to viscous forces acting on the particles. The comparison shows that the computed Reynolds numbers closely match the paper values, with minimal percent errors (typically less than a few percent), indicating accurate modeling of particle-fluid interactions.\n",
    "- **Inertia Time (t_p):** The inertia time signifies how quickly a particle adjusts its velocity relative to the surrounding fluid. The computed inertia times align well with the paper values, validating the correctness of particle inertia calculations in `Particula`.\n",
    "- **Settling Velocity:** This is the terminal velocity at which particles settle under gravity in a quiescent fluid. The computed settling velocities are in good agreement with the paper values, demonstrating accurate calculations of gravitational settling influenced by particle size and fluid properties.\n",
    "Overall, the `Particula` library provides results consistent with established literature, affirming its reliability for simulating particle dynamics in atmospheric studies."
   ]
  },
  {
   "cell_type": "code",
   "execution_count": 25,
   "id": "c0a57573-1b71-4ff1-a080-5633c561cb87",
   "metadata": {},
   "outputs": [
    {
     "data": {
      "image/png": "[encoded data removed]",
      "text/plain": [
       "<Figure size 500x700 with 3 Axes>"
      ]
     },
     "metadata": {},
     "output_type": "display_data"
    }
   ],
   "source": [
    "# Plot comparison\n",
    "fig, ax = plt.subplots(3, 1, figsize=(5, 7))\n",
    "\n",
    "ax[0].plot(\n",
    "    particle_radius * 1e6,\n",
    "    ao2008_re_p,\n",
    "    \"o-\",\n",
    "    color=\"black\",\n",
    "    alpha=0.6,\n",
    "    label=\"ao2008 Re_p\",\n",
    ")\n",
    "ax[0].plot(\n",
    "    particle_radius * 1e6, re_p, \"x--\", color=\"black\", label=\"Particula Re_p\"\n",
    ")\n",
    "ax[0].set_title(\"Reynolds Number Comparison\")\n",
    "ax[0].set_xlabel(\"Particle Radius (micrometers)\")\n",
    "ax[0].set_ylabel(\"Reynolds Number (Re_p)\")\n",
    "ax[0].legend()\n",
    "\n",
    "ax[1].plot(\n",
    "    particle_radius * 1e6,\n",
    "    ao2008_t_p,\n",
    "    \"o-\",\n",
    "    color=\"#E69F00\",\n",
    "    alpha=0.6,\n",
    "    label=\"ao2008 t_p\",\n",
    ")\n",
    "ax[1].plot(\n",
    "    particle_radius * 1e6,\n",
    "    particle_inertia_time,\n",
    "    \"x--\",\n",
    "    color=\"#E69F00\",\n",
    "    label=\"Particula t_p\",\n",
    ")\n",
    "ax[1].set_title(\"Particle Inertia Time Comparison\")\n",
    "ax[1].set_xlabel(\"Particle Radius (micrometers)\")\n",
    "ax[1].set_ylabel(\"Inertia Time (seconds)\")\n",
    "ax[1].legend()\n",
    "\n",
    "ax[2].plot(\n",
    "    particle_radius * 1e6,\n",
    "    ao2008_velocity * 100,\n",
    "    \"o-\",\n",
    "    color=\"#56B4E9\",\n",
    "    alpha=0.6,\n",
    "    label=\"ao2008 Velocity\",\n",
    ")\n",
    "ax[2].plot(\n",
    "    particle_radius * 1e6,\n",
    "    particle_settling_velocity * 100,\n",
    "    \"x--\",\n",
    "    color=\"#56B4E9\",\n",
    "    label=\"Particula Velocity\",\n",
    ")\n",
    "ax[2].set_title(\"Particle Settling Velocity Comparison\")\n",
    "ax[2].set_xlabel(\"Particle Radius (micrometers)\")\n",
    "ax[2].set_ylabel(\"Settling Velocity (centimeters per second)\")\n",
    "ax[2].legend()\n",
    "\n",
    "plt.tight_layout()\n",
    "plt.show()"
   ]
  },
  {
   "cell_type": "markdown",
   "metadata": {},
   "source": [
    "Table 2: Values for Reynolds number, inertia time, settling velocity, and correction factors for different particle sizes.\n",
    "\n",
    "Percents of error are calculated as:\n",
    "$$\\text{Error} = \\frac{\\text{Computed Value} - \\text{Paper Value}}{\\text{Paper Value}} \\times 100$$"
   ]
  },
  {
   "cell_type": "code",
   "execution_count": 26,
   "metadata": {},
   "outputs": [
    {
     "name": "stdout",
     "output_type": "stream",
     "text": [
      "Paper Values From Table 2\n"
     ]
    },
    {
     "data": {
      "application/vnd.microsoft.datawrangler.viewer.v0+json": {
       "columns": [
        {
         "name": "index",
         "rawType": "int64",
         "type": "integer"
        },
        {
         "name": "Radius (µm)",
         "rawType": "float64",
         "type": "float"
        },
        {
         "name": "t_p (s)",
         "rawType": "float64",
         "type": "float"
        },
        {
         "name": "Settling Velocity (cm/s)",
         "rawType": "float64",
         "type": "float"
        },
        {
         "name": "Re_p",
         "rawType": "float64",
         "type": "float"
        },
        {
         "name": "f(Re_p)",
         "rawType": "float64",
         "type": "float"
        }
       ],
       "conversionMethod": "pd.DataFrame",
       "ref": "744a4dcb-4154-4ce0-b1a8-a30212ec3a79",
       "rows": [
        [
         "0",
         "10.0",
         "0.0013",
         "1.2864431201817965",
         "0.015",
         "1.008"
        ],
        [
         "1",
         "20.0",
         "0.0052",
         "4.974246731369613",
         "0.116",
         "1.034"
        ],
        [
         "2",
         "30.000000000000004",
         "0.0118",
         "10.80612220952709",
         "0.378",
         "1.077"
        ],
        [
         "3",
         "40.0",
         "0.0209",
         "18.24605158791181",
         "0.851",
         "1.134"
        ],
        [
         "4",
         "50.0",
         "0.0327",
         "26.86093234939591",
         "1.566",
         "1.204"
        ],
        [
         "5",
         "60.0",
         "0.0471",
         "36.263402176680195",
         "2.537",
         "1.284"
        ]
       ],
       "shape": {
        "columns": 5,
        "rows": 6
       }
      },
      "text/html": [
       "<div>\n",
       "<style scoped>\n",
       "    .dataframe tbody tr th:only-of-type {\n",
       "        vertical-align: middle;\n",
       "    }\n",
       "\n",
       "    .dataframe tbody tr th {\n",
       "        vertical-align: top;\n",
       "    }\n",
       "\n",
       "    .dataframe thead th {\n",
       "        text-align: right;\n",
       "    }\n",
       "</style>\n",
       "<table border=\"1\" class=\"dataframe\">\n",
       "  <thead>\n",
       "    <tr style=\"text-align: right;\">\n",
       "      <th></th>\n",
       "      <th>Radius (µm)</th>\n",
       "      <th>t_p (s)</th>\n",
       "      <th>Settling Velocity (cm/s)</th>\n",
       "      <th>Re_p</th>\n",
       "      <th>f(Re_p)</th>\n",
       "    </tr>\n",
       "  </thead>\n",
       "  <tbody>\n",
       "    <tr>\n",
       "      <th>0</th>\n",
       "      <td>10.0</td>\n",
       "      <td>0.0013</td>\n",
       "      <td>1.286443</td>\n",
       "      <td>0.015</td>\n",
       "      <td>1.008</td>\n",
       "    </tr>\n",
       "    <tr>\n",
       "      <th>1</th>\n",
       "      <td>20.0</td>\n",
       "      <td>0.0052</td>\n",
       "      <td>4.974247</td>\n",
       "      <td>0.116</td>\n",
       "      <td>1.034</td>\n",
       "    </tr>\n",
       "    <tr>\n",
       "      <th>2</th>\n",
       "      <td>30.0</td>\n",
       "      <td>0.0118</td>\n",
       "      <td>10.806122</td>\n",
       "      <td>0.378</td>\n",
       "      <td>1.077</td>\n",
       "    </tr>\n",
       "    <tr>\n",
       "      <th>3</th>\n",
       "      <td>40.0</td>\n",
       "      <td>0.0209</td>\n",
       "      <td>18.246052</td>\n",
       "      <td>0.851</td>\n",
       "      <td>1.134</td>\n",
       "    </tr>\n",
       "    <tr>\n",
       "      <th>4</th>\n",
       "      <td>50.0</td>\n",
       "      <td>0.0327</td>\n",
       "      <td>26.860932</td>\n",
       "      <td>1.566</td>\n",
       "      <td>1.204</td>\n",
       "    </tr>\n",
       "    <tr>\n",
       "      <th>5</th>\n",
       "      <td>60.0</td>\n",
       "      <td>0.0471</td>\n",
       "      <td>36.263402</td>\n",
       "      <td>2.537</td>\n",
       "      <td>1.284</td>\n",
       "    </tr>\n",
       "  </tbody>\n",
       "</table>\n",
       "</div>"
      ],
      "text/plain": [
       "   Radius (µm)  t_p (s)  Settling Velocity (cm/s)   Re_p  f(Re_p)\n",
       "0         10.0   0.0013                  1.286443  0.015    1.008\n",
       "1         20.0   0.0052                  4.974247  0.116    1.034\n",
       "2         30.0   0.0118                 10.806122  0.378    1.077\n",
       "3         40.0   0.0209                 18.246052  0.851    1.134\n",
       "4         50.0   0.0327                 26.860932  1.566    1.204\n",
       "5         60.0   0.0471                 36.263402  2.537    1.284"
      ]
     },
     "metadata": {},
     "output_type": "display_data"
    },
    {
     "name": "stdout",
     "output_type": "stream",
     "text": [
      "Particula Computed Values\n"
     ]
    },
    {
     "data": {
      "application/vnd.microsoft.datawrangler.viewer.v0+json": {
       "columns": [
        {
         "name": "index",
         "rawType": "int64",
         "type": "integer"
        },
        {
         "name": "Radius (µm)",
         "rawType": "float64",
         "type": "float"
        },
        {
         "name": "t_p (s)",
         "rawType": "float64",
         "type": "float"
        },
        {
         "name": "Settling Velocity (cm/s)",
         "rawType": "float64",
         "type": "float"
        },
        {
         "name": "Re_p",
         "rawType": "float64",
         "type": "float"
        },
        {
         "name": "f(Re_p)",
         "rawType": "float64",
         "type": "float"
        }
       ],
       "conversionMethod": "pd.DataFrame",
       "ref": "3d374036-daf1-4c1e-9dbb-063fb273fee1",
       "rows": [
        [
         "0",
         "10.0",
         "0.0012955618795109558",
         "1.2694081620994997",
         "0.014909918050938071",
         "1.0083419726232474"
        ],
        [
         "1",
         "20.0",
         "0.005182247518043823",
         "4.930276237981921",
         "0.11839535361648164",
         "1.0346315691486503"
        ],
        [
         "2",
         "30.000000000000004",
         "0.011660056915598602",
         "10.615204472160835",
         "0.39958454975604274",
         "1.0798723435615813"
        ],
        [
         "3",
         "40.0",
         "0.020728990072175293",
         "17.79464807921561",
         "0.9471633434781436",
         "1.144509085580267"
        ],
        [
         "4",
         "50.0",
         "0.03238904698777389",
         "26.470099101337347",
         "1.5393727896052012",
         "1.2017420610991485"
        ],
        [
         "5",
         "60.0",
         "0.046640227662394396",
         "35.74612810263006",
         "2.495206892586504",
         "1.2811275881713837"
        ]
       ],
       "shape": {
        "columns": 5,
        "rows": 6
       }
      },
      "text/html": [
       "<div>\n",
       "<style scoped>\n",
       "    .dataframe tbody tr th:only-of-type {\n",
       "        vertical-align: middle;\n",
       "    }\n",
       "\n",
       "    .dataframe tbody tr th {\n",
       "        vertical-align: top;\n",
       "    }\n",
       "\n",
       "    .dataframe thead th {\n",
       "        text-align: right;\n",
       "    }\n",
       "</style>\n",
       "<table border=\"1\" class=\"dataframe\">\n",
       "  <thead>\n",
       "    <tr style=\"text-align: right;\">\n",
       "      <th></th>\n",
       "      <th>Radius (µm)</th>\n",
       "      <th>t_p (s)</th>\n",
       "      <th>Settling Velocity (cm/s)</th>\n",
       "      <th>Re_p</th>\n",
       "      <th>f(Re_p)</th>\n",
       "    </tr>\n",
       "  </thead>\n",
       "  <tbody>\n",
       "    <tr>\n",
       "      <th>0</th>\n",
       "      <td>10.0</td>\n",
       "      <td>0.001296</td>\n",
       "      <td>1.269408</td>\n",
       "      <td>0.014910</td>\n",
       "      <td>1.008342</td>\n",
       "    </tr>\n",
       "    <tr>\n",
       "      <th>1</th>\n",
       "      <td>20.0</td>\n",
       "      <td>0.005182</td>\n",
       "      <td>4.930276</td>\n",
       "      <td>0.118395</td>\n",
       "      <td>1.034632</td>\n",
       "    </tr>\n",
       "    <tr>\n",
       "      <th>2</th>\n",
       "      <td>30.0</td>\n",
       "      <td>0.011660</td>\n",
       "      <td>10.615204</td>\n",
       "      <td>0.399585</td>\n",
       "      <td>1.079872</td>\n",
       "    </tr>\n",
       "    <tr>\n",
       "      <th>3</th>\n",
       "      <td>40.0</td>\n",
       "      <td>0.020729</td>\n",
       "      <td>17.794648</td>\n",
       "      <td>0.947163</td>\n",
       "      <td>1.144509</td>\n",
       "    </tr>\n",
       "    <tr>\n",
       "      <th>4</th>\n",
       "      <td>50.0</td>\n",
       "      <td>0.032389</td>\n",
       "      <td>26.470099</td>\n",
       "      <td>1.539373</td>\n",
       "      <td>1.201742</td>\n",
       "    </tr>\n",
       "    <tr>\n",
       "      <th>5</th>\n",
       "      <td>60.0</td>\n",
       "      <td>0.046640</td>\n",
       "      <td>35.746128</td>\n",
       "      <td>2.495207</td>\n",
       "      <td>1.281128</td>\n",
       "    </tr>\n",
       "  </tbody>\n",
       "</table>\n",
       "</div>"
      ],
      "text/plain": [
       "   Radius (µm)   t_p (s)  Settling Velocity (cm/s)      Re_p   f(Re_p)\n",
       "0         10.0  0.001296                  1.269408  0.014910  1.008342\n",
       "1         20.0  0.005182                  4.930276  0.118395  1.034632\n",
       "2         30.0  0.011660                 10.615204  0.399585  1.079872\n",
       "3         40.0  0.020729                 17.794648  0.947163  1.144509\n",
       "4         50.0  0.032389                 26.470099  1.539373  1.201742\n",
       "5         60.0  0.046640                 35.746128  2.495207  1.281128"
      ]
     },
     "metadata": {},
     "output_type": "display_data"
    },
    {
     "name": "stdout",
     "output_type": "stream",
     "text": [
      "Percent Errors for Re_p, t_p, and Settling Velocity\n"
     ]
    },
    {
     "data": {
      "application/vnd.microsoft.datawrangler.viewer.v0+json": {
       "columns": [
        {
         "name": "index",
         "rawType": "int64",
         "type": "integer"
        },
        {
         "name": "Radius (µm)",
         "rawType": "float64",
         "type": "float"
        },
        {
         "name": "Percent Error in t_p (%)",
         "rawType": "float64",
         "type": "float"
        },
        {
         "name": "Percent Error in Settling Velocity (%)",
         "rawType": "float64",
         "type": "float"
        },
        {
         "name": "Percent Error in Re_p (%)",
         "rawType": "float64",
         "type": "float"
        },
        {
         "name": "Percent Error in f(Re_p) (%)",
         "rawType": "float64",
         "type": "float"
        }
       ],
       "conversionMethod": "pd.DataFrame",
       "ref": "a1d4f4d1-3f2b-4ca6-845b-5360ec008eaa",
       "rows": [
        [
         "0",
         "10.0",
         "-0.34139388377262647",
         "-1.3241905386294344",
         "-0.6005463270795236",
         "0.03392585548089502"
        ],
        [
         "1",
         "20.0",
         "-0.34139388377262647",
         "-0.8839628543231723",
         "2.0649600142083036",
         "0.061080188457471686"
        ],
        [
         "2",
         "30.000000000000004",
         "-1.1859583423847233",
         "-1.7667553046728823",
         "5.710198348159454",
         "0.26669856653494817"
        ],
        [
         "3",
         "40.0",
         "-0.818229319735434",
         "-2.4739791319852675",
         "11.300040361709",
         "0.9267271234803526"
        ],
        [
         "4",
         "50.0",
         "-0.950926642893308",
         "-1.4550248776727728",
         "-1.7003327199743852",
         "-0.18753645355909168"
        ],
        [
         "5",
         "60.0",
         "-0.9761620755957692",
         "-1.4264355879514832",
         "-1.6473436110956274",
         "-0.22370808634083378"
        ]
       ],
       "shape": {
        "columns": 5,
        "rows": 6
       }
      },
      "text/html": [
       "<div>\n",
       "<style scoped>\n",
       "    .dataframe tbody tr th:only-of-type {\n",
       "        vertical-align: middle;\n",
       "    }\n",
       "\n",
       "    .dataframe tbody tr th {\n",
       "        vertical-align: top;\n",
       "    }\n",
       "\n",
       "    .dataframe thead th {\n",
       "        text-align: right;\n",
       "    }\n",
       "</style>\n",
       "<table border=\"1\" class=\"dataframe\">\n",
       "  <thead>\n",
       "    <tr style=\"text-align: right;\">\n",
       "      <th></th>\n",
       "      <th>Radius (µm)</th>\n",
       "      <th>Percent Error in t_p (%)</th>\n",
       "      <th>Percent Error in Settling Velocity (%)</th>\n",
       "      <th>Percent Error in Re_p (%)</th>\n",
       "      <th>Percent Error in f(Re_p) (%)</th>\n",
       "    </tr>\n",
       "  </thead>\n",
       "  <tbody>\n",
       "    <tr>\n",
       "      <th>0</th>\n",
       "      <td>10.0</td>\n",
       "      <td>-0.341394</td>\n",
       "      <td>-1.324191</td>\n",
       "      <td>-0.600546</td>\n",
       "      <td>0.033926</td>\n",
       "    </tr>\n",
       "    <tr>\n",
       "      <th>1</th>\n",
       "      <td>20.0</td>\n",
       "      <td>-0.341394</td>\n",
       "      <td>-0.883963</td>\n",
       "      <td>2.064960</td>\n",
       "      <td>0.061080</td>\n",
       "    </tr>\n",
       "    <tr>\n",
       "      <th>2</th>\n",
       "      <td>30.0</td>\n",
       "      <td>-1.185958</td>\n",
       "      <td>-1.766755</td>\n",
       "      <td>5.710198</td>\n",
       "      <td>0.266699</td>\n",
       "    </tr>\n",
       "    <tr>\n",
       "      <th>3</th>\n",
       "      <td>40.0</td>\n",
       "      <td>-0.818229</td>\n",
       "      <td>-2.473979</td>\n",
       "      <td>11.300040</td>\n",
       "      <td>0.926727</td>\n",
       "    </tr>\n",
       "    <tr>\n",
       "      <th>4</th>\n",
       "      <td>50.0</td>\n",
       "      <td>-0.950927</td>\n",
       "      <td>-1.455025</td>\n",
       "      <td>-1.700333</td>\n",
       "      <td>-0.187536</td>\n",
       "    </tr>\n",
       "    <tr>\n",
       "      <th>5</th>\n",
       "      <td>60.0</td>\n",
       "      <td>-0.976162</td>\n",
       "      <td>-1.426436</td>\n",
       "      <td>-1.647344</td>\n",
       "      <td>-0.223708</td>\n",
       "    </tr>\n",
       "  </tbody>\n",
       "</table>\n",
       "</div>"
      ],
      "text/plain": [
       "   Radius (µm)  Percent Error in t_p (%)  \\\n",
       "0         10.0                 -0.341394   \n",
       "1         20.0                 -0.341394   \n",
       "2         30.0                 -1.185958   \n",
       "3         40.0                 -0.818229   \n",
       "4         50.0                 -0.950927   \n",
       "5         60.0                 -0.976162   \n",
       "\n",
       "   Percent Error in Settling Velocity (%)  Percent Error in Re_p (%)  \\\n",
       "0                               -1.324191                  -0.600546   \n",
       "1                               -0.883963                   2.064960   \n",
       "2                               -1.766755                   5.710198   \n",
       "3                               -2.473979                  11.300040   \n",
       "4                               -1.455025                  -1.700333   \n",
       "5                               -1.426436                  -1.647344   \n",
       "\n",
       "   Percent Error in f(Re_p) (%)  \n",
       "0                      0.033926  \n",
       "1                      0.061080  \n",
       "2                      0.266699  \n",
       "3                      0.926727  \n",
       "4                     -0.187536  \n",
       "5                     -0.223708  "
      ]
     },
     "metadata": {},
     "output_type": "display_data"
    }
   ],
   "source": [
    "# Calculate percent error\n",
    "percent_error_re_p = 100 * (re_p - ao2008_re_p) / ao2008_re_p\n",
    "percent_error_tp = 100 * (particle_inertia_time - ao2008_t_p) / ao2008_t_p\n",
    "percent_error_velocity = (\n",
    "    100 * (particle_settling_velocity - ao2008_velocity) / ao2008_velocity\n",
    ")\n",
    "percent_error_f_re_p = 100 * (f_re_p - ao2008_f_re_p) / ao2008_f_re_p\n",
    "\n",
    "# Create DataFrame for Paper Values From Table 2\n",
    "paper_values_df = pd.DataFrame(\n",
    "    {\n",
    "        \"Radius (µm)\": particle_radius * 1e6,\n",
    "        \"t_p (s)\": ao2008_t_p,\n",
    "        \"Settling Velocity (cm/s)\": ao2008_velocity * 100,\n",
    "        \"Re_p\": ao2008_re_p,\n",
    "        \"f(Re_p)\": ao2008_f_re_p,\n",
    "    }\n",
    ")\n",
    "print(\"Paper Values From Table 2\")\n",
    "display(paper_values_df)\n",
    "\n",
    "# print settling velocity in a table format\n",
    "# Create DataFrame for Particula Computed Values\n",
    "computed_values_df = pd.DataFrame(\n",
    "    {\n",
    "        \"Radius (µm)\": particle_radius * 1e6,\n",
    "        \"t_p (s)\": particle_inertia_time,\n",
    "        \"Settling Velocity (cm/s)\": particle_settling_velocity * 100,\n",
    "        \"Re_p\": re_p,\n",
    "        \"f(Re_p)\": f_re_p,\n",
    "    }\n",
    ")\n",
    "print(\"Particula Computed Values\")\n",
    "display(computed_values_df)\n",
    "\n",
    "# Create a DataFrame for percent errors\n",
    "percent_errors_df = pd.DataFrame(\n",
    "    {\n",
    "        \"Radius (µm)\": particle_radius * 1e6,\n",
    "        \"Percent Error in t_p (%)\": percent_error_tp,\n",
    "        \"Percent Error in Settling Velocity (%)\": percent_error_velocity,\n",
    "        \"Percent Error in Re_p (%)\": percent_error_re_p,\n",
    "        \"Percent Error in f(Re_p) (%)\": percent_error_f_re_p,\n",
    "    }\n",
    ")\n",
    "print(\"Percent Errors for Re_p, t_p, and Settling Velocity\")\n",
    "display(percent_errors_df)"
   ]
  },
  {
   "cell_type": "markdown",
   "id": "0fc6e3bc-78b8-49d6-b52c-a36a0dee5683",
   "metadata": {},
   "source": [
    "### Stokes Number and Velocity Comparison\n",
    "\n",
    "We calculate and compare the Stokes number and velocity for different turbulent dissipation rates.\n",
    "\n",
    "#### Significance\n",
    "\n",
    "The **Stokes number** (St) is a dimensionless parameter that characterizes the behavior of particles suspended in a fluid flow, defined as the ratio of the particle's response time to a characteristic time scale of the flow (e.g., the Kolmogorov time scale in turbulence). It indicates how much the particle's motion is influenced by the fluid's turbulence. A small Stokes number implies that the particle closely follows the fluid motion, while a large Stokes number suggests that the particle's inertia dominates, and it is less affected by the fluid fluctuations.\n",
    "By comparing the computed Stokes numbers and Stokes velocities with the values from Ayala et al. (2008), we can assess the accuracy of the `Particula` library in capturing particle dynamics within turbulent flows at different intensities (represented by different turbulent dissipation rates).\n",
    "The plots below illustrate these comparisons for three turbulent dissipation rates: 10 cm²/s³ (weak turbulence), 100 cm²/s³ (moderate turbulence), and 400 cm²/s³ (strong turbulence).\n",
    "#### Analysis\n",
    "- **Stokes Number (St):** The computed Stokes numbers show excellent agreement with the paper values across all particle sizes and turbulence levels. This consistency confirms that `Particula` accurately models the interplay between particle inertia and turbulent flow scales.\n",
    "- **Stokes Velocity (Sv):** The Stokes velocities (particle settling velocity normalized by the Kolmogorov velocity scale) also match closely with the paper values. This indicates that `Particula` effectively captures how turbulence modulates particle settling rates.\n",
    "These results validate the `Particula` library's capability to simulate particle-turbulence interactions, which are critical for understanding processes like cloud droplet collision-coalescence in atmospheric physics."
   ]
  },
  {
   "cell_type": "code",
   "execution_count": 27,
   "id": "6776afe6-8b61-4c75-a513-536824a748d5",
   "metadata": {},
   "outputs": [],
   "source": [
    "length_kolmogorov = par.gas.get_kolmogorov_length(\n",
    "    kinematic_viscosity=kinematic_viscosity,\n",
    "    turbulent_dissipation=turbulent_dissipation,\n",
    ")\n",
    "\n",
    "timescale_kolmogorov_10 = par.gas.get_kolmogorov_time(\n",
    "    kinematic_viscosity=kinematic_viscosity,\n",
    "    turbulent_dissipation=10 * par.util.get_unit_conversion(\"cm^2/s^3\", \"m^2/s^3\"),\n",
    ")\n",
    "velocity_kolmogorov_10 = par.gas.get_kolmogorov_velocity(\n",
    "    kinematic_viscosity=kinematic_viscosity,\n",
    "    turbulent_dissipation=10 * par.util.get_unit_conversion(\"cm^2/s^3\", \"m^2/s^3\"),\n",
    ")\n",
    "stokes_number_10 = par.particles.get_stokes_number(\n",
    "    particle_inertia_time=particle_inertia_time,\n",
    "    kolmogorov_time=timescale_kolmogorov_10,\n",
    ")\n",
    "stokes_velocity_10 = particle_settling_velocity / velocity_kolmogorov_10\n",
    "\n",
    "# 100 cm^2/s^3\n",
    "timescale_kolmogorov_100 = par.gas.get_kolmogorov_time(\n",
    "    kinematic_viscosity=kinematic_viscosity,\n",
    "    turbulent_dissipation=100 * par.util.get_unit_conversion(\"cm^2/s^3\", \"m^2/s^3\"),\n",
    ")\n",
    "velocity_kolmogorov_100 = par.gas.get_kolmogorov_velocity(\n",
    "    kinematic_viscosity=kinematic_viscosity,\n",
    "    turbulent_dissipation=100 * par.util.get_unit_conversion(\"cm^2/s^3\", \"m^2/s^3\"),\n",
    ")\n",
    "stokes_number_100 = par.particles.get_stokes_number(\n",
    "    particle_inertia_time=particle_inertia_time,\n",
    "    kolmogorov_time=timescale_kolmogorov_100,\n",
    ")\n",
    "stokes_velocity_100 = particle_settling_velocity / velocity_kolmogorov_100\n",
    "\n",
    "# 400 cm^2/s^3\n",
    "timescale_kolmogorov_400 = par.gas.get_kolmogorov_time(\n",
    "    kinematic_viscosity=kinematic_viscosity,\n",
    "    turbulent_dissipation=400 * par.util.get_unit_conversion(\"cm^2/s^3\", \"m^2/s^3\"),\n",
    ")\n",
    "velocity_kolmogorov_400 = par.gas.get_kolmogorov_velocity(\n",
    "    kinematic_viscosity=kinematic_viscosity,\n",
    "    turbulent_dissipation=400 * par.util.get_unit_conversion(\"cm^2/s^3\", \"m^2/s^3\"),\n",
    ")\n",
    "stokes_number_400 = par.particles.get_stokes_number(\n",
    "    particle_inertia_time=particle_inertia_time,\n",
    "    kolmogorov_time=timescale_kolmogorov_400,\n",
    ")\n",
    "stokes_velocity_400 = particle_settling_velocity / velocity_kolmogorov_400\n",
    "\n",
    "\n",
    "# from paper\n",
    "\n",
    "st_ao2008 = np.array(\n",
    "    [\n",
    "        [0.010, 0.032, 0.063],\n",
    "        [0.040, 0.127, 0.253],\n",
    "        [0.090, 0.285, 0.570],\n",
    "        [0.160, 0.507, 1.014],\n",
    "        [0.250, 0.792, 1.585],\n",
    "        [0.361, 1.141, 2.282],\n",
    "    ]\n",
    ")\n",
    "sv_ao2008 = np.array(\n",
    "    [\n",
    "        [1.113, 0.626, 0.442],\n",
    "        [4.343, 2.442, 1.727],\n",
    "        [9.385, 5.278, 3.732],\n",
    "        [15.841, 8.908, 6.299],\n",
    "        [23.316, 13.111, 9.271],\n",
    "        [31.478, 17.701, 12.516],\n",
    "    ]\n",
    ")"
   ]
  },
  {
   "cell_type": "markdown",
   "id": "635b254b-e1b7-4b62-b8b2-65c91e8893b8",
   "metadata": {},
   "source": [
    "### Comparison of Stokes Number and Velocity\n",
    "We compare the Stokes number and velocity from the paper with the computed values for different turbulent dissipation rates."
   ]
  },
  {
   "cell_type": "code",
   "execution_count": 28,
   "id": "813a8882-8b97-4318-8ce7-1bcfa4b6807d",
   "metadata": {},
   "outputs": [
    {
     "data": {
      "image/png": "[encoded data removed]",
      "text/plain": [
       "<Figure size 600x600 with 2 Axes>"
      ]
     },
     "metadata": {},
     "output_type": "display_data"
    }
   ],
   "source": [
    "# Plot Stokes number comparison\n",
    "fig, ax = plt.subplots(2, 1, figsize=(6, 6))\n",
    "\n",
    "ax[0].plot(\n",
    "    particle_radius * 1e6,\n",
    "    st_ao2008[:, 0],\n",
    "    \"o-\",\n",
    "    color=\"black\",\n",
    "    alpha=0.6,\n",
    "    label=\"ao2008 St (10 cm^2/s^3)\",\n",
    ")\n",
    "ax[0].plot(\n",
    "    particle_radius * 1e6,\n",
    "    stokes_number_10,\n",
    "    \"x--\",\n",
    "    color=\"black\",\n",
    "    label=\"Particula St (10 cm^2/s^3)\",\n",
    ")\n",
    "ax[0].plot(\n",
    "    particle_radius * 1e6,\n",
    "    st_ao2008[:, 1],\n",
    "    \"o-\",\n",
    "    color=\"#E69F00\",\n",
    "    alpha=0.6,\n",
    "    label=\"ao2008 St (100 cm^2/s^3)\",\n",
    ")\n",
    "ax[0].plot(\n",
    "    particle_radius * 1e6,\n",
    "    stokes_number_100,\n",
    "    \"x--\",\n",
    "    color=\"#E69F00\",\n",
    "    label=\"Particula St (100 cm^2/s^3)\",\n",
    ")\n",
    "ax[0].plot(\n",
    "    particle_radius * 1e6,\n",
    "    st_ao2008[:, 2],\n",
    "    \"o-\",\n",
    "    color=\"#56B4E9\",\n",
    "    alpha=0.6,\n",
    "    label=\"ao2008 St (400 cm^2/s^3)\",\n",
    ")\n",
    "ax[0].plot(\n",
    "    particle_radius * 1e6,\n",
    "    stokes_number_400,\n",
    "    \"x--\",\n",
    "    color=\"#56B4E9\",\n",
    "    label=\"Particula St (400 cm^2/s^3)\",\n",
    ")\n",
    "ax[0].set_title(\"Stokes Number Comparison\")\n",
    "ax[0].set_xlabel(\"Particle Radius (micrometers)\")\n",
    "ax[0].set_ylabel(\"Stokes Number (St)\")\n",
    "\n",
    "# Plot Stokes velocity comparison\n",
    "ax[1].plot(\n",
    "    particle_radius * 1e6,\n",
    "    sv_ao2008[:, 0],\n",
    "    \"o-\",\n",
    "    color=\"black\",\n",
    "    alpha=0.6,\n",
    "    label=\"ao2008 Sv (10 cm^2/s^3)\",\n",
    ")\n",
    "ax[1].plot(\n",
    "    particle_radius * 1e6,\n",
    "    stokes_velocity_10,\n",
    "    \"x--\",\n",
    "    color=\"black\",\n",
    "    label=\"Particula Sv (10 cm^2/s^3)\",\n",
    ")\n",
    "ax[1].plot(\n",
    "    particle_radius * 1e6,\n",
    "    sv_ao2008[:, 1],\n",
    "    \"o-\",\n",
    "    color=\"#E69F00\",\n",
    "    alpha=0.6,\n",
    "    label=\"ao2008 Sv (100 cm^2/s^3)\",\n",
    ")\n",
    "ax[1].plot(\n",
    "    particle_radius * 1e6,\n",
    "    stokes_velocity_100,\n",
    "    \"x--\",\n",
    "    color=\"#E69F00\",\n",
    "    label=\"Particula Sv (100 cm^2/s^3)\",\n",
    ")\n",
    "ax[1].plot(\n",
    "    particle_radius * 1e6,\n",
    "    sv_ao2008[:, 2],\n",
    "    \"o-\",\n",
    "    color=\"#56B4E9\",\n",
    "    alpha=0.6,\n",
    "    label=\"ao2008 Sv (400 cm^2/s^3)\",\n",
    ")\n",
    "ax[1].plot(\n",
    "    particle_radius * 1e6,\n",
    "    stokes_velocity_400,\n",
    "    \"x--\",\n",
    "    color=\"#56B4E9\",\n",
    "    label=\"Particula Sv (400 cm^2/s^3)\",\n",
    ")\n",
    "ax[1].set_title(\"Stokes Velocity Comparison\")\n",
    "ax[1].set_xlabel(\"Particle Radius (micrometers)\")\n",
    "ax[1].set_ylabel(\"Stokes Velocity (dimensionless)\")\n",
    "\n",
    "ax[1].legend(loc=\"lower center\", ncol=2, bbox_to_anchor=(0.5, -0.8))\n",
    "plt.tight_layout()\n",
    "plt.show()"
   ]
  },
  {
   "cell_type": "code",
   "execution_count": 29,
   "metadata": {},
   "outputs": [
    {
     "name": "stdout",
     "output_type": "stream",
     "text": [
      "Paper Values From Table 3 (Stokes Numbers)\n"
     ]
    },
    {
     "data": {
      "application/vnd.microsoft.datawrangler.viewer.v0+json": {
       "columns": [
        {
         "name": "index",
         "rawType": "int64",
         "type": "integer"
        },
        {
         "name": "Radius (µm)",
         "rawType": "float64",
         "type": "float"
        },
        {
         "name": "St (10 cm^2/s^3)",
         "rawType": "float64",
         "type": "float"
        },
        {
         "name": "St (100 cm^2/s^3)",
         "rawType": "float64",
         "type": "float"
        },
        {
         "name": "St (400 cm^2/s^3)",
         "rawType": "float64",
         "type": "float"
        }
       ],
       "conversionMethod": "pd.DataFrame",
       "ref": "0c5295ad-1581-44ca-acf6-0931115fd843",
       "rows": [
        [
         "0",
         "10.0",
         "0.01",
         "0.032",
         "0.063"
        ],
        [
         "1",
         "20.0",
         "0.04",
         "0.127",
         "0.253"
        ],
        [
         "2",
         "30.000000000000004",
         "0.09",
         "0.285",
         "0.57"
        ],
        [
         "3",
         "40.0",
         "0.16",
         "0.507",
         "1.014"
        ],
        [
         "4",
         "50.0",
         "0.25",
         "0.792",
         "1.585"
        ],
        [
         "5",
         "60.0",
         "0.361",
         "1.141",
         "2.282"
        ]
       ],
       "shape": {
        "columns": 4,
        "rows": 6
       }
      },
      "text/html": [
       "<div>\n",
       "<style scoped>\n",
       "    .dataframe tbody tr th:only-of-type {\n",
       "        vertical-align: middle;\n",
       "    }\n",
       "\n",
       "    .dataframe tbody tr th {\n",
       "        vertical-align: top;\n",
       "    }\n",
       "\n",
       "    .dataframe thead th {\n",
       "        text-align: right;\n",
       "    }\n",
       "</style>\n",
       "<table border=\"1\" class=\"dataframe\">\n",
       "  <thead>\n",
       "    <tr style=\"text-align: right;\">\n",
       "      <th></th>\n",
       "      <th>Radius (µm)</th>\n",
       "      <th>St (10 cm^2/s^3)</th>\n",
       "      <th>St (100 cm^2/s^3)</th>\n",
       "      <th>St (400 cm^2/s^3)</th>\n",
       "    </tr>\n",
       "  </thead>\n",
       "  <tbody>\n",
       "    <tr>\n",
       "      <th>0</th>\n",
       "      <td>10.0</td>\n",
       "      <td>0.010</td>\n",
       "      <td>0.032</td>\n",
       "      <td>0.063</td>\n",
       "    </tr>\n",
       "    <tr>\n",
       "      <th>1</th>\n",
       "      <td>20.0</td>\n",
       "      <td>0.040</td>\n",
       "      <td>0.127</td>\n",
       "      <td>0.253</td>\n",
       "    </tr>\n",
       "    <tr>\n",
       "      <th>2</th>\n",
       "      <td>30.0</td>\n",
       "      <td>0.090</td>\n",
       "      <td>0.285</td>\n",
       "      <td>0.570</td>\n",
       "    </tr>\n",
       "    <tr>\n",
       "      <th>3</th>\n",
       "      <td>40.0</td>\n",
       "      <td>0.160</td>\n",
       "      <td>0.507</td>\n",
       "      <td>1.014</td>\n",
       "    </tr>\n",
       "    <tr>\n",
       "      <th>4</th>\n",
       "      <td>50.0</td>\n",
       "      <td>0.250</td>\n",
       "      <td>0.792</td>\n",
       "      <td>1.585</td>\n",
       "    </tr>\n",
       "    <tr>\n",
       "      <th>5</th>\n",
       "      <td>60.0</td>\n",
       "      <td>0.361</td>\n",
       "      <td>1.141</td>\n",
       "      <td>2.282</td>\n",
       "    </tr>\n",
       "  </tbody>\n",
       "</table>\n",
       "</div>"
      ],
      "text/plain": [
       "   Radius (µm)  St (10 cm^2/s^3)  St (100 cm^2/s^3)  St (400 cm^2/s^3)\n",
       "0         10.0             0.010              0.032              0.063\n",
       "1         20.0             0.040              0.127              0.253\n",
       "2         30.0             0.090              0.285              0.570\n",
       "3         40.0             0.160              0.507              1.014\n",
       "4         50.0             0.250              0.792              1.585\n",
       "5         60.0             0.361              1.141              2.282"
      ]
     },
     "metadata": {},
     "output_type": "display_data"
    },
    {
     "name": "stdout",
     "output_type": "stream",
     "text": [
      "Particula Computed Stokes Numbers\n"
     ]
    },
    {
     "data": {
      "application/vnd.microsoft.datawrangler.viewer.v0+json": {
       "columns": [
        {
         "name": "index",
         "rawType": "int64",
         "type": "integer"
        },
        {
         "name": "Radius (µm)",
         "rawType": "float64",
         "type": "float"
        },
        {
         "name": "St (10 cm^2/s^3)",
         "rawType": "float64",
         "type": "float"
        },
        {
         "name": "St (100 cm^2/s^3)",
         "rawType": "float64",
         "type": "float"
        },
        {
         "name": "St (400 cm^2/s^3)",
         "rawType": "float64",
         "type": "float"
        }
       ],
       "conversionMethod": "pd.DataFrame",
       "ref": "e402c18e-cff1-4d98-a0a6-8cfcc7ea3fa5",
       "rows": [
        [
         "0",
         "10.0",
         "0.009892213891994153",
         "0.031281927000260404",
         "0.06256385400052081"
        ],
        [
         "1",
         "20.0",
         "0.03956885556797661",
         "0.12512770800104162",
         "0.25025541600208323"
        ],
        [
         "2",
         "30.000000000000004",
         "0.08902992502794736",
         "0.2815373430023436",
         "0.5630746860046872"
        ],
        [
         "3",
         "40.0",
         "0.15827542227190644",
         "0.5005108320041665",
         "1.001021664008333"
        ],
        [
         "4",
         "50.0",
         "0.24730534729985373",
         "0.7820481750065099",
         "1.5640963500130198"
        ],
        [
         "5",
         "60.0",
         "0.3561197001117894",
         "1.1261493720093743",
         "2.2522987440187485"
        ]
       ],
       "shape": {
        "columns": 4,
        "rows": 6
       }
      },
      "text/html": [
       "<div>\n",
       "<style scoped>\n",
       "    .dataframe tbody tr th:only-of-type {\n",
       "        vertical-align: middle;\n",
       "    }\n",
       "\n",
       "    .dataframe tbody tr th {\n",
       "        vertical-align: top;\n",
       "    }\n",
       "\n",
       "    .dataframe thead th {\n",
       "        text-align: right;\n",
       "    }\n",
       "</style>\n",
       "<table border=\"1\" class=\"dataframe\">\n",
       "  <thead>\n",
       "    <tr style=\"text-align: right;\">\n",
       "      <th></th>\n",
       "      <th>Radius (µm)</th>\n",
       "      <th>St (10 cm^2/s^3)</th>\n",
       "      <th>St (100 cm^2/s^3)</th>\n",
       "      <th>St (400 cm^2/s^3)</th>\n",
       "    </tr>\n",
       "  </thead>\n",
       "  <tbody>\n",
       "    <tr>\n",
       "      <th>0</th>\n",
       "      <td>10.0</td>\n",
       "      <td>0.009892</td>\n",
       "      <td>0.031282</td>\n",
       "      <td>0.062564</td>\n",
       "    </tr>\n",
       "    <tr>\n",
       "      <th>1</th>\n",
       "      <td>20.0</td>\n",
       "      <td>0.039569</td>\n",
       "      <td>0.125128</td>\n",
       "      <td>0.250255</td>\n",
       "    </tr>\n",
       "    <tr>\n",
       "      <th>2</th>\n",
       "      <td>30.0</td>\n",
       "      <td>0.089030</td>\n",
       "      <td>0.281537</td>\n",
       "      <td>0.563075</td>\n",
       "    </tr>\n",
       "    <tr>\n",
       "      <th>3</th>\n",
       "      <td>40.0</td>\n",
       "      <td>0.158275</td>\n",
       "      <td>0.500511</td>\n",
       "      <td>1.001022</td>\n",
       "    </tr>\n",
       "    <tr>\n",
       "      <th>4</th>\n",
       "      <td>50.0</td>\n",
       "      <td>0.247305</td>\n",
       "      <td>0.782048</td>\n",
       "      <td>1.564096</td>\n",
       "    </tr>\n",
       "    <tr>\n",
       "      <th>5</th>\n",
       "      <td>60.0</td>\n",
       "      <td>0.356120</td>\n",
       "      <td>1.126149</td>\n",
       "      <td>2.252299</td>\n",
       "    </tr>\n",
       "  </tbody>\n",
       "</table>\n",
       "</div>"
      ],
      "text/plain": [
       "   Radius (µm)  St (10 cm^2/s^3)  St (100 cm^2/s^3)  St (400 cm^2/s^3)\n",
       "0         10.0          0.009892           0.031282           0.062564\n",
       "1         20.0          0.039569           0.125128           0.250255\n",
       "2         30.0          0.089030           0.281537           0.563075\n",
       "3         40.0          0.158275           0.500511           1.001022\n",
       "4         50.0          0.247305           0.782048           1.564096\n",
       "5         60.0          0.356120           1.126149           2.252299"
      ]
     },
     "metadata": {},
     "output_type": "display_data"
    },
    {
     "name": "stdout",
     "output_type": "stream",
     "text": [
      "Percent Errors for Stokes Numbers\n"
     ]
    },
    {
     "data": {
      "application/vnd.microsoft.datawrangler.viewer.v0+json": {
       "columns": [
        {
         "name": "index",
         "rawType": "int64",
         "type": "integer"
        },
        {
         "name": "Radius (µm)",
         "rawType": "float64",
         "type": "float"
        },
        {
         "name": "Percent Error in St (10 cm^2/s^3)",
         "rawType": "float64",
         "type": "float"
        },
        {
         "name": "Percent Error in St (100 cm^2/s^3)",
         "rawType": "float64",
         "type": "float"
        },
        {
         "name": "Percent Error in St (400 cm^2/s^3)",
         "rawType": "float64",
         "type": "float"
        }
       ],
       "conversionMethod": "pd.DataFrame",
       "ref": "398fedb3-2e5b-474f-8464-a93b8c921790",
       "rows": [
        [
         "0",
         "10.0",
         "-1.0778610800584767",
         "-2.24397812418624",
         "-0.6922952372685599"
        ],
        [
         "1",
         "20.0",
         "-1.0778610800584767",
         "-1.4742456684711704",
         "-1.0848158094532696"
        ],
        [
         "2",
         "30.000000000000004",
         "-1.0778610800584825",
         "-1.2149673675987211",
         "-1.2149673675987211"
        ],
        [
         "3",
         "40.0",
         "-1.0778610800584767",
         "-1.2799147920776222",
         "-1.2799147920776222"
        ],
        [
         "4",
         "50.0",
         "-1.0778610800585064",
         "-1.2565435597841061",
         "-1.3188422704719327"
        ],
        [
         "5",
         "60.0",
         "-1.3518836255431006",
         "-1.3015449597393298",
         "-1.3015449597393298"
        ]
       ],
       "shape": {
        "columns": 4,
        "rows": 6
       }
      },
      "text/html": [
       "<div>\n",
       "<style scoped>\n",
       "    .dataframe tbody tr th:only-of-type {\n",
       "        vertical-align: middle;\n",
       "    }\n",
       "\n",
       "    .dataframe tbody tr th {\n",
       "        vertical-align: top;\n",
       "    }\n",
       "\n",
       "    .dataframe thead th {\n",
       "        text-align: right;\n",
       "    }\n",
       "</style>\n",
       "<table border=\"1\" class=\"dataframe\">\n",
       "  <thead>\n",
       "    <tr style=\"text-align: right;\">\n",
       "      <th></th>\n",
       "      <th>Radius (µm)</th>\n",
       "      <th>Percent Error in St (10 cm^2/s^3)</th>\n",
       "      <th>Percent Error in St (100 cm^2/s^3)</th>\n",
       "      <th>Percent Error in St (400 cm^2/s^3)</th>\n",
       "    </tr>\n",
       "  </thead>\n",
       "  <tbody>\n",
       "    <tr>\n",
       "      <th>0</th>\n",
       "      <td>10.0</td>\n",
       "      <td>-1.077861</td>\n",
       "      <td>-2.243978</td>\n",
       "      <td>-0.692295</td>\n",
       "    </tr>\n",
       "    <tr>\n",
       "      <th>1</th>\n",
       "      <td>20.0</td>\n",
       "      <td>-1.077861</td>\n",
       "      <td>-1.474246</td>\n",
       "      <td>-1.084816</td>\n",
       "    </tr>\n",
       "    <tr>\n",
       "      <th>2</th>\n",
       "      <td>30.0</td>\n",
       "      <td>-1.077861</td>\n",
       "      <td>-1.214967</td>\n",
       "      <td>-1.214967</td>\n",
       "    </tr>\n",
       "    <tr>\n",
       "      <th>3</th>\n",
       "      <td>40.0</td>\n",
       "      <td>-1.077861</td>\n",
       "      <td>-1.279915</td>\n",
       "      <td>-1.279915</td>\n",
       "    </tr>\n",
       "    <tr>\n",
       "      <th>4</th>\n",
       "      <td>50.0</td>\n",
       "      <td>-1.077861</td>\n",
       "      <td>-1.256544</td>\n",
       "      <td>-1.318842</td>\n",
       "    </tr>\n",
       "    <tr>\n",
       "      <th>5</th>\n",
       "      <td>60.0</td>\n",
       "      <td>-1.351884</td>\n",
       "      <td>-1.301545</td>\n",
       "      <td>-1.301545</td>\n",
       "    </tr>\n",
       "  </tbody>\n",
       "</table>\n",
       "</div>"
      ],
      "text/plain": [
       "   Radius (µm)  Percent Error in St (10 cm^2/s^3)  \\\n",
       "0         10.0                          -1.077861   \n",
       "1         20.0                          -1.077861   \n",
       "2         30.0                          -1.077861   \n",
       "3         40.0                          -1.077861   \n",
       "4         50.0                          -1.077861   \n",
       "5         60.0                          -1.351884   \n",
       "\n",
       "   Percent Error in St (100 cm^2/s^3)  Percent Error in St (400 cm^2/s^3)  \n",
       "0                           -2.243978                           -0.692295  \n",
       "1                           -1.474246                           -1.084816  \n",
       "2                           -1.214967                           -1.214967  \n",
       "3                           -1.279915                           -1.279915  \n",
       "4                           -1.256544                           -1.318842  \n",
       "5                           -1.301545                           -1.301545  "
      ]
     },
     "metadata": {},
     "output_type": "display_data"
    },
    {
     "name": "stdout",
     "output_type": "stream",
     "text": [
      "Paper Values From Table 3 (Stokes Velocities)\n"
     ]
    },
    {
     "data": {
      "application/vnd.microsoft.datawrangler.viewer.v0+json": {
       "columns": [
        {
         "name": "index",
         "rawType": "int64",
         "type": "integer"
        },
        {
         "name": "Radius (µm)",
         "rawType": "float64",
         "type": "float"
        },
        {
         "name": "Stokes Velocity (10 cm^2/s^3)",
         "rawType": "float64",
         "type": "float"
        },
        {
         "name": "Stokes Velocity (100 cm^2/s^3)",
         "rawType": "float64",
         "type": "float"
        },
        {
         "name": "Stokes Velocity (400 cm^2/s^3)",
         "rawType": "float64",
         "type": "float"
        }
       ],
       "conversionMethod": "pd.DataFrame",
       "ref": "0b782c85-6ff7-4fc2-bca3-494e5421e1c2",
       "rows": [
        [
         "0",
         "10.0",
         "1.113",
         "0.626",
         "0.442"
        ],
        [
         "1",
         "20.0",
         "4.343",
         "2.442",
         "1.727"
        ],
        [
         "2",
         "30.000000000000004",
         "9.385",
         "5.278",
         "3.732"
        ],
        [
         "3",
         "40.0",
         "15.841",
         "8.908",
         "6.299"
        ],
        [
         "4",
         "50.0",
         "23.316",
         "13.111",
         "9.271"
        ],
        [
         "5",
         "60.0",
         "31.478",
         "17.701",
         "12.516"
        ]
       ],
       "shape": {
        "columns": 4,
        "rows": 6
       }
      },
      "text/html": [
       "<div>\n",
       "<style scoped>\n",
       "    .dataframe tbody tr th:only-of-type {\n",
       "        vertical-align: middle;\n",
       "    }\n",
       "\n",
       "    .dataframe tbody tr th {\n",
       "        vertical-align: top;\n",
       "    }\n",
       "\n",
       "    .dataframe thead th {\n",
       "        text-align: right;\n",
       "    }\n",
       "</style>\n",
       "<table border=\"1\" class=\"dataframe\">\n",
       "  <thead>\n",
       "    <tr style=\"text-align: right;\">\n",
       "      <th></th>\n",
       "      <th>Radius (µm)</th>\n",
       "      <th>Stokes Velocity (10 cm^2/s^3)</th>\n",
       "      <th>Stokes Velocity (100 cm^2/s^3)</th>\n",
       "      <th>Stokes Velocity (400 cm^2/s^3)</th>\n",
       "    </tr>\n",
       "  </thead>\n",
       "  <tbody>\n",
       "    <tr>\n",
       "      <th>0</th>\n",
       "      <td>10.0</td>\n",
       "      <td>1.113</td>\n",
       "      <td>0.626</td>\n",
       "      <td>0.442</td>\n",
       "    </tr>\n",
       "    <tr>\n",
       "      <th>1</th>\n",
       "      <td>20.0</td>\n",
       "      <td>4.343</td>\n",
       "      <td>2.442</td>\n",
       "      <td>1.727</td>\n",
       "    </tr>\n",
       "    <tr>\n",
       "      <th>2</th>\n",
       "      <td>30.0</td>\n",
       "      <td>9.385</td>\n",
       "      <td>5.278</td>\n",
       "      <td>3.732</td>\n",
       "    </tr>\n",
       "    <tr>\n",
       "      <th>3</th>\n",
       "      <td>40.0</td>\n",
       "      <td>15.841</td>\n",
       "      <td>8.908</td>\n",
       "      <td>6.299</td>\n",
       "    </tr>\n",
       "    <tr>\n",
       "      <th>4</th>\n",
       "      <td>50.0</td>\n",
       "      <td>23.316</td>\n",
       "      <td>13.111</td>\n",
       "      <td>9.271</td>\n",
       "    </tr>\n",
       "    <tr>\n",
       "      <th>5</th>\n",
       "      <td>60.0</td>\n",
       "      <td>31.478</td>\n",
       "      <td>17.701</td>\n",
       "      <td>12.516</td>\n",
       "    </tr>\n",
       "  </tbody>\n",
       "</table>\n",
       "</div>"
      ],
      "text/plain": [
       "   Radius (µm)  Stokes Velocity (10 cm^2/s^3)  Stokes Velocity (100 cm^2/s^3)  \\\n",
       "0         10.0                          1.113                           0.626   \n",
       "1         20.0                          4.343                           2.442   \n",
       "2         30.0                          9.385                           5.278   \n",
       "3         40.0                         15.841                           8.908   \n",
       "4         50.0                         23.316                          13.111   \n",
       "5         60.0                         31.478                          17.701   \n",
       "\n",
       "   Stokes Velocity (400 cm^2/s^3)  \n",
       "0                           0.442  \n",
       "1                           1.727  \n",
       "2                           3.732  \n",
       "3                           6.299  \n",
       "4                           9.271  \n",
       "5                          12.516  "
      ]
     },
     "metadata": {},
     "output_type": "display_data"
    },
    {
     "name": "stdout",
     "output_type": "stream",
     "text": [
      "Particula Computed Stokes Velocities\n"
     ]
    },
    {
     "data": {
      "application/vnd.microsoft.datawrangler.viewer.v0+json": {
       "columns": [
        {
         "name": "index",
         "rawType": "int64",
         "type": "integer"
        },
        {
         "name": "Radius (µm)",
         "rawType": "float64",
         "type": "float"
        },
        {
         "name": "Stokes Velocity (10 cm^2/s^3)",
         "rawType": "float64",
         "type": "float"
        },
        {
         "name": "Stokes Velocity (100 cm^2/s^3)",
         "rawType": "float64",
         "type": "float"
        },
        {
         "name": "Stokes Velocity (400 cm^2/s^3)",
         "rawType": "float64",
         "type": "float"
        }
       ],
       "conversionMethod": "pd.DataFrame",
       "ref": "f1f3cfdb-0323-4740-93d6-cc5bed54790a",
       "rows": [
        [
         "0",
         "10.0",
         "1.1092232270622513",
         "0.6237620594381018",
         "0.44106638207556814"
        ],
        [
         "1",
         "20.0",
         "4.308131208135389",
         "2.422640212676755",
         "1.7130653227589527"
        ],
        [
         "2",
         "30.000000000000004",
         "9.275685876370593",
         "5.216101487767644",
         "3.6883407333577405"
        ],
        [
         "3",
         "40.0",
         "15.549165001601343",
         "8.743938052603896",
         "6.18289789127131"
        ],
        [
         "4",
         "50.0",
         "23.1298723471904",
         "13.00688306720266",
         "9.19725521891948"
        ],
        [
         "5",
         "60.0",
         "31.23537153203843",
         "17.564940220139395",
         "12.420288340796896"
        ]
       ],
       "shape": {
        "columns": 4,
        "rows": 6
       }
      },
      "text/html": [
       "<div>\n",
       "<style scoped>\n",
       "    .dataframe tbody tr th:only-of-type {\n",
       "        vertical-align: middle;\n",
       "    }\n",
       "\n",
       "    .dataframe tbody tr th {\n",
       "        vertical-align: top;\n",
       "    }\n",
       "\n",
       "    .dataframe thead th {\n",
       "        text-align: right;\n",
       "    }\n",
       "</style>\n",
       "<table border=\"1\" class=\"dataframe\">\n",
       "  <thead>\n",
       "    <tr style=\"text-align: right;\">\n",
       "      <th></th>\n",
       "      <th>Radius (µm)</th>\n",
       "      <th>Stokes Velocity (10 cm^2/s^3)</th>\n",
       "      <th>Stokes Velocity (100 cm^2/s^3)</th>\n",
       "      <th>Stokes Velocity (400 cm^2/s^3)</th>\n",
       "    </tr>\n",
       "  </thead>\n",
       "  <tbody>\n",
       "    <tr>\n",
       "      <th>0</th>\n",
       "      <td>10.0</td>\n",
       "      <td>1.109223</td>\n",
       "      <td>0.623762</td>\n",
       "      <td>0.441066</td>\n",
       "    </tr>\n",
       "    <tr>\n",
       "      <th>1</th>\n",
       "      <td>20.0</td>\n",
       "      <td>4.308131</td>\n",
       "      <td>2.422640</td>\n",
       "      <td>1.713065</td>\n",
       "    </tr>\n",
       "    <tr>\n",
       "      <th>2</th>\n",
       "      <td>30.0</td>\n",
       "      <td>9.275686</td>\n",
       "      <td>5.216101</td>\n",
       "      <td>3.688341</td>\n",
       "    </tr>\n",
       "    <tr>\n",
       "      <th>3</th>\n",
       "      <td>40.0</td>\n",
       "      <td>15.549165</td>\n",
       "      <td>8.743938</td>\n",
       "      <td>6.182898</td>\n",
       "    </tr>\n",
       "    <tr>\n",
       "      <th>4</th>\n",
       "      <td>50.0</td>\n",
       "      <td>23.129872</td>\n",
       "      <td>13.006883</td>\n",
       "      <td>9.197255</td>\n",
       "    </tr>\n",
       "    <tr>\n",
       "      <th>5</th>\n",
       "      <td>60.0</td>\n",
       "      <td>31.235372</td>\n",
       "      <td>17.564940</td>\n",
       "      <td>12.420288</td>\n",
       "    </tr>\n",
       "  </tbody>\n",
       "</table>\n",
       "</div>"
      ],
      "text/plain": [
       "   Radius (µm)  Stokes Velocity (10 cm^2/s^3)  Stokes Velocity (100 cm^2/s^3)  \\\n",
       "0         10.0                       1.109223                        0.623762   \n",
       "1         20.0                       4.308131                        2.422640   \n",
       "2         30.0                       9.275686                        5.216101   \n",
       "3         40.0                      15.549165                        8.743938   \n",
       "4         50.0                      23.129872                       13.006883   \n",
       "5         60.0                      31.235372                       17.564940   \n",
       "\n",
       "   Stokes Velocity (400 cm^2/s^3)  \n",
       "0                        0.441066  \n",
       "1                        1.713065  \n",
       "2                        3.688341  \n",
       "3                        6.182898  \n",
       "4                        9.197255  \n",
       "5                       12.420288  "
      ]
     },
     "metadata": {},
     "output_type": "display_data"
    },
    {
     "name": "stdout",
     "output_type": "stream",
     "text": [
      "Percent Errors for Stokes Velocities\n"
     ]
    },
    {
     "data": {
      "application/vnd.microsoft.datawrangler.viewer.v0+json": {
       "columns": [
        {
         "name": "index",
         "rawType": "int64",
         "type": "integer"
        },
        {
         "name": "Radius (µm)",
         "rawType": "float64",
         "type": "float"
        },
        {
         "name": "Percent Error in Sv (10 cm^2/s^3)",
         "rawType": "float64",
         "type": "float"
        },
        {
         "name": "Percent Error in Sv (100 cm^2/s^3)",
         "rawType": "float64",
         "type": "float"
        },
        {
         "name": "Percent Error in Sv (400 cm^2/s^3)",
         "rawType": "float64",
         "type": "float"
        }
       ],
       "conversionMethod": "pd.DataFrame",
       "ref": "14c81342-8572-46df-be59-27ae8a032267",
       "rows": [
        [
         "0",
         "10.0",
         "-0.33933269880940664",
         "-0.35749849231600456",
         "-0.21122577475833984"
        ],
        [
         "1",
         "20.0",
         "-0.802873402362668",
         "-0.7927840836709824",
         "-0.8068718726721108"
        ],
        [
         "2",
         "30.000000000000004",
         "-1.1647748921620311",
         "-1.1727645364220431",
         "-1.1698624502213215"
        ],
        [
         "3",
         "40.0",
         "-1.8422763613323396",
         "-1.8417371732836005",
         "-1.843183183500407"
        ],
        [
         "4",
         "50.0",
         "-0.7982829508045943",
         "-0.7941189291231867",
         "-0.7954350240591169"
        ],
        [
         "5",
         "60.0",
         "-0.7707874323704484",
         "-0.7686558943596734",
         "-0.764714439142731"
        ]
       ],
       "shape": {
        "columns": 4,
        "rows": 6
       }
      },
      "text/html": [
       "<div>\n",
       "<style scoped>\n",
       "    .dataframe tbody tr th:only-of-type {\n",
       "        vertical-align: middle;\n",
       "    }\n",
       "\n",
       "    .dataframe tbody tr th {\n",
       "        vertical-align: top;\n",
       "    }\n",
       "\n",
       "    .dataframe thead th {\n",
       "        text-align: right;\n",
       "    }\n",
       "</style>\n",
       "<table border=\"1\" class=\"dataframe\">\n",
       "  <thead>\n",
       "    <tr style=\"text-align: right;\">\n",
       "      <th></th>\n",
       "      <th>Radius (µm)</th>\n",
       "      <th>Percent Error in Sv (10 cm^2/s^3)</th>\n",
       "      <th>Percent Error in Sv (100 cm^2/s^3)</th>\n",
       "      <th>Percent Error in Sv (400 cm^2/s^3)</th>\n",
       "    </tr>\n",
       "  </thead>\n",
       "  <tbody>\n",
       "    <tr>\n",
       "      <th>0</th>\n",
       "      <td>10.0</td>\n",
       "      <td>-0.339333</td>\n",
       "      <td>-0.357498</td>\n",
       "      <td>-0.211226</td>\n",
       "    </tr>\n",
       "    <tr>\n",
       "      <th>1</th>\n",
       "      <td>20.0</td>\n",
       "      <td>-0.802873</td>\n",
       "      <td>-0.792784</td>\n",
       "      <td>-0.806872</td>\n",
       "    </tr>\n",
       "    <tr>\n",
       "      <th>2</th>\n",
       "      <td>30.0</td>\n",
       "      <td>-1.164775</td>\n",
       "      <td>-1.172765</td>\n",
       "      <td>-1.169862</td>\n",
       "    </tr>\n",
       "    <tr>\n",
       "      <th>3</th>\n",
       "      <td>40.0</td>\n",
       "      <td>-1.842276</td>\n",
       "      <td>-1.841737</td>\n",
       "      <td>-1.843183</td>\n",
       "    </tr>\n",
       "    <tr>\n",
       "      <th>4</th>\n",
       "      <td>50.0</td>\n",
       "      <td>-0.798283</td>\n",
       "      <td>-0.794119</td>\n",
       "      <td>-0.795435</td>\n",
       "    </tr>\n",
       "    <tr>\n",
       "      <th>5</th>\n",
       "      <td>60.0</td>\n",
       "      <td>-0.770787</td>\n",
       "      <td>-0.768656</td>\n",
       "      <td>-0.764714</td>\n",
       "    </tr>\n",
       "  </tbody>\n",
       "</table>\n",
       "</div>"
      ],
      "text/plain": [
       "   Radius (µm)  Percent Error in Sv (10 cm^2/s^3)  \\\n",
       "0         10.0                          -0.339333   \n",
       "1         20.0                          -0.802873   \n",
       "2         30.0                          -1.164775   \n",
       "3         40.0                          -1.842276   \n",
       "4         50.0                          -0.798283   \n",
       "5         60.0                          -0.770787   \n",
       "\n",
       "   Percent Error in Sv (100 cm^2/s^3)  Percent Error in Sv (400 cm^2/s^3)  \n",
       "0                           -0.357498                           -0.211226  \n",
       "1                           -0.792784                           -0.806872  \n",
       "2                           -1.172765                           -1.169862  \n",
       "3                           -1.841737                           -1.843183  \n",
       "4                           -0.794119                           -0.795435  \n",
       "5                           -0.768656                           -0.764714  "
      ]
     },
     "metadata": {},
     "output_type": "display_data"
    }
   ],
   "source": [
    "# Create DataFrame for Paper Values From Table 3 (Stokes Numbers)\n",
    "stokes_number_paper_df = pd.DataFrame(\n",
    "    {\n",
    "        \"Radius (µm)\": particle_radius * 1e6,\n",
    "        \"St (10 cm^2/s^3)\": st_ao2008[:, 0],\n",
    "        \"St (100 cm^2/s^3)\": st_ao2008[:, 1],\n",
    "        \"St (400 cm^2/s^3)\": st_ao2008[:, 2],\n",
    "    }\n",
    ")\n",
    "print(\"Paper Values From Table 3 (Stokes Numbers)\")\n",
    "display(stokes_number_paper_df)\n",
    "\n",
    "# Create DataFrame for Particula Computed Stokes Numbers\n",
    "stokes_number_particula_df = pd.DataFrame(\n",
    "    {\n",
    "        \"Radius (µm)\": particle_radius * 1e6,\n",
    "        \"St (10 cm^2/s^3)\": stokes_number_10,\n",
    "        \"St (100 cm^2/s^3)\": stokes_number_100,\n",
    "        \"St (400 cm^2/s^3)\": stokes_number_400,\n",
    "    }\n",
    ")\n",
    "print(\"Particula Computed Stokes Numbers\")\n",
    "display(stokes_number_particula_df)\n",
    "\n",
    "# Calculate percent errors for Stokes Numbers\n",
    "percent_error_stokes_number_10 = (\n",
    "    100 * (stokes_number_10 - st_ao2008[:, 0]) / st_ao2008[:, 0]\n",
    ")\n",
    "percent_error_stokes_number_100 = (\n",
    "    100 * (stokes_number_100 - st_ao2008[:, 1]) / st_ao2008[:, 1]\n",
    ")\n",
    "percent_error_stokes_number_400 = (\n",
    "    100 * (stokes_number_400 - st_ao2008[:, 2]) / st_ao2008[:, 2]\n",
    ")\n",
    "\n",
    "percent_errors_stokes_df = pd.DataFrame(\n",
    "    {\n",
    "        \"Radius (µm)\": particle_radius * 1e6,\n",
    "        \"Percent Error in St (10 cm^2/s^3)\": percent_error_stokes_number_10,\n",
    "        \"Percent Error in St (100 cm^2/s^3)\": percent_error_stokes_number_100,\n",
    "        \"Percent Error in St (400 cm^2/s^3)\": percent_error_stokes_number_400,\n",
    "    }\n",
    ")\n",
    "print(\"Percent Errors for Stokes Numbers\")\n",
    "display(percent_errors_stokes_df)\n",
    "\n",
    "\n",
    "# print ao2008 values\n",
    "# Create DataFrame for Paper Values From Table 3 (Scaled Velocities)\n",
    "sv_paper_df = pd.DataFrame(\n",
    "    {\n",
    "        \"Radius (µm)\": particle_radius * 1e6,\n",
    "        \"Stokes Velocity (10 cm^2/s^3)\": sv_ao2008[:, 0],\n",
    "        \"Stokes Velocity (100 cm^2/s^3)\": sv_ao2008[:, 1],\n",
    "        \"Stokes Velocity (400 cm^2/s^3)\": sv_ao2008[:, 2],\n",
    "    }\n",
    ")\n",
    "print(\"Paper Values From Table 3 (Stokes Velocities)\")\n",
    "display(sv_paper_df)\n",
    "\n",
    "# print stokes velocity in a table format\n",
    "# Create DataFrame for Particula Computed Stokes Velocities\n",
    "sv_particula_df = pd.DataFrame(\n",
    "    {\n",
    "        \"Radius (µm)\": particle_radius * 1e6,\n",
    "        \"Stokes Velocity (10 cm^2/s^3)\": stokes_velocity_10,\n",
    "        \"Stokes Velocity (100 cm^2/s^3)\": stokes_velocity_100,\n",
    "        \"Stokes Velocity (400 cm^2/s^3)\": stokes_velocity_400,\n",
    "    }\n",
    ")\n",
    "print(\"Particula Computed Stokes Velocities\")\n",
    "display(sv_particula_df)\n",
    "\n",
    "# Calculate percent errors for Stokes Velocities\n",
    "percent_error_sv_10 = (\n",
    "    100 * (stokes_velocity_10 - sv_ao2008[:, 0]) / sv_ao2008[:, 0]\n",
    ")\n",
    "percent_error_sv_100 = (\n",
    "    100 * (stokes_velocity_100 - sv_ao2008[:, 1]) / sv_ao2008[:, 1]\n",
    ")\n",
    "percent_error_sv_400 = (\n",
    "    100 * (stokes_velocity_400 - sv_ao2008[:, 2]) / sv_ao2008[:, 2]\n",
    ")\n",
    "\n",
    "percent_errors_sv_df = pd.DataFrame(\n",
    "    {\n",
    "        \"Radius (µm)\": particle_radius * 1e6,\n",
    "        \"Percent Error in Sv (10 cm^2/s^3)\": percent_error_sv_10,\n",
    "        \"Percent Error in Sv (100 cm^2/s^3)\": percent_error_sv_100,\n",
    "        \"Percent Error in Sv (400 cm^2/s^3)\": percent_error_sv_400,\n",
    "    }\n",
    ")\n",
    "print(\"Percent Errors for Stokes Velocities\")\n",
    "display(percent_errors_sv_df)"
   ]
  },
  {
   "cell_type": "markdown",
   "metadata": {},
   "source": [
    "### Summary of Notebook Comparisons\n",
    "\n",
    "Overall, the comparisons between the computed values from the `Particula` library and the values reported in Ayala et al. (2008) show good agreement. However, there are some errors observed in the calculations:\n",
    "\n",
    "- **Reynolds Number (Re_p):** The computed Reynolds numbers closely match the paper values, with percent errors typically less than a few percent. The maximum error observed is around 11.5%.\n",
    "- **Inertia Time (t_p):** The computed inertia times align well with the paper values, with percent errors generally below 1.2%. The maximum error observed is around 1.19%.\n",
    "- **Settling Velocity:** The computed settling velocities are in good agreement with the paper values, with percent errors typically less than 2.5%. The maximum error observed is around 2.49%.\n",
    "- **Stokes Number (St):** The computed Stokes numbers show excellent agreement with the paper values across all particle sizes and turbulence levels. The percent errors are generally below 2.25%. The maximum error observed is around 2.24%.\n",
    "- **Stokes Velocity (Sv):** The Stokes velocities also match closely with the paper values, with percent errors typically less than 1.86%. The maximum error observed is around 1.86%.\n",
    "\n",
    "These results validate the `Particula` library's capability to simulate particle dynamics accurately, with discrepancies observed in some cases."
   ]
  }
 ],
 "metadata": {
  "kernelspec": {
   "display_name": ".venv",
   "language": "python",
   "name": "python3"
  },
  "language_info": {
   "codemirror_mode": {
    "name": "ipython",
    "version": 3
   },
   "file_extension": ".py",
   "mimetype": "text/x-python",
   "name": "python",
   "nbconvert_exporter": "python",
   "pygments_lexer": "ipython3",
   "version": "3.12.8"
  }
 },
 "nbformat": 4,
 "nbformat_minor": 2
}
