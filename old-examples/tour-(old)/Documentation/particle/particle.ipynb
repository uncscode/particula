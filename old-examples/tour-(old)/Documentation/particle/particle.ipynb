{
 "cells": [
  {
   "cell_type": "markdown",
   "metadata": {},
   "source": [
    "# The `Particle` Classes\n",
    "\n",
    "The `Particle` class is the base class for all particles, whether introduced discretely one by one or as a distribution. In reality, the `Particle` class is based on two intermediate classes: `ParticleDistribution` and `ParticleInstances` to instantiate particle distributions and particles directly, respectively."
   ]
  },
  {
   "cell_type": "markdown",
   "metadata": {},
   "source": [
    "The `ParticleDistribution` inherits from the `Vapor` class, with the following added attributes and methods:\n",
    "\n",
    "## `ParticleDistribution` attributes\n",
    "\n",
    "| attribute    | unit        | default value\n",
    "| ---------    | ----        | -------------\n",
    "| `spacing`    |             | `\"linspace\"`\n",
    "| `nbins`      |             | `1e3`\n",
    "| `nparticles` |             | `1e5`\n",
    "| `volume`     | / m^3       | `1e-6`\n",
    "| `cutoff`     |             | `0.9999`\n",
    "| `gsigma`     |             | `1.25`\n",
    "| `mode`       | m           | `1e-7`\n",
    "| `disttype`   |             | `\"lognormal\"`\n",
    "\n",
    "## `ParticleDistribution` methods\n",
    "\n",
    "### `ParticleDistribution.pre_radius()`\n",
    "\n",
    "The `pre_radius` method uses the attributes `cutoff`, `gsigma`, and `mode` to determine the starting and ending radii according to the utility `cutoff_radius.cut_rad`. Here, `cutoff` refers to the fraction cutoff of the distribution (e.g. `cutoff=0.9999` means taking only 99.99% of the lognormal distribution). Moreover, `gsigma` and `mode` are the lognormal parameters of the distribution, referring to the geometric standard deviation and mode (geometric mean) respectively. We use the `scipy.stats.lognorm` to construct the distribution in the `pre_discretize` method below.\n",
    "\n",
    "- [`particula.util.cutoff_radius`](./utilities/radius_cutoff.ipynb)\n",
    "\n",
    "Then, the `spacing` is used to create a vector of radii with `nbins` entries. The `spacing` attribute is a `string` type and for now, it can only be `\"linspace\"` or `\"logspace\"`: using the `numpy.linspace` or `numpy.logspace` functions, respectively, to construct the vector.\n",
    "\n",
    "Finally, the `pre_radius` method returns a radius vector with units of meter.\n",
    "\n",
    "### `ParticleDistribution.pre_discretize()`\n",
    "\n",
    "The `pre_discretize` method uses the result of the `pre_radius()` method above, `disttype`, `gsigma`, and `mode` attributes to produce a probability density function distribution based on the `scipy.stats.lognorm` (lognormal) function. This is done via the `distribution_discretization` utility.\n",
    "\n",
    "- [`particula.util.distribution_discretization`](./utilities/distribution_discretization.ipynb)\n",
    "\n",
    "### `ParticleDistribution.pre_distribution()`\n",
    "\n",
    "The `pre_distribution` method simply constructs the distribution multiplying the product of `pre_discretize()` by `nparticles` and dividing by `volume`."
   ]
  },
  {
   "cell_type": "code",
   "execution_count": 4,
   "metadata": {},
   "outputs": [
    {
     "name": "stdout",
     "output_type": "stream",
     "text": [
      "resulting radius from 99.99% cutoff is  4.1972292396604054e-08 meter\n",
      "resulting radius from 99% cutoff is  5.628288472608393e-08 meter\n"
     ]
    }
   ],
   "source": [
    "from particula.particle import ParticleDistribution\n",
    "PDcutoff1 = ParticleDistribution()\n",
    "PDcutoff2 = ParticleDistribution(\n",
    "    cutoff=.99,\n",
    ")\n",
    "\n",
    "print(\"Starting radius from 99.99% cutoff is \", PDcutoff1.pre_radius().min())\n",
    "print(\"Starting radius from 99% cutoff is \", PDcutoff2.pre_radius().min())"
   ]
  },
  {
   "cell_type": "code",
   "execution_count": 6,
   "metadata": {},
   "outputs": [
    {
     "name": "stdout",
     "output_type": "stream",
     "text": [
      "First few radii from linspace spacing are  [4.1972292396604054e-08 4.216876899517281e-08 4.236524559374157e-08 4.256172219231033e-08 4.275819879087909e-08 4.295467538944785e-08] meter\n",
      "First few radii from logspace spacing are  [4.1972292396604034e-08 4.204530615154216e-08 4.211844691904267e-08 4.2191714920053024e-08 4.2265110375904696e-08 4.2338633508314515e-08] meter\n"
     ]
    }
   ],
   "source": [
    "from particula.particle import ParticleDistribution\n",
    "PDspacing1 = ParticleDistribution()\n",
    "PDspacing2 = ParticleDistribution(\n",
    "    spacing=\"logspace\",\n",
    ")\n",
    "\n",
    "print(\"First few radii from linspace spacing are \", PDspacing1.pre_radius()[:6])\n",
    "print(\"First few radii from logspace spacing are \", PDspacing2.pre_radius()[:6])"
   ]
  },
  {
   "cell_type": "code",
   "execution_count": 10,
   "metadata": {},
   "outputs": [
    {
     "name": "stdout",
     "output_type": "stream",
     "text": [
      "The units of the distribution (density units):  1 / meter ** 4\n"
     ]
    }
   ],
   "source": [
    "print(\"The units of the distribution (density units): \", PDspacing1.pre_distribution().u)"
   ]
  },
  {
   "cell_type": "markdown",
   "metadata": {},
   "source": [
    "The `ParticleInstances` inherits from the `ParticleDistribution` class, with the following added attributes and methods:\n",
    "\n",
    "## `ParticleInstances` attributes\n",
    "\n",
    "| attribute         | unit        | default value\n",
    "| ---------         | ----        | -------------\n",
    "| `particle_radius` | m           | `None` or `ParticleDistribution.pre_radius()`\n",
    "| `particle_number` |             | `1` or `ParticleDistribution.nparticles`\n",
    "| `particle_density`| kg / m^3    | `1e3`\n",
    "| `shape_factor`    |             | `1`\n",
    "| `volume_void`     |             | `0`\n",
    "| `particle_charge` |             | `0`\n",
    "\n",
    "We note that the `particle_radius` attribute defaults to `ParticleDistribution.pre_radius()` if it is not given explicitly. Therefore, one could either provide a one or more radii via `particle_radius` or provide the parameters for a distribution as described above. The `particle_number` attribute defaults to `ParticleDistribution.nparticles` if the `particle_radius` attribute is not given explicitly; otherwise, it is set to `1` by default, but the user could provide a different value, for example, `particle_radius=[1e-9, 2e-9]` coupled with `particle_number=[1, 2]` would mean one particle of radius 1e-9 and two particles of radius 2e-9.\n",
    "\n",
    "In any event, the attributes here have higher precedence than the attributes in `ParticleDistribution`. Below, we reaffirm the `particle_distribution` as well.\n",
    "\n",
    "## `ParticleInstances` methods\n",
    "\n",
    "### `ParticleInstances.particle_distribution()`\n",
    "\n",
    "The `particle_distribution` method either returns the `ParticleDistribution.pre_distribution()` if the `particle_radius` attribute is not given explicitly, or it constructs the distribution dividing `particle_number` by `particle_radius` and dividing by `volume`.\n",
    "\n",
    "Note: the idea of distribution density necessitates normalizing by the variable (in our case, it is the radius) and here we divide by radius to get the unit of 1 / m^3 / m (i.e. number concentration density). \n",
    "\n",
    "### `ParticleInstances.particle_mass()`\n",
    "\n",
    "The `particle_mass` method returns the mass of the particle by using the `particle_radius`, `particle_density`, `shape_factor`, and `volume_void` attributes.\n",
    "\n",
    "- [`particula.util.particle_mass`](./utilities/particle_mass.ipynb)\n",
    "\n",
    "### `ParticleInstances.knudsen_number()`\n",
    "\n",
    "The `knudsen_number` method returns the knudsen number of the particle by using the `particle_radius` attribute as well as the `mean_free_path()` method.\n",
    "\n",
    "- [`knudsen_number`](./utilities/knudsen_number.ipynb)\n",
    "\n",
    "### `ParticleInstances.slip_correction_factor()`\n",
    "\n",
    "The `slip_correction_factor` method returns the slip correction factor of the particle by using the `particle_radius` attribute as well as the `knudsen_number()` method. \n",
    "\n",
    "- [`particula.util.slip_correction`](./utilities/slip_correction.ipynb)\n",
    "\n",
    "### `ParticleInstances.friction_factor()`\n",
    "\n",
    "The `friction_factor` method returns the friction factor of the particle by using the `particle_radius` attribute as well as the `dynamic_viscosity()` and `slip_correction_factor()` methods.\n",
    "\n",
    "- [`particula.util.friction_factor`](./utilities/friction_factor.ipynb)"
   ]
  },
  {
   "cell_type": "code",
   "execution_count": 16,
   "metadata": {},
   "outputs": [
    {
     "name": "stdout",
     "output_type": "stream",
     "text": [
      "The units of the 'continuous' distribution (density units):  1 / meter ** 4\n",
      "The units of the 'discrete' distribution (density units):  1 / meter ** 4\n",
      "First few points of continuous:  [2200235960693703.8 2375247794883328.5] / meter ** 4\n",
      "First few points of discrete:  [999999999999999.9 999999999999999.9] / meter ** 4\n"
     ]
    }
   ],
   "source": [
    "from particula.particle import ParticleInstances\n",
    "PD_dist = ParticleInstances()\n",
    "PD_disc = ParticleInstances(\n",
    "    particle_radius=[1e-9, 2e-9],\n",
    "    particle_number=[1, 2]\n",
    ")\n",
    "\n",
    "print(\"The units of the 'continuous' distribution (density units): \", PD_dist.particle_distribution().u)\n",
    "print(\"The units of the 'discrete' distribution (density units): \", PD_disc.particle_distribution().u)\n",
    "print(\"First few points of continuous: \", PD_dist.particle_distribution()[:2])\n",
    "print(\"First few points of discrete: \", PD_disc.particle_distribution()[:2])"
   ]
  },
  {
   "cell_type": "code",
   "execution_count": 18,
   "metadata": {},
   "outputs": [
    {
     "name": "stdout",
     "output_type": "stream",
     "text": [
      "Particle mass:  [4.188790204786392e-24 3.3510321638291136e-23] kilogram\n",
      "Friction factor:  [3.127639189424173e-15 1.2446393807134826e-14] kilogram / second\n"
     ]
    }
   ],
   "source": [
    "print(\"Particle mass: \", PD_disc.particle_mass())\n",
    "print(\"Friction factor: \", PD_disc.friction_factor())"
   ]
  },
  {
   "cell_type": "markdown",
   "metadata": {},
   "source": [
    "The `Particle` inherits from the `ParticleInstances` class, with the following added attributes and methods:\n",
    "\n",
    "\n",
    "## The `Particle` attributes\n",
    "\n",
    "| attribute                   | unit               | default value\n",
    "| ---------                   | ----               | -------------\n",
    "| `elementary_charge_value`   | C                  | `constants.ELEMENTARY_CHARGE_VALUE`\n",
    "| `electric_permittivity`     | F / m              | `constants.ELECTRIC_PERMITTIVITY`\n",
    "| `boltzmann_constant`        | kg * m^2 / K / s^2 | `constants.BOLTZMANN_CONSTANT`\n",
    "| `coagulation_approximation` |                    | `\"hardsphere\"`\n",
    "\n",
    "## The `Particle` methods\n",
    "\n",
    "The following methods are available for the `Particle` class:\n",
    "\n",
    "- `Particle._coag_prep()`\n",
    "- `Particle.reduced_mass()`\n",
    "- `Particle.reduced_friction_factor()`\n",
    "- `Particle.coulomb_potential_ratio()`\n",
    "- `Particle.coulomb_enhancement_kinetic_limit()`\n",
    "- `Particle.coulomb_enhancement_continuum_limit()`\n",
    "- `Particle.diffusive_knudsen_number()`\n",
    "- `Particle.dimensionless_coagulation()`\n",
    "- `Particle.coagulation()`\n",
    "\n",
    "They all rely on one underlying utility: the class `DimensionlessCoagulation` from `dimensionless_coagulation`, which is documented in the [`particula.util.dimensionless_coagulation`](./utilities/dimensionless_coagulation.ipynb) notebook.\n",
    "\n",
    "All these added methods rely on previously defined attributes and methods to construct particle--particle interaction (e.g. coagulation). Thus, each method takes an input argument `particle` which is an instance of the `Particle` class. If not explicitly provided, the `particle` argument defaults to `self` (itself)."
   ]
  },
  {
   "cell_type": "code",
   "execution_count": 22,
   "metadata": {},
   "outputs": [],
   "source": [
    "from particula.particle import Particle\n",
    "\n",
    "two_particles = Particle(\n",
    "    particle_radius=[1e-9, 2e-9],\n",
    "    particle_number=[1, 1]\n",
    ")\n",
    "\n",
    "another_particle = Particle(particle_radius=1e-8)"
   ]
  },
  {
   "cell_type": "code",
   "execution_count": 24,
   "metadata": {},
   "outputs": [
    {
     "data": {
      "text/html": [
       "<table><tbody><tr><th>Magnitude</th><td style='text-align:left;'><pre>[[8.835482748391875e-16 1.4836836108384949e-15]<br> [1.4836836108384949e-15 1.235668665276733e-15]]</pre></td></tr><tr><th>Units</th><td style='text-align:left;'>meter<sup>3</sup>/second</td></tr></tbody></table>"
      ],
      "text/latex": [
       "$\\begin{pmatrix}8.835482748391875\\times 10^{-16} & 1.4836836108384949\\times 10^{-15}\\\\ \n",
       "1.4836836108384949\\times 10^{-15} & 1.235668665276733\\times 10^{-15}\\end{pmatrix}\\ \\frac{\\mathrm{meter}^{3}}{\\mathrm{second}}$"
      ],
      "text/plain": [
       "array([[8.83548275e-16, 1.48368361e-15],\n",
       "       [1.48368361e-15, 1.23566867e-15]]) <Unit('meter ** 3 / second')>"
      ]
     },
     "execution_count": 24,
     "metadata": {},
     "output_type": "execute_result"
    }
   ],
   "source": [
    "two_particles.coagulation()"
   ]
  },
  {
   "cell_type": "code",
   "execution_count": 25,
   "metadata": {},
   "outputs": [
    {
     "data": {
      "text/html": [
       "<table><tbody><tr><th>Magnitude</th><td style='text-align:left;'><pre>[[2.3065250186958553e-15]]</pre></td></tr><tr><th>Units</th><td style='text-align:left;'>meter<sup>3</sup>/second</td></tr></tbody></table>"
      ],
      "text/latex": [
       "$\\begin{pmatrix}2.3065250186958553\\times 10^{-15}\\end{pmatrix}\\ \\frac{\\mathrm{meter}^{3}}{\\mathrm{second}}$"
      ],
      "text/plain": [
       "array([[2.30652502e-15]]) <Unit('meter ** 3 / second')>"
      ]
     },
     "execution_count": 25,
     "metadata": {},
     "output_type": "execute_result"
    }
   ],
   "source": [
    "another_particle.coagulation()"
   ]
  },
  {
   "cell_type": "code",
   "execution_count": 27,
   "metadata": {},
   "outputs": [
    {
     "data": {
      "text/html": [
       "<table><tbody><tr><th>Magnitude</th><td style='text-align:left;'><pre>[[2.3065250186958553e-15]]</pre></td></tr><tr><th>Units</th><td style='text-align:left;'>meter<sup>3</sup>/second</td></tr></tbody></table>"
      ],
      "text/latex": [
       "$\\begin{pmatrix}2.3065250186958553\\times 10^{-15}\\end{pmatrix}\\ \\frac{\\mathrm{meter}^{3}}{\\mathrm{second}}$"
      ],
      "text/plain": [
       "array([[2.30652502e-15]]) <Unit('meter ** 3 / second')>"
      ]
     },
     "execution_count": 27,
     "metadata": {},
     "output_type": "execute_result"
    }
   ],
   "source": [
    "another_particle.coagulation(another_particle)"
   ]
  },
  {
   "cell_type": "code",
   "execution_count": 26,
   "metadata": {},
   "outputs": [
    {
     "data": {
      "text/html": [
       "<table><tbody><tr><th>Magnitude</th><td style='text-align:left;'><pre>[[1.8143554043998508e-14]<br> [7.479664416578196e-15]]</pre></td></tr><tr><th>Units</th><td style='text-align:left;'>meter<sup>3</sup>/second</td></tr></tbody></table>"
      ],
      "text/latex": [
       "$\\begin{pmatrix}1.8143554043998508\\times 10^{-14}\\\\ \n",
       "7.479664416578196\\times 10^{-15}\\end{pmatrix}\\ \\frac{\\mathrm{meter}^{3}}{\\mathrm{second}}$"
      ],
      "text/plain": [
       "array([[1.81435540e-14],\n",
       "       [7.47966442e-15]]) <Unit('meter ** 3 / second')>"
      ]
     },
     "execution_count": 26,
     "metadata": {},
     "output_type": "execute_result"
    }
   ],
   "source": [
    "two_particles.coagulation(another_particle)"
   ]
  }
 ],
 "metadata": {
  "interpreter": {
   "hash": "aee8b7b246df8f9039afb4144a1f6fd8d2ca17a180786b69acc140d282b71a49"
  },
  "kernelspec": {
   "display_name": "Python 3.10.4 64-bit",
   "language": "python",
   "name": "python3"
  },
  "language_info": {
   "codemirror_mode": {
    "name": "ipython",
    "version": 3
   },
   "file_extension": ".py",
   "mimetype": "text/x-python",
   "name": "python",
   "nbconvert_exporter": "python",
   "pygments_lexer": "ipython3",
   "version": "3.10.4"
  },
  "orig_nbformat": 4
 },
 "nbformat": 4,
 "nbformat_minor": 2
}
